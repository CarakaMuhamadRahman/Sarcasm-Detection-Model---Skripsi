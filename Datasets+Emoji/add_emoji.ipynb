{
 "cells": [
  {
   "cell_type": "code",
   "execution_count": 1,
   "metadata": {},
   "outputs": [],
   "source": [
    "import pandas as pd"
   ]
  },
  {
   "cell_type": "code",
   "execution_count": 2,
   "metadata": {},
   "outputs": [
    {
     "name": "stdout",
     "output_type": "stream",
     "text": [
      "<class 'pandas.core.frame.DataFrame'>\n",
      "RangeIndex: 969 entries, 0 to 968\n",
      "Data columns (total 9 columns):\n",
      " #   Column             Non-Null Count  Dtype  \n",
      "---  ------             --------------  -----  \n",
      " 0   Emoji              969 non-null    object \n",
      " 1   Unicode codepoint  969 non-null    object \n",
      " 2   Occurrences        969 non-null    int64  \n",
      " 3   Position           969 non-null    float64\n",
      " 4   Negative           969 non-null    int64  \n",
      " 5   Neutral            969 non-null    int64  \n",
      " 6   Positive           969 non-null    int64  \n",
      " 7   Unicode name       969 non-null    object \n",
      " 8   Unicode block      969 non-null    object \n",
      "dtypes: float64(1), int64(4), object(4)\n",
      "memory usage: 68.3+ KB\n"
     ]
    },
    {
     "data": {
      "text/html": [
       "<div>\n",
       "<style scoped>\n",
       "    .dataframe tbody tr th:only-of-type {\n",
       "        vertical-align: middle;\n",
       "    }\n",
       "\n",
       "    .dataframe tbody tr th {\n",
       "        vertical-align: top;\n",
       "    }\n",
       "\n",
       "    .dataframe thead th {\n",
       "        text-align: right;\n",
       "    }\n",
       "</style>\n",
       "<table border=\"1\" class=\"dataframe\">\n",
       "  <thead>\n",
       "    <tr style=\"text-align: right;\">\n",
       "      <th></th>\n",
       "      <th>Emoji</th>\n",
       "      <th>Unicode codepoint</th>\n",
       "      <th>Occurrences</th>\n",
       "      <th>Position</th>\n",
       "      <th>Negative</th>\n",
       "      <th>Neutral</th>\n",
       "      <th>Positive</th>\n",
       "      <th>Unicode name</th>\n",
       "      <th>Unicode block</th>\n",
       "    </tr>\n",
       "  </thead>\n",
       "  <tbody>\n",
       "    <tr>\n",
       "      <th>0</th>\n",
       "      <td>😂</td>\n",
       "      <td>0x1f602</td>\n",
       "      <td>14622</td>\n",
       "      <td>0.805101</td>\n",
       "      <td>3614</td>\n",
       "      <td>4163</td>\n",
       "      <td>6845</td>\n",
       "      <td>FACE WITH TEARS OF JOY</td>\n",
       "      <td>Emoticons</td>\n",
       "    </tr>\n",
       "    <tr>\n",
       "      <th>1</th>\n",
       "      <td>❤</td>\n",
       "      <td>0x2764</td>\n",
       "      <td>8050</td>\n",
       "      <td>0.746943</td>\n",
       "      <td>355</td>\n",
       "      <td>1334</td>\n",
       "      <td>6361</td>\n",
       "      <td>HEAVY BLACK HEART</td>\n",
       "      <td>Dingbats</td>\n",
       "    </tr>\n",
       "    <tr>\n",
       "      <th>2</th>\n",
       "      <td>♥</td>\n",
       "      <td>0x2665</td>\n",
       "      <td>7144</td>\n",
       "      <td>0.753806</td>\n",
       "      <td>252</td>\n",
       "      <td>1942</td>\n",
       "      <td>4950</td>\n",
       "      <td>BLACK HEART SUIT</td>\n",
       "      <td>Miscellaneous Symbols</td>\n",
       "    </tr>\n",
       "    <tr>\n",
       "      <th>3</th>\n",
       "      <td>😍</td>\n",
       "      <td>0x1f60d</td>\n",
       "      <td>6359</td>\n",
       "      <td>0.765292</td>\n",
       "      <td>329</td>\n",
       "      <td>1390</td>\n",
       "      <td>4640</td>\n",
       "      <td>SMILING FACE WITH HEART-SHAPED EYES</td>\n",
       "      <td>Emoticons</td>\n",
       "    </tr>\n",
       "    <tr>\n",
       "      <th>4</th>\n",
       "      <td>😭</td>\n",
       "      <td>0x1f62d</td>\n",
       "      <td>5526</td>\n",
       "      <td>0.803352</td>\n",
       "      <td>2412</td>\n",
       "      <td>1218</td>\n",
       "      <td>1896</td>\n",
       "      <td>LOUDLY CRYING FACE</td>\n",
       "      <td>Emoticons</td>\n",
       "    </tr>\n",
       "  </tbody>\n",
       "</table>\n",
       "</div>"
      ],
      "text/plain": [
       "  Emoji Unicode codepoint  Occurrences  Position  Negative  Neutral  Positive  \\\n",
       "0     😂           0x1f602        14622  0.805101      3614     4163      6845   \n",
       "1     ❤            0x2764         8050  0.746943       355     1334      6361   \n",
       "2     ♥            0x2665         7144  0.753806       252     1942      4950   \n",
       "3     😍           0x1f60d         6359  0.765292       329     1390      4640   \n",
       "4     😭           0x1f62d         5526  0.803352      2412     1218      1896   \n",
       "\n",
       "                          Unicode name          Unicode block  \n",
       "0               FACE WITH TEARS OF JOY              Emoticons  \n",
       "1                    HEAVY BLACK HEART               Dingbats  \n",
       "2                     BLACK HEART SUIT  Miscellaneous Symbols  \n",
       "3  SMILING FACE WITH HEART-SHAPED EYES              Emoticons  \n",
       "4                   LOUDLY CRYING FACE              Emoticons  "
      ]
     },
     "execution_count": 2,
     "metadata": {},
     "output_type": "execute_result"
    }
   ],
   "source": [
    "df_emoji = pd.read_csv('Emoji_Sentiment_Data_v1.0.csv')\n",
    "df_emoji.info()\n",
    "df_emoji.head()"
   ]
  },
  {
   "cell_type": "code",
   "execution_count": 3,
   "metadata": {},
   "outputs": [],
   "source": [
    "for i in range(len(df_emoji)):\n",
    "  if (df_emoji.iloc[i]['Positive'] > df_emoji.iloc[i]['Negative']):\n",
    "    df_emoji.loc[i, 'Sentimen'] = 'Positif'\n",
    "  elif (df_emoji.iloc[i]['Positive'] < df_emoji.iloc[i]['Negative']):\n",
    "    df_emoji.loc[i, 'Sentimen'] = 'Negatif'\n",
    "  else:\n",
    "    df_emoji.loc[i, 'Sentimen'] = 'Netral'"
   ]
  },
  {
   "cell_type": "code",
   "execution_count": 21,
   "metadata": {},
   "outputs": [],
   "source": [
    "emoji_pos = df_emoji[df_emoji['Sentimen'] == 'Positif']\n",
    "emoji_neg = df_emoji[df_emoji['Sentimen'] == 'Negatif']"
   ]
  },
  {
   "cell_type": "code",
   "execution_count": 31,
   "metadata": {},
   "outputs": [],
   "source": [
    "pos = []\n",
    "\n",
    "for i in emoji_pos['Emoji']:\n",
    "    pos.append(i)"
   ]
  },
  {
   "cell_type": "code",
   "execution_count": 32,
   "metadata": {},
   "outputs": [],
   "source": [
    "neg = []\n",
    "\n",
    "for i in emoji_neg['Emoji']:\n",
    "    neg.append(i)"
   ]
  },
  {
   "cell_type": "code",
   "execution_count": 33,
   "metadata": {},
   "outputs": [],
   "source": [
    "df_pos = pd.DataFrame(pos, columns=['Emoji'])"
   ]
  },
  {
   "cell_type": "code",
   "execution_count": 34,
   "metadata": {},
   "outputs": [
    {
     "data": {
      "text/html": [
       "<div>\n",
       "<style scoped>\n",
       "    .dataframe tbody tr th:only-of-type {\n",
       "        vertical-align: middle;\n",
       "    }\n",
       "\n",
       "    .dataframe tbody tr th {\n",
       "        vertical-align: top;\n",
       "    }\n",
       "\n",
       "    .dataframe thead th {\n",
       "        text-align: right;\n",
       "    }\n",
       "</style>\n",
       "<table border=\"1\" class=\"dataframe\">\n",
       "  <thead>\n",
       "    <tr style=\"text-align: right;\">\n",
       "      <th></th>\n",
       "      <th>Emoji</th>\n",
       "    </tr>\n",
       "  </thead>\n",
       "  <tbody>\n",
       "    <tr>\n",
       "      <th>0</th>\n",
       "      <td>😂</td>\n",
       "    </tr>\n",
       "    <tr>\n",
       "      <th>1</th>\n",
       "      <td>❤</td>\n",
       "    </tr>\n",
       "    <tr>\n",
       "      <th>2</th>\n",
       "      <td>♥</td>\n",
       "    </tr>\n",
       "    <tr>\n",
       "      <th>3</th>\n",
       "      <td>😍</td>\n",
       "    </tr>\n",
       "    <tr>\n",
       "      <th>4</th>\n",
       "      <td>😘</td>\n",
       "    </tr>\n",
       "    <tr>\n",
       "      <th>...</th>\n",
       "      <td>...</td>\n",
       "    </tr>\n",
       "    <tr>\n",
       "      <th>735</th>\n",
       "      <td>✫</td>\n",
       "    </tr>\n",
       "    <tr>\n",
       "      <th>736</th>\n",
       "      <td>❣</td>\n",
       "    </tr>\n",
       "    <tr>\n",
       "      <th>737</th>\n",
       "      <td>📫</td>\n",
       "    </tr>\n",
       "    <tr>\n",
       "      <th>738</th>\n",
       "      <td>🉐</td>\n",
       "    </tr>\n",
       "    <tr>\n",
       "      <th>739</th>\n",
       "      <td>📔</td>\n",
       "    </tr>\n",
       "  </tbody>\n",
       "</table>\n",
       "<p>740 rows × 1 columns</p>\n",
       "</div>"
      ],
      "text/plain": [
       "    Emoji\n",
       "0       😂\n",
       "1       ❤\n",
       "2       ♥\n",
       "3       😍\n",
       "4       😘\n",
       "..    ...\n",
       "735     ✫\n",
       "736     ❣\n",
       "737     📫\n",
       "738     🉐\n",
       "739     📔\n",
       "\n",
       "[740 rows x 1 columns]"
      ]
     },
     "execution_count": 34,
     "metadata": {},
     "output_type": "execute_result"
    }
   ],
   "source": [
    "df_pos"
   ]
  },
  {
   "cell_type": "code",
   "execution_count": 35,
   "metadata": {},
   "outputs": [],
   "source": [
    "df_neg = pd.DataFrame(neg, columns=['Emoji'])"
   ]
  },
  {
   "cell_type": "code",
   "execution_count": 36,
   "metadata": {},
   "outputs": [
    {
     "data": {
      "text/html": [
       "<div>\n",
       "<style scoped>\n",
       "    .dataframe tbody tr th:only-of-type {\n",
       "        vertical-align: middle;\n",
       "    }\n",
       "\n",
       "    .dataframe tbody tr th {\n",
       "        vertical-align: top;\n",
       "    }\n",
       "\n",
       "    .dataframe thead th {\n",
       "        text-align: right;\n",
       "    }\n",
       "</style>\n",
       "<table border=\"1\" class=\"dataframe\">\n",
       "  <thead>\n",
       "    <tr style=\"text-align: right;\">\n",
       "      <th></th>\n",
       "      <th>Emoji</th>\n",
       "    </tr>\n",
       "  </thead>\n",
       "  <tbody>\n",
       "    <tr>\n",
       "      <th>0</th>\n",
       "      <td>😭</td>\n",
       "    </tr>\n",
       "    <tr>\n",
       "      <th>1</th>\n",
       "      <td>😩</td>\n",
       "    </tr>\n",
       "    <tr>\n",
       "      <th>2</th>\n",
       "      <td>😒</td>\n",
       "    </tr>\n",
       "    <tr>\n",
       "      <th>3</th>\n",
       "      <td>😔</td>\n",
       "    </tr>\n",
       "    <tr>\n",
       "      <th>4</th>\n",
       "      <td>█</td>\n",
       "    </tr>\n",
       "    <tr>\n",
       "      <th>...</th>\n",
       "      <td>...</td>\n",
       "    </tr>\n",
       "    <tr>\n",
       "      <th>123</th>\n",
       "      <td>🕔</td>\n",
       "    </tr>\n",
       "    <tr>\n",
       "      <th>124</th>\n",
       "      <td>🈂</td>\n",
       "    </tr>\n",
       "    <tr>\n",
       "      <th>125</th>\n",
       "      <td>🎰</td>\n",
       "    </tr>\n",
       "    <tr>\n",
       "      <th>126</th>\n",
       "      <td>҂</td>\n",
       "    </tr>\n",
       "    <tr>\n",
       "      <th>127</th>\n",
       "      <td>╤</td>\n",
       "    </tr>\n",
       "  </tbody>\n",
       "</table>\n",
       "<p>128 rows × 1 columns</p>\n",
       "</div>"
      ],
      "text/plain": [
       "    Emoji\n",
       "0       😭\n",
       "1       😩\n",
       "2       😒\n",
       "3       😔\n",
       "4       █\n",
       "..    ...\n",
       "123     🕔\n",
       "124     🈂\n",
       "125     🎰\n",
       "126     ҂\n",
       "127     ╤\n",
       "\n",
       "[128 rows x 1 columns]"
      ]
     },
     "execution_count": 36,
     "metadata": {},
     "output_type": "execute_result"
    }
   ],
   "source": [
    "df_neg"
   ]
  },
  {
   "cell_type": "code",
   "execution_count": 37,
   "metadata": {},
   "outputs": [],
   "source": [
    "df_pos.to_excel('Emoji_Pos.xlsx')\n",
    "df_neg.to_excel('Emoji_Neg.xlsx')"
   ]
  },
  {
   "cell_type": "code",
   "execution_count": 6,
   "metadata": {},
   "outputs": [
    {
     "data": {
      "text/plain": [
       "Index(['From-User', 'Text-Temp', 'Sentimen', 'Sarkas'], dtype='object')"
      ]
     },
     "execution_count": 6,
     "metadata": {},
     "output_type": "execute_result"
    }
   ],
   "source": [
    "df_politik = pd.read_excel('Dataset Politik.xlsx')\n",
    "df_politik.columns"
   ]
  },
  {
   "cell_type": "code",
   "execution_count": 4,
   "metadata": {},
   "outputs": [
    {
     "data": {
      "text/plain": [
       "😨    243\n",
       "😠    219\n",
       "😁    182\n",
       "👍    163\n",
       "😭     81\n",
       "Name: Emoji, dtype: int64"
      ]
     },
     "execution_count": 4,
     "metadata": {},
     "output_type": "execute_result"
    }
   ],
   "source": [
    "df_caknun = pd.read_excel('Datasets_Politik_v2_CakNun.xlsx')\n",
    "df_caknun['Emoji'].value_counts()"
   ]
  },
  {
   "cell_type": "code",
   "execution_count": 68,
   "metadata": {},
   "outputs": [
    {
     "data": {
      "text/plain": [
       "😁    356\n",
       "👍    221\n",
       "😭    129\n",
       "👎     99\n",
       "😠     68\n",
       "Name: Emoji, dtype: int64"
      ]
     },
     "execution_count": 68,
     "metadata": {},
     "output_type": "execute_result"
    }
   ],
   "source": [
    "df_anies = pd.read_excel('Datasets_Politik_v3_Anies.xlsx')\n",
    "df_anies['Emoji'].value_counts()"
   ]
  },
  {
   "cell_type": "code",
   "execution_count": 74,
   "metadata": {},
   "outputs": [
    {
     "data": {
      "text/plain": [
       "💩    276\n",
       "👍    196\n",
       "💕    183\n",
       "💯    150\n",
       "👎    146\n",
       "Name: Emoji, dtype: int64"
      ]
     },
     "execution_count": 74,
     "metadata": {},
     "output_type": "execute_result"
    }
   ],
   "source": [
    "df_puan = pd.read_excel('Datasets_Politik_v4_Puan.xlsx')\n",
    "df_puan['Emoji'].value_counts()"
   ]
  },
  {
   "cell_type": "code",
   "execution_count": 78,
   "metadata": {},
   "outputs": [
    {
     "data": {
      "text/plain": [
       "👍    222\n",
       "😊    207\n",
       "💯    159\n",
       "💩    147\n",
       "😨    132\n",
       "👎     47\n",
       "Name: Emoji, dtype: int64"
      ]
     },
     "execution_count": 78,
     "metadata": {},
     "output_type": "execute_result"
    }
   ],
   "source": [
    "df_luhut = pd.read_excel('Datasets_Politik_v5_Luhut.xlsx')\n",
    "df_luhut['Emoji'].value_counts()"
   ]
  },
  {
   "cell_type": "code",
   "execution_count": 85,
   "metadata": {},
   "outputs": [
    {
     "data": {
      "text/plain": [
       "💩    280\n",
       "😊    216\n",
       "😠    201\n",
       "💯    178\n",
       "👎     38\n",
       "😭     15\n",
       "👍      7\n",
       "Name: Emoji, dtype: int64"
      ]
     },
     "execution_count": 85,
     "metadata": {},
     "output_type": "execute_result"
    }
   ],
   "source": [
    "df_ganjar = pd.read_excel('Datasets_Politik_v6_Ganjar.xlsx')\n",
    "df_ganjar['Emoji'].value_counts()"
   ]
  },
  {
   "cell_type": "code",
   "execution_count": 88,
   "metadata": {},
   "outputs": [
    {
     "data": {
      "text/plain": [
       "✌    207\n",
       "😔    188\n",
       "💯    155\n",
       "😴    149\n",
       "😭    121\n",
       "Name: Emoji, dtype: int64"
      ]
     },
     "execution_count": 88,
     "metadata": {},
     "output_type": "execute_result"
    }
   ],
   "source": [
    "df_pencitraan = pd.read_excel('Datasets_Politik_v7_RepublikPencitraan.xlsx')\n",
    "df_pencitraan['Emoji'].value_counts()"
   ]
  },
  {
   "attachments": {},
   "cell_type": "markdown",
   "metadata": {},
   "source": [
    "<h1>Create New Feature</h1>"
   ]
  },
  {
   "cell_type": "code",
   "execution_count": 46,
   "metadata": {},
   "outputs": [],
   "source": [
    "df_caknun['Text'] = df_caknun['Text-Temp'] +' '+ df_caknun['Emoji']"
   ]
  },
  {
   "cell_type": "code",
   "execution_count": 64,
   "metadata": {},
   "outputs": [],
   "source": [
    "df_politik['Text'] = df_politik['Text-Temp'] +' '+ df_politik['Emoji']"
   ]
  },
  {
   "cell_type": "code",
   "execution_count": 69,
   "metadata": {},
   "outputs": [],
   "source": [
    "df_anies['Text'] = df_anies['Text-Temp'] +' '+ df_anies['Emoji']"
   ]
  },
  {
   "cell_type": "code",
   "execution_count": 75,
   "metadata": {},
   "outputs": [],
   "source": [
    "df_puan['Text'] = df_puan['Text-Temp'] +' '+ df_puan['Emoji']"
   ]
  },
  {
   "cell_type": "code",
   "execution_count": 81,
   "metadata": {},
   "outputs": [],
   "source": [
    "df_luhut['Text'] = df_luhut['Text-Temp'] +' '+ df_luhut['Emoji']"
   ]
  },
  {
   "cell_type": "code",
   "execution_count": 86,
   "metadata": {},
   "outputs": [],
   "source": [
    "df_ganjar['Text'] = df_ganjar['Text-Temp'] +' '+ df_ganjar['Emoji']"
   ]
  },
  {
   "cell_type": "code",
   "execution_count": 89,
   "metadata": {},
   "outputs": [],
   "source": [
    "df_pencitraan['Text'] = df_pencitraan['Text-Temp'] +' '+ df_pencitraan['Emoji']"
   ]
  },
  {
   "cell_type": "code",
   "execution_count": 47,
   "metadata": {},
   "outputs": [
    {
     "data": {
      "text/plain": [
       "'Bukankah hanya pada saat mencemooh, putus asa, marah, dan sejenis itu kita menekankan suku kata terakhir pada kata-kata yang terdir #CakNun 😨'"
      ]
     },
     "execution_count": 47,
     "metadata": {},
     "output_type": "execute_result"
    }
   ],
   "source": [
    "df_caknun['Text'][0]"
   ]
  },
  {
   "cell_type": "code",
   "execution_count": 48,
   "metadata": {},
   "outputs": [
    {
     "name": "stdout",
     "output_type": "stream",
     "text": [
      "['Bukankah', 'hanya', 'pada', 'saat', 'mencemooh,', 'putus', 'asa,', 'marah,', 'dan', 'sejenis', 'itu', 'kita', 'menekankan', 'suku', 'kata', 'terakhir', 'pada', 'kata-kata', 'yang', 'terdir', '#CakNun', '😨']\n"
     ]
    }
   ],
   "source": [
    "token = df_caknun['Text'][0].split()\n",
    "\n",
    "print(token)"
   ]
  },
  {
   "cell_type": "code",
   "execution_count": 51,
   "metadata": {},
   "outputs": [],
   "source": [
    "sent_emo_neg = []\n",
    "\n",
    "for i in df_neg['Emoji']:\n",
    "    sent_emo_neg.append(i)"
   ]
  },
  {
   "cell_type": "code",
   "execution_count": 52,
   "metadata": {},
   "outputs": [
    {
     "data": {
      "text/plain": [
       "['😭',\n",
       " '😩',\n",
       " '😒',\n",
       " '😔',\n",
       " '█',\n",
       " '😡',\n",
       " '😴',\n",
       " '🔫',\n",
       " '😞',\n",
       " '😪',\n",
       " '😫',\n",
       " '💀',\n",
       " '😕',\n",
       " '💔',\n",
       " '😤',\n",
       " '😰',\n",
       " '😑',\n",
       " '😠',\n",
       " '😓',\n",
       " '😣',\n",
       " '😐',\n",
       " '😨',\n",
       " '😖',\n",
       " '👎',\n",
       " '😷',\n",
       " '💩',\n",
       " '🙅',\n",
       " '😿',\n",
       " '😲',\n",
       " '😶',\n",
       " '░',\n",
       " '😧',\n",
       " '🚫',\n",
       " '⚠',\n",
       " '╯',\n",
       " '👐',\n",
       " '👬',\n",
       " '￼',\n",
       " '🚶',\n",
       " '🐸',\n",
       " '👿',\n",
       " '✂',\n",
       " '👪',\n",
       " '😦',\n",
       " '🍣',\n",
       " '🙍',\n",
       " '╰',\n",
       " '🍱',\n",
       " '💧',\n",
       " '🔋',\n",
       " '😾',\n",
       " '▀',\n",
       " '▒',\n",
       " '🍥',\n",
       " '☠',\n",
       " '▄',\n",
       " '⚾',\n",
       " '🔞',\n",
       " '🍮',\n",
       " '➔',\n",
       " '🐑',\n",
       " '👮',\n",
       " '☹',\n",
       " '▐',\n",
       " '┳',\n",
       " '👺',\n",
       " '👂',\n",
       " '╬',\n",
       " '🍡',\n",
       " '💂',\n",
       " '🙎',\n",
       " '🔨',\n",
       " '🐲',\n",
       " '◟',\n",
       " '🍢',\n",
       " '┈',\n",
       " '□',\n",
       " '🏫',\n",
       " '🚚',\n",
       " '🚖',\n",
       " '▌',\n",
       " '■',\n",
       " '🍈',\n",
       " '🚛',\n",
       " '💴',\n",
       " '➰',\n",
       " '🔌',\n",
       " '┻',\n",
       " '🏇',\n",
       " 'Ⓐ',\n",
       " '🚩',\n",
       " '📌',\n",
       " '♎',\n",
       " '☐',\n",
       " '🐁',\n",
       " '┐',\n",
       " '📯',\n",
       " '🔧',\n",
       " '🅾',\n",
       " '┯',\n",
       " '🔕',\n",
       " '⬛',\n",
       " '🚒',\n",
       " '🕝',\n",
       " '🎣',\n",
       " '❎',\n",
       " '🎳',\n",
       " '➖',\n",
       " '◝',\n",
       " '℅',\n",
       " '🚡',\n",
       " '➗',\n",
       " '꒦',\n",
       " '࿎',\n",
       " '♈',\n",
       " '⌃',\n",
       " '┘',\n",
       " '✝',\n",
       " '⍣',\n",
       " '📮',\n",
       " '🕕',\n",
       " '🕥',\n",
       " '🕐',\n",
       " '🕔',\n",
       " '🈂',\n",
       " '🎰',\n",
       " '҂',\n",
       " '╤']"
      ]
     },
     "execution_count": 52,
     "metadata": {},
     "output_type": "execute_result"
    }
   ],
   "source": [
    "sent_emo_neg"
   ]
  },
  {
   "cell_type": "code",
   "execution_count": 55,
   "metadata": {},
   "outputs": [],
   "source": [
    "sent_emo_pos = []\n",
    "\n",
    "for i in df_pos['Emoji']:\n",
    "    sent_emo_pos.append(i)"
   ]
  },
  {
   "cell_type": "code",
   "execution_count": 56,
   "metadata": {},
   "outputs": [
    {
     "data": {
      "text/plain": [
       "['😂',\n",
       " '❤',\n",
       " '♥',\n",
       " '😍',\n",
       " '😘',\n",
       " '😊',\n",
       " '👌',\n",
       " '💕',\n",
       " '👏',\n",
       " '😁',\n",
       " '☺',\n",
       " '♡',\n",
       " '👍',\n",
       " '🙏',\n",
       " '✌',\n",
       " '😏',\n",
       " '😉',\n",
       " '🙌',\n",
       " '🙈',\n",
       " '💪',\n",
       " '😄',\n",
       " '💃',\n",
       " '💖',\n",
       " '😃',\n",
       " '😱',\n",
       " '🎉',\n",
       " '😜',\n",
       " '☯',\n",
       " '🌸',\n",
       " '💜',\n",
       " '💙',\n",
       " '✨',\n",
       " '😳',\n",
       " '💗',\n",
       " '★',\n",
       " '☀',\n",
       " '😎',\n",
       " '😢',\n",
       " '💋',\n",
       " '😋',\n",
       " '🙊',\n",
       " '🎶',\n",
       " '💞',\n",
       " '😌',\n",
       " '🔥',\n",
       " '💯',\n",
       " '💛',\n",
       " '💁',\n",
       " '💚',\n",
       " '♫',\n",
       " '😆',\n",
       " '😝',\n",
       " '�',\n",
       " '😅',\n",
       " '👊',\n",
       " '😀',\n",
       " '😚',\n",
       " '😻',\n",
       " '©',\n",
       " '👀',\n",
       " '💘',\n",
       " '🐓',\n",
       " '☕',\n",
       " '👋',\n",
       " '✋',\n",
       " '🎊',\n",
       " '🍕',\n",
       " '❄',\n",
       " '😥',\n",
       " '💥',\n",
       " '😈',\n",
       " '►',\n",
       " '✈',\n",
       " '🔝',\n",
       " '⚽',\n",
       " '👑',\n",
       " '😹',\n",
       " '👉',\n",
       " '🍃',\n",
       " '🎁',\n",
       " '🐧',\n",
       " '☆',\n",
       " '🍀',\n",
       " '🎈',\n",
       " '🎅',\n",
       " '✊',\n",
       " '💤',\n",
       " '💓',\n",
       " '💦',\n",
       " '✔',\n",
       " '⚡',\n",
       " '🙋',\n",
       " '🎄',\n",
       " '🎵',\n",
       " '➡',\n",
       " '😛',\n",
       " '😬',\n",
       " '👯',\n",
       " '💎',\n",
       " '🌿',\n",
       " '🎂',\n",
       " '🌟',\n",
       " '🔮',\n",
       " '❗',\n",
       " '👫',\n",
       " '🏆',\n",
       " '✖',\n",
       " '☝',\n",
       " '😙',\n",
       " '⛄',\n",
       " '👅',\n",
       " '♪',\n",
       " '🍂',\n",
       " '💏',\n",
       " '🔪',\n",
       " '🌴',\n",
       " '👈',\n",
       " '🌹',\n",
       " '🙆',\n",
       " '➜',\n",
       " '👻',\n",
       " '💰',\n",
       " '🍻',\n",
       " '🌞',\n",
       " '🍁',\n",
       " '⭐',\n",
       " '▪',\n",
       " '🎀',\n",
       " '━',\n",
       " '☷',\n",
       " '🐷',\n",
       " '🙉',\n",
       " '🌺',\n",
       " '💅',\n",
       " '🐶',\n",
       " '🌚',\n",
       " '👽',\n",
       " '🎤',\n",
       " '👭',\n",
       " '🎧',\n",
       " '👆',\n",
       " '🍸',\n",
       " '🍷',\n",
       " '®',\n",
       " '🍉',\n",
       " '😇',\n",
       " '☑',\n",
       " '🏃',\n",
       " '│',\n",
       " '💣',\n",
       " '🍺',\n",
       " '▶',\n",
       " '🎸',\n",
       " '🍹',\n",
       " '💫',\n",
       " '📚',\n",
       " '🌷',\n",
       " '💝',\n",
       " '💨',\n",
       " '🏈',\n",
       " '💍',\n",
       " '☔',\n",
       " '👸',\n",
       " '🇪',\n",
       " '🍩',\n",
       " '👾',\n",
       " '☁',\n",
       " '🌻',\n",
       " '😵',\n",
       " '📒',\n",
       " '↿',\n",
       " '🐯',\n",
       " '👼',\n",
       " '🍔',\n",
       " '😸',\n",
       " '👶',\n",
       " '↾',\n",
       " '💐',\n",
       " '🌊',\n",
       " '🍦',\n",
       " '🍓',\n",
       " '👇',\n",
       " '💆',\n",
       " '🍴',\n",
       " '🇸',\n",
       " '😮',\n",
       " '▓',\n",
       " '😽',\n",
       " '🌈',\n",
       " '🙀',\n",
       " '🎮',\n",
       " '🍆',\n",
       " '🍰',\n",
       " '✓',\n",
       " '🙇',\n",
       " '🍟',\n",
       " '🍌',\n",
       " '💑',\n",
       " '🐣',\n",
       " '🎃',\n",
       " '▬',\n",
       " '😟',\n",
       " '🐾',\n",
       " '🎓',\n",
       " '🏊',\n",
       " '🍫',\n",
       " '📷',\n",
       " '👄',\n",
       " '🌼',\n",
       " '🐱',\n",
       " '║',\n",
       " '🇺',\n",
       " '🚬',\n",
       " '✿',\n",
       " '📖',\n",
       " '🐒',\n",
       " '🌍',\n",
       " '┊',\n",
       " '🐥',\n",
       " '🌀',\n",
       " '🐼',\n",
       " '🎥',\n",
       " '💄',\n",
       " '💸',\n",
       " '⛔',\n",
       " '●',\n",
       " '🏀',\n",
       " '💉',\n",
       " '💟',\n",
       " '🚗',\n",
       " '😯',\n",
       " '📝',\n",
       " '═',\n",
       " '♦',\n",
       " '💭',\n",
       " '🌙',\n",
       " '🐟',\n",
       " '👣',\n",
       " '☞',\n",
       " '🗿',\n",
       " '🍝',\n",
       " '🍭',\n",
       " '🌃',\n",
       " '❌',\n",
       " '🐰',\n",
       " '💊',\n",
       " '🚨',\n",
       " '🍪',\n",
       " '╭',\n",
       " '✧',\n",
       " '🎆',\n",
       " '╮',\n",
       " '🎎',\n",
       " '🇩',\n",
       " '✅',\n",
       " '👹',\n",
       " '📱',\n",
       " '🍑',\n",
       " '🎼',\n",
       " '🔊',\n",
       " '🌌',\n",
       " '🍎',\n",
       " '🐻',\n",
       " '─',\n",
       " '💇',\n",
       " '♬',\n",
       " '♚',\n",
       " '🔴',\n",
       " '🍊',\n",
       " '🍒',\n",
       " '🐭',\n",
       " '👟',\n",
       " '🌎',\n",
       " '🍍',\n",
       " '🐮',\n",
       " '📲',\n",
       " '☼',\n",
       " '🌅',\n",
       " '🇷',\n",
       " '👠',\n",
       " '🌽',\n",
       " '❓',\n",
       " '🍬',\n",
       " '😺',\n",
       " '🐴',\n",
       " '🚀',\n",
       " '¦',\n",
       " '💢',\n",
       " '🎬',\n",
       " '🍧',\n",
       " '🍜',\n",
       " '🐏',\n",
       " '🐘',\n",
       " '👧',\n",
       " '⠀',\n",
       " '🏄',\n",
       " '➤',\n",
       " '⬆',\n",
       " '🍋',\n",
       " '🆗',\n",
       " '⚪',\n",
       " '📺',\n",
       " '🍅',\n",
       " '⛅',\n",
       " '🐢',\n",
       " '👙',\n",
       " '🏡',\n",
       " '🌾',\n",
       " '◉',\n",
       " '✏',\n",
       " '🐬',\n",
       " '🍤',\n",
       " '🇹',\n",
       " '♣',\n",
       " '🐝',\n",
       " '🌝',\n",
       " '🇮',\n",
       " '🐍',\n",
       " '♔',\n",
       " '🍳',\n",
       " '🔵',\n",
       " '🌕',\n",
       " '🐨',\n",
       " '🔐',\n",
       " '💿',\n",
       " '❁',\n",
       " '🌳',\n",
       " '👰',\n",
       " '❀',\n",
       " '⚓',\n",
       " '🚴',\n",
       " '👗',\n",
       " '➕',\n",
       " '💬',\n",
       " '🔜',\n",
       " '🍨',\n",
       " '💲',\n",
       " '⛽',\n",
       " '🍙',\n",
       " '🍗',\n",
       " '🍲',\n",
       " '▸',\n",
       " '♛',\n",
       " '😼',\n",
       " '🐙',\n",
       " '👨',\n",
       " '🍚',\n",
       " '🍖',\n",
       " '♨',\n",
       " '🎹',\n",
       " '♕',\n",
       " '▃',\n",
       " '🚘',\n",
       " '🍏',\n",
       " '👩',\n",
       " '👦',\n",
       " '🇬',\n",
       " '🇧',\n",
       " '🐠',\n",
       " '🚹',\n",
       " '💵',\n",
       " '✰',\n",
       " '╠',\n",
       " '👛',\n",
       " '🚙',\n",
       " '🌱',\n",
       " '💻',\n",
       " '🌏',\n",
       " '👓',\n",
       " '◄',\n",
       " '🌲',\n",
       " '👴',\n",
       " '🏠',\n",
       " '🍇',\n",
       " '🍘',\n",
       " '🍛',\n",
       " '🐇',\n",
       " '👵',\n",
       " '◀',\n",
       " '🔙',\n",
       " '🌵',\n",
       " '🐽',\n",
       " '🎇',\n",
       " '🐎',\n",
       " '🐤',\n",
       " '╩',\n",
       " '🛀',\n",
       " '🌑',\n",
       " '🚲',\n",
       " '🏁',\n",
       " '🍞',\n",
       " '🎾',\n",
       " '╚',\n",
       " '🈹',\n",
       " '🐳',\n",
       " '🐵',\n",
       " '✪',\n",
       " '◕',\n",
       " '🗼',\n",
       " '♠',\n",
       " '🐚',\n",
       " '🗽',\n",
       " '🍵',\n",
       " '🆒',\n",
       " '🍯',\n",
       " '🐺',\n",
       " '⇨',\n",
       " '➨',\n",
       " '🌓',\n",
       " '🔒',\n",
       " '👳',\n",
       " '🌂',\n",
       " '🚌',\n",
       " '♩',\n",
       " '❥',\n",
       " '🎡',\n",
       " '💌',\n",
       " '🐩',\n",
       " '🌜',\n",
       " '⌚',\n",
       " '🚿',\n",
       " '🐖',\n",
       " '🔆',\n",
       " '🌛',\n",
       " '🐔',\n",
       " '🏩',\n",
       " '🇫',\n",
       " '📢',\n",
       " '🐦',\n",
       " '♻',\n",
       " '🌘',\n",
       " '🍐',\n",
       " '🌔',\n",
       " '╥',\n",
       " '👖',\n",
       " '🚺',\n",
       " '😗',\n",
       " '🐄',\n",
       " '🎨',\n",
       " '⬇',\n",
       " '🚼',\n",
       " '⛲',\n",
       " '🇴',\n",
       " '🌗',\n",
       " '🌖',\n",
       " '🔅',\n",
       " '👜',\n",
       " '🐌',\n",
       " '💼',\n",
       " '🐹',\n",
       " '🌠',\n",
       " '🐈',\n",
       " '⇧',\n",
       " '🌁',\n",
       " '⚫',\n",
       " '♧',\n",
       " '🏰',\n",
       " '🚵',\n",
       " '🎢',\n",
       " '🎷',\n",
       " '🎐',\n",
       " '╗',\n",
       " '🌇',\n",
       " '⏰',\n",
       " '🚂',\n",
       " '◠',\n",
       " '🎿',\n",
       " '✦',\n",
       " '🆔',\n",
       " '⛪',\n",
       " '🌒',\n",
       " '🐪',\n",
       " '╔',\n",
       " '╝',\n",
       " '👔',\n",
       " '🔱',\n",
       " '🆓',\n",
       " '🐋',\n",
       " '▽',\n",
       " '🐛',\n",
       " '👕',\n",
       " '🚋',\n",
       " '💳',\n",
       " '🌆',\n",
       " '🏧',\n",
       " '💡',\n",
       " '🔹',\n",
       " '⬅',\n",
       " '🐫',\n",
       " '🏪',\n",
       " '🇱',\n",
       " '📹',\n",
       " '👞',\n",
       " '🚑',\n",
       " '🆘',\n",
       " '👚',\n",
       " '🚍',\n",
       " '🐂',\n",
       " '🚣',\n",
       " '🏉',\n",
       " '🗻',\n",
       " '🐀',\n",
       " '╦',\n",
       " '⛺',\n",
       " '🐕',\n",
       " '🏂',\n",
       " '👡',\n",
       " '📻',\n",
       " '✒',\n",
       " '🌰',\n",
       " '🏢',\n",
       " '🎒',\n",
       " '⌒',\n",
       " '📴',\n",
       " '🚢',\n",
       " '🐉',\n",
       " '❒',\n",
       " '🐊',\n",
       " '🔔',\n",
       " '◢',\n",
       " '🏥',\n",
       " '🃏',\n",
       " '▼',\n",
       " '☛',\n",
       " '💒',\n",
       " '🚤',\n",
       " '🐐',\n",
       " '🔚',\n",
       " '🎻',\n",
       " '🔷',\n",
       " '🚦',\n",
       " '🔓',\n",
       " '🎽',\n",
       " '📅',\n",
       " '🎺',\n",
       " '✉',\n",
       " '◤',\n",
       " '○',\n",
       " '🍼',\n",
       " '📀',\n",
       " '📓',\n",
       " '☉',\n",
       " '📕',\n",
       " '📣',\n",
       " '🚓',\n",
       " '🐗',\n",
       " '↪',\n",
       " '⛳',\n",
       " '┛',\n",
       " '┃',\n",
       " '👱',\n",
       " '💺',\n",
       " '☻',\n",
       " '📞',\n",
       " '🌉',\n",
       " '✎',\n",
       " '📃',\n",
       " '🏨',\n",
       " '💷',\n",
       " '🚄',\n",
       " '▲',\n",
       " '⛵',\n",
       " '🔸',\n",
       " '⌛',\n",
       " '🚜',\n",
       " '🐆',\n",
       " '👒',\n",
       " '❕',\n",
       " '🔛',\n",
       " '♢',\n",
       " '🇲',\n",
       " '❅',\n",
       " '👝',\n",
       " '✞',\n",
       " '◡',\n",
       " '🎋',\n",
       " '👥',\n",
       " '📵',\n",
       " '🐡',\n",
       " '◆',\n",
       " '🏯',\n",
       " '🔭',\n",
       " '🎪',\n",
       " '🐜',\n",
       " '♌',\n",
       " '👷',\n",
       " '🔈',\n",
       " '📄',\n",
       " '📍',\n",
       " '🚐',\n",
       " '🌋',\n",
       " '📡',\n",
       " '⏩',\n",
       " '🚳',\n",
       " '✘',\n",
       " '🅰',\n",
       " '🇼',\n",
       " '┓',\n",
       " '┣',\n",
       " 'Ⓛ',\n",
       " 'Ⓔ',\n",
       " '👤',\n",
       " '🚁',\n",
       " '🎠',\n",
       " '📗',\n",
       " '♂',\n",
       " '🔩',\n",
       " '👢',\n",
       " '◂',\n",
       " '📰',\n",
       " '📶',\n",
       " '🌄',\n",
       " '🗾',\n",
       " '🔶',\n",
       " '🏤',\n",
       " '🎩',\n",
       " 'Ⓜ',\n",
       " '🐅',\n",
       " '♮',\n",
       " '📦',\n",
       " '🚊',\n",
       " '🔲',\n",
       " '△',\n",
       " '📆',\n",
       " '❛',\n",
       " '📉',\n",
       " '▵',\n",
       " '🔎',\n",
       " '☜',\n",
       " '🇯',\n",
       " '🇵',\n",
       " '📘',\n",
       " 'ⓔ',\n",
       " '🔑',\n",
       " '⭕',\n",
       " '🔘',\n",
       " '🚭',\n",
       " '🚉',\n",
       " '🚪',\n",
       " '➳',\n",
       " '🚃',\n",
       " '🆙',\n",
       " '🆖',\n",
       " '┗',\n",
       " 'Ⓞ',\n",
       " '❇',\n",
       " '✴',\n",
       " '☊',\n",
       " '🚞',\n",
       " '🍶',\n",
       " '🌐',\n",
       " '♀',\n",
       " '🚅',\n",
       " '♋',\n",
       " '♍',\n",
       " 'ⓐ',\n",
       " '📙',\n",
       " 'Ⓢ',\n",
       " '📋',\n",
       " '🎱',\n",
       " '🐞',\n",
       " '🔺',\n",
       " 'ⓡ',\n",
       " '♤',\n",
       " '🎯',\n",
       " '🔉',\n",
       " '↩',\n",
       " '🚾',\n",
       " '🔣',\n",
       " '➥',\n",
       " '🎌',\n",
       " '◣',\n",
       " '⏬',\n",
       " '♭',\n",
       " 'ⓞ',\n",
       " '🔳',\n",
       " '🏭',\n",
       " '☚',\n",
       " '➽',\n",
       " '➫',\n",
       " '꒰',\n",
       " '꒱',\n",
       " '📑',\n",
       " 'ⓧ',\n",
       " '🔟',\n",
       " '〓',\n",
       " 'ⓜ',\n",
       " '➠',\n",
       " '🚆',\n",
       " '☃',\n",
       " '🚽',\n",
       " 'ⓝ',\n",
       " '⇦',\n",
       " '👲',\n",
       " '🔬',\n",
       " '📈',\n",
       " '⏪',\n",
       " '◎',\n",
       " '📎',\n",
       " '⑅',\n",
       " '✭',\n",
       " '♓',\n",
       " '┏',\n",
       " '☇',\n",
       " '👘',\n",
       " '↙',\n",
       " 'Ⓕ',\n",
       " 'Ⓦ',\n",
       " 'Ⓟ',\n",
       " '🕑',\n",
       " '🕛',\n",
       " '↬',\n",
       " '✍',\n",
       " '🏦',\n",
       " '🔻',\n",
       " 'ⓟ',\n",
       " 'ⓕ',\n",
       " 'ⓘ',\n",
       " '♿',\n",
       " '⇗',\n",
       " '⇘',\n",
       " 'ⓨ',\n",
       " 'ⓙ',\n",
       " '▫',\n",
       " '🔇',\n",
       " '🔖',\n",
       " '📜',\n",
       " '🚝',\n",
       " '🔯',\n",
       " '➸',\n",
       " '꒵',\n",
       " '✽',\n",
       " '📼',\n",
       " '🀄',\n",
       " '✬',\n",
       " '✫',\n",
       " '❣',\n",
       " '📫',\n",
       " '🉐',\n",
       " '📔']"
      ]
     },
     "execution_count": 56,
     "metadata": {},
     "output_type": "execute_result"
    }
   ],
   "source": [
    "sent_emo_pos"
   ]
  },
  {
   "cell_type": "code",
   "execution_count": 54,
   "metadata": {},
   "outputs": [
    {
     "name": "stdout",
     "output_type": "stream",
     "text": [
      "1\n"
     ]
    }
   ],
   "source": [
    "neg_count = sum(1 for i in token if i in sent_emo_neg)\n",
    "\n",
    "print(neg_count)"
   ]
  },
  {
   "cell_type": "code",
   "execution_count": 57,
   "metadata": {},
   "outputs": [
    {
     "name": "stdout",
     "output_type": "stream",
     "text": [
      "0\n"
     ]
    }
   ],
   "source": [
    "pos_count = sum(1 for i in token if i in sent_emo_pos)\n",
    "\n",
    "print(pos_count)"
   ]
  },
  {
   "cell_type": "code",
   "execution_count": 62,
   "metadata": {},
   "outputs": [
    {
     "name": "stdout",
     "output_type": "stream",
     "text": [
      "<class 'pandas.core.frame.DataFrame'>\n",
      "RangeIndex: 888 entries, 0 to 887\n",
      "Data columns (total 6 columns):\n",
      " #   Column      Non-Null Count  Dtype \n",
      "---  ------      --------------  ----- \n",
      " 0   Unnamed: 0  888 non-null    int64 \n",
      " 1   Text-Temp   888 non-null    object\n",
      " 2   Username    888 non-null    object\n",
      " 3   Label       888 non-null    int64 \n",
      " 4   Emoji       888 non-null    object\n",
      " 5   Text        888 non-null    object\n",
      "dtypes: int64(2), object(4)\n",
      "memory usage: 41.8+ KB\n"
     ]
    }
   ],
   "source": [
    "df_caknun.info()"
   ]
  },
  {
   "cell_type": "code",
   "execution_count": 83,
   "metadata": {},
   "outputs": [
    {
     "name": "stdout",
     "output_type": "stream",
     "text": [
      "<class 'pandas.core.frame.DataFrame'>\n",
      "RangeIndex: 1039 entries, 0 to 1038\n",
      "Data columns (total 6 columns):\n",
      " #   Column     Non-Null Count  Dtype \n",
      "---  ------     --------------  ----- \n",
      " 0   From-User  1038 non-null   object\n",
      " 1   Text-Temp  1039 non-null   object\n",
      " 2   Sentimen   1039 non-null   object\n",
      " 3   Sarkas     418 non-null    object\n",
      " 4   Emoji      1039 non-null   object\n",
      " 5   Text       1039 non-null   object\n",
      "dtypes: object(6)\n",
      "memory usage: 48.8+ KB\n"
     ]
    }
   ],
   "source": [
    "df_politik.info()"
   ]
  },
  {
   "cell_type": "code",
   "execution_count": 72,
   "metadata": {},
   "outputs": [
    {
     "name": "stdout",
     "output_type": "stream",
     "text": [
      "<class 'pandas.core.frame.DataFrame'>\n",
      "RangeIndex: 873 entries, 0 to 872\n",
      "Data columns (total 6 columns):\n",
      " #   Column      Non-Null Count  Dtype \n",
      "---  ------      --------------  ----- \n",
      " 0   Unnamed: 0  873 non-null    int64 \n",
      " 1   Text-Temp   873 non-null    object\n",
      " 2   Username    873 non-null    object\n",
      " 3   Label       873 non-null    int64 \n",
      " 4   Emoji       873 non-null    object\n",
      " 5   Text        873 non-null    object\n",
      "dtypes: int64(2), object(4)\n",
      "memory usage: 41.0+ KB\n"
     ]
    }
   ],
   "source": [
    "df_anies.info()"
   ]
  },
  {
   "cell_type": "code",
   "execution_count": 76,
   "metadata": {},
   "outputs": [
    {
     "name": "stdout",
     "output_type": "stream",
     "text": [
      "<class 'pandas.core.frame.DataFrame'>\n",
      "RangeIndex: 951 entries, 0 to 950\n",
      "Data columns (total 6 columns):\n",
      " #   Column      Non-Null Count  Dtype \n",
      "---  ------      --------------  ----- \n",
      " 0   Unnamed: 0  951 non-null    int64 \n",
      " 1   Text-Temp   951 non-null    object\n",
      " 2   Username    951 non-null    object\n",
      " 3   Label       951 non-null    int64 \n",
      " 4   Emoji       951 non-null    object\n",
      " 5   Text        951 non-null    object\n",
      "dtypes: int64(2), object(4)\n",
      "memory usage: 44.7+ KB\n"
     ]
    }
   ],
   "source": [
    "df_puan.info()"
   ]
  },
  {
   "cell_type": "code",
   "execution_count": 84,
   "metadata": {},
   "outputs": [
    {
     "name": "stdout",
     "output_type": "stream",
     "text": [
      "<class 'pandas.core.frame.DataFrame'>\n",
      "RangeIndex: 914 entries, 0 to 913\n",
      "Data columns (total 6 columns):\n",
      " #   Column      Non-Null Count  Dtype \n",
      "---  ------      --------------  ----- \n",
      " 0   Unnamed: 0  914 non-null    int64 \n",
      " 1   Text-Temp   914 non-null    object\n",
      " 2   Username    914 non-null    object\n",
      " 3   Label       914 non-null    int64 \n",
      " 4   Emoji       914 non-null    object\n",
      " 5   Text        914 non-null    object\n",
      "dtypes: int64(2), object(4)\n",
      "memory usage: 43.0+ KB\n"
     ]
    }
   ],
   "source": [
    "df_luhut.info()"
   ]
  },
  {
   "cell_type": "code",
   "execution_count": 87,
   "metadata": {},
   "outputs": [
    {
     "name": "stdout",
     "output_type": "stream",
     "text": [
      "<class 'pandas.core.frame.DataFrame'>\n",
      "RangeIndex: 935 entries, 0 to 934\n",
      "Data columns (total 6 columns):\n",
      " #   Column      Non-Null Count  Dtype \n",
      "---  ------      --------------  ----- \n",
      " 0   Unnamed: 0  935 non-null    int64 \n",
      " 1   Text-Temp   935 non-null    object\n",
      " 2   Username    935 non-null    object\n",
      " 3   Label       935 non-null    int64 \n",
      " 4   Emoji       935 non-null    object\n",
      " 5   Text        935 non-null    object\n",
      "dtypes: int64(2), object(4)\n",
      "memory usage: 44.0+ KB\n"
     ]
    }
   ],
   "source": [
    "df_ganjar.info()"
   ]
  },
  {
   "cell_type": "code",
   "execution_count": 90,
   "metadata": {},
   "outputs": [
    {
     "name": "stdout",
     "output_type": "stream",
     "text": [
      "<class 'pandas.core.frame.DataFrame'>\n",
      "RangeIndex: 820 entries, 0 to 819\n",
      "Data columns (total 6 columns):\n",
      " #   Column      Non-Null Count  Dtype \n",
      "---  ------      --------------  ----- \n",
      " 0   Unnamed: 0  820 non-null    int64 \n",
      " 1   Text-Temp   820 non-null    object\n",
      " 2   Username    820 non-null    object\n",
      " 3   Label       820 non-null    int64 \n",
      " 4   Emoji       820 non-null    object\n",
      " 5   Text        820 non-null    object\n",
      "dtypes: int64(2), object(4)\n",
      "memory usage: 38.6+ KB\n"
     ]
    }
   ],
   "source": [
    "df_pencitraan.info()"
   ]
  },
  {
   "attachments": {},
   "cell_type": "markdown",
   "metadata": {},
   "source": [
    "<h1>Create DataFrame</h1>"
   ]
  },
  {
   "cell_type": "code",
   "execution_count": 100,
   "metadata": {},
   "outputs": [],
   "source": [
    "df_politik = df_politik.drop(columns='Text-Temp')\n",
    "df_politik = df_politik.drop(columns='Emoji')"
   ]
  },
  {
   "cell_type": "code",
   "execution_count": 103,
   "metadata": {},
   "outputs": [
    {
     "data": {
      "text/plain": [
       "'Yg beruntung arteria Dahlan ga ada kabar lagi kasus e yg ktnya hina suku sunda 😁'"
      ]
     },
     "execution_count": 103,
     "metadata": {},
     "output_type": "execute_result"
    }
   ],
   "source": [
    "df_politik['Text'][9]"
   ]
  },
  {
   "cell_type": "code",
   "execution_count": 104,
   "metadata": {},
   "outputs": [],
   "source": [
    "df_caknun = df_caknun.drop(columns='Text-Temp')\n",
    "df_caknun = df_caknun.drop(columns='Emoji')"
   ]
  },
  {
   "cell_type": "code",
   "execution_count": 105,
   "metadata": {},
   "outputs": [
    {
     "data": {
      "text/plain": [
       "'Menjadi suami atau istri yang gagal kerap dinilai tak menjaga kehormatan keluarga besar. #CakNun 😨'"
      ]
     },
     "execution_count": 105,
     "metadata": {},
     "output_type": "execute_result"
    }
   ],
   "source": [
    "df_caknun['Text'][9]"
   ]
  },
  {
   "cell_type": "code",
   "execution_count": 106,
   "metadata": {},
   "outputs": [],
   "source": [
    "df_anies = df_anies.drop(columns='Text-Temp')\n",
    "df_anies = df_anies.drop(columns='Emoji')"
   ]
  },
  {
   "cell_type": "code",
   "execution_count": 107,
   "metadata": {},
   "outputs": [
    {
     "data": {
      "text/plain": [
       "'@Mdy_Asmara1701 Deretan prestasi gemilang Anies Baswedan selama menjabat gubernur DKI Jakarta\\nPlease jgn di retweet guys :) https://t.co/KgVcVbsj0P 😠'"
      ]
     },
     "execution_count": 107,
     "metadata": {},
     "output_type": "execute_result"
    }
   ],
   "source": [
    "df_anies['Text'][9]"
   ]
  },
  {
   "cell_type": "code",
   "execution_count": 108,
   "metadata": {},
   "outputs": [],
   "source": [
    "df_puan = df_puan.drop(columns='Text-Temp')\n",
    "df_puan = df_puan.drop(columns='Emoji')"
   ]
  },
  {
   "cell_type": "code",
   "execution_count": 109,
   "metadata": {},
   "outputs": [
    {
     "data": {
      "text/plain": [
       "'@Nicho_Silalahi @puanmaharani_ri @jokowi Apalagi jelang pilpres 🤣 💯'"
      ]
     },
     "execution_count": 109,
     "metadata": {},
     "output_type": "execute_result"
    }
   ],
   "source": [
    "df_puan['Text'][9]"
   ]
  },
  {
   "cell_type": "code",
   "execution_count": 110,
   "metadata": {},
   "outputs": [],
   "source": [
    "df_luhut = df_luhut.drop(columns='Text-Temp')\n",
    "df_luhut = df_luhut.drop(columns='Emoji')"
   ]
  },
  {
   "cell_type": "code",
   "execution_count": 111,
   "metadata": {},
   "outputs": [
    {
     "data": {
      "text/plain": [
       "'hahahaa nanti opung Luhut Panjaitan tersinggung kak 😨'"
      ]
     },
     "execution_count": 111,
     "metadata": {},
     "output_type": "execute_result"
    }
   ],
   "source": [
    "df_luhut['Text'][9]"
   ]
  },
  {
   "cell_type": "code",
   "execution_count": 112,
   "metadata": {},
   "outputs": [],
   "source": [
    "df_ganjar = df_ganjar.drop(columns='Text-Temp')\n",
    "df_ganjar = df_ganjar.drop(columns='Emoji')"
   ]
  },
  {
   "cell_type": "code",
   "execution_count": 114,
   "metadata": {},
   "outputs": [
    {
     "data": {
      "text/plain": [
       "'@SantorinisSun Jd mas @ganjarpranowo gak ngerti persoalan ini dan bukan pecinta sepakbola yg ori? Keterlaluan kamu bong!! 😭'"
      ]
     },
     "execution_count": 114,
     "metadata": {},
     "output_type": "execute_result"
    }
   ],
   "source": [
    "df_ganjar['Text'][9]"
   ]
  },
  {
   "cell_type": "code",
   "execution_count": 115,
   "metadata": {},
   "outputs": [],
   "source": [
    "df_pencitraan = df_pencitraan.drop(columns='Text-Temp')\n",
    "df_pencitraan = df_pencitraan.drop(columns='Emoji')"
   ]
  },
  {
   "cell_type": "code",
   "execution_count": 127,
   "metadata": {},
   "outputs": [
    {
     "data": {
      "text/plain": [
       "'Harusnya kan memberi contoh yang baik yah, apalagi dia barusan saja di Vaksin. #RaffiAhmad #raffi #sherina #JokowiDiVaksin #JOKOWI\\n#RezimRekayasa #RepublikPencitraan\\n\\nhttps://t.co/HFk7tQFqJt 😔'"
      ]
     },
     "execution_count": 127,
     "metadata": {},
     "output_type": "execute_result"
    }
   ],
   "source": [
    "df_pencitraan['Text'][15]"
   ]
  },
  {
   "cell_type": "code",
   "execution_count": 130,
   "metadata": {},
   "outputs": [],
   "source": [
    "df_emoji_politik = pd.DataFrame(df_politik)\n",
    "df_emoji_caknun = pd.DataFrame(df_caknun)\n",
    "df_emoji_anies = pd.DataFrame(df_anies)\n",
    "df_emoji_puan = pd.DataFrame(df_puan)\n",
    "df_emoji_luhut = pd.DataFrame(df_luhut)\n",
    "df_emoji_ganjar = pd.DataFrame(df_ganjar)\n",
    "df_emoji_pencitraan = pd.DataFrame(df_pencitraan)"
   ]
  },
  {
   "cell_type": "code",
   "execution_count": 132,
   "metadata": {},
   "outputs": [],
   "source": [
    "df_emoji_politik.to_excel('Datasets_Politik.xlsx')\n",
    "df_emoji_caknun.to_excel('Datasets_Caknun.xlsx')\n",
    "df_emoji_anies.to_excel('Datasets_Anies.xlsx')\n",
    "df_emoji_puan.to_excel('Datasets_Puan.xlsx')\n",
    "df_emoji_luhut.to_excel('Datasets_Luhut.xlsx')\n",
    "df_emoji_ganjar.to_excel('Datasets_Ganjar.xlsx')\n",
    "df_emoji_pencitraan.to_excel('Datasets_RepublikPencitraan.xlsx')"
   ]
  }
 ],
 "metadata": {
  "kernelspec": {
   "display_name": "Python 3",
   "language": "python",
   "name": "python3"
  },
  "language_info": {
   "codemirror_mode": {
    "name": "ipython",
    "version": 3
   },
   "file_extension": ".py",
   "mimetype": "text/x-python",
   "name": "python",
   "nbconvert_exporter": "python",
   "pygments_lexer": "ipython3",
   "version": "3.9.7"
  },
  "orig_nbformat": 4
 },
 "nbformat": 4,
 "nbformat_minor": 2
}
