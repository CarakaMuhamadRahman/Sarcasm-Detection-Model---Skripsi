{
 "cells": [
  {
   "cell_type": "code",
   "execution_count": 1,
   "metadata": {},
   "outputs": [],
   "source": [
    "from keras.utils import pad_sequences\n",
    "import numpy as np\n",
    "from keras.preprocessing.text import Tokenizer\n",
    "import pandas as pd"
   ]
  },
  {
   "cell_type": "code",
   "execution_count": 10,
   "metadata": {},
   "outputs": [],
   "source": [
    "vector = np.random.rand(3,5)"
   ]
  },
  {
   "cell_type": "code",
   "execution_count": 11,
   "metadata": {},
   "outputs": [
    {
     "data": {
      "text/plain": [
       "(3, 5)"
      ]
     },
     "execution_count": 11,
     "metadata": {},
     "output_type": "execute_result"
    }
   ],
   "source": [
    "vector.shape"
   ]
  },
  {
   "cell_type": "code",
   "execution_count": null,
   "metadata": {},
   "outputs": [],
   "source": [
    "# vector_random = np.random.rand(3,3)\n",
    "\n",
    "# print(vector_random)"
   ]
  },
  {
   "cell_type": "code",
   "execution_count": 12,
   "metadata": {},
   "outputs": [],
   "source": [
    "vector_sequence = pad_sequences(vector, maxlen=10, padding='post', dtype=np.float64)"
   ]
  },
  {
   "cell_type": "code",
   "execution_count": 13,
   "metadata": {},
   "outputs": [
    {
     "data": {
      "text/plain": [
       "array([[0.80779842, 0.18976699, 0.6972752 , 0.78470102, 0.5528409 ,\n",
       "        0.        , 0.        , 0.        , 0.        , 0.        ],\n",
       "       [0.91300855, 0.16435781, 0.62942186, 0.32748967, 0.3902581 ,\n",
       "        0.        , 0.        , 0.        , 0.        , 0.        ],\n",
       "       [0.55246615, 0.21145244, 0.56920651, 0.46501215, 0.87362061,\n",
       "        0.        , 0.        , 0.        , 0.        , 0.        ]])"
      ]
     },
     "execution_count": 13,
     "metadata": {},
     "output_type": "execute_result"
    }
   ],
   "source": [
    "vector_sequence"
   ]
  },
  {
   "cell_type": "code",
   "execution_count": null,
   "metadata": {},
   "outputs": [],
   "source": [
    "kalimat = ['halo selamat siang']"
   ]
  },
  {
   "cell_type": "code",
   "execution_count": null,
   "metadata": {},
   "outputs": [],
   "source": [
    "tokenizer = Tokenizer(num_words=40000, oov_token='OOV')\n",
    "\n",
    "tokenizer.fit_on_texts(kalimat)"
   ]
  },
  {
   "cell_type": "code",
   "execution_count": null,
   "metadata": {},
   "outputs": [],
   "source": [
    "for word, i in tokenizer.word_index.items():\n",
    "    print(f'{word}: {i}')"
   ]
  },
  {
   "cell_type": "code",
   "execution_count": null,
   "metadata": {},
   "outputs": [],
   "source": [
    "text = {'text': ['saya sedang makan', 'halo selamat sore']}\n",
    "df = pd.DataFrame(text)"
   ]
  },
  {
   "cell_type": "markdown",
   "metadata": {},
   "source": [
    "<h1>Back Propagation Code</h1>"
   ]
  },
  {
   "cell_type": "code",
   "execution_count": null,
   "metadata": {},
   "outputs": [],
   "source": [
    "def backPropagation(self, x, y, learning_rate):\n",
    "        T = len(x)\n",
    "        dW_i, dU_i, db_i = np.zeros_like(self.W_i), np.zeros_like(self.U_i), np.zeros_like(self.b_i)\n",
    "        dW_f, dU_f, db_f = np.zeros_like(self.W_f), np.zeros_like(self.U_f), np.zeros_like(self.b_f)\n",
    "        dW_o, dU_o, db_o = np.zeros_like(self.W_o), np.zeros_like(self.U_o), np.zeros_like(self.b_o)\n",
    "        dW_c, dU_c, db_c = np.zeros_like(self.W_c), np.zeros_like(self.U_c), np.zeros_like(self.b_c)\n",
    "        dW_y, db_y = np.zeros_like(self.W_y), np.zeros_like(self.b_y)\n",
    "        dc_next = np.zeros((1, self.hidden_size))\n",
    "        dh_next = np.zeros((1, self.hidden_size))\n",
    "        \n",
    "        for t in reversed(range(T)):\n",
    "            dy = self.outputs[t]\n",
    "            # print(f'Outputs: {dy}\\n')\n",
    "            # print(f'{y[t]}\\n')\n",
    "            dy[y[t]] -= 1\n",
    "            # print(f'Outputs minus 1{dy}\\n')\n",
    "            dy_transpose = dy.reshape(1, -1).T\n",
    "            # print(f'Shape dy_transpose: {dy_transpose.shape}\\n')\n",
    "            # print(f'Shape self.W_y.T : {self.W_y.shape}\\n')\n",
    "            dh_forward = self.W_y.T @ dy_transpose + dh_next\n",
    "            # print(f'Shape dh_forward: {dh_forward.shape}\\n')\n",
    "            dc_forward = dh_forward * self.gates_forward[t, 2] * tanh_derivative(tanh(self.c_forward[t + 1])) + dc_next\n",
    "            dh_backward = self.W_y.T @ dy_transpose + dh_next\n",
    "            dc_backward = dh_backward * self.gates_backward[t, 2] * tanh_derivative(tanh(self.c_backward[t + 1])) + dc_next\n",
    "            \n",
    "            # print(f'Shape dy_transpose: {dy_transpose.shape}\\n')\n",
    "            # print(f'Shape dW_y: {dW_y.shape}\\n')\n",
    "            # print(f'Shape self.h_forward: {self.h_forward[t + 1].shape}\\n')\n",
    "            # dW_y += dy_transpose @ np.expand_dims(self.h_forward[t + 1], axis=0) + dy_transpose @ np.expand_dims(self.h_backward[t + 1], axis=0) # Salah\n",
    "            dW_y += dy_transpose @ np.expand_dims(np.concatenate([self.h_forward[t + 1], self.h_backward[t + 1][:self.hidden_size]]), axis=0) # Benar\n",
    "            db_y += dy_transpose\n",
    "            \n",
    "            # print(f'dc_forward: {dc_forward.shape}, self.gates_forward[t, 3]: {self.gates_forward[t, 3].shape}\\n')\n",
    "            dg_forward = dc_forward * self.gates_forward[t, 2] * tanh_derivative(self.gates_forward[t, 3])\n",
    "            dg_backward = dc_backward * self.gates_backward[t, 3]\n",
    "\n",
    "            dgates_forward = self.gates_forward[t]\n",
    "            # print(f'Shape dgates_forward[3]: {dgates_forward.shape}\\n')\n",
    "            # dg_forward_expanded = np.expand_dims(dg_forward, axis=0)\n",
    "            dgated = dg_forward * tanh_derivative(dgates_forward[3])\n",
    "            # print(f'tanh_derivative Shape: {dgated.shape}\\n')\n",
    "            # print(f'Shape dg_forward : {dg_forward.shape}')\n",
    "            dgates_forward[3][:self.hidden_size] = np.sum(dg_forward[:self.hidden_size] * tanh_derivative(dgates_forward[3])[:self.hidden_size], axis=1) # Error disini\n",
    "            dgates_forward[0][:self.hidden_size] = np.sum(dc_forward[:self.hidden_size] * self.gates_forward[t, 0], axis=1)\n",
    "            dgates_forward[1][:self.hidden_size] = np.sum(dc_forward[:self.hidden_size] * self.c_forward[t], axis=1)\n",
    "            dgates_forward[2][:self.hidden_size] = np.sum(dh_forward[:self.hidden_size] * tanh(self.c_forward[t + 1]) * sigmoid_derivative(dgates_forward[2]), axis=1)\n",
    "\n",
    "            dgates_backward = self.gates_backward[t]\n",
    "            dgates_backward[3][:self.hidden_size] = np.sum(dg_backward[:self.hidden_size] * tanh_derivative(dgates_backward[3]))\n",
    "            dgates_backward[0][:self.hidden_size] = np.sum(dc_backward[:self.hidden_size] * self.gates_backward[t, 0])\n",
    "            dgates_backward[1][:self.hidden_size] = np.sum(dc_backward[:self.hidden_size] * self.c_backward[t])\n",
    "            dgates_backward[2][:self.hidden_size] = np.sum(dh_backward[:self.hidden_size] * tanh(self.c_backward[t + 1]) * sigmoid_derivative(dgates_backward[2]))\n",
    "            \n",
    "            x_transpose = np.array([x[t]])\n",
    "            dgates_transpose_forward_0 = np.array([dgates_forward[0]])\n",
    "            dgates_transpose_forward_1 = np.array([dgates_forward[1]])\n",
    "            dgates_transpose_forward_2 = np.array([dgates_forward[2]])\n",
    "            dgates_transpose_forward_3 = np.array([dgates_forward[3]])\n",
    "\n",
    "            dgates_transpose_backward_0 = np.array([dgates_backward[0]])\n",
    "            dgates_transpose_backward_1 = np.array([dgates_backward[1]])\n",
    "            dgates_transpose_backward_2 = np.array([dgates_backward[2]])\n",
    "            dgates_transpose_backward_3 = np.array([dgates_backward[3]])\n",
    "            \n",
    "            dW_i += dgates_transpose_forward_0.T @ x_transpose + dgates_transpose_backward_0.T @ x_transpose\n",
    "            dU_i += dgates_forward[0] @ self.h_forward[t].T + dgates_backward[0] @ self.h_backward[t].T\n",
    "            db_i += dgates_transpose_forward_0.T + dgates_transpose_backward_0.T\n",
    "            \n",
    "            dW_f += dgates_transpose_forward_1.T @ x_transpose + dgates_transpose_backward_1.T @ x_transpose # Error disini\n",
    "            dU_f += dgates_forward[1] @ self.h_forward[t].T + dgates_backward[1] @ self.h_backward[t].T\n",
    "            db_f += dgates_transpose_forward_1.T + dgates_transpose_backward_1.T\n",
    "            \n",
    "            dW_o += dgates_transpose_forward_2.T @ x_transpose + dgates_transpose_backward_2.T @ x_transpose\n",
    "            dU_o += dgates_forward[2] @ self.h_forward[t].T + dgates_backward[2] @ self.h_backward[t].T\n",
    "            db_o += dgates_transpose_forward_2.T + dgates_transpose_backward_2.T\n",
    "            \n",
    "            dW_c += dgates_transpose_forward_3.T @ x_transpose + dgates_transpose_backward_3.T @ x_transpose\n",
    "            dU_c += dgates_forward[3] @ self.h_forward[t].T + dgates_backward[3] @ self.h_backward[t].T\n",
    "            db_c += dgates_transpose_forward_3.T + dgates_transpose_backward_3.T\n",
    "            \n",
    "            dh_next = self.U_i.T @ dgates_forward[0] + self.U_f.T @ dgates_forward[1] + self.U_o.T @ dgates_forward[2] + self.U_c.T @ dgates_forward[3]\n",
    "            dc_next = dc_forward * self.gates_forward[t, 1]\n",
    "        \n",
    "        for param in [dW_i, dU_i, db_i, dW_f, dU_f, db_f, dW_o, dU_o, db_o, dW_c, dU_c, db_c, dW_y, db_y]:\n",
    "            np.clip(param, -1, 1, out=param)\n",
    "        \n",
    "        self.W_i -= learning_rate * dW_i\n",
    "        self.U_i -= learning_rate * dU_i\n",
    "        self.b_i -= learning_rate * db_i\n",
    "        \n",
    "        self.W_f -= learning_rate * dW_f\n",
    "        self.U_f -= learning_rate * dU_f\n",
    "        self.b_f -= learning_rate * db_f\n",
    "        \n",
    "        self.W_o -= learning_rate * dW_o\n",
    "        self.U_o -= learning_rate * dU_o\n",
    "        self.b_o -= learning_rate * db_o\n",
    "        \n",
    "        self.W_c -= learning_rate * dW_c\n",
    "        self.U_c -= learning_rate * dU_c\n",
    "        self.b_c -= learning_rate * db_c\n",
    "        \n",
    "        self.W_y -= learning_rate * dW_y\n",
    "        self.b_y -= learning_rate * db_y"
   ]
  }
 ],
 "metadata": {
  "kernelspec": {
   "display_name": "Python 3",
   "language": "python",
   "name": "python3"
  },
  "language_info": {
   "codemirror_mode": {
    "name": "ipython",
    "version": 3
   },
   "file_extension": ".py",
   "mimetype": "text/x-python",
   "name": "python",
   "nbconvert_exporter": "python",
   "pygments_lexer": "ipython3",
   "version": "3.9.7"
  },
  "orig_nbformat": 4
 },
 "nbformat": 4,
 "nbformat_minor": 2
}
