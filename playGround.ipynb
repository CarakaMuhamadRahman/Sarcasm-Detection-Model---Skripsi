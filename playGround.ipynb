{
 "cells": [
  {
   "cell_type": "code",
   "execution_count": 1,
   "metadata": {},
   "outputs": [],
   "source": [
    "from keras.utils import pad_sequences\n",
    "import numpy as np\n",
    "from keras.preprocessing.text import Tokenizer\n",
    "import pandas as pd\n",
    "from sklearn.metrics.pairwise import euclidean_distances\n",
    "from sklearn.neighbors import NearestNeighbors"
   ]
  },
  {
   "cell_type": "code",
   "execution_count": 29,
   "metadata": {},
   "outputs": [
    {
     "name": "stdout",
     "output_type": "stream",
     "text": [
      "Data:\n",
      "[[0.17681563]\n",
      " [0.39916614]\n",
      " [0.35175044]\n",
      " [0.37270024]\n",
      " [0.78567638]\n",
      " [0.74027608]\n",
      " [0.4999775 ]\n",
      " [0.41547649]\n",
      " [0.74392659]\n",
      " [0.22652596]]\n",
      "\n"
     ]
    }
   ],
   "source": [
    "data = np.random.rand(10, 1)\n",
    "print(f'Data:\\n{data}\\n')"
   ]
  },
  {
   "cell_type": "code",
   "execution_count": 31,
   "metadata": {},
   "outputs": [
    {
     "name": "stdout",
     "output_type": "stream",
     "text": [
      "Euclidian :\n",
      "[[0.         0.04971032]\n",
      " [0.         0.01631034]\n",
      " [0.         0.0209498 ]\n",
      " [0.         0.0209498 ]\n",
      " [0.         0.04174979]\n",
      " [0.         0.0036505 ]\n",
      " [0.         0.08450101]\n",
      " [0.         0.01631034]\n",
      " [0.         0.0036505 ]\n",
      " [0.         0.04971032]]\n",
      "\n",
      "Indices :\n",
      "[[0 9]\n",
      " [1 7]\n",
      " [2 3]\n",
      " [3 2]\n",
      " [4 8]\n",
      " [5 8]\n",
      " [6 7]\n",
      " [7 1]\n",
      " [8 5]\n",
      " [9 0]]\n"
     ]
    }
   ],
   "source": [
    "nn = NearestNeighbors(n_neighbors=2,metric='euclidean',algorithm='kd_tree').fit(data)\n",
    "\n",
    "euclidian, indices = nn.kneighbors((data))\n",
    "\n",
    "print(f'Euclidian :\\n{euclidian}\\n')\n",
    "print(f'Indices :\\n{indices}')"
   ]
  },
  {
   "cell_type": "code",
   "execution_count": 6,
   "metadata": {},
   "outputs": [
    {
     "data": {
      "text/plain": [
       "array([1.45169201])"
      ]
     },
     "execution_count": 6,
     "metadata": {},
     "output_type": "execute_result"
    }
   ],
   "source": [
    "np.sqrt([2.1074096945412923])"
   ]
  },
  {
   "cell_type": "code",
   "execution_count": 16,
   "metadata": {},
   "outputs": [
    {
     "name": "stdout",
     "output_type": "stream",
     "text": [
      "[[0 1]\n",
      " [1 0]]\n"
     ]
    }
   ],
   "source": [
    "print(np.argsort(distance))"
   ]
  },
  {
   "cell_type": "code",
   "execution_count": 11,
   "metadata": {},
   "outputs": [
    {
     "name": "stdout",
     "output_type": "stream",
     "text": [
      "[2 4 5]\n",
      "[2 4 5]\n"
     ]
    }
   ],
   "source": [
    "nn = np.array([[0,2,4,5], [0,2,4,5]])\n",
    "\n",
    "for i in range(len(nn)):\n",
    "    minority_neighbors = nn[i][nn[i] > 0]\n",
    "    print(minority_neighbors)"
   ]
  },
  {
   "cell_type": "code",
   "execution_count": 32,
   "metadata": {},
   "outputs": [
    {
     "name": "stdout",
     "output_type": "stream",
     "text": [
      "[[0.97501375]\n",
      " [0.59749785]\n",
      " [0.75902118]\n",
      " [0.76445391]\n",
      " [0.89855471]]\n"
     ]
    }
   ],
   "source": [
    "myList = np.random.rand(5, 1)\n",
    "print(myList)"
   ]
  },
  {
   "cell_type": "code",
   "execution_count": 36,
   "metadata": {},
   "outputs": [
    {
     "name": "stdout",
     "output_type": "stream",
     "text": [
      "Euclidian:\n",
      "[[0.         0.07645904 0.21055984]\n",
      " [0.         0.16152332 0.16695605]\n",
      " [0.         0.00543273 0.13953353]\n",
      " [0.         0.00543273 0.1341008 ]\n",
      " [0.         0.07645904 0.1341008 ]]\n",
      "\n",
      "Nearest Neighbors:\n",
      " [[4 3]\n",
      " [2 3]\n",
      " [3 4]\n",
      " [2 4]\n",
      " [0 3]]\n",
      "\n",
      "NN Random:\n",
      " [4]\n",
      "\n"
     ]
    }
   ],
   "source": [
    "euclidian = NearestNeighbors(n_neighbors=3,metric='euclidean',algorithm='kd_tree').fit(myList)\n",
    "euclidians, indices = euclidian.kneighbors((myList))\n",
    "# sorting = np.argsort(myList)[:, 1:4]\n",
    "nn = []\n",
    "for i in range(len(myList)):\n",
    "    value = indices[i][indices[i] != i]\n",
    "    nn.append(value)\n",
    "nn = np.array(nn)\n",
    "nn_random = np.random.choice(nn[0], size=1, replace=False)\n",
    "\n",
    "print(f'Euclidian:\\n{euclidians}\\n')\n",
    "print(f'Nearest Neighbors:\\n {nn}\\n')\n",
    "print(f'NN Random:\\n {nn_random}\\n')"
   ]
  },
  {
   "cell_type": "code",
   "execution_count": 99,
   "metadata": {},
   "outputs": [
    {
     "data": {
      "text/plain": [
       "array([[1.35113743e-01, 6.09267393e-01, 6.22709791e-01, 6.91534164e-01,\n",
       "        2.18420254e-01, 4.65407320e-01, 3.62377879e-01, 6.47611660e-01,\n",
       "        2.49740468e-01, 6.41593535e-02, 5.07966735e-01, 5.07639607e-01,\n",
       "        5.69292253e-01, 7.13151124e-01, 7.64996735e-01, 4.32178578e-01,\n",
       "        1.79938853e-01, 4.59124528e-01, 8.33699137e-01, 6.86494574e-01,\n",
       "        7.77568822e-01, 9.26335536e-01, 6.90084873e-01, 8.89187526e-01,\n",
       "        6.72861356e-02, 5.04268773e-01, 6.72868867e-01, 6.22998023e-01,\n",
       "        9.92241866e-01, 3.07932421e-01, 2.06899918e-01, 3.33327614e-01,\n",
       "        5.25158094e-01, 5.95249675e-01, 2.60628258e-01, 2.41673415e-01,\n",
       "        7.41107433e-01, 8.29871427e-01, 3.88801701e-01, 8.41898168e-01,\n",
       "        9.52540361e-01, 8.91564434e-02, 7.05370041e-01, 1.73014564e-01,\n",
       "        9.86008401e-01, 3.34154464e-01, 4.27048505e-01, 5.79073565e-01,\n",
       "        8.41036034e-01, 3.22417955e-01, 2.94738539e-01, 1.21696649e-01,\n",
       "        6.94894133e-01, 2.89831641e-01, 6.98030931e-01, 7.02594867e-02,\n",
       "        7.17814893e-01, 6.60456817e-01, 1.53995258e-01, 1.03419733e-01,\n",
       "        7.95383740e-01, 5.19664368e-01, 7.90665039e-01, 5.90656354e-01,\n",
       "        2.17399723e-01, 4.12238402e-01, 2.12701216e-01, 3.83259750e-01,\n",
       "        3.06593208e-01, 3.30399511e-01, 3.53113678e-01, 5.00296990e-01,\n",
       "        9.32094339e-01, 7.94664085e-01, 2.19086753e-01, 9.24410705e-01,\n",
       "        6.25844408e-01, 1.23292610e-01, 5.98789098e-01, 1.46883487e-04,\n",
       "        3.56773792e-01, 6.54517108e-01, 3.93067367e-01, 2.56849215e-01,\n",
       "        5.71943335e-01, 5.51334833e-02, 6.35397051e-01, 6.84436433e-01,\n",
       "        6.00260032e-01, 8.62713680e-01, 4.78447292e-01, 8.72108318e-02,\n",
       "        3.80559664e-01, 4.36583342e-01, 9.89329499e-01, 5.22782888e-01,\n",
       "        1.35627631e-01, 5.09762155e-01, 7.80198040e-01, 8.24396231e-01]])"
      ]
     },
     "execution_count": 99,
     "metadata": {},
     "output_type": "execute_result"
    }
   ],
   "source": [
    "myList[nn_random]"
   ]
  },
  {
   "cell_type": "code",
   "execution_count": null,
   "metadata": {},
   "outputs": [],
   "source": [
    "vector = np.random.rand(3,5)"
   ]
  },
  {
   "cell_type": "code",
   "execution_count": null,
   "metadata": {},
   "outputs": [],
   "source": [
    "vector.shape"
   ]
  },
  {
   "cell_type": "code",
   "execution_count": null,
   "metadata": {},
   "outputs": [],
   "source": [
    "# vector_random = np.random.rand(3,3)\n",
    "\n",
    "# print(vector_random)"
   ]
  },
  {
   "cell_type": "code",
   "execution_count": null,
   "metadata": {},
   "outputs": [],
   "source": [
    "vector_sequence = pad_sequences(vector, maxlen=10, padding='post', dtype=np.float64)"
   ]
  },
  {
   "cell_type": "code",
   "execution_count": null,
   "metadata": {},
   "outputs": [],
   "source": [
    "vector_sequence"
   ]
  },
  {
   "cell_type": "code",
   "execution_count": null,
   "metadata": {},
   "outputs": [],
   "source": [
    "kalimat = ['halo selamat siang']"
   ]
  },
  {
   "cell_type": "code",
   "execution_count": null,
   "metadata": {},
   "outputs": [],
   "source": [
    "tokenizer = Tokenizer(num_words=40000, oov_token='OOV')\n",
    "\n",
    "tokenizer.fit_on_texts(kalimat)"
   ]
  },
  {
   "cell_type": "code",
   "execution_count": null,
   "metadata": {},
   "outputs": [],
   "source": [
    "for word, i in tokenizer.word_index.items():\n",
    "    print(f'{word}: {i}')"
   ]
  },
  {
   "cell_type": "code",
   "execution_count": null,
   "metadata": {},
   "outputs": [],
   "source": [
    "text = {'text': ['saya sedang makan', 'halo selamat sore']}\n",
    "df = pd.DataFrame(text)"
   ]
  },
  {
   "cell_type": "markdown",
   "metadata": {},
   "source": [
    "<h1>Back Propagation Code</h1>"
   ]
  },
  {
   "cell_type": "code",
   "execution_count": null,
   "metadata": {},
   "outputs": [],
   "source": [
    "def backPropagation(self, x, y, learning_rate):\n",
    "        T = len(x)\n",
    "        dW_i, dU_i, db_i = np.zeros_like(self.W_i), np.zeros_like(self.U_i), np.zeros_like(self.b_i)\n",
    "        dW_f, dU_f, db_f = np.zeros_like(self.W_f), np.zeros_like(self.U_f), np.zeros_like(self.b_f)\n",
    "        dW_o, dU_o, db_o = np.zeros_like(self.W_o), np.zeros_like(self.U_o), np.zeros_like(self.b_o)\n",
    "        dW_c, dU_c, db_c = np.zeros_like(self.W_c), np.zeros_like(self.U_c), np.zeros_like(self.b_c)\n",
    "        dW_y, db_y = np.zeros_like(self.W_y), np.zeros_like(self.b_y)\n",
    "        dc_next = np.zeros((1, self.hidden_size))\n",
    "        dh_next = np.zeros((1, self.hidden_size))\n",
    "        \n",
    "        for t in reversed(range(T)):\n",
    "            dy = self.outputs[t]\n",
    "            # print(f'Outputs: {dy}\\n')\n",
    "            # print(f'{y[t]}\\n')\n",
    "            dy[y[t]] -= 1\n",
    "            # print(f'Outputs minus 1{dy}\\n')\n",
    "            dy_transpose = dy.reshape(1, -1).T\n",
    "            # print(f'Shape dy_transpose: {dy_transpose.shape}\\n')\n",
    "            # print(f'Shape self.W_y.T : {self.W_y.shape}\\n')\n",
    "            dh_forward = self.W_y.T @ dy_transpose + dh_next\n",
    "            # print(f'Shape dh_forward: {dh_forward.shape}\\n')\n",
    "            dc_forward = dh_forward * self.gates_forward[t, 2] * tanh_derivative(tanh(self.c_forward[t + 1])) + dc_next\n",
    "            dh_backward = self.W_y.T @ dy_transpose + dh_next\n",
    "            dc_backward = dh_backward * self.gates_backward[t, 2] * tanh_derivative(tanh(self.c_backward[t + 1])) + dc_next\n",
    "            \n",
    "            # print(f'Shape dy_transpose: {dy_transpose.shape}\\n')\n",
    "            # print(f'Shape dW_y: {dW_y.shape}\\n')\n",
    "            # print(f'Shape self.h_forward: {self.h_forward[t + 1].shape}\\n')\n",
    "            # dW_y += dy_transpose @ np.expand_dims(self.h_forward[t + 1], axis=0) + dy_transpose @ np.expand_dims(self.h_backward[t + 1], axis=0) # Salah\n",
    "            dW_y += dy_transpose @ np.expand_dims(np.concatenate([self.h_forward[t + 1], self.h_backward[t + 1][:self.hidden_size]]), axis=0) # Benar\n",
    "            db_y += dy_transpose\n",
    "            \n",
    "            # print(f'dc_forward: {dc_forward.shape}, self.gates_forward[t, 3]: {self.gates_forward[t, 3].shape}\\n')\n",
    "            dg_forward = dc_forward * self.gates_forward[t, 2] * tanh_derivative(self.gates_forward[t, 3])\n",
    "            dg_backward = dc_backward * self.gates_backward[t, 3]\n",
    "\n",
    "            dgates_forward = self.gates_forward[t]\n",
    "            # print(f'Shape dgates_forward[3]: {dgates_forward.shape}\\n')\n",
    "            # dg_forward_expanded = np.expand_dims(dg_forward, axis=0)\n",
    "            dgated = dg_forward * tanh_derivative(dgates_forward[3])\n",
    "            # print(f'tanh_derivative Shape: {dgated.shape}\\n')\n",
    "            # print(f'Shape dg_forward : {dg_forward.shape}')\n",
    "            dgates_forward[3][:self.hidden_size] = np.sum(dg_forward[:self.hidden_size] * tanh_derivative(dgates_forward[3])[:self.hidden_size], axis=1) # Error disini\n",
    "            dgates_forward[0][:self.hidden_size] = np.sum(dc_forward[:self.hidden_size] * self.gates_forward[t, 0], axis=1)\n",
    "            dgates_forward[1][:self.hidden_size] = np.sum(dc_forward[:self.hidden_size] * self.c_forward[t], axis=1)\n",
    "            dgates_forward[2][:self.hidden_size] = np.sum(dh_forward[:self.hidden_size] * tanh(self.c_forward[t + 1]) * sigmoid_derivative(dgates_forward[2]), axis=1)\n",
    "\n",
    "            dgates_backward = self.gates_backward[t]\n",
    "            dgates_backward[3][:self.hidden_size] = np.sum(dg_backward[:self.hidden_size] * tanh_derivative(dgates_backward[3]))\n",
    "            dgates_backward[0][:self.hidden_size] = np.sum(dc_backward[:self.hidden_size] * self.gates_backward[t, 0])\n",
    "            dgates_backward[1][:self.hidden_size] = np.sum(dc_backward[:self.hidden_size] * self.c_backward[t])\n",
    "            dgates_backward[2][:self.hidden_size] = np.sum(dh_backward[:self.hidden_size] * tanh(self.c_backward[t + 1]) * sigmoid_derivative(dgates_backward[2]))\n",
    "            \n",
    "            x_transpose = np.array([x[t]])\n",
    "            dgates_transpose_forward_0 = np.array([dgates_forward[0]])\n",
    "            dgates_transpose_forward_1 = np.array([dgates_forward[1]])\n",
    "            dgates_transpose_forward_2 = np.array([dgates_forward[2]])\n",
    "            dgates_transpose_forward_3 = np.array([dgates_forward[3]])\n",
    "\n",
    "            dgates_transpose_backward_0 = np.array([dgates_backward[0]])\n",
    "            dgates_transpose_backward_1 = np.array([dgates_backward[1]])\n",
    "            dgates_transpose_backward_2 = np.array([dgates_backward[2]])\n",
    "            dgates_transpose_backward_3 = np.array([dgates_backward[3]])\n",
    "            \n",
    "            dW_i += dgates_transpose_forward_0.T @ x_transpose + dgates_transpose_backward_0.T @ x_transpose\n",
    "            dU_i += dgates_forward[0] @ self.h_forward[t].T + dgates_backward[0] @ self.h_backward[t].T\n",
    "            db_i += dgates_transpose_forward_0.T + dgates_transpose_backward_0.T\n",
    "            \n",
    "            dW_f += dgates_transpose_forward_1.T @ x_transpose + dgates_transpose_backward_1.T @ x_transpose # Error disini\n",
    "            dU_f += dgates_forward[1] @ self.h_forward[t].T + dgates_backward[1] @ self.h_backward[t].T\n",
    "            db_f += dgates_transpose_forward_1.T + dgates_transpose_backward_1.T\n",
    "            \n",
    "            dW_o += dgates_transpose_forward_2.T @ x_transpose + dgates_transpose_backward_2.T @ x_transpose\n",
    "            dU_o += dgates_forward[2] @ self.h_forward[t].T + dgates_backward[2] @ self.h_backward[t].T\n",
    "            db_o += dgates_transpose_forward_2.T + dgates_transpose_backward_2.T\n",
    "            \n",
    "            dW_c += dgates_transpose_forward_3.T @ x_transpose + dgates_transpose_backward_3.T @ x_transpose\n",
    "            dU_c += dgates_forward[3] @ self.h_forward[t].T + dgates_backward[3] @ self.h_backward[t].T\n",
    "            db_c += dgates_transpose_forward_3.T + dgates_transpose_backward_3.T\n",
    "            \n",
    "            dh_next = self.U_i.T @ dgates_forward[0] + self.U_f.T @ dgates_forward[1] + self.U_o.T @ dgates_forward[2] + self.U_c.T @ dgates_forward[3]\n",
    "            dc_next = dc_forward * self.gates_forward[t, 1]\n",
    "        \n",
    "        for param in [dW_i, dU_i, db_i, dW_f, dU_f, db_f, dW_o, dU_o, db_o, dW_c, dU_c, db_c, dW_y, db_y]:\n",
    "            np.clip(param, -1, 1, out=param)\n",
    "        \n",
    "        self.W_i -= learning_rate * dW_i\n",
    "        self.U_i -= learning_rate * dU_i\n",
    "        self.b_i -= learning_rate * db_i\n",
    "        \n",
    "        self.W_f -= learning_rate * dW_f\n",
    "        self.U_f -= learning_rate * dU_f\n",
    "        self.b_f -= learning_rate * db_f\n",
    "        \n",
    "        self.W_o -= learning_rate * dW_o\n",
    "        self.U_o -= learning_rate * dU_o\n",
    "        self.b_o -= learning_rate * db_o\n",
    "        \n",
    "        self.W_c -= learning_rate * dW_c\n",
    "        self.U_c -= learning_rate * dU_c\n",
    "        self.b_c -= learning_rate * db_c\n",
    "        \n",
    "        self.W_y -= learning_rate * dW_y\n",
    "        self.b_y -= learning_rate * db_y"
   ]
  }
 ],
 "metadata": {
  "kernelspec": {
   "display_name": "Python 3",
   "language": "python",
   "name": "python3"
  },
  "language_info": {
   "codemirror_mode": {
    "name": "ipython",
    "version": 3
   },
   "file_extension": ".py",
   "mimetype": "text/x-python",
   "name": "python",
   "nbconvert_exporter": "python",
   "pygments_lexer": "ipython3",
   "version": "3.9.7"
  },
  "orig_nbformat": 4
 },
 "nbformat": 4,
 "nbformat_minor": 2
}
