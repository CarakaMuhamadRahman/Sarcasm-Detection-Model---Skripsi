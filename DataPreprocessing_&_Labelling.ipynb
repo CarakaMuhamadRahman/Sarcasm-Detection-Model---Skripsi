{
 "cells": [
  {
   "cell_type": "code",
   "execution_count": 1,
   "metadata": {},
   "outputs": [],
   "source": [
    "import pandas as pd\n",
    "\n",
    "df_caknun = pd.read_excel('Datasets+Emoji/Done/Datasets_Caknun.xlsx')\n",
    "df_anies = pd.read_excel('Datasets+Emoji/Done/Datasets_Anies.xlsx')\n",
    "df_puan = pd.read_excel('Datasets+Emoji/Done/Datasets_Puan.xlsx')\n",
    "df_luhut = pd.read_excel('Datasets+Emoji/Done/Datasets_Luhut.xlsx')\n",
    "df_ganjar = pd.read_excel('Datasets+Emoji/Done/Datasets_Ganjar.xlsx')\n",
    "df_republik = pd.read_excel('Datasets+Emoji/Done/Datasets_RepublikPencitraan.xlsx')\n",
    "df_politik = pd.read_excel('Datasets+Emoji/Done/Datasets_Politik.xlsx')"
   ]
  },
  {
   "cell_type": "code",
   "execution_count": 2,
   "metadata": {},
   "outputs": [
    {
     "name": "stdout",
     "output_type": "stream",
     "text": [
      "<class 'pandas.core.frame.DataFrame'>\n",
      "RangeIndex: 888 entries, 0 to 887\n",
      "Data columns (total 5 columns):\n",
      " #   Column        Non-Null Count  Dtype \n",
      "---  ------        --------------  ----- \n",
      " 0   Unnamed: 0.1  888 non-null    int64 \n",
      " 1   Unnamed: 0    888 non-null    int64 \n",
      " 2   Username      888 non-null    object\n",
      " 3   Label         888 non-null    int64 \n",
      " 4   Text          888 non-null    object\n",
      "dtypes: int64(3), object(2)\n",
      "memory usage: 34.8+ KB\n"
     ]
    },
    {
     "data": {
      "text/html": [
       "<div>\n",
       "<style scoped>\n",
       "    .dataframe tbody tr th:only-of-type {\n",
       "        vertical-align: middle;\n",
       "    }\n",
       "\n",
       "    .dataframe tbody tr th {\n",
       "        vertical-align: top;\n",
       "    }\n",
       "\n",
       "    .dataframe thead th {\n",
       "        text-align: right;\n",
       "    }\n",
       "</style>\n",
       "<table border=\"1\" class=\"dataframe\">\n",
       "  <thead>\n",
       "    <tr style=\"text-align: right;\">\n",
       "      <th></th>\n",
       "      <th>Unnamed: 0.1</th>\n",
       "      <th>Unnamed: 0</th>\n",
       "      <th>Username</th>\n",
       "      <th>Label</th>\n",
       "      <th>Text</th>\n",
       "    </tr>\n",
       "  </thead>\n",
       "  <tbody>\n",
       "    <tr>\n",
       "      <th>0</th>\n",
       "      <td>0</td>\n",
       "      <td>0</td>\n",
       "      <td>ruangmaiyah</td>\n",
       "      <td>0</td>\n",
       "      <td>Bukankah hanya pada saat mencemooh, putus asa,...</td>\n",
       "    </tr>\n",
       "    <tr>\n",
       "      <th>1</th>\n",
       "      <td>1</td>\n",
       "      <td>2</td>\n",
       "      <td>ruangmaiyah</td>\n",
       "      <td>0</td>\n",
       "      <td>Toh jagat di luar dan jagat di dalam sama saja...</td>\n",
       "    </tr>\n",
       "    <tr>\n",
       "      <th>2</th>\n",
       "      <td>2</td>\n",
       "      <td>3</td>\n",
       "      <td>diyoex</td>\n",
       "      <td>0</td>\n",
       "      <td>Mbah nun @caknundotcom \\n\\nPOLITISI Kubu 01:\\n...</td>\n",
       "    </tr>\n",
       "    <tr>\n",
       "      <th>3</th>\n",
       "      <td>3</td>\n",
       "      <td>4</td>\n",
       "      <td>diyoex</td>\n",
       "      <td>0</td>\n",
       "      <td>Mbah Nun @caknundotcom \\nS.B.Ydyo=J.K kubu 01:...</td>\n",
       "    </tr>\n",
       "    <tr>\n",
       "      <th>4</th>\n",
       "      <td>4</td>\n",
       "      <td>5</td>\n",
       "      <td>diyoex</td>\n",
       "      <td>0</td>\n",
       "      <td>Mbah nun @caknundotcom \\n\\nBANCI,KOMUNIS&amp;amp;S...</td>\n",
       "    </tr>\n",
       "  </tbody>\n",
       "</table>\n",
       "</div>"
      ],
      "text/plain": [
       "   Unnamed: 0.1  Unnamed: 0     Username  Label  \\\n",
       "0             0           0  ruangmaiyah      0   \n",
       "1             1           2  ruangmaiyah      0   \n",
       "2             2           3       diyoex      0   \n",
       "3             3           4       diyoex      0   \n",
       "4             4           5       diyoex      0   \n",
       "\n",
       "                                                Text  \n",
       "0  Bukankah hanya pada saat mencemooh, putus asa,...  \n",
       "1  Toh jagat di luar dan jagat di dalam sama saja...  \n",
       "2  Mbah nun @caknundotcom \\n\\nPOLITISI Kubu 01:\\n...  \n",
       "3  Mbah Nun @caknundotcom \\nS.B.Ydyo=J.K kubu 01:...  \n",
       "4  Mbah nun @caknundotcom \\n\\nBANCI,KOMUNIS&amp;S...  "
      ]
     },
     "execution_count": 2,
     "metadata": {},
     "output_type": "execute_result"
    }
   ],
   "source": [
    "# Info DataFrame CakNun\n",
    "df_caknun.info()\n",
    "df_caknun.head()"
   ]
  },
  {
   "cell_type": "code",
   "execution_count": 3,
   "metadata": {},
   "outputs": [
    {
     "name": "stdout",
     "output_type": "stream",
     "text": [
      "<class 'pandas.core.frame.DataFrame'>\n",
      "RangeIndex: 873 entries, 0 to 872\n",
      "Data columns (total 5 columns):\n",
      " #   Column        Non-Null Count  Dtype \n",
      "---  ------        --------------  ----- \n",
      " 0   Unnamed: 0.1  873 non-null    int64 \n",
      " 1   Unnamed: 0    873 non-null    int64 \n",
      " 2   Username      873 non-null    object\n",
      " 3   Label         873 non-null    int64 \n",
      " 4   Text          873 non-null    object\n",
      "dtypes: int64(3), object(2)\n",
      "memory usage: 34.2+ KB\n"
     ]
    },
    {
     "data": {
      "text/html": [
       "<div>\n",
       "<style scoped>\n",
       "    .dataframe tbody tr th:only-of-type {\n",
       "        vertical-align: middle;\n",
       "    }\n",
       "\n",
       "    .dataframe tbody tr th {\n",
       "        vertical-align: top;\n",
       "    }\n",
       "\n",
       "    .dataframe thead th {\n",
       "        text-align: right;\n",
       "    }\n",
       "</style>\n",
       "<table border=\"1\" class=\"dataframe\">\n",
       "  <thead>\n",
       "    <tr style=\"text-align: right;\">\n",
       "      <th></th>\n",
       "      <th>Unnamed: 0.1</th>\n",
       "      <th>Unnamed: 0</th>\n",
       "      <th>Username</th>\n",
       "      <th>Label</th>\n",
       "      <th>Text</th>\n",
       "    </tr>\n",
       "  </thead>\n",
       "  <tbody>\n",
       "    <tr>\n",
       "      <th>0</th>\n",
       "      <td>0</td>\n",
       "      <td>0</td>\n",
       "      <td>JessicaNeo4</td>\n",
       "      <td>1</td>\n",
       "      <td>@aniesbaswedan prettttt,gagasan mulu yg dibaha...</td>\n",
       "    </tr>\n",
       "    <tr>\n",
       "      <th>1</th>\n",
       "      <td>1</td>\n",
       "      <td>1</td>\n",
       "      <td>masheru95159275</td>\n",
       "      <td>0</td>\n",
       "      <td>@Wiji_kedua @aniesbaswedan Pemborosan \\nBangun...</td>\n",
       "    </tr>\n",
       "    <tr>\n",
       "      <th>2</th>\n",
       "      <td>2</td>\n",
       "      <td>3</td>\n",
       "      <td>Alfito70427950</td>\n",
       "      <td>0</td>\n",
       "      <td>@tvOneNews Alhamdulillah.... Segala Puji bagiM...</td>\n",
       "    </tr>\n",
       "    <tr>\n",
       "      <th>3</th>\n",
       "      <td>3</td>\n",
       "      <td>4</td>\n",
       "      <td>Anskan7</td>\n",
       "      <td>0</td>\n",
       "      <td>Dear @Relawananies kebanyakan ngedabol, pergi ...</td>\n",
       "    </tr>\n",
       "    <tr>\n",
       "      <th>4</th>\n",
       "      <td>4</td>\n",
       "      <td>5</td>\n",
       "      <td>masheru95159275</td>\n",
       "      <td>0</td>\n",
       "      <td>@StefanAntonio__ @aniesbaswedan Bukan pemimpin...</td>\n",
       "    </tr>\n",
       "  </tbody>\n",
       "</table>\n",
       "</div>"
      ],
      "text/plain": [
       "   Unnamed: 0.1  Unnamed: 0         Username  Label  \\\n",
       "0             0           0      JessicaNeo4      1   \n",
       "1             1           1  masheru95159275      0   \n",
       "2             2           3   Alfito70427950      0   \n",
       "3             3           4          Anskan7      0   \n",
       "4             4           5  masheru95159275      0   \n",
       "\n",
       "                                                Text  \n",
       "0  @aniesbaswedan prettttt,gagasan mulu yg dibaha...  \n",
       "1  @Wiji_kedua @aniesbaswedan Pemborosan \\nBangun...  \n",
       "2  @tvOneNews Alhamdulillah.... Segala Puji bagiM...  \n",
       "3  Dear @Relawananies kebanyakan ngedabol, pergi ...  \n",
       "4  @StefanAntonio__ @aniesbaswedan Bukan pemimpin...  "
      ]
     },
     "execution_count": 3,
     "metadata": {},
     "output_type": "execute_result"
    }
   ],
   "source": [
    "# Info DataFrame Anies\n",
    "df_anies.info()\n",
    "df_anies.head()"
   ]
  },
  {
   "cell_type": "code",
   "execution_count": 4,
   "metadata": {},
   "outputs": [
    {
     "name": "stdout",
     "output_type": "stream",
     "text": [
      "<class 'pandas.core.frame.DataFrame'>\n",
      "RangeIndex: 951 entries, 0 to 950\n",
      "Data columns (total 5 columns):\n",
      " #   Column        Non-Null Count  Dtype \n",
      "---  ------        --------------  ----- \n",
      " 0   Unnamed: 0.1  951 non-null    int64 \n",
      " 1   Unnamed: 0    951 non-null    int64 \n",
      " 2   Username      951 non-null    object\n",
      " 3   Label         951 non-null    int64 \n",
      " 4   Text          951 non-null    object\n",
      "dtypes: int64(3), object(2)\n",
      "memory usage: 37.3+ KB\n"
     ]
    },
    {
     "data": {
      "text/html": [
       "<div>\n",
       "<style scoped>\n",
       "    .dataframe tbody tr th:only-of-type {\n",
       "        vertical-align: middle;\n",
       "    }\n",
       "\n",
       "    .dataframe tbody tr th {\n",
       "        vertical-align: top;\n",
       "    }\n",
       "\n",
       "    .dataframe thead th {\n",
       "        text-align: right;\n",
       "    }\n",
       "</style>\n",
       "<table border=\"1\" class=\"dataframe\">\n",
       "  <thead>\n",
       "    <tr style=\"text-align: right;\">\n",
       "      <th></th>\n",
       "      <th>Unnamed: 0.1</th>\n",
       "      <th>Unnamed: 0</th>\n",
       "      <th>Username</th>\n",
       "      <th>Label</th>\n",
       "      <th>Text</th>\n",
       "    </tr>\n",
       "  </thead>\n",
       "  <tbody>\n",
       "    <tr>\n",
       "      <th>0</th>\n",
       "      <td>0</td>\n",
       "      <td>0</td>\n",
       "      <td>Ajuansyah_putra</td>\n",
       "      <td>0</td>\n",
       "      <td>Kemarin ada yg lempar - lempar kaos sambil mas...</td>\n",
       "    </tr>\n",
       "    <tr>\n",
       "      <th>1</th>\n",
       "      <td>1</td>\n",
       "      <td>1</td>\n",
       "      <td>ikhsannawawii</td>\n",
       "      <td>0</td>\n",
       "      <td>@KompasTV Ga perduli penjelasanmuuuu puan, mem...</td>\n",
       "    </tr>\n",
       "    <tr>\n",
       "      <th>2</th>\n",
       "      <td>2</td>\n",
       "      <td>2</td>\n",
       "      <td>rony_jossaman</td>\n",
       "      <td>0</td>\n",
       "      <td>@A9NiniGramercy @BosPurwa @puanmaharani_ri @ca...</td>\n",
       "    </tr>\n",
       "    <tr>\n",
       "      <th>3</th>\n",
       "      <td>3</td>\n",
       "      <td>5</td>\n",
       "      <td>Pakamkalam</td>\n",
       "      <td>0</td>\n",
       "      <td>@cuanmaharani_ri @aniesbaswedan @puanmaharani_...</td>\n",
       "    </tr>\n",
       "    <tr>\n",
       "      <th>4</th>\n",
       "      <td>4</td>\n",
       "      <td>6</td>\n",
       "      <td>ynrvvib</td>\n",
       "      <td>0</td>\n",
       "      <td>@ardianpancaa @puanmaharani_ri gak dibrief 💯</td>\n",
       "    </tr>\n",
       "  </tbody>\n",
       "</table>\n",
       "</div>"
      ],
      "text/plain": [
       "   Unnamed: 0.1  Unnamed: 0         Username  Label  \\\n",
       "0             0           0  Ajuansyah_putra      0   \n",
       "1             1           1    ikhsannawawii      0   \n",
       "2             2           2    rony_jossaman      0   \n",
       "3             3           5       Pakamkalam      0   \n",
       "4             4           6          ynrvvib      0   \n",
       "\n",
       "                                                Text  \n",
       "0  Kemarin ada yg lempar - lempar kaos sambil mas...  \n",
       "1  @KompasTV Ga perduli penjelasanmuuuu puan, mem...  \n",
       "2  @A9NiniGramercy @BosPurwa @puanmaharani_ri @ca...  \n",
       "3  @cuanmaharani_ri @aniesbaswedan @puanmaharani_...  \n",
       "4       @ardianpancaa @puanmaharani_ri gak dibrief 💯  "
      ]
     },
     "execution_count": 4,
     "metadata": {},
     "output_type": "execute_result"
    }
   ],
   "source": [
    "# Info DataFrame Puan\n",
    "df_puan.info()\n",
    "df_puan.head()"
   ]
  },
  {
   "cell_type": "code",
   "execution_count": 5,
   "metadata": {},
   "outputs": [
    {
     "name": "stdout",
     "output_type": "stream",
     "text": [
      "<class 'pandas.core.frame.DataFrame'>\n",
      "RangeIndex: 914 entries, 0 to 913\n",
      "Data columns (total 5 columns):\n",
      " #   Column        Non-Null Count  Dtype \n",
      "---  ------        --------------  ----- \n",
      " 0   Unnamed: 0.1  914 non-null    int64 \n",
      " 1   Unnamed: 0    914 non-null    int64 \n",
      " 2   Username      914 non-null    object\n",
      " 3   Label         914 non-null    int64 \n",
      " 4   Text          914 non-null    object\n",
      "dtypes: int64(3), object(2)\n",
      "memory usage: 35.8+ KB\n"
     ]
    },
    {
     "data": {
      "text/html": [
       "<div>\n",
       "<style scoped>\n",
       "    .dataframe tbody tr th:only-of-type {\n",
       "        vertical-align: middle;\n",
       "    }\n",
       "\n",
       "    .dataframe tbody tr th {\n",
       "        vertical-align: top;\n",
       "    }\n",
       "\n",
       "    .dataframe thead th {\n",
       "        text-align: right;\n",
       "    }\n",
       "</style>\n",
       "<table border=\"1\" class=\"dataframe\">\n",
       "  <thead>\n",
       "    <tr style=\"text-align: right;\">\n",
       "      <th></th>\n",
       "      <th>Unnamed: 0.1</th>\n",
       "      <th>Unnamed: 0</th>\n",
       "      <th>Username</th>\n",
       "      <th>Label</th>\n",
       "      <th>Text</th>\n",
       "    </tr>\n",
       "  </thead>\n",
       "  <tbody>\n",
       "    <tr>\n",
       "      <th>0</th>\n",
       "      <td>0</td>\n",
       "      <td>0</td>\n",
       "      <td>ahimcakep</td>\n",
       "      <td>0</td>\n",
       "      <td>#JokowiGasPolKetahananEnergi\\nMenko km opung L...</td>\n",
       "    </tr>\n",
       "    <tr>\n",
       "      <th>1</th>\n",
       "      <td>1</td>\n",
       "      <td>1</td>\n",
       "      <td>Anadi_CR</td>\n",
       "      <td>0</td>\n",
       "      <td>Ingat kata pak luhut binsar panjaitan LBP\\n\\nM...</td>\n",
       "    </tr>\n",
       "    <tr>\n",
       "      <th>2</th>\n",
       "      <td>2</td>\n",
       "      <td>2</td>\n",
       "      <td>TheUncleDee</td>\n",
       "      <td>0</td>\n",
       "      <td>@biacho6688992 Kalau yg kasih perintah Luhut B...</td>\n",
       "    </tr>\n",
       "    <tr>\n",
       "      <th>3</th>\n",
       "      <td>3</td>\n",
       "      <td>3</td>\n",
       "      <td>TheUncleDee</td>\n",
       "      <td>0</td>\n",
       "      <td>Daripada harus melawan perintah Luhut Binsar P...</td>\n",
       "    </tr>\n",
       "    <tr>\n",
       "      <th>4</th>\n",
       "      <td>4</td>\n",
       "      <td>4</td>\n",
       "      <td>qwrtpsdfgh</td>\n",
       "      <td>0</td>\n",
       "      <td>@geloraco Hei Luhut Binsar Panjaitan.\\nTolong ...</td>\n",
       "    </tr>\n",
       "  </tbody>\n",
       "</table>\n",
       "</div>"
      ],
      "text/plain": [
       "   Unnamed: 0.1  Unnamed: 0     Username  Label  \\\n",
       "0             0           0    ahimcakep      0   \n",
       "1             1           1     Anadi_CR      0   \n",
       "2             2           2  TheUncleDee      0   \n",
       "3             3           3  TheUncleDee      0   \n",
       "4             4           4   qwrtpsdfgh      0   \n",
       "\n",
       "                                                Text  \n",
       "0  #JokowiGasPolKetahananEnergi\\nMenko km opung L...  \n",
       "1  Ingat kata pak luhut binsar panjaitan LBP\\n\\nM...  \n",
       "2  @biacho6688992 Kalau yg kasih perintah Luhut B...  \n",
       "3  Daripada harus melawan perintah Luhut Binsar P...  \n",
       "4  @geloraco Hei Luhut Binsar Panjaitan.\\nTolong ...  "
      ]
     },
     "execution_count": 5,
     "metadata": {},
     "output_type": "execute_result"
    }
   ],
   "source": [
    "# Info DataFrame Luhut\n",
    "df_luhut.info()\n",
    "df_luhut.head()"
   ]
  },
  {
   "cell_type": "code",
   "execution_count": 6,
   "metadata": {},
   "outputs": [
    {
     "name": "stdout",
     "output_type": "stream",
     "text": [
      "<class 'pandas.core.frame.DataFrame'>\n",
      "RangeIndex: 935 entries, 0 to 934\n",
      "Data columns (total 5 columns):\n",
      " #   Column        Non-Null Count  Dtype \n",
      "---  ------        --------------  ----- \n",
      " 0   Unnamed: 0.1  935 non-null    int64 \n",
      " 1   Unnamed: 0    935 non-null    int64 \n",
      " 2   Username      935 non-null    object\n",
      " 3   Label         935 non-null    int64 \n",
      " 4   Text          935 non-null    object\n",
      "dtypes: int64(3), object(2)\n",
      "memory usage: 36.6+ KB\n"
     ]
    },
    {
     "data": {
      "text/html": [
       "<div>\n",
       "<style scoped>\n",
       "    .dataframe tbody tr th:only-of-type {\n",
       "        vertical-align: middle;\n",
       "    }\n",
       "\n",
       "    .dataframe tbody tr th {\n",
       "        vertical-align: top;\n",
       "    }\n",
       "\n",
       "    .dataframe thead th {\n",
       "        text-align: right;\n",
       "    }\n",
       "</style>\n",
       "<table border=\"1\" class=\"dataframe\">\n",
       "  <thead>\n",
       "    <tr style=\"text-align: right;\">\n",
       "      <th></th>\n",
       "      <th>Unnamed: 0.1</th>\n",
       "      <th>Unnamed: 0</th>\n",
       "      <th>Username</th>\n",
       "      <th>Label</th>\n",
       "      <th>Text</th>\n",
       "    </tr>\n",
       "  </thead>\n",
       "  <tbody>\n",
       "    <tr>\n",
       "      <th>0</th>\n",
       "      <td>0</td>\n",
       "      <td>1</td>\n",
       "      <td>nepriadi74</td>\n",
       "      <td>0</td>\n",
       "      <td>@Tita83079013 @ganjarpranowo Ini murni tentang...</td>\n",
       "    </tr>\n",
       "    <tr>\n",
       "      <th>1</th>\n",
       "      <td>1</td>\n",
       "      <td>2</td>\n",
       "      <td>mukiyo_smg</td>\n",
       "      <td>0</td>\n",
       "      <td>@ch_chotimah2 @ganjarpranowo Yang di kantongny...</td>\n",
       "    </tr>\n",
       "    <tr>\n",
       "      <th>2</th>\n",
       "      <td>2</td>\n",
       "      <td>3</td>\n",
       "      <td>JessicaNeo4</td>\n",
       "      <td>1</td>\n",
       "      <td>@Dony_YNWA @Gimichan1721 @budimandjatmiko @gan...</td>\n",
       "    </tr>\n",
       "    <tr>\n",
       "      <th>3</th>\n",
       "      <td>3</td>\n",
       "      <td>4</td>\n",
       "      <td>B4ngDm</td>\n",
       "      <td>0</td>\n",
       "      <td>Setuju Arahan Jokowi, Ganjar Pranowo Larang Pe...</td>\n",
       "    </tr>\n",
       "    <tr>\n",
       "      <th>4</th>\n",
       "      <td>4</td>\n",
       "      <td>5</td>\n",
       "      <td>JuhanaSesa</td>\n",
       "      <td>0</td>\n",
       "      <td>@ganjarpranowo SD q 1968  kadang pake sepatu k...</td>\n",
       "    </tr>\n",
       "  </tbody>\n",
       "</table>\n",
       "</div>"
      ],
      "text/plain": [
       "   Unnamed: 0.1  Unnamed: 0     Username  Label  \\\n",
       "0             0           1   nepriadi74      0   \n",
       "1             1           2   mukiyo_smg      0   \n",
       "2             2           3  JessicaNeo4      1   \n",
       "3             3           4       B4ngDm      0   \n",
       "4             4           5   JuhanaSesa      0   \n",
       "\n",
       "                                                Text  \n",
       "0  @Tita83079013 @ganjarpranowo Ini murni tentang...  \n",
       "1  @ch_chotimah2 @ganjarpranowo Yang di kantongny...  \n",
       "2  @Dony_YNWA @Gimichan1721 @budimandjatmiko @gan...  \n",
       "3  Setuju Arahan Jokowi, Ganjar Pranowo Larang Pe...  \n",
       "4  @ganjarpranowo SD q 1968  kadang pake sepatu k...  "
      ]
     },
     "execution_count": 6,
     "metadata": {},
     "output_type": "execute_result"
    }
   ],
   "source": [
    "# Info DataFrame Ganjar\n",
    "df_ganjar.info()\n",
    "df_ganjar.head()"
   ]
  },
  {
   "cell_type": "code",
   "execution_count": 7,
   "metadata": {},
   "outputs": [
    {
     "name": "stdout",
     "output_type": "stream",
     "text": [
      "<class 'pandas.core.frame.DataFrame'>\n",
      "RangeIndex: 820 entries, 0 to 819\n",
      "Data columns (total 5 columns):\n",
      " #   Column        Non-Null Count  Dtype \n",
      "---  ------        --------------  ----- \n",
      " 0   Unnamed: 0.1  820 non-null    int64 \n",
      " 1   Unnamed: 0    820 non-null    int64 \n",
      " 2   Username      820 non-null    object\n",
      " 3   Label         820 non-null    int64 \n",
      " 4   Text          820 non-null    object\n",
      "dtypes: int64(3), object(2)\n",
      "memory usage: 32.2+ KB\n"
     ]
    },
    {
     "data": {
      "text/html": [
       "<div>\n",
       "<style scoped>\n",
       "    .dataframe tbody tr th:only-of-type {\n",
       "        vertical-align: middle;\n",
       "    }\n",
       "\n",
       "    .dataframe tbody tr th {\n",
       "        vertical-align: top;\n",
       "    }\n",
       "\n",
       "    .dataframe thead th {\n",
       "        text-align: right;\n",
       "    }\n",
       "</style>\n",
       "<table border=\"1\" class=\"dataframe\">\n",
       "  <thead>\n",
       "    <tr style=\"text-align: right;\">\n",
       "      <th></th>\n",
       "      <th>Unnamed: 0.1</th>\n",
       "      <th>Unnamed: 0</th>\n",
       "      <th>Username</th>\n",
       "      <th>Label</th>\n",
       "      <th>Text</th>\n",
       "    </tr>\n",
       "  </thead>\n",
       "  <tbody>\n",
       "    <tr>\n",
       "      <th>0</th>\n",
       "      <td>0</td>\n",
       "      <td>0</td>\n",
       "      <td>ahmadjaijuli</td>\n",
       "      <td>0</td>\n",
       "      <td>Anak-anak Buzzing selamat lembur, awas pke mas...</td>\n",
       "    </tr>\n",
       "    <tr>\n",
       "      <th>1</th>\n",
       "      <td>1</td>\n",
       "      <td>2</td>\n",
       "      <td>kukuhnugraha22</td>\n",
       "      <td>0</td>\n",
       "      <td>Ulama dipersekusi tapi giliran duit umat langs...</td>\n",
       "    </tr>\n",
       "    <tr>\n",
       "      <th>2</th>\n",
       "      <td>2</td>\n",
       "      <td>3</td>\n",
       "      <td>Pejuang68406722</td>\n",
       "      <td>0</td>\n",
       "      <td>Tangkap ikan “kakap besar” di laut dangkal saj...</td>\n",
       "    </tr>\n",
       "    <tr>\n",
       "      <th>3</th>\n",
       "      <td>3</td>\n",
       "      <td>4</td>\n",
       "      <td>Pejuang68406722</td>\n",
       "      <td>0</td>\n",
       "      <td>Anak ibu pertiwi rat-rata pada teriak betapa s...</td>\n",
       "    </tr>\n",
       "    <tr>\n",
       "      <th>4</th>\n",
       "      <td>4</td>\n",
       "      <td>5</td>\n",
       "      <td>Pejuang68406722</td>\n",
       "      <td>0</td>\n",
       "      <td>Harus di usut, kalo rakyat ramai\" ramai mengus...</td>\n",
       "    </tr>\n",
       "  </tbody>\n",
       "</table>\n",
       "</div>"
      ],
      "text/plain": [
       "   Unnamed: 0.1  Unnamed: 0         Username  Label  \\\n",
       "0             0           0     ahmadjaijuli      0   \n",
       "1             1           2   kukuhnugraha22      0   \n",
       "2             2           3  Pejuang68406722      0   \n",
       "3             3           4  Pejuang68406722      0   \n",
       "4             4           5  Pejuang68406722      0   \n",
       "\n",
       "                                                Text  \n",
       "0  Anak-anak Buzzing selamat lembur, awas pke mas...  \n",
       "1  Ulama dipersekusi tapi giliran duit umat langs...  \n",
       "2  Tangkap ikan “kakap besar” di laut dangkal saj...  \n",
       "3  Anak ibu pertiwi rat-rata pada teriak betapa s...  \n",
       "4  Harus di usut, kalo rakyat ramai\" ramai mengus...  "
      ]
     },
     "execution_count": 7,
     "metadata": {},
     "output_type": "execute_result"
    }
   ],
   "source": [
    "# Info DataFrame Republik\n",
    "df_republik.info()\n",
    "df_republik.head()"
   ]
  },
  {
   "cell_type": "code",
   "execution_count": 8,
   "metadata": {},
   "outputs": [
    {
     "name": "stdout",
     "output_type": "stream",
     "text": [
      "<class 'pandas.core.frame.DataFrame'>\n",
      "RangeIndex: 1039 entries, 0 to 1038\n",
      "Data columns (total 5 columns):\n",
      " #   Column      Non-Null Count  Dtype \n",
      "---  ------      --------------  ----- \n",
      " 0   Unnamed: 0  1039 non-null   int64 \n",
      " 1   From-User   1038 non-null   object\n",
      " 2   Sentimen    1039 non-null   object\n",
      " 3   Sarkas      418 non-null    object\n",
      " 4   Text        1039 non-null   object\n",
      "dtypes: int64(1), object(4)\n",
      "memory usage: 40.7+ KB\n"
     ]
    },
    {
     "data": {
      "text/html": [
       "<div>\n",
       "<style scoped>\n",
       "    .dataframe tbody tr th:only-of-type {\n",
       "        vertical-align: middle;\n",
       "    }\n",
       "\n",
       "    .dataframe tbody tr th {\n",
       "        vertical-align: top;\n",
       "    }\n",
       "\n",
       "    .dataframe thead th {\n",
       "        text-align: right;\n",
       "    }\n",
       "</style>\n",
       "<table border=\"1\" class=\"dataframe\">\n",
       "  <thead>\n",
       "    <tr style=\"text-align: right;\">\n",
       "      <th></th>\n",
       "      <th>Unnamed: 0</th>\n",
       "      <th>From-User</th>\n",
       "      <th>Sentimen</th>\n",
       "      <th>Sarkas</th>\n",
       "      <th>Text</th>\n",
       "    </tr>\n",
       "  </thead>\n",
       "  <tbody>\n",
       "    <tr>\n",
       "      <th>0</th>\n",
       "      <td>0</td>\n",
       "      <td>Muhri Zayyin</td>\n",
       "      <td>Positif</td>\n",
       "      <td>Sarkas</td>\n",
       "      <td>Kawan2 sunda harusnya bersatu jemput Arteria d...</td>\n",
       "    </tr>\n",
       "    <tr>\n",
       "      <th>1</th>\n",
       "      <td>1</td>\n",
       "      <td>Sudarsono Darsono</td>\n",
       "      <td>Negatif</td>\n",
       "      <td>NaN</td>\n",
       "      <td>Arogan dan tidak kapok2 Arteria Dahlan ini 😁</td>\n",
       "    </tr>\n",
       "    <tr>\n",
       "      <th>2</th>\n",
       "      <td>2</td>\n",
       "      <td>Ni_Di_Indonesia????</td>\n",
       "      <td>Negatif</td>\n",
       "      <td>NaN</td>\n",
       "      <td>Arteria Dahlan bisa juga dong disidang adat Su...</td>\n",
       "    </tr>\n",
       "    <tr>\n",
       "      <th>3</th>\n",
       "      <td>3</td>\n",
       "      <td>Brigade Soeharto (Founder)</td>\n",
       "      <td>Negatif</td>\n",
       "      <td>NaN</td>\n",
       "      <td>Terus orang Sunda jemput Arteria Dahlan untuk ...</td>\n",
       "    </tr>\n",
       "    <tr>\n",
       "      <th>4</th>\n",
       "      <td>4</td>\n",
       "      <td>NKRI-HargaMati Mohu</td>\n",
       "      <td>Negatif</td>\n",
       "      <td>NaN</td>\n",
       "      <td>Ga usah dijelaskan atau ditafsirkan apalagi me...</td>\n",
       "    </tr>\n",
       "  </tbody>\n",
       "</table>\n",
       "</div>"
      ],
      "text/plain": [
       "   Unnamed: 0                   From-User Sentimen  Sarkas  \\\n",
       "0           0                Muhri Zayyin  Positif  Sarkas   \n",
       "1           1           Sudarsono Darsono  Negatif     NaN   \n",
       "2           2         Ni_Di_Indonesia????  Negatif     NaN   \n",
       "3           3  Brigade Soeharto (Founder)  Negatif     NaN   \n",
       "4           4         NKRI-HargaMati Mohu  Negatif     NaN   \n",
       "\n",
       "                                                Text  \n",
       "0  Kawan2 sunda harusnya bersatu jemput Arteria d...  \n",
       "1       Arogan dan tidak kapok2 Arteria Dahlan ini 😁  \n",
       "2  Arteria Dahlan bisa juga dong disidang adat Su...  \n",
       "3  Terus orang Sunda jemput Arteria Dahlan untuk ...  \n",
       "4  Ga usah dijelaskan atau ditafsirkan apalagi me...  "
      ]
     },
     "execution_count": 8,
     "metadata": {},
     "output_type": "execute_result"
    }
   ],
   "source": [
    "# Info DataFrame Politik\n",
    "df_politik.info()\n",
    "df_politik.head()"
   ]
  },
  {
   "cell_type": "code",
   "execution_count": 9,
   "metadata": {},
   "outputs": [],
   "source": [
    "# Remove Unused Feature / Column\n",
    "df_caknun = df_caknun.drop(columns='Unnamed: 0')\n",
    "df_caknun = df_caknun.drop(columns='Unnamed: 0.1')\n",
    "df_caknun = df_caknun.drop(columns='Username')\n",
    "df_caknun = df_caknun.drop(columns='Label')\n",
    "\n",
    "df_anies = df_anies.drop(columns='Unnamed: 0')\n",
    "df_anies = df_anies.drop(columns='Unnamed: 0.1')\n",
    "df_anies = df_anies.drop(columns='Username')\n",
    "df_anies = df_anies.drop(columns='Label')\n",
    "\n",
    "df_puan = df_puan.drop(columns='Unnamed: 0')\n",
    "df_puan = df_puan.drop(columns='Unnamed: 0.1')\n",
    "df_puan = df_puan.drop(columns='Username')\n",
    "df_puan = df_puan.drop(columns='Label')\n",
    "\n",
    "df_luhut = df_luhut.drop(columns='Unnamed: 0')\n",
    "df_luhut = df_luhut.drop(columns='Unnamed: 0.1')\n",
    "df_luhut = df_luhut.drop(columns='Username')\n",
    "df_luhut = df_luhut.drop(columns='Label')\n",
    "\n",
    "df_ganjar = df_ganjar.drop(columns='Unnamed: 0')\n",
    "df_ganjar = df_ganjar.drop(columns='Unnamed: 0.1')\n",
    "df_ganjar = df_ganjar.drop(columns='Username')\n",
    "df_ganjar = df_ganjar.drop(columns='Label')\n",
    "\n",
    "df_republik = df_republik.drop(columns='Unnamed: 0')\n",
    "df_republik = df_republik.drop(columns='Unnamed: 0.1')\n",
    "df_republik = df_republik.drop(columns='Username')\n",
    "df_republik = df_republik.drop(columns='Label')\n",
    "\n",
    "df_politik = df_politik.drop(columns='Unnamed: 0')\n",
    "df_politik = df_politik.drop(columns='From-User')\n",
    "df_politik = df_politik.drop(columns='Sentimen')\n",
    "df_politik = df_politik.drop(columns='Sarkas')"
   ]
  },
  {
   "cell_type": "code",
   "execution_count": 10,
   "metadata": {},
   "outputs": [
    {
     "name": "stdout",
     "output_type": "stream",
     "text": [
      "<class 'pandas.core.frame.DataFrame'>\n",
      "RangeIndex: 1039 entries, 0 to 1038\n",
      "Data columns (total 1 columns):\n",
      " #   Column  Non-Null Count  Dtype \n",
      "---  ------  --------------  ----- \n",
      " 0   Text    1039 non-null   object\n",
      "dtypes: object(1)\n",
      "memory usage: 8.2+ KB\n"
     ]
    }
   ],
   "source": [
    "df_politik.info()"
   ]
  },
  {
   "cell_type": "code",
   "execution_count": 11,
   "metadata": {},
   "outputs": [
    {
     "name": "stdout",
     "output_type": "stream",
     "text": [
      "<class 'pandas.core.frame.DataFrame'>\n",
      "RangeIndex: 888 entries, 0 to 887\n",
      "Data columns (total 1 columns):\n",
      " #   Column  Non-Null Count  Dtype \n",
      "---  ------  --------------  ----- \n",
      " 0   Text    888 non-null    object\n",
      "dtypes: object(1)\n",
      "memory usage: 7.1+ KB\n"
     ]
    }
   ],
   "source": [
    "df_caknun.info()"
   ]
  },
  {
   "cell_type": "code",
   "execution_count": 12,
   "metadata": {},
   "outputs": [
    {
     "name": "stdout",
     "output_type": "stream",
     "text": [
      "<class 'pandas.core.frame.DataFrame'>\n",
      "RangeIndex: 873 entries, 0 to 872\n",
      "Data columns (total 1 columns):\n",
      " #   Column  Non-Null Count  Dtype \n",
      "---  ------  --------------  ----- \n",
      " 0   Text    873 non-null    object\n",
      "dtypes: object(1)\n",
      "memory usage: 6.9+ KB\n"
     ]
    }
   ],
   "source": [
    "df_anies.info()"
   ]
  },
  {
   "cell_type": "code",
   "execution_count": 13,
   "metadata": {},
   "outputs": [
    {
     "name": "stdout",
     "output_type": "stream",
     "text": [
      "<class 'pandas.core.frame.DataFrame'>\n",
      "RangeIndex: 951 entries, 0 to 950\n",
      "Data columns (total 1 columns):\n",
      " #   Column  Non-Null Count  Dtype \n",
      "---  ------  --------------  ----- \n",
      " 0   Text    951 non-null    object\n",
      "dtypes: object(1)\n",
      "memory usage: 7.6+ KB\n"
     ]
    }
   ],
   "source": [
    "df_puan.info()"
   ]
  },
  {
   "cell_type": "code",
   "execution_count": 14,
   "metadata": {},
   "outputs": [
    {
     "name": "stdout",
     "output_type": "stream",
     "text": [
      "<class 'pandas.core.frame.DataFrame'>\n",
      "RangeIndex: 914 entries, 0 to 913\n",
      "Data columns (total 1 columns):\n",
      " #   Column  Non-Null Count  Dtype \n",
      "---  ------  --------------  ----- \n",
      " 0   Text    914 non-null    object\n",
      "dtypes: object(1)\n",
      "memory usage: 7.3+ KB\n"
     ]
    }
   ],
   "source": [
    "df_luhut.info()"
   ]
  },
  {
   "cell_type": "code",
   "execution_count": 15,
   "metadata": {},
   "outputs": [
    {
     "name": "stdout",
     "output_type": "stream",
     "text": [
      "<class 'pandas.core.frame.DataFrame'>\n",
      "RangeIndex: 935 entries, 0 to 934\n",
      "Data columns (total 1 columns):\n",
      " #   Column  Non-Null Count  Dtype \n",
      "---  ------  --------------  ----- \n",
      " 0   Text    935 non-null    object\n",
      "dtypes: object(1)\n",
      "memory usage: 7.4+ KB\n"
     ]
    }
   ],
   "source": [
    "df_ganjar.info()"
   ]
  },
  {
   "cell_type": "code",
   "execution_count": 16,
   "metadata": {},
   "outputs": [
    {
     "name": "stdout",
     "output_type": "stream",
     "text": [
      "<class 'pandas.core.frame.DataFrame'>\n",
      "RangeIndex: 820 entries, 0 to 819\n",
      "Data columns (total 1 columns):\n",
      " #   Column  Non-Null Count  Dtype \n",
      "---  ------  --------------  ----- \n",
      " 0   Text    820 non-null    object\n",
      "dtypes: object(1)\n",
      "memory usage: 6.5+ KB\n"
     ]
    }
   ],
   "source": [
    "df_republik.info()"
   ]
  },
  {
   "attachments": {},
   "cell_type": "markdown",
   "metadata": {},
   "source": [
    "<h1>DATA PREPROCESSING</h1>"
   ]
  },
  {
   "cell_type": "code",
   "execution_count": 17,
   "metadata": {},
   "outputs": [],
   "source": [
    "import regex as re\n",
    "from html import unescape\n",
    "import unicodedata"
   ]
  },
  {
   "attachments": {},
   "cell_type": "markdown",
   "metadata": {},
   "source": [
    "<h2>Convert Mathematical Alphanumeric Symbols to ASCII</h2>"
   ]
  },
  {
   "cell_type": "code",
   "execution_count": 18,
   "metadata": {},
   "outputs": [],
   "source": [
    "for i in range(len(df_caknun)):\n",
    "    df_caknun.loc[i, 'Text'] = unicodedata.normalize('NFKD', df_caknun.loc[i, 'Text'])\n",
    "\n",
    "\n",
    "for i in range(len(df_anies)):\n",
    "    df_anies.loc[i, 'Text'] = unicodedata.normalize('NFKD', df_anies.loc[i, 'Text'])\n",
    "\n",
    "\n",
    "for i in range(len(df_puan)):\n",
    "    df_puan.loc[i, 'Text'] = unicodedata.normalize('NFKD', df_puan.loc[i, 'Text'])\n",
    "\n",
    "\n",
    "for i in range(len(df_luhut)):\n",
    "    df_luhut.loc[i, 'Text'] = unicodedata.normalize('NFKD', df_luhut.loc[i, 'Text'])\n",
    "\n",
    "\n",
    "for i in range(len(df_ganjar)):\n",
    "    df_ganjar.loc[i, 'Text'] = unicodedata.normalize('NFKD', df_ganjar.loc[i, 'Text'])\n",
    "\n",
    "\n",
    "for i in range(len(df_republik)):\n",
    "    df_republik.loc[i, 'Text'] = unicodedata.normalize('NFKD', df_republik.loc[i, 'Text'])\n",
    "\n",
    "\n",
    "for i in range(len(df_politik)):\n",
    "    df_politik.loc[i, 'Text'] = unicodedata.normalize('NFKD', df_politik.loc[i, 'Text'])"
   ]
  },
  {
   "attachments": {},
   "cell_type": "markdown",
   "metadata": {},
   "source": [
    "<h2>Removing HTML Encoding</h2>"
   ]
  },
  {
   "cell_type": "code",
   "execution_count": 19,
   "metadata": {},
   "outputs": [],
   "source": [
    "def remove_htmlEncoding(text):\n",
    "    # Mengubah HTML entity menjadi karakter normal\n",
    "    text = unescape(text)\n",
    "\n",
    "    # Menghapus tag HTML\n",
    "    text = re.sub(r'<.*?>', ' ', text)\n",
    "\n",
    "    return text"
   ]
  },
  {
   "attachments": {},
   "cell_type": "markdown",
   "metadata": {},
   "source": [
    "<h3>Datasets CakNun</h3>"
   ]
  },
  {
   "cell_type": "code",
   "execution_count": 20,
   "metadata": {},
   "outputs": [],
   "source": [
    "df_caknun['Text'] = df_caknun['Text'].apply(remove_htmlEncoding)"
   ]
  },
  {
   "cell_type": "code",
   "execution_count": 21,
   "metadata": {},
   "outputs": [
    {
     "data": {
      "text/plain": [
       "0    Bukankah hanya pada saat mencemooh, putus asa,...\n",
       "1    Toh jagat di luar dan jagat di dalam sama saja...\n",
       "2    Mbah nun @caknundotcom \\n\\nPOLITISI Kubu 01:\\n...\n",
       "3    Mbah Nun @caknundotcom \\nS.B.Ydyo=J.K kubu 01:...\n",
       "4    Mbah nun @caknundotcom \\n\\nBANCI,KOMUNIS&SENGK...\n",
       "5    Mbah nun @caknundotcom \\n\\nBerLAGAK nDALANK\\n👉...\n",
       "Name: Text, dtype: object"
      ]
     },
     "execution_count": 21,
     "metadata": {},
     "output_type": "execute_result"
    }
   ],
   "source": [
    "df_caknun['Text'].head(6)"
   ]
  },
  {
   "attachments": {},
   "cell_type": "markdown",
   "metadata": {},
   "source": [
    "<h3>Datasets Anies</h3>"
   ]
  },
  {
   "cell_type": "code",
   "execution_count": 22,
   "metadata": {},
   "outputs": [],
   "source": [
    "df_anies['Text'] = df_anies['Text'].apply(remove_htmlEncoding)"
   ]
  },
  {
   "cell_type": "code",
   "execution_count": 23,
   "metadata": {},
   "outputs": [
    {
     "data": {
      "text/plain": [
       "0    @aniesbaswedan prettttt,gagasan mulu yg dibaha...\n",
       "1    @Wiji_kedua @aniesbaswedan Pemborosan \\nBangun...\n",
       "2    @tvOneNews Alhamdulillah.... Segala Puji bagiM...\n",
       "3    Dear @Relawananies kebanyakan ngedabol, pergi ...\n",
       "4    @StefanAntonio__ @aniesbaswedan Bukan pemimpin...\n",
       "5    Koalisi Perubahan Makin Solid, Anies Baswedan:...\n",
       "Name: Text, dtype: object"
      ]
     },
     "execution_count": 23,
     "metadata": {},
     "output_type": "execute_result"
    }
   ],
   "source": [
    "df_anies['Text'].head(6)"
   ]
  },
  {
   "attachments": {},
   "cell_type": "markdown",
   "metadata": {},
   "source": [
    "<h3>Datasets Puan</h3>"
   ]
  },
  {
   "cell_type": "code",
   "execution_count": 24,
   "metadata": {},
   "outputs": [],
   "source": [
    "df_puan['Text'] = df_puan['Text'].apply(remove_htmlEncoding)"
   ]
  },
  {
   "cell_type": "code",
   "execution_count": 25,
   "metadata": {},
   "outputs": [
    {
     "data": {
      "text/plain": [
       "0    Kemarin ada yg lempar - lempar kaos sambil mas...\n",
       "1    @KompasTV Ga perduli penjelasanmuuuu puan, mem...\n",
       "2    @A9NiniGramercy @BosPurwa @puanmaharani_ri @ca...\n",
       "3    @cuanmaharani_ri @aniesbaswedan @puanmaharani_...\n",
       "4         @ardianpancaa @puanmaharani_ri gak dibrief 💯\n",
       "5    @RositaPratiwi9 @puanmaharani_ri Presiden PDIP...\n",
       "Name: Text, dtype: object"
      ]
     },
     "execution_count": 25,
     "metadata": {},
     "output_type": "execute_result"
    }
   ],
   "source": [
    "df_puan['Text'].head(6)"
   ]
  },
  {
   "attachments": {},
   "cell_type": "markdown",
   "metadata": {},
   "source": [
    "<h3>Datasets Luhut</h3>"
   ]
  },
  {
   "cell_type": "code",
   "execution_count": 26,
   "metadata": {},
   "outputs": [],
   "source": [
    "df_luhut['Text'] = df_luhut['Text'].apply(remove_htmlEncoding)"
   ]
  },
  {
   "cell_type": "code",
   "execution_count": 27,
   "metadata": {},
   "outputs": [
    {
     "data": {
      "text/plain": [
       "0    #JokowiGasPolKetahananEnergi\\nMenko km opung L...\n",
       "1    Ingat kata pak luhut binsar panjaitan LBP\\n\\nM...\n",
       "2    @biacho6688992 Kalau yg kasih perintah Luhut B...\n",
       "3    Daripada harus melawan perintah Luhut Binsar P...\n",
       "4    @geloraco Hei Luhut Binsar Panjaitan.\\nTolong ...\n",
       "5    Baru nyadar Pak @jokowi kalau selama ini udah ...\n",
       "Name: Text, dtype: object"
      ]
     },
     "execution_count": 27,
     "metadata": {},
     "output_type": "execute_result"
    }
   ],
   "source": [
    "df_luhut['Text'].head(6)"
   ]
  },
  {
   "attachments": {},
   "cell_type": "markdown",
   "metadata": {},
   "source": [
    "<h3>Datasets Ganjar</h3>"
   ]
  },
  {
   "cell_type": "code",
   "execution_count": 28,
   "metadata": {},
   "outputs": [],
   "source": [
    "df_ganjar['Text'] = df_ganjar['Text'].apply(remove_htmlEncoding)"
   ]
  },
  {
   "cell_type": "code",
   "execution_count": 29,
   "metadata": {},
   "outputs": [
    {
     "data": {
      "text/plain": [
       "0    @Tita83079013 @ganjarpranowo Ini murni tentang...\n",
       "1    @ch_chotimah2 @ganjarpranowo Yang di kantongny...\n",
       "2    @Dony_YNWA @Gimichan1721 @budimandjatmiko @gan...\n",
       "3    Setuju Arahan Jokowi, Ganjar Pranowo Larang Pe...\n",
       "4    @ganjarpranowo SD q 1968  kadang pake sepatu k...\n",
       "5    @Tita83079013 @ganjarpranowo @PDI_Perjuangan M...\n",
       "Name: Text, dtype: object"
      ]
     },
     "execution_count": 29,
     "metadata": {},
     "output_type": "execute_result"
    }
   ],
   "source": [
    "df_ganjar['Text'].head(6)"
   ]
  },
  {
   "attachments": {},
   "cell_type": "markdown",
   "metadata": {},
   "source": [
    "<h3>Datasets Republik Pencitraan</h3>"
   ]
  },
  {
   "cell_type": "code",
   "execution_count": 30,
   "metadata": {},
   "outputs": [],
   "source": [
    "df_republik['Text'] = df_republik['Text'].apply(remove_htmlEncoding)"
   ]
  },
  {
   "cell_type": "code",
   "execution_count": 31,
   "metadata": {},
   "outputs": [
    {
     "data": {
      "text/plain": [
       "0    Anak-anak Buzzing selamat lembur, awas pke mas...\n",
       "1    Ulama dipersekusi tapi giliran duit umat langs...\n",
       "2    Tangkap ikan “kakap besar” di laut dangkal saj...\n",
       "3    Anak ibu pertiwi rat-rata pada teriak betapa s...\n",
       "4    Harus di usut, kalo rakyat ramai\" ramai mengus...\n",
       "5    Anak ibu pertiwi rata-rata menjerit perih nya ...\n",
       "Name: Text, dtype: object"
      ]
     },
     "execution_count": 31,
     "metadata": {},
     "output_type": "execute_result"
    }
   ],
   "source": [
    "df_republik['Text'].head(6)"
   ]
  },
  {
   "attachments": {},
   "cell_type": "markdown",
   "metadata": {},
   "source": [
    "<h3>Datasets Politik</h3>"
   ]
  },
  {
   "cell_type": "code",
   "execution_count": 32,
   "metadata": {},
   "outputs": [],
   "source": [
    "df_politik['Text'] = df_politik['Text'].apply(remove_htmlEncoding)"
   ]
  },
  {
   "cell_type": "code",
   "execution_count": 33,
   "metadata": {},
   "outputs": [
    {
     "data": {
      "text/plain": [
       "0    Kawan2 sunda harusnya bersatu jemput Arteria d...\n",
       "1         Arogan dan tidak kapok2 Arteria Dahlan ini 😁\n",
       "2    Arteria Dahlan bisa juga dong disidang adat Su...\n",
       "3    Terus orang Sunda jemput Arteria Dahlan untuk ...\n",
       "4    Ga usah dijelaskan atau ditafsirkan apalagi me...\n",
       "5    kan nantik ngak seperti DivHumas_Polri ..awal ...\n",
       "Name: Text, dtype: object"
      ]
     },
     "execution_count": 33,
     "metadata": {},
     "output_type": "execute_result"
    }
   ],
   "source": [
    "df_politik['Text'].head(6)"
   ]
  },
  {
   "attachments": {},
   "cell_type": "markdown",
   "metadata": {},
   "source": [
    "<h2>Removing Mentions</h2>"
   ]
  },
  {
   "cell_type": "code",
   "execution_count": 34,
   "metadata": {},
   "outputs": [],
   "source": [
    "def remove_mentions(text):\n",
    "    text = re.sub(r'@[A-Za-z0-9__]+',' ',text)\n",
    "\n",
    "    return text"
   ]
  },
  {
   "attachments": {},
   "cell_type": "markdown",
   "metadata": {},
   "source": [
    "<h3>Datasets CakNun</h3>"
   ]
  },
  {
   "cell_type": "code",
   "execution_count": 35,
   "metadata": {},
   "outputs": [],
   "source": [
    "df_caknun['Text'] = df_caknun['Text'].apply(remove_mentions)"
   ]
  },
  {
   "cell_type": "code",
   "execution_count": 36,
   "metadata": {},
   "outputs": [
    {
     "data": {
      "text/plain": [
       "0    Bukankah hanya pada saat mencemooh, putus asa,...\n",
       "1    Toh jagat di luar dan jagat di dalam sama saja...\n",
       "2    Mbah nun   \\n\\nPOLITISI Kubu 01:\\nBONEKA'y Kor...\n",
       "3    Mbah Nun   \\nS.B.Ydyo=J.K kubu 01:\\nke-2'y Ada...\n",
       "4    Mbah nun   \\n\\nBANCI,KOMUNIS&SENGKUNI:\\nyg NGU...\n",
       "5    Mbah nun   \\n\\nBerLAGAK nDALANK\\n👉Silahkan diB...\n",
       "Name: Text, dtype: object"
      ]
     },
     "execution_count": 36,
     "metadata": {},
     "output_type": "execute_result"
    }
   ],
   "source": [
    "df_caknun['Text'].head(6)"
   ]
  },
  {
   "attachments": {},
   "cell_type": "markdown",
   "metadata": {},
   "source": [
    "<h3>Datasets Anies</h3>"
   ]
  },
  {
   "cell_type": "code",
   "execution_count": 37,
   "metadata": {},
   "outputs": [],
   "source": [
    "df_anies['Text'] = df_anies['Text'].apply(remove_mentions)"
   ]
  },
  {
   "cell_type": "code",
   "execution_count": 38,
   "metadata": {},
   "outputs": [
    {
     "data": {
      "text/plain": [
       "0      prettttt,gagasan mulu yg dibahas nyatanya zo...\n",
       "1        Pemborosan \\nBangunan tingkat kampung\\nSeb...\n",
       "2      Alhamdulillah.... Segala Puji bagiMu ya Alla...\n",
       "3    Dear   kebanyakan ngedabol, pergi ke Kalimanta...\n",
       "4        Bukan pemimpin\\nHanya dosen yg pindah ruan...\n",
       "5    Koalisi Perubahan Makin Solid, Anies Baswedan:...\n",
       "Name: Text, dtype: object"
      ]
     },
     "execution_count": 38,
     "metadata": {},
     "output_type": "execute_result"
    }
   ],
   "source": [
    "df_anies['Text'].head(6)"
   ]
  },
  {
   "attachments": {},
   "cell_type": "markdown",
   "metadata": {},
   "source": [
    "<h3>Datasets Puan</h3>"
   ]
  },
  {
   "cell_type": "code",
   "execution_count": 39,
   "metadata": {},
   "outputs": [],
   "source": [
    "df_puan['Text'] = df_puan['Text'].apply(remove_mentions)"
   ]
  },
  {
   "cell_type": "code",
   "execution_count": 40,
   "metadata": {},
   "outputs": [
    {
     "data": {
      "text/plain": [
       "0    Kemarin ada yg lempar - lempar kaos sambil mas...\n",
       "1      Ga perduli penjelasanmuuuu puan, memang kau ...\n",
       "2                 Ciri ciri barang g laku ya diobral 💯\n",
       "3            Baru saya sadar, ternyata dia bukan   🤭 💯\n",
       "4                                        gak dibrief 💯\n",
       "5                                   Presiden PDIP 🤣🤣 💯\n",
       "Name: Text, dtype: object"
      ]
     },
     "execution_count": 40,
     "metadata": {},
     "output_type": "execute_result"
    }
   ],
   "source": [
    "df_puan['Text'].head(6)"
   ]
  },
  {
   "attachments": {},
   "cell_type": "markdown",
   "metadata": {},
   "source": [
    "<h3>Datasets Luhut</h3>"
   ]
  },
  {
   "cell_type": "code",
   "execution_count": 41,
   "metadata": {},
   "outputs": [],
   "source": [
    "df_luhut['Text'] = df_luhut['Text'].apply(remove_mentions)"
   ]
  },
  {
   "cell_type": "code",
   "execution_count": 42,
   "metadata": {},
   "outputs": [
    {
     "data": {
      "text/plain": [
       "0    #JokowiGasPolKetahananEnergi\\nMenko km opung L...\n",
       "1    Ingat kata pak luhut binsar panjaitan LBP\\n\\nM...\n",
       "2      Kalau yg kasih perintah Luhut Binsar Panjait...\n",
       "3    Daripada harus melawan perintah Luhut Binsar P...\n",
       "4      Hei Luhut Binsar Panjaitan.\\nTolong jelaskan...\n",
       "5    Baru nyadar Pak   kalau selama ini udah di Boh...\n",
       "Name: Text, dtype: object"
      ]
     },
     "execution_count": 42,
     "metadata": {},
     "output_type": "execute_result"
    }
   ],
   "source": [
    "df_luhut['Text'].head(6)"
   ]
  },
  {
   "attachments": {},
   "cell_type": "markdown",
   "metadata": {},
   "source": [
    "<h3>Datasets Ganjar</h3>"
   ]
  },
  {
   "cell_type": "code",
   "execution_count": 43,
   "metadata": {},
   "outputs": [],
   "source": [
    "df_ganjar['Text'] = df_ganjar['Text'].apply(remove_mentions)"
   ]
  },
  {
   "cell_type": "code",
   "execution_count": 44,
   "metadata": {},
   "outputs": [
    {
     "data": {
      "text/plain": [
       "0        Ini murni tentang konstitusi yg harus dite...\n",
       "1        Yang di kantongnya bu Mega bukan dia.\\n  l...\n",
       "2                                haha saya suka ini. 😭\n",
       "3    Setuju Arahan Jokowi, Ganjar Pranowo Larang Pe...\n",
       "4      SD q 1968  kadang pake sepatu kadang sandal ...\n",
       "5          Masak seorang ganjar ndak ngerti fifa it...\n",
       "Name: Text, dtype: object"
      ]
     },
     "execution_count": 44,
     "metadata": {},
     "output_type": "execute_result"
    }
   ],
   "source": [
    "df_ganjar['Text'].head(6)"
   ]
  },
  {
   "attachments": {},
   "cell_type": "markdown",
   "metadata": {},
   "source": [
    "<h3>Datasets Republik Pencitraan</h3>"
   ]
  },
  {
   "cell_type": "code",
   "execution_count": 45,
   "metadata": {},
   "outputs": [],
   "source": [
    "df_republik['Text'] = df_republik['Text'].apply(remove_mentions)"
   ]
  },
  {
   "cell_type": "code",
   "execution_count": 46,
   "metadata": {},
   "outputs": [
    {
     "data": {
      "text/plain": [
       "0    Anak-anak Buzzing selamat lembur, awas pke mas...\n",
       "1    Ulama dipersekusi tapi giliran duit umat langs...\n",
       "2    Tangkap ikan “kakap besar” di laut dangkal saj...\n",
       "3    Anak ibu pertiwi rat-rata pada teriak betapa s...\n",
       "4    Harus di usut, kalo rakyat ramai\" ramai mengus...\n",
       "5    Anak ibu pertiwi rata-rata menjerit perih nya ...\n",
       "Name: Text, dtype: object"
      ]
     },
     "execution_count": 46,
     "metadata": {},
     "output_type": "execute_result"
    }
   ],
   "source": [
    "df_republik['Text'].head(6)"
   ]
  },
  {
   "attachments": {},
   "cell_type": "markdown",
   "metadata": {},
   "source": [
    "<h3>Datasets Politik</h3>"
   ]
  },
  {
   "cell_type": "code",
   "execution_count": 47,
   "metadata": {},
   "outputs": [],
   "source": [
    "df_politik['Text'] = df_politik['Text'].apply(remove_mentions)"
   ]
  },
  {
   "cell_type": "code",
   "execution_count": 48,
   "metadata": {},
   "outputs": [
    {
     "data": {
      "text/plain": [
       "0    Kawan2 sunda harusnya bersatu jemput Arteria d...\n",
       "1         Arogan dan tidak kapok2 Arteria Dahlan ini 😁\n",
       "2    Arteria Dahlan bisa juga dong disidang adat Su...\n",
       "3    Terus orang Sunda jemput Arteria Dahlan untuk ...\n",
       "4    Ga usah dijelaskan atau ditafsirkan apalagi me...\n",
       "5    kan nantik ngak seperti DivHumas_Polri ..awal ...\n",
       "Name: Text, dtype: object"
      ]
     },
     "execution_count": 48,
     "metadata": {},
     "output_type": "execute_result"
    }
   ],
   "source": [
    "df_politik['Text'].head(6)"
   ]
  },
  {
   "attachments": {},
   "cell_type": "markdown",
   "metadata": {},
   "source": [
    "<h2>Removing Hashtags</h2>"
   ]
  },
  {
   "cell_type": "code",
   "execution_count": 49,
   "metadata": {},
   "outputs": [],
   "source": [
    "def remove_hashtags(text):\n",
    "    text = re.sub(r'#[A-Za-z0-9-]+',' ', text)\n",
    "\n",
    "    return text"
   ]
  },
  {
   "attachments": {},
   "cell_type": "markdown",
   "metadata": {},
   "source": [
    "<h3>Datasets CakNun</h3>"
   ]
  },
  {
   "cell_type": "code",
   "execution_count": 50,
   "metadata": {},
   "outputs": [],
   "source": [
    "df_caknun['Text'] = df_caknun['Text'].apply(remove_hashtags)"
   ]
  },
  {
   "cell_type": "code",
   "execution_count": 51,
   "metadata": {},
   "outputs": [
    {
     "data": {
      "text/plain": [
       "0    Bukankah hanya pada saat mencemooh, putus asa,...\n",
       "1    Toh jagat di luar dan jagat di dalam sama saja...\n",
       "2    Mbah nun   \\n\\nPOLITISI Kubu 01:\\nBONEKA'y Kor...\n",
       "3    Mbah Nun   \\nS.B.Ydyo=J.K kubu 01:\\nke-2'y Ada...\n",
       "4    Mbah nun   \\n\\nBANCI,KOMUNIS&SENGKUNI:\\nyg NGU...\n",
       "5    Mbah nun   \\n\\nBerLAGAK nDALANK\\n👉Silahkan diB...\n",
       "Name: Text, dtype: object"
      ]
     },
     "execution_count": 51,
     "metadata": {},
     "output_type": "execute_result"
    }
   ],
   "source": [
    "df_caknun['Text'].head(6)"
   ]
  },
  {
   "attachments": {},
   "cell_type": "markdown",
   "metadata": {},
   "source": [
    "<h3>Datasets Anies</h3>"
   ]
  },
  {
   "cell_type": "code",
   "execution_count": 52,
   "metadata": {},
   "outputs": [],
   "source": [
    "df_anies['Text'] = df_anies['Text'].apply(remove_hashtags)"
   ]
  },
  {
   "cell_type": "code",
   "execution_count": 53,
   "metadata": {},
   "outputs": [
    {
     "data": {
      "text/plain": [
       "0      prettttt,gagasan mulu yg dibahas nyatanya zo...\n",
       "1        Pemborosan \\nBangunan tingkat kampung\\nSeb...\n",
       "2      Alhamdulillah.... Segala Puji bagiMu ya Alla...\n",
       "3    Dear   kebanyakan ngedabol, pergi ke Kalimanta...\n",
       "4        Bukan pemimpin\\nHanya dosen yg pindah ruan...\n",
       "5    Koalisi Perubahan Makin Solid, Anies Baswedan:...\n",
       "Name: Text, dtype: object"
      ]
     },
     "execution_count": 53,
     "metadata": {},
     "output_type": "execute_result"
    }
   ],
   "source": [
    "df_anies['Text'].head(6)"
   ]
  },
  {
   "attachments": {},
   "cell_type": "markdown",
   "metadata": {},
   "source": [
    "<h3>Datasets Puan</h3>"
   ]
  },
  {
   "cell_type": "code",
   "execution_count": 54,
   "metadata": {},
   "outputs": [],
   "source": [
    "df_puan['Text'] = df_puan['Text'].apply(remove_hashtags)"
   ]
  },
  {
   "cell_type": "code",
   "execution_count": 55,
   "metadata": {},
   "outputs": [
    {
     "data": {
      "text/plain": [
       "0    Kemarin ada yg lempar - lempar kaos sambil mas...\n",
       "1      Ga perduli penjelasanmuuuu puan, memang kau ...\n",
       "2                 Ciri ciri barang g laku ya diobral 💯\n",
       "3            Baru saya sadar, ternyata dia bukan   🤭 💯\n",
       "4                                        gak dibrief 💯\n",
       "5                                   Presiden PDIP 🤣🤣 💯\n",
       "Name: Text, dtype: object"
      ]
     },
     "execution_count": 55,
     "metadata": {},
     "output_type": "execute_result"
    }
   ],
   "source": [
    "df_puan['Text'].head(6)"
   ]
  },
  {
   "attachments": {},
   "cell_type": "markdown",
   "metadata": {},
   "source": [
    "<h3>Datasets Luhut</h3>"
   ]
  },
  {
   "cell_type": "code",
   "execution_count": 56,
   "metadata": {},
   "outputs": [],
   "source": [
    "df_luhut['Text'] = df_luhut['Text'].apply(remove_hashtags)"
   ]
  },
  {
   "cell_type": "code",
   "execution_count": 57,
   "metadata": {},
   "outputs": [
    {
     "data": {
      "text/plain": [
       "0     \\nMenko km opung Luhut B Panjaitan : \\nKendar...\n",
       "1    Ingat kata pak luhut binsar panjaitan LBP\\n\\nM...\n",
       "2      Kalau yg kasih perintah Luhut Binsar Panjait...\n",
       "3    Daripada harus melawan perintah Luhut Binsar P...\n",
       "4      Hei Luhut Binsar Panjaitan.\\nTolong jelaskan...\n",
       "5    Baru nyadar Pak   kalau selama ini udah di Boh...\n",
       "Name: Text, dtype: object"
      ]
     },
     "execution_count": 57,
     "metadata": {},
     "output_type": "execute_result"
    }
   ],
   "source": [
    "df_luhut['Text'].head(6)"
   ]
  },
  {
   "attachments": {},
   "cell_type": "markdown",
   "metadata": {},
   "source": [
    "<h3>Datasets Ganjar</h3>"
   ]
  },
  {
   "cell_type": "code",
   "execution_count": 58,
   "metadata": {},
   "outputs": [],
   "source": [
    "df_ganjar['Text'] = df_ganjar['Text'].apply(remove_hashtags)"
   ]
  },
  {
   "cell_type": "code",
   "execution_count": 59,
   "metadata": {},
   "outputs": [
    {
     "data": {
      "text/plain": [
       "0        Ini murni tentang konstitusi yg harus dite...\n",
       "1        Yang di kantongnya bu Mega bukan dia.\\n  l...\n",
       "2                                haha saya suka ini. 😭\n",
       "3    Setuju Arahan Jokowi, Ganjar Pranowo Larang Pe...\n",
       "4      SD q 1968  kadang pake sepatu kadang sandal ...\n",
       "5          Masak seorang ganjar ndak ngerti fifa it...\n",
       "Name: Text, dtype: object"
      ]
     },
     "execution_count": 59,
     "metadata": {},
     "output_type": "execute_result"
    }
   ],
   "source": [
    "df_ganjar['Text'].head(6)"
   ]
  },
  {
   "attachments": {},
   "cell_type": "markdown",
   "metadata": {},
   "source": [
    "<h3>Datasets Republik Pencitraan</h3>"
   ]
  },
  {
   "cell_type": "code",
   "execution_count": 60,
   "metadata": {},
   "outputs": [],
   "source": [
    "df_republik['Text'] = df_republik['Text'].apply(remove_hashtags)"
   ]
  },
  {
   "cell_type": "code",
   "execution_count": 61,
   "metadata": {},
   "outputs": [
    {
     "data": {
      "text/plain": [
       "0    Anak-anak Buzzing selamat lembur, awas pke mas...\n",
       "1    Ulama dipersekusi tapi giliran duit umat langs...\n",
       "2    Tangkap ikan “kakap besar” di laut dangkal saj...\n",
       "3    Anak ibu pertiwi rat-rata pada teriak betapa s...\n",
       "4    Harus di usut, kalo rakyat ramai\" ramai mengus...\n",
       "5    Anak ibu pertiwi rata-rata menjerit perih nya ...\n",
       "Name: Text, dtype: object"
      ]
     },
     "execution_count": 61,
     "metadata": {},
     "output_type": "execute_result"
    }
   ],
   "source": [
    "df_republik['Text'].head(6)"
   ]
  },
  {
   "attachments": {},
   "cell_type": "markdown",
   "metadata": {},
   "source": [
    "<h3>Datasets Politik</h3>"
   ]
  },
  {
   "cell_type": "code",
   "execution_count": 62,
   "metadata": {},
   "outputs": [],
   "source": [
    "df_politik['Text'] = df_politik['Text'].apply(remove_hashtags)"
   ]
  },
  {
   "cell_type": "code",
   "execution_count": 63,
   "metadata": {},
   "outputs": [
    {
     "data": {
      "text/plain": [
       "0    Kawan2 sunda harusnya bersatu jemput Arteria d...\n",
       "1         Arogan dan tidak kapok2 Arteria Dahlan ini 😁\n",
       "2    Arteria Dahlan bisa juga dong disidang adat Su...\n",
       "3    Terus orang Sunda jemput Arteria Dahlan untuk ...\n",
       "4    Ga usah dijelaskan atau ditafsirkan apalagi me...\n",
       "5    kan nantik ngak seperti DivHumas_Polri ..awal ...\n",
       "Name: Text, dtype: object"
      ]
     },
     "execution_count": 63,
     "metadata": {},
     "output_type": "execute_result"
    }
   ],
   "source": [
    "df_politik['Text'].head(6)"
   ]
  },
  {
   "attachments": {},
   "cell_type": "markdown",
   "metadata": {},
   "source": [
    "<h2>Removing Weblinks</h2>"
   ]
  },
  {
   "cell_type": "code",
   "execution_count": 64,
   "metadata": {},
   "outputs": [],
   "source": [
    "def remove_url(text):\n",
    "    text = re.sub(r'''(?i)\\b((?:https?://|www\\d{0,3}[.]|[a-z0-9.\\-]+[.][a-z]{2,4}/)(?:[^\\s()<>]+|\\(([^\\s()<>]+|(\\([^\\s()<>]+\\)))*\\))+(?:\\(([^\\s()<>]+|(\\([^\\s()<>]+\\)))*\\)|[^\\s`!()\\[\\]{};:'\".,<>?«»“”‘’]))''',' ', text)\n",
    "    text = re.sub(r'https?://t\\.co/\\S+', ' ', text)\n",
    "\n",
    "    return text"
   ]
  },
  {
   "attachments": {},
   "cell_type": "markdown",
   "metadata": {},
   "source": [
    "<h3>Datasets CakNun</h3>"
   ]
  },
  {
   "cell_type": "code",
   "execution_count": 65,
   "metadata": {},
   "outputs": [],
   "source": [
    "df_caknun['Text'] = df_caknun['Text'].apply(remove_url)"
   ]
  },
  {
   "cell_type": "code",
   "execution_count": 66,
   "metadata": {},
   "outputs": [
    {
     "data": {
      "text/plain": [
       "0    Bukankah hanya pada saat mencemooh, putus asa,...\n",
       "1    Toh jagat di luar dan jagat di dalam sama saja...\n",
       "2    Mbah nun   \\n\\nPOLITISI Kubu 01:\\nBONEKA'y Kor...\n",
       "3    Mbah Nun   \\nS.B.Ydyo=J.K kubu 01:\\nke-2'y Ada...\n",
       "4    Mbah nun   \\n\\nBANCI,KOMUNIS&SENGKUNI:\\nyg NGU...\n",
       "5    Mbah nun   \\n\\nBerLAGAK nDALANK\\n👉Silahkan diB...\n",
       "Name: Text, dtype: object"
      ]
     },
     "execution_count": 66,
     "metadata": {},
     "output_type": "execute_result"
    }
   ],
   "source": [
    "df_caknun['Text'].head(6)"
   ]
  },
  {
   "attachments": {},
   "cell_type": "markdown",
   "metadata": {},
   "source": [
    "<h3>Datasets Anies</h3>"
   ]
  },
  {
   "cell_type": "code",
   "execution_count": 67,
   "metadata": {},
   "outputs": [],
   "source": [
    "df_anies['Text'] = df_anies['Text'].apply(remove_url)"
   ]
  },
  {
   "cell_type": "code",
   "execution_count": 68,
   "metadata": {},
   "outputs": [
    {
     "data": {
      "text/plain": [
       "0      prettttt,gagasan mulu yg dibahas nyatanya zo...\n",
       "1        Pemborosan \\nBangunan tingkat kampung\\nSeb...\n",
       "2      Alhamdulillah.... Segala Puji bagiMu ya Alla...\n",
       "3    Dear   kebanyakan ngedabol, pergi ke Kalimanta...\n",
       "4        Bukan pemimpin\\nHanya dosen yg pindah ruan...\n",
       "5    Koalisi Perubahan Makin Solid, Anies Baswedan:...\n",
       "Name: Text, dtype: object"
      ]
     },
     "execution_count": 68,
     "metadata": {},
     "output_type": "execute_result"
    }
   ],
   "source": [
    "df_anies['Text'].head(6)"
   ]
  },
  {
   "attachments": {},
   "cell_type": "markdown",
   "metadata": {},
   "source": [
    "<h3>Datasets Puan</h3>"
   ]
  },
  {
   "cell_type": "code",
   "execution_count": 69,
   "metadata": {},
   "outputs": [],
   "source": [
    "df_puan['Text'] = df_puan['Text'].apply(remove_url)"
   ]
  },
  {
   "cell_type": "code",
   "execution_count": 70,
   "metadata": {},
   "outputs": [
    {
     "data": {
      "text/plain": [
       "0    Kemarin ada yg lempar - lempar kaos sambil mas...\n",
       "1      Ga perduli penjelasanmuuuu puan, memang kau ...\n",
       "2                 Ciri ciri barang g laku ya diobral 💯\n",
       "3            Baru saya sadar, ternyata dia bukan   🤭 💯\n",
       "4                                        gak dibrief 💯\n",
       "5                                   Presiden PDIP 🤣🤣 💯\n",
       "Name: Text, dtype: object"
      ]
     },
     "execution_count": 70,
     "metadata": {},
     "output_type": "execute_result"
    }
   ],
   "source": [
    "df_puan['Text'].head(6)"
   ]
  },
  {
   "attachments": {},
   "cell_type": "markdown",
   "metadata": {},
   "source": [
    "<h3>Datasets Luhut</h3>"
   ]
  },
  {
   "cell_type": "code",
   "execution_count": 71,
   "metadata": {},
   "outputs": [],
   "source": [
    "df_luhut['Text'] = df_luhut['Text'].apply(remove_url)"
   ]
  },
  {
   "cell_type": "code",
   "execution_count": 72,
   "metadata": {},
   "outputs": [
    {
     "data": {
      "text/plain": [
       "0     \\nMenko km opung Luhut B Panjaitan : \\nKendar...\n",
       "1    Ingat kata pak luhut binsar panjaitan LBP\\n\\nM...\n",
       "2      Kalau yg kasih perintah Luhut Binsar Panjait...\n",
       "3    Daripada harus melawan perintah Luhut Binsar P...\n",
       "4      Hei Luhut Binsar Panjaitan.\\nTolong jelaskan...\n",
       "5    Baru nyadar Pak   kalau selama ini udah di Boh...\n",
       "Name: Text, dtype: object"
      ]
     },
     "execution_count": 72,
     "metadata": {},
     "output_type": "execute_result"
    }
   ],
   "source": [
    "df_luhut['Text'].head(6)"
   ]
  },
  {
   "attachments": {},
   "cell_type": "markdown",
   "metadata": {},
   "source": [
    "<h3>Datasets Ganjar</h3>"
   ]
  },
  {
   "cell_type": "code",
   "execution_count": 73,
   "metadata": {},
   "outputs": [],
   "source": [
    "df_ganjar['Text'] = df_ganjar['Text'].apply(remove_url)"
   ]
  },
  {
   "cell_type": "code",
   "execution_count": 74,
   "metadata": {},
   "outputs": [
    {
     "data": {
      "text/plain": [
       "0        Ini murni tentang konstitusi yg harus dite...\n",
       "1        Yang di kantongnya bu Mega bukan dia.\\n  l...\n",
       "2                                haha saya suka ini. 😭\n",
       "3    Setuju Arahan Jokowi, Ganjar Pranowo Larang Pe...\n",
       "4      SD q 1968  kadang pake sepatu kadang sandal ...\n",
       "5          Masak seorang ganjar ndak ngerti fifa it...\n",
       "Name: Text, dtype: object"
      ]
     },
     "execution_count": 74,
     "metadata": {},
     "output_type": "execute_result"
    }
   ],
   "source": [
    "df_ganjar['Text'].head(6)"
   ]
  },
  {
   "attachments": {},
   "cell_type": "markdown",
   "metadata": {},
   "source": [
    "<h3>Datasets Republik Pencitraan</h3>"
   ]
  },
  {
   "cell_type": "code",
   "execution_count": 75,
   "metadata": {},
   "outputs": [],
   "source": [
    "df_republik['Text'] = df_republik['Text'].apply(remove_url)"
   ]
  },
  {
   "cell_type": "code",
   "execution_count": 76,
   "metadata": {},
   "outputs": [
    {
     "data": {
      "text/plain": [
       "0    Anak-anak Buzzing selamat lembur, awas pke mas...\n",
       "1    Ulama dipersekusi tapi giliran duit umat langs...\n",
       "2    Tangkap ikan “kakap besar” di laut dangkal saj...\n",
       "3    Anak ibu pertiwi rat-rata pada teriak betapa s...\n",
       "4    Harus di usut, kalo rakyat ramai\" ramai mengus...\n",
       "5    Anak ibu pertiwi rata-rata menjerit perih nya ...\n",
       "Name: Text, dtype: object"
      ]
     },
     "execution_count": 76,
     "metadata": {},
     "output_type": "execute_result"
    }
   ],
   "source": [
    "df_republik['Text'].head(6)"
   ]
  },
  {
   "attachments": {},
   "cell_type": "markdown",
   "metadata": {},
   "source": [
    "<h3>Datasets Politik</h3>"
   ]
  },
  {
   "cell_type": "code",
   "execution_count": 77,
   "metadata": {},
   "outputs": [],
   "source": [
    "df_politik['Text'] = df_politik['Text'].apply(remove_url)"
   ]
  },
  {
   "cell_type": "code",
   "execution_count": 78,
   "metadata": {},
   "outputs": [
    {
     "data": {
      "text/plain": [
       "0    Kawan2 sunda harusnya bersatu jemput Arteria d...\n",
       "1         Arogan dan tidak kapok2 Arteria Dahlan ini 😁\n",
       "2    Arteria Dahlan bisa juga dong disidang adat Su...\n",
       "3    Terus orang Sunda jemput Arteria Dahlan untuk ...\n",
       "4    Ga usah dijelaskan atau ditafsirkan apalagi me...\n",
       "5    kan nantik ngak seperti DivHumas_Polri ..awal ...\n",
       "Name: Text, dtype: object"
      ]
     },
     "execution_count": 78,
     "metadata": {},
     "output_type": "execute_result"
    }
   ],
   "source": [
    "df_politik['Text'].head(6)"
   ]
  },
  {
   "attachments": {},
   "cell_type": "markdown",
   "metadata": {},
   "source": [
    "<h2>Removing Punctuation</h2>"
   ]
  },
  {
   "cell_type": "code",
   "execution_count": 79,
   "metadata": {},
   "outputs": [],
   "source": [
    "def remove_punctuation(text):\n",
    "    text = re.sub('\\.', ' ', text)\n",
    "    text = re.sub('\\:', ' ', text)\n",
    "    text = re.sub('\\;', ' ', text)\n",
    "    text = re.sub(\"\\'\", '', text)\n",
    "    text = re.sub(\"\\?\", ' ', text)\n",
    "    text = re.sub('\\-', ' ', text)\n",
    "    text = re.sub('\\!', ' ', text)\n",
    "    text = re.sub('\\,', ' ', text)\n",
    "    text = re.sub('\\=', ' ', text)\n",
    "    text = re.sub('\\+', ' ', text)\n",
    "    text = re.sub('\\<', ' ', text)\n",
    "    text = re.sub('\\,', ' ', text)\n",
    "    text = re.sub('\\—', ' ', text)\n",
    "    text = re.sub('\\``', ' ', text)\n",
    "    text = re.sub('\\~', ' ', text)\n",
    "    text = re.sub('\\@', ' ', text)\n",
    "    text = re.sub('\\…', ' ', text)\n",
    "    text = re.sub('\\\"', ' ', text)\n",
    "    text = re.sub('\\—', ' ', text)\n",
    "    text = re.sub(\"\\`\", ' ', text)\n",
    "    text = re.sub(\"\\*\", ' ', text)\n",
    "    text = re.sub(\"’\", ' ', text)\n",
    "    text = re.sub(\"\\|\", ' ', text)\n",
    "    text = re.sub(\"\\‘\", ' ', text)\n",
    "    text = re.sub(\"\\”\", ' ', text)\n",
    "    text = re.sub(\"\\“\", ' ', text)\n",
    "    text = re.sub(\"\\[\", ' ', text)\n",
    "    text = re.sub(\"\\]\", ' ', text)\n",
    "    text = re.sub(\"\\–\", ' ', text)\n",
    "    text = re.sub(\"\\#\", ' ', text)\n",
    "    text = re.sub(\"\\ð\", ' ', text)\n",
    "    text = re.sub(\"\\›\", ' ', text)\n",
    "    text = re.sub(\"\\†\", ' ', text)\n",
    "    text = re.sub(\"\\¢\", ' ', text)\n",
    "    text = re.sub(\"\\¤\", ' ', text)\n",
    "    text = re.sub(\"\\£\", ' ', text)\n",
    "    text = re.sub(\"\\#\", ' ', text)\n",
    "    text = re.sub(\"\\‡\", ' ', text)\n",
    "    text = re.sub(\"\\œ\", ' ', text)\n",
    "    text = re.sub(\"\\„\", ' ', text)\n",
    "    text = re.sub(\"\\±\", ' ', text)\n",
    "    text = re.sub(\"\\¦\", ' ', text)\n",
    "    text = re.sub(\"\\•\", ' ', text)\n",
    "    text = re.sub(\"\\¥\", ' ', text)\n",
    "    text = re.sub(\"\\ø\", ' ', text)\n",
    "    text = re.sub(\"\\\", ' ', text)\n",
    "    text = re.sub(\"\\\", ' ', text)\n",
    "    text = re.sub(\"\\ƒ\", ' ', text)\n",
    "    \n",
    "    return text"
   ]
  },
  {
   "attachments": {},
   "cell_type": "markdown",
   "metadata": {},
   "source": [
    "<h3>Datasets CakNun</h3>"
   ]
  },
  {
   "cell_type": "code",
   "execution_count": 80,
   "metadata": {},
   "outputs": [],
   "source": [
    "df_caknun['Text'] = df_caknun['Text'].apply(remove_punctuation)"
   ]
  },
  {
   "cell_type": "code",
   "execution_count": 81,
   "metadata": {},
   "outputs": [
    {
     "data": {
      "text/plain": [
       "0    Bukankah hanya pada saat mencemooh  putus asa ...\n",
       "1    Toh jagat di luar dan jagat di dalam sama saja...\n",
       "2    Mbah nun   \\n\\nPOLITISI Kubu 01 \\nBONEKAy Korp...\n",
       "3    Mbah Nun   \\nS B Ydyo J K kubu 01 \\nke 2y Adal...\n",
       "4    Mbah nun   \\n\\nBANCI KOMUNIS&SENGKUNI \\nyg NGU...\n",
       "5    Mbah nun   \\n\\nBerLAGAK nDALANK\\n👉Silahkan diB...\n",
       "Name: Text, dtype: object"
      ]
     },
     "execution_count": 81,
     "metadata": {},
     "output_type": "execute_result"
    }
   ],
   "source": [
    "df_caknun['Text'].head(6)"
   ]
  },
  {
   "attachments": {},
   "cell_type": "markdown",
   "metadata": {},
   "source": [
    "<h3>Datasets Anies</h3>"
   ]
  },
  {
   "cell_type": "code",
   "execution_count": 82,
   "metadata": {},
   "outputs": [],
   "source": [
    "df_anies['Text'] = df_anies['Text'].apply(remove_punctuation)"
   ]
  },
  {
   "cell_type": "code",
   "execution_count": 83,
   "metadata": {},
   "outputs": [
    {
     "data": {
      "text/plain": [
       "0      prettttt gagasan mulu yg dibahas nyatanya zo...\n",
       "1        Pemborosan \\nBangunan tingkat kampung\\nSeb...\n",
       "2      Alhamdulillah     Segala Puji bagiMu ya Alla...\n",
       "3    Dear   kebanyakan ngedabol  pergi ke Kalimanta...\n",
       "4        Bukan pemimpin\\nHanya dosen yg pindah ruan...\n",
       "5    Koalisi Perubahan Makin Solid  Anies Baswedan ...\n",
       "Name: Text, dtype: object"
      ]
     },
     "execution_count": 83,
     "metadata": {},
     "output_type": "execute_result"
    }
   ],
   "source": [
    "df_anies['Text'].head(6)"
   ]
  },
  {
   "attachments": {},
   "cell_type": "markdown",
   "metadata": {},
   "source": [
    "<h3>Datasets Puan</h3>"
   ]
  },
  {
   "cell_type": "code",
   "execution_count": 85,
   "metadata": {},
   "outputs": [],
   "source": [
    "df_puan['Text'] = df_puan['Text'].apply(remove_punctuation)"
   ]
  },
  {
   "cell_type": "code",
   "execution_count": 86,
   "metadata": {},
   "outputs": [
    {
     "data": {
      "text/plain": [
       "0    Kemarin ada yg lempar   lempar kaos sambil mas...\n",
       "1      Ga perduli penjelasanmuuuu puan  memang kau ...\n",
       "2                 Ciri ciri barang g laku ya diobral 💯\n",
       "3            Baru saya sadar  ternyata dia bukan   🤭 💯\n",
       "4                                        gak dibrief 💯\n",
       "5                                   Presiden PDIP 🤣🤣 💯\n",
       "Name: Text, dtype: object"
      ]
     },
     "execution_count": 86,
     "metadata": {},
     "output_type": "execute_result"
    }
   ],
   "source": [
    "df_puan['Text'].head(6)"
   ]
  },
  {
   "attachments": {},
   "cell_type": "markdown",
   "metadata": {},
   "source": [
    "<h3>Datasets Luhut</h3>"
   ]
  },
  {
   "cell_type": "code",
   "execution_count": 87,
   "metadata": {},
   "outputs": [],
   "source": [
    "df_luhut['Text'] = df_luhut['Text'].apply(remove_punctuation)"
   ]
  },
  {
   "cell_type": "code",
   "execution_count": 88,
   "metadata": {},
   "outputs": [
    {
     "data": {
      "text/plain": [
       "0     \\nMenko km opung Luhut B Panjaitan   \\nKendar...\n",
       "1    Ingat kata pak luhut binsar panjaitan LBP\\n\\nM...\n",
       "2      Kalau yg kasih perintah Luhut Binsar Panjait...\n",
       "3    Daripada harus melawan perintah Luhut Binsar P...\n",
       "4      Hei Luhut Binsar Panjaitan \\nTolong jelaskan...\n",
       "5    Baru nyadar Pak   kalau selama ini udah di Boh...\n",
       "Name: Text, dtype: object"
      ]
     },
     "execution_count": 88,
     "metadata": {},
     "output_type": "execute_result"
    }
   ],
   "source": [
    "df_luhut['Text'].head(6)"
   ]
  },
  {
   "attachments": {},
   "cell_type": "markdown",
   "metadata": {},
   "source": [
    "<h3>Datasets Ganjar</h3>"
   ]
  },
  {
   "cell_type": "code",
   "execution_count": 89,
   "metadata": {},
   "outputs": [],
   "source": [
    "df_ganjar['Text'] = df_ganjar['Text'].apply(remove_punctuation)"
   ]
  },
  {
   "cell_type": "code",
   "execution_count": 90,
   "metadata": {},
   "outputs": [
    {
     "data": {
      "text/plain": [
       "0        Ini murni tentang konstitusi yg harus dite...\n",
       "1        Yang di kantongnya bu Mega bukan dia \\n  l...\n",
       "2                                haha saya suka ini  😭\n",
       "3    Setuju Arahan Jokowi  Ganjar Pranowo Larang Pe...\n",
       "4      SD q 1968  kadang pake sepatu kadang sandal ...\n",
       "5          Masak seorang ganjar ndak ngerti fifa it...\n",
       "Name: Text, dtype: object"
      ]
     },
     "execution_count": 90,
     "metadata": {},
     "output_type": "execute_result"
    }
   ],
   "source": [
    "df_ganjar['Text'].head(6)"
   ]
  },
  {
   "attachments": {},
   "cell_type": "markdown",
   "metadata": {},
   "source": [
    "<h3>Datasets Republik Pencitraan</h3>"
   ]
  },
  {
   "cell_type": "code",
   "execution_count": 91,
   "metadata": {},
   "outputs": [],
   "source": [
    "df_republik['Text'] = df_republik['Text'].apply(remove_punctuation)"
   ]
  },
  {
   "cell_type": "code",
   "execution_count": 92,
   "metadata": {},
   "outputs": [
    {
     "data": {
      "text/plain": [
       "0    Anak anak Buzzing selamat lembur  awas pke mas...\n",
       "1    Ulama dipersekusi tapi giliran duit umat langs...\n",
       "2    Tangkap ikan  kakap besar  di laut dangkal saj...\n",
       "3    Anak ibu pertiwi rat rata pada teriak betapa s...\n",
       "4    Harus di usut  kalo rakyat ramai  ramai mengus...\n",
       "5    Anak ibu pertiwi rata rata menjerit perih nya ...\n",
       "Name: Text, dtype: object"
      ]
     },
     "execution_count": 92,
     "metadata": {},
     "output_type": "execute_result"
    }
   ],
   "source": [
    "df_republik['Text'].head(6)"
   ]
  },
  {
   "attachments": {},
   "cell_type": "markdown",
   "metadata": {},
   "source": [
    "<h3>Datasets Politik</h3>"
   ]
  },
  {
   "cell_type": "code",
   "execution_count": 93,
   "metadata": {},
   "outputs": [],
   "source": [
    "df_politik['Text'] = df_politik['Text'].apply(remove_punctuation)"
   ]
  },
  {
   "cell_type": "code",
   "execution_count": 94,
   "metadata": {},
   "outputs": [
    {
     "data": {
      "text/plain": [
       "0    Kawan2 sunda harusnya bersatu jemput Arteria d...\n",
       "1         Arogan dan tidak kapok2 Arteria Dahlan ini 😁\n",
       "2    Arteria Dahlan bisa juga dong disidang adat Su...\n",
       "3    Terus orang Sunda jemput Arteria Dahlan untuk ...\n",
       "4    Ga usah dijelaskan atau ditafsirkan apalagi me...\n",
       "5    kan nantik ngak seperti DivHumas_Polri   awal ...\n",
       "Name: Text, dtype: object"
      ]
     },
     "execution_count": 94,
     "metadata": {},
     "output_type": "execute_result"
    }
   ],
   "source": [
    "df_politik['Text'].head(6)"
   ]
  },
  {
   "attachments": {},
   "cell_type": "markdown",
   "metadata": {},
   "source": [
    "<h2>Removing New Lines and Double Whitespaces</h2>"
   ]
  },
  {
   "cell_type": "code",
   "execution_count": 95,
   "metadata": {},
   "outputs": [],
   "source": [
    "def remove_newLines(text):\n",
    "    # Removing New Lines and characters\n",
    "    text = re.sub('\\n', ' ', text)\n",
    "    text = re.sub(':', ' ', text)\n",
    "    text = re.sub('&amp', ' ', text)\n",
    "    text = re.sub(';', ' ', text)\n",
    "    text = re.sub('\\(', ' ', text)\n",
    "    text = re.sub('\\)', ' ', text)\n",
    "    text = re.sub('\\_', ' ', text)\n",
    "    text = re.sub('\\&', ' dan ', text)\n",
    "    text = re.sub('\\/', ' atau ', text)\n",
    "    text = re.sub('\\>', ' ', text)\n",
    "\n",
    "    # Removing Double Whitespaces\n",
    "    text = re.sub(r'^\\s+','', text)\n",
    "    text = re.sub(r'\\s+$','', text)\n",
    "    text = re.sub(r\"//t\",r\"\\t\", text)\n",
    "    text = re.sub(r\"( )\\1+\",r\"\\1\", text)\n",
    "    text = re.sub(r\"(\\n)\\1+\",r\"\\1\", text)\n",
    "    text = re.sub(r\"(\\n)\\1+\",r\"\\1\", text)\n",
    "    text = re.sub(r\"(\\r)\\1+\",r\"\\1\", text)\n",
    "    text = re.sub(r\"(\\t)\\1+\",r\"\\1\", text)\n",
    "\n",
    "    return text"
   ]
  },
  {
   "attachments": {},
   "cell_type": "markdown",
   "metadata": {},
   "source": [
    "<h3>Datasets CakNun</h3>"
   ]
  },
  {
   "cell_type": "code",
   "execution_count": 96,
   "metadata": {},
   "outputs": [],
   "source": [
    "df_caknun['Text'] = df_caknun['Text'].apply(remove_newLines)"
   ]
  },
  {
   "cell_type": "code",
   "execution_count": 97,
   "metadata": {},
   "outputs": [
    {
     "data": {
      "text/html": [
       "<div>\n",
       "<style scoped>\n",
       "    .dataframe tbody tr th:only-of-type {\n",
       "        vertical-align: middle;\n",
       "    }\n",
       "\n",
       "    .dataframe tbody tr th {\n",
       "        vertical-align: top;\n",
       "    }\n",
       "\n",
       "    .dataframe thead th {\n",
       "        text-align: right;\n",
       "    }\n",
       "</style>\n",
       "<table border=\"1\" class=\"dataframe\">\n",
       "  <thead>\n",
       "    <tr style=\"text-align: right;\">\n",
       "      <th></th>\n",
       "      <th>Text</th>\n",
       "    </tr>\n",
       "  </thead>\n",
       "  <tbody>\n",
       "    <tr>\n",
       "      <th>0</th>\n",
       "      <td>Bukankah hanya pada saat mencemooh putus asa m...</td>\n",
       "    </tr>\n",
       "    <tr>\n",
       "      <th>1</th>\n",
       "      <td>Toh jagat di luar dan jagat di dalam sama saja...</td>\n",
       "    </tr>\n",
       "    <tr>\n",
       "      <th>2</th>\n",
       "      <td>Mbah nun POLITISI Kubu 01 BONEKAy Korp SERAKAH...</td>\n",
       "    </tr>\n",
       "    <tr>\n",
       "      <th>3</th>\n",
       "      <td>Mbah Nun S B Ydyo J K kubu 01 ke 2y Adalah BUK...</td>\n",
       "    </tr>\n",
       "    <tr>\n",
       "      <th>4</th>\n",
       "      <td>Mbah nun BANCI KOMUNIS dan SENGKUNI yg NGUMPET...</td>\n",
       "    </tr>\n",
       "  </tbody>\n",
       "</table>\n",
       "</div>"
      ],
      "text/plain": [
       "                                                Text\n",
       "0  Bukankah hanya pada saat mencemooh putus asa m...\n",
       "1  Toh jagat di luar dan jagat di dalam sama saja...\n",
       "2  Mbah nun POLITISI Kubu 01 BONEKAy Korp SERAKAH...\n",
       "3  Mbah Nun S B Ydyo J K kubu 01 ke 2y Adalah BUK...\n",
       "4  Mbah nun BANCI KOMUNIS dan SENGKUNI yg NGUMPET..."
      ]
     },
     "execution_count": 97,
     "metadata": {},
     "output_type": "execute_result"
    }
   ],
   "source": [
    "df_caknun.head()"
   ]
  },
  {
   "attachments": {},
   "cell_type": "markdown",
   "metadata": {},
   "source": [
    "<h3>Datasets Anies</h3>"
   ]
  },
  {
   "cell_type": "code",
   "execution_count": 98,
   "metadata": {},
   "outputs": [],
   "source": [
    "df_anies['Text'] = df_anies['Text'].apply(remove_newLines)"
   ]
  },
  {
   "cell_type": "code",
   "execution_count": 99,
   "metadata": {},
   "outputs": [
    {
     "data": {
      "text/html": [
       "<div>\n",
       "<style scoped>\n",
       "    .dataframe tbody tr th:only-of-type {\n",
       "        vertical-align: middle;\n",
       "    }\n",
       "\n",
       "    .dataframe tbody tr th {\n",
       "        vertical-align: top;\n",
       "    }\n",
       "\n",
       "    .dataframe thead th {\n",
       "        text-align: right;\n",
       "    }\n",
       "</style>\n",
       "<table border=\"1\" class=\"dataframe\">\n",
       "  <thead>\n",
       "    <tr style=\"text-align: right;\">\n",
       "      <th></th>\n",
       "      <th>Text</th>\n",
       "    </tr>\n",
       "  </thead>\n",
       "  <tbody>\n",
       "    <tr>\n",
       "      <th>0</th>\n",
       "      <td>prettttt gagasan mulu yg dibahas nyatanya zonk...</td>\n",
       "    </tr>\n",
       "    <tr>\n",
       "      <th>1</th>\n",
       "      <td>Pemborosan Bangunan tingkat kampung Sebentar b...</td>\n",
       "    </tr>\n",
       "    <tr>\n",
       "      <th>2</th>\n",
       "      <td>Alhamdulillah Segala Puji bagiMu ya Allah Bara...</td>\n",
       "    </tr>\n",
       "    <tr>\n",
       "      <th>3</th>\n",
       "      <td>Dear kebanyakan ngedabol pergi ke Kalimantan m...</td>\n",
       "    </tr>\n",
       "    <tr>\n",
       "      <th>4</th>\n",
       "      <td>Bukan pemimpin Hanya dosen yg pindah ruang Kel...</td>\n",
       "    </tr>\n",
       "  </tbody>\n",
       "</table>\n",
       "</div>"
      ],
      "text/plain": [
       "                                                Text\n",
       "0  prettttt gagasan mulu yg dibahas nyatanya zonk...\n",
       "1  Pemborosan Bangunan tingkat kampung Sebentar b...\n",
       "2  Alhamdulillah Segala Puji bagiMu ya Allah Bara...\n",
       "3  Dear kebanyakan ngedabol pergi ke Kalimantan m...\n",
       "4  Bukan pemimpin Hanya dosen yg pindah ruang Kel..."
      ]
     },
     "execution_count": 99,
     "metadata": {},
     "output_type": "execute_result"
    }
   ],
   "source": [
    "df_anies.head()"
   ]
  },
  {
   "attachments": {},
   "cell_type": "markdown",
   "metadata": {},
   "source": [
    "<h3>Datasets Puan</h3>"
   ]
  },
  {
   "cell_type": "code",
   "execution_count": 100,
   "metadata": {},
   "outputs": [],
   "source": [
    "df_puan['Text'] = df_puan['Text'].apply(remove_newLines)"
   ]
  },
  {
   "cell_type": "code",
   "execution_count": 101,
   "metadata": {},
   "outputs": [
    {
     "data": {
      "text/html": [
       "<div>\n",
       "<style scoped>\n",
       "    .dataframe tbody tr th:only-of-type {\n",
       "        vertical-align: middle;\n",
       "    }\n",
       "\n",
       "    .dataframe tbody tr th {\n",
       "        vertical-align: top;\n",
       "    }\n",
       "\n",
       "    .dataframe thead th {\n",
       "        text-align: right;\n",
       "    }\n",
       "</style>\n",
       "<table border=\"1\" class=\"dataframe\">\n",
       "  <thead>\n",
       "    <tr style=\"text-align: right;\">\n",
       "      <th></th>\n",
       "      <th>Text</th>\n",
       "    </tr>\n",
       "  </thead>\n",
       "  <tbody>\n",
       "    <tr>\n",
       "      <th>0</th>\n",
       "      <td>Kemarin ada yg lempar lempar kaos sambil masem...</td>\n",
       "    </tr>\n",
       "    <tr>\n",
       "      <th>1</th>\n",
       "      <td>Ga perduli penjelasanmuuuu puan memang kau itu...</td>\n",
       "    </tr>\n",
       "    <tr>\n",
       "      <th>2</th>\n",
       "      <td>Ciri ciri barang g laku ya diobral 💯</td>\n",
       "    </tr>\n",
       "    <tr>\n",
       "      <th>3</th>\n",
       "      <td>Baru saya sadar ternyata dia bukan 🤭 💯</td>\n",
       "    </tr>\n",
       "    <tr>\n",
       "      <th>4</th>\n",
       "      <td>gak dibrief 💯</td>\n",
       "    </tr>\n",
       "  </tbody>\n",
       "</table>\n",
       "</div>"
      ],
      "text/plain": [
       "                                                Text\n",
       "0  Kemarin ada yg lempar lempar kaos sambil masem...\n",
       "1  Ga perduli penjelasanmuuuu puan memang kau itu...\n",
       "2               Ciri ciri barang g laku ya diobral 💯\n",
       "3             Baru saya sadar ternyata dia bukan 🤭 💯\n",
       "4                                      gak dibrief 💯"
      ]
     },
     "execution_count": 101,
     "metadata": {},
     "output_type": "execute_result"
    }
   ],
   "source": [
    "df_puan.head()"
   ]
  },
  {
   "attachments": {},
   "cell_type": "markdown",
   "metadata": {},
   "source": [
    "<h3>Datasets Luhut</h3>"
   ]
  },
  {
   "cell_type": "code",
   "execution_count": 102,
   "metadata": {},
   "outputs": [],
   "source": [
    "df_luhut['Text'] = df_luhut['Text'].apply(remove_newLines)"
   ]
  },
  {
   "cell_type": "code",
   "execution_count": 103,
   "metadata": {},
   "outputs": [
    {
     "data": {
      "text/html": [
       "<div>\n",
       "<style scoped>\n",
       "    .dataframe tbody tr th:only-of-type {\n",
       "        vertical-align: middle;\n",
       "    }\n",
       "\n",
       "    .dataframe tbody tr th {\n",
       "        vertical-align: top;\n",
       "    }\n",
       "\n",
       "    .dataframe thead th {\n",
       "        text-align: right;\n",
       "    }\n",
       "</style>\n",
       "<table border=\"1\" class=\"dataframe\">\n",
       "  <thead>\n",
       "    <tr style=\"text-align: right;\">\n",
       "      <th></th>\n",
       "      <th>Text</th>\n",
       "    </tr>\n",
       "  </thead>\n",
       "  <tbody>\n",
       "    <tr>\n",
       "      <th>0</th>\n",
       "      <td>Menko km opung Luhut B Panjaitan Kendaraan lis...</td>\n",
       "    </tr>\n",
       "    <tr>\n",
       "      <th>1</th>\n",
       "      <td>Ingat kata pak luhut binsar panjaitan LBP MENJ...</td>\n",
       "    </tr>\n",
       "    <tr>\n",
       "      <th>2</th>\n",
       "      <td>Kalau yg kasih perintah Luhut Binsar Panjaitan...</td>\n",
       "    </tr>\n",
       "    <tr>\n",
       "      <th>3</th>\n",
       "      <td>Daripada harus melawan perintah Luhut Binsar P...</td>\n",
       "    </tr>\n",
       "    <tr>\n",
       "      <th>4</th>\n",
       "      <td>Hei Luhut Binsar Panjaitan Tolong jelaskan war...</td>\n",
       "    </tr>\n",
       "  </tbody>\n",
       "</table>\n",
       "</div>"
      ],
      "text/plain": [
       "                                                Text\n",
       "0  Menko km opung Luhut B Panjaitan Kendaraan lis...\n",
       "1  Ingat kata pak luhut binsar panjaitan LBP MENJ...\n",
       "2  Kalau yg kasih perintah Luhut Binsar Panjaitan...\n",
       "3  Daripada harus melawan perintah Luhut Binsar P...\n",
       "4  Hei Luhut Binsar Panjaitan Tolong jelaskan war..."
      ]
     },
     "execution_count": 103,
     "metadata": {},
     "output_type": "execute_result"
    }
   ],
   "source": [
    "df_luhut.head()"
   ]
  },
  {
   "attachments": {},
   "cell_type": "markdown",
   "metadata": {},
   "source": [
    "<h3>Datasets Ganjar</h3>"
   ]
  },
  {
   "cell_type": "code",
   "execution_count": 104,
   "metadata": {},
   "outputs": [],
   "source": [
    "df_ganjar['Text'] = df_ganjar['Text'].apply(remove_newLines)"
   ]
  },
  {
   "cell_type": "code",
   "execution_count": 105,
   "metadata": {},
   "outputs": [
    {
     "data": {
      "text/html": [
       "<div>\n",
       "<style scoped>\n",
       "    .dataframe tbody tr th:only-of-type {\n",
       "        vertical-align: middle;\n",
       "    }\n",
       "\n",
       "    .dataframe tbody tr th {\n",
       "        vertical-align: top;\n",
       "    }\n",
       "\n",
       "    .dataframe thead th {\n",
       "        text-align: right;\n",
       "    }\n",
       "</style>\n",
       "<table border=\"1\" class=\"dataframe\">\n",
       "  <thead>\n",
       "    <tr style=\"text-align: right;\">\n",
       "      <th></th>\n",
       "      <th>Text</th>\n",
       "    </tr>\n",
       "  </thead>\n",
       "  <tbody>\n",
       "    <tr>\n",
       "      <th>0</th>\n",
       "      <td>Ini murni tentang konstitusi yg harus ditegakk...</td>\n",
       "    </tr>\n",
       "    <tr>\n",
       "      <th>1</th>\n",
       "      <td>Yang di kantongnya bu Mega bukan dia lebih pah...</td>\n",
       "    </tr>\n",
       "    <tr>\n",
       "      <th>2</th>\n",
       "      <td>haha saya suka ini 😭</td>\n",
       "    </tr>\n",
       "    <tr>\n",
       "      <th>3</th>\n",
       "      <td>Setuju Arahan Jokowi Ganjar Pranowo Larang Pej...</td>\n",
       "    </tr>\n",
       "    <tr>\n",
       "      <th>4</th>\n",
       "      <td>SD q 1968 kadang pake sepatu kadang sandal jep...</td>\n",
       "    </tr>\n",
       "  </tbody>\n",
       "</table>\n",
       "</div>"
      ],
      "text/plain": [
       "                                                Text\n",
       "0  Ini murni tentang konstitusi yg harus ditegakk...\n",
       "1  Yang di kantongnya bu Mega bukan dia lebih pah...\n",
       "2                               haha saya suka ini 😭\n",
       "3  Setuju Arahan Jokowi Ganjar Pranowo Larang Pej...\n",
       "4  SD q 1968 kadang pake sepatu kadang sandal jep..."
      ]
     },
     "execution_count": 105,
     "metadata": {},
     "output_type": "execute_result"
    }
   ],
   "source": [
    "df_ganjar.head()"
   ]
  },
  {
   "attachments": {},
   "cell_type": "markdown",
   "metadata": {},
   "source": [
    "<h3>Datasets Republik Pencitraan</h3>"
   ]
  },
  {
   "cell_type": "code",
   "execution_count": 106,
   "metadata": {},
   "outputs": [],
   "source": [
    "df_republik['Text'] = df_republik['Text'].apply(remove_newLines)"
   ]
  },
  {
   "cell_type": "code",
   "execution_count": 107,
   "metadata": {},
   "outputs": [
    {
     "data": {
      "text/html": [
       "<div>\n",
       "<style scoped>\n",
       "    .dataframe tbody tr th:only-of-type {\n",
       "        vertical-align: middle;\n",
       "    }\n",
       "\n",
       "    .dataframe tbody tr th {\n",
       "        vertical-align: top;\n",
       "    }\n",
       "\n",
       "    .dataframe thead th {\n",
       "        text-align: right;\n",
       "    }\n",
       "</style>\n",
       "<table border=\"1\" class=\"dataframe\">\n",
       "  <thead>\n",
       "    <tr style=\"text-align: right;\">\n",
       "      <th></th>\n",
       "      <th>Text</th>\n",
       "    </tr>\n",
       "  </thead>\n",
       "  <tbody>\n",
       "    <tr>\n",
       "      <th>0</th>\n",
       "      <td>Anak anak Buzzing selamat lembur awas pke mask...</td>\n",
       "    </tr>\n",
       "    <tr>\n",
       "      <th>1</th>\n",
       "      <td>Ulama dipersekusi tapi giliran duit umat langs...</td>\n",
       "    </tr>\n",
       "    <tr>\n",
       "      <th>2</th>\n",
       "      <td>Tangkap ikan kakap besar di laut dangkal saja ...</td>\n",
       "    </tr>\n",
       "    <tr>\n",
       "      <th>3</th>\n",
       "      <td>Anak ibu pertiwi rat rata pada teriak betapa s...</td>\n",
       "    </tr>\n",
       "    <tr>\n",
       "      <th>4</th>\n",
       "      <td>Harus di usut kalo rakyat ramai ramai mengusut...</td>\n",
       "    </tr>\n",
       "  </tbody>\n",
       "</table>\n",
       "</div>"
      ],
      "text/plain": [
       "                                                Text\n",
       "0  Anak anak Buzzing selamat lembur awas pke mask...\n",
       "1  Ulama dipersekusi tapi giliran duit umat langs...\n",
       "2  Tangkap ikan kakap besar di laut dangkal saja ...\n",
       "3  Anak ibu pertiwi rat rata pada teriak betapa s...\n",
       "4  Harus di usut kalo rakyat ramai ramai mengusut..."
      ]
     },
     "execution_count": 107,
     "metadata": {},
     "output_type": "execute_result"
    }
   ],
   "source": [
    "df_republik.head()"
   ]
  },
  {
   "attachments": {},
   "cell_type": "markdown",
   "metadata": {},
   "source": [
    "<h3>Datasets Politik</h3>"
   ]
  },
  {
   "cell_type": "code",
   "execution_count": 108,
   "metadata": {},
   "outputs": [],
   "source": [
    "df_politik['Text'] = df_politik['Text'].apply(remove_newLines)"
   ]
  },
  {
   "cell_type": "code",
   "execution_count": 109,
   "metadata": {},
   "outputs": [
    {
     "data": {
      "text/html": [
       "<div>\n",
       "<style scoped>\n",
       "    .dataframe tbody tr th:only-of-type {\n",
       "        vertical-align: middle;\n",
       "    }\n",
       "\n",
       "    .dataframe tbody tr th {\n",
       "        vertical-align: top;\n",
       "    }\n",
       "\n",
       "    .dataframe thead th {\n",
       "        text-align: right;\n",
       "    }\n",
       "</style>\n",
       "<table border=\"1\" class=\"dataframe\">\n",
       "  <thead>\n",
       "    <tr style=\"text-align: right;\">\n",
       "      <th></th>\n",
       "      <th>Text</th>\n",
       "    </tr>\n",
       "  </thead>\n",
       "  <tbody>\n",
       "    <tr>\n",
       "      <th>0</th>\n",
       "      <td>Kawan2 sunda harusnya bersatu jemput Arteria d...</td>\n",
       "    </tr>\n",
       "    <tr>\n",
       "      <th>1</th>\n",
       "      <td>Arogan dan tidak kapok2 Arteria Dahlan ini 😁</td>\n",
       "    </tr>\n",
       "    <tr>\n",
       "      <th>2</th>\n",
       "      <td>Arteria Dahlan bisa juga dong disidang adat Su...</td>\n",
       "    </tr>\n",
       "    <tr>\n",
       "      <th>3</th>\n",
       "      <td>Terus orang Sunda jemput Arteria Dahlan untuk ...</td>\n",
       "    </tr>\n",
       "    <tr>\n",
       "      <th>4</th>\n",
       "      <td>Ga usah dijelaskan atau ditafsirkan apalagi me...</td>\n",
       "    </tr>\n",
       "    <tr>\n",
       "      <th>5</th>\n",
       "      <td>kan nantik ngak seperti DivHumas Polri awal ny...</td>\n",
       "    </tr>\n",
       "  </tbody>\n",
       "</table>\n",
       "</div>"
      ],
      "text/plain": [
       "                                                Text\n",
       "0  Kawan2 sunda harusnya bersatu jemput Arteria d...\n",
       "1       Arogan dan tidak kapok2 Arteria Dahlan ini 😁\n",
       "2  Arteria Dahlan bisa juga dong disidang adat Su...\n",
       "3  Terus orang Sunda jemput Arteria Dahlan untuk ...\n",
       "4  Ga usah dijelaskan atau ditafsirkan apalagi me...\n",
       "5  kan nantik ngak seperti DivHumas Polri awal ny..."
      ]
     },
     "execution_count": 109,
     "metadata": {},
     "output_type": "execute_result"
    }
   ],
   "source": [
    "df_politik.head(6)"
   ]
  },
  {
   "attachments": {},
   "cell_type": "markdown",
   "metadata": {},
   "source": [
    "<h2>Stopwords Removal</h2>"
   ]
  },
  {
   "cell_type": "code",
   "execution_count": 110,
   "metadata": {},
   "outputs": [],
   "source": [
    "from Sastrawi.StopWordRemover.StopWordRemoverFactory import StopWordRemoverFactory\n",
    "from nltk.corpus import stopwords\n",
    "import nltk"
   ]
  },
  {
   "cell_type": "code",
   "execution_count": 111,
   "metadata": {},
   "outputs": [],
   "source": [
    "def stopword_remover_sastrawi(text):\n",
    "    factory = StopWordRemoverFactory()\n",
    "    # stopwords = factory.get_stop_words()\n",
    "    text = text.lower()\n",
    "    stopwords_remover = factory.create_stop_word_remover()\n",
    "    return stopwords_remover.remove(text)\n",
    "\n",
    "def stopword_remover_nltk(text):\n",
    "    stop_words = set(stopwords.words('indonesian'))\n",
    "    words = nltk.word_tokenize(text)\n",
    "    filtered_words = [word for word in words if word.casefold() not in stop_words]\n",
    "\n",
    "    return ' '.join(filtered_words)"
   ]
  },
  {
   "attachments": {},
   "cell_type": "markdown",
   "metadata": {},
   "source": [
    "<h3>Datasets CakNun</h3>"
   ]
  },
  {
   "cell_type": "code",
   "execution_count": 112,
   "metadata": {},
   "outputs": [],
   "source": [
    "df_caknun['Text'] = df_caknun['Text'].apply(stopword_remover_sastrawi)"
   ]
  },
  {
   "cell_type": "code",
   "execution_count": 113,
   "metadata": {},
   "outputs": [],
   "source": [
    "df_caknun['Text'] = df_caknun['Text'].apply(stopword_remover_nltk)"
   ]
  },
  {
   "cell_type": "code",
   "execution_count": 114,
   "metadata": {},
   "outputs": [
    {
     "data": {
      "text/html": [
       "<div>\n",
       "<style scoped>\n",
       "    .dataframe tbody tr th:only-of-type {\n",
       "        vertical-align: middle;\n",
       "    }\n",
       "\n",
       "    .dataframe tbody tr th {\n",
       "        vertical-align: top;\n",
       "    }\n",
       "\n",
       "    .dataframe thead th {\n",
       "        text-align: right;\n",
       "    }\n",
       "</style>\n",
       "<table border=\"1\" class=\"dataframe\">\n",
       "  <thead>\n",
       "    <tr style=\"text-align: right;\">\n",
       "      <th></th>\n",
       "      <th>Text</th>\n",
       "    </tr>\n",
       "  </thead>\n",
       "  <tbody>\n",
       "    <tr>\n",
       "      <th>0</th>\n",
       "      <td>mencemooh putus asa marah sejenis menekankan s...</td>\n",
       "    </tr>\n",
       "    <tr>\n",
       "      <th>1</th>\n",
       "      <td>jagat jagat mengenal tuhan mengenal mengenal m 😨</td>\n",
       "    </tr>\n",
       "    <tr>\n",
       "      <th>2</th>\n",
       "      <td>mbah nun politisi kubu 01 bonekay korp serakah...</td>\n",
       "    </tr>\n",
       "    <tr>\n",
       "      <th>3</th>\n",
       "      <td>mbah nun s b ydyo j k kubu 01 2y negarawan pol...</td>\n",
       "    </tr>\n",
       "    <tr>\n",
       "      <th>4</th>\n",
       "      <td>mbah nun banci komunis sengkuni yg ngumpet dib...</td>\n",
       "    </tr>\n",
       "  </tbody>\n",
       "</table>\n",
       "</div>"
      ],
      "text/plain": [
       "                                                Text\n",
       "0  mencemooh putus asa marah sejenis menekankan s...\n",
       "1   jagat jagat mengenal tuhan mengenal mengenal m 😨\n",
       "2  mbah nun politisi kubu 01 bonekay korp serakah...\n",
       "3  mbah nun s b ydyo j k kubu 01 2y negarawan pol...\n",
       "4  mbah nun banci komunis sengkuni yg ngumpet dib..."
      ]
     },
     "execution_count": 114,
     "metadata": {},
     "output_type": "execute_result"
    }
   ],
   "source": [
    "df_caknun.head()"
   ]
  },
  {
   "attachments": {},
   "cell_type": "markdown",
   "metadata": {},
   "source": [
    "<h3>Datasets Anies</h3>"
   ]
  },
  {
   "cell_type": "code",
   "execution_count": 115,
   "metadata": {},
   "outputs": [],
   "source": [
    "df_anies['Text'] = df_anies['Text'].apply(stopword_remover_sastrawi)"
   ]
  },
  {
   "cell_type": "code",
   "execution_count": 116,
   "metadata": {},
   "outputs": [],
   "source": [
    "df_anies['Text'] = df_anies['Text'].apply(stopword_remover_nltk)"
   ]
  },
  {
   "cell_type": "code",
   "execution_count": 117,
   "metadata": {},
   "outputs": [
    {
     "data": {
      "text/html": [
       "<div>\n",
       "<style scoped>\n",
       "    .dataframe tbody tr th:only-of-type {\n",
       "        vertical-align: middle;\n",
       "    }\n",
       "\n",
       "    .dataframe tbody tr th {\n",
       "        vertical-align: top;\n",
       "    }\n",
       "\n",
       "    .dataframe thead th {\n",
       "        text-align: right;\n",
       "    }\n",
       "</style>\n",
       "<table border=\"1\" class=\"dataframe\">\n",
       "  <thead>\n",
       "    <tr style=\"text-align: right;\">\n",
       "      <th></th>\n",
       "      <th>Text</th>\n",
       "    </tr>\n",
       "  </thead>\n",
       "  <tbody>\n",
       "    <tr>\n",
       "      <th>0</th>\n",
       "      <td>prettttt gagasan mulu yg dibahas zonk eksekusi...</td>\n",
       "    </tr>\n",
       "    <tr>\n",
       "      <th>1</th>\n",
       "      <td>pemborosan bangunan tingkat kampung sebentar b...</td>\n",
       "    </tr>\n",
       "    <tr>\n",
       "      <th>2</th>\n",
       "      <td>alhamdulillah puji bagimu allah barakallah bpk...</td>\n",
       "    </tr>\n",
       "    <tr>\n",
       "      <th>3</th>\n",
       "      <td>dear kebanyakan ngedabol pergi kalimantan meng...</td>\n",
       "    </tr>\n",
       "    <tr>\n",
       "      <th>4</th>\n",
       "      <td>pemimpin dosen yg pindah ruang kelebihan keleb...</td>\n",
       "    </tr>\n",
       "  </tbody>\n",
       "</table>\n",
       "</div>"
      ],
      "text/plain": [
       "                                                Text\n",
       "0  prettttt gagasan mulu yg dibahas zonk eksekusi...\n",
       "1  pemborosan bangunan tingkat kampung sebentar b...\n",
       "2  alhamdulillah puji bagimu allah barakallah bpk...\n",
       "3  dear kebanyakan ngedabol pergi kalimantan meng...\n",
       "4  pemimpin dosen yg pindah ruang kelebihan keleb..."
      ]
     },
     "execution_count": 117,
     "metadata": {},
     "output_type": "execute_result"
    }
   ],
   "source": [
    "df_anies.head()"
   ]
  },
  {
   "attachments": {},
   "cell_type": "markdown",
   "metadata": {},
   "source": [
    "<h3>Datasets Puan</h3>"
   ]
  },
  {
   "cell_type": "code",
   "execution_count": 118,
   "metadata": {},
   "outputs": [],
   "source": [
    "df_puan['Text'] = df_puan['Text'].apply(stopword_remover_sastrawi)"
   ]
  },
  {
   "cell_type": "code",
   "execution_count": 119,
   "metadata": {},
   "outputs": [],
   "source": [
    "df_puan['Text'] = df_puan['Text'].apply(stopword_remover_nltk)"
   ]
  },
  {
   "cell_type": "code",
   "execution_count": 120,
   "metadata": {},
   "outputs": [
    {
     "data": {
      "text/html": [
       "<div>\n",
       "<style scoped>\n",
       "    .dataframe tbody tr th:only-of-type {\n",
       "        vertical-align: middle;\n",
       "    }\n",
       "\n",
       "    .dataframe tbody tr th {\n",
       "        vertical-align: top;\n",
       "    }\n",
       "\n",
       "    .dataframe thead th {\n",
       "        text-align: right;\n",
       "    }\n",
       "</style>\n",
       "<table border=\"1\" class=\"dataframe\">\n",
       "  <thead>\n",
       "    <tr style=\"text-align: right;\">\n",
       "      <th></th>\n",
       "      <th>Text</th>\n",
       "    </tr>\n",
       "  </thead>\n",
       "  <tbody>\n",
       "    <tr>\n",
       "      <th>0</th>\n",
       "      <td>kemarin yg lempar lempar kaos masem mukanya le...</td>\n",
       "    </tr>\n",
       "    <tr>\n",
       "      <th>1</th>\n",
       "      <td>ga perduli penjelasanmuuuu puan kau orangnya k...</td>\n",
       "    </tr>\n",
       "    <tr>\n",
       "      <th>2</th>\n",
       "      <td>ciri ciri barang g laku diobral 💯</td>\n",
       "    </tr>\n",
       "    <tr>\n",
       "      <th>3</th>\n",
       "      <td>sadar 🤭 💯</td>\n",
       "    </tr>\n",
       "    <tr>\n",
       "      <th>4</th>\n",
       "      <td>gak dibrief 💯</td>\n",
       "    </tr>\n",
       "  </tbody>\n",
       "</table>\n",
       "</div>"
      ],
      "text/plain": [
       "                                                Text\n",
       "0  kemarin yg lempar lempar kaos masem mukanya le...\n",
       "1  ga perduli penjelasanmuuuu puan kau orangnya k...\n",
       "2                  ciri ciri barang g laku diobral 💯\n",
       "3                                          sadar 🤭 💯\n",
       "4                                      gak dibrief 💯"
      ]
     },
     "execution_count": 120,
     "metadata": {},
     "output_type": "execute_result"
    }
   ],
   "source": [
    "df_puan.head()"
   ]
  },
  {
   "attachments": {},
   "cell_type": "markdown",
   "metadata": {},
   "source": [
    "<h3>Datasets Luhut</h3>"
   ]
  },
  {
   "cell_type": "code",
   "execution_count": 121,
   "metadata": {},
   "outputs": [],
   "source": [
    "df_luhut['Text'] = df_luhut['Text'].apply(stopword_remover_sastrawi)"
   ]
  },
  {
   "cell_type": "code",
   "execution_count": 122,
   "metadata": {},
   "outputs": [],
   "source": [
    "df_luhut['Text'] = df_luhut['Text'].apply(stopword_remover_nltk)"
   ]
  },
  {
   "cell_type": "code",
   "execution_count": 123,
   "metadata": {},
   "outputs": [
    {
     "data": {
      "text/html": [
       "<div>\n",
       "<style scoped>\n",
       "    .dataframe tbody tr th:only-of-type {\n",
       "        vertical-align: middle;\n",
       "    }\n",
       "\n",
       "    .dataframe tbody tr th {\n",
       "        vertical-align: top;\n",
       "    }\n",
       "\n",
       "    .dataframe thead th {\n",
       "        text-align: right;\n",
       "    }\n",
       "</style>\n",
       "<table border=\"1\" class=\"dataframe\">\n",
       "  <thead>\n",
       "    <tr style=\"text-align: right;\">\n",
       "      <th></th>\n",
       "      <th>Text</th>\n",
       "    </tr>\n",
       "  </thead>\n",
       "  <tbody>\n",
       "    <tr>\n",
       "      <th>0</th>\n",
       "      <td>menko km opung luhut b panjaitan kendaraan lis...</td>\n",
       "    </tr>\n",
       "    <tr>\n",
       "      <th>1</th>\n",
       "      <td>luhut binsar panjaitan lbp abdi pahlawan negar...</td>\n",
       "    </tr>\n",
       "    <tr>\n",
       "      <th>2</th>\n",
       "      <td>yg kasih perintah luhut binsar panjaitan ketua...</td>\n",
       "    </tr>\n",
       "    <tr>\n",
       "      <th>3</th>\n",
       "      <td>melawan perintah luhut binsar panjaitan mendin...</td>\n",
       "    </tr>\n",
       "    <tr>\n",
       "      <th>4</th>\n",
       "      <td>hei luhut binsar panjaitan warga kau mengurus ...</td>\n",
       "    </tr>\n",
       "  </tbody>\n",
       "</table>\n",
       "</div>"
      ],
      "text/plain": [
       "                                                Text\n",
       "0  menko km opung luhut b panjaitan kendaraan lis...\n",
       "1  luhut binsar panjaitan lbp abdi pahlawan negar...\n",
       "2  yg kasih perintah luhut binsar panjaitan ketua...\n",
       "3  melawan perintah luhut binsar panjaitan mendin...\n",
       "4  hei luhut binsar panjaitan warga kau mengurus ..."
      ]
     },
     "execution_count": 123,
     "metadata": {},
     "output_type": "execute_result"
    }
   ],
   "source": [
    "df_luhut.head()"
   ]
  },
  {
   "attachments": {},
   "cell_type": "markdown",
   "metadata": {},
   "source": [
    "<h3>Datasets Ganjar</h3>"
   ]
  },
  {
   "cell_type": "code",
   "execution_count": 124,
   "metadata": {},
   "outputs": [],
   "source": [
    "df_ganjar['Text'] = df_ganjar['Text'].apply(stopword_remover_sastrawi)"
   ]
  },
  {
   "cell_type": "code",
   "execution_count": 125,
   "metadata": {},
   "outputs": [],
   "source": [
    "df_ganjar['Text'] = df_ganjar['Text'].apply(stopword_remover_nltk)"
   ]
  },
  {
   "cell_type": "code",
   "execution_count": 126,
   "metadata": {},
   "outputs": [
    {
     "data": {
      "text/html": [
       "<div>\n",
       "<style scoped>\n",
       "    .dataframe tbody tr th:only-of-type {\n",
       "        vertical-align: middle;\n",
       "    }\n",
       "\n",
       "    .dataframe tbody tr th {\n",
       "        vertical-align: top;\n",
       "    }\n",
       "\n",
       "    .dataframe thead th {\n",
       "        text-align: right;\n",
       "    }\n",
       "</style>\n",
       "<table border=\"1\" class=\"dataframe\">\n",
       "  <thead>\n",
       "    <tr style=\"text-align: right;\">\n",
       "      <th></th>\n",
       "      <th>Text</th>\n",
       "    </tr>\n",
       "  </thead>\n",
       "  <tbody>\n",
       "    <tr>\n",
       "      <th>0</th>\n",
       "      <td>murni konstitusi yg ditegakkan yg pd uud 45 al...</td>\n",
       "    </tr>\n",
       "    <tr>\n",
       "      <th>1</th>\n",
       "      <td>kantongnya bu mega paham jateng mengelu elukan...</td>\n",
       "    </tr>\n",
       "    <tr>\n",
       "      <th>2</th>\n",
       "      <td>haha suka 😭</td>\n",
       "    </tr>\n",
       "    <tr>\n",
       "      <th>3</th>\n",
       "      <td>setuju arahan jokowi ganjar pranowo larang pej...</td>\n",
       "    </tr>\n",
       "    <tr>\n",
       "      <th>4</th>\n",
       "      <td>sd q 1968 kadang pake sepatu kadang sandal jep...</td>\n",
       "    </tr>\n",
       "  </tbody>\n",
       "</table>\n",
       "</div>"
      ],
      "text/plain": [
       "                                                Text\n",
       "0  murni konstitusi yg ditegakkan yg pd uud 45 al...\n",
       "1  kantongnya bu mega paham jateng mengelu elukan...\n",
       "2                                        haha suka 😭\n",
       "3  setuju arahan jokowi ganjar pranowo larang pej...\n",
       "4  sd q 1968 kadang pake sepatu kadang sandal jep..."
      ]
     },
     "execution_count": 126,
     "metadata": {},
     "output_type": "execute_result"
    }
   ],
   "source": [
    "df_ganjar.head()"
   ]
  },
  {
   "attachments": {},
   "cell_type": "markdown",
   "metadata": {},
   "source": [
    "<h3>Datasets Republik Pencitraan</h3>"
   ]
  },
  {
   "cell_type": "code",
   "execution_count": 127,
   "metadata": {},
   "outputs": [],
   "source": [
    "df_republik['Text'] = df_republik['Text'].apply(stopword_remover_sastrawi)"
   ]
  },
  {
   "cell_type": "code",
   "execution_count": 128,
   "metadata": {},
   "outputs": [],
   "source": [
    "df_republik['Text'] = df_republik['Text'].apply(stopword_remover_nltk)"
   ]
  },
  {
   "cell_type": "code",
   "execution_count": 129,
   "metadata": {},
   "outputs": [
    {
     "data": {
      "text/html": [
       "<div>\n",
       "<style scoped>\n",
       "    .dataframe tbody tr th:only-of-type {\n",
       "        vertical-align: middle;\n",
       "    }\n",
       "\n",
       "    .dataframe tbody tr th {\n",
       "        vertical-align: top;\n",
       "    }\n",
       "\n",
       "    .dataframe thead th {\n",
       "        text-align: right;\n",
       "    }\n",
       "</style>\n",
       "<table border=\"1\" class=\"dataframe\">\n",
       "  <thead>\n",
       "    <tr style=\"text-align: right;\">\n",
       "      <th></th>\n",
       "      <th>Text</th>\n",
       "    </tr>\n",
       "  </thead>\n",
       "  <tbody>\n",
       "    <tr>\n",
       "      <th>0</th>\n",
       "      <td>anak anak buzzing selamat lembur awas pke mask...</td>\n",
       "    </tr>\n",
       "    <tr>\n",
       "      <th>1</th>\n",
       "      <td>ulama dipersekusi giliran duit umat langsung n...</td>\n",
       "    </tr>\n",
       "    <tr>\n",
       "      <th>2</th>\n",
       "      <td>tangkap ikan kakap laut dangkal ndak bernyali ...</td>\n",
       "    </tr>\n",
       "    <tr>\n",
       "      <th>3</th>\n",
       "      <td>anak pertiwi rat teriak betapa susah nya ekono...</td>\n",
       "    </tr>\n",
       "    <tr>\n",
       "      <th>4</th>\n",
       "      <td>usut kalo rakyat ramai ramai mengusut nya insy...</td>\n",
       "    </tr>\n",
       "  </tbody>\n",
       "</table>\n",
       "</div>"
      ],
      "text/plain": [
       "                                                Text\n",
       "0  anak anak buzzing selamat lembur awas pke mask...\n",
       "1  ulama dipersekusi giliran duit umat langsung n...\n",
       "2  tangkap ikan kakap laut dangkal ndak bernyali ...\n",
       "3  anak pertiwi rat teriak betapa susah nya ekono...\n",
       "4  usut kalo rakyat ramai ramai mengusut nya insy..."
      ]
     },
     "execution_count": 129,
     "metadata": {},
     "output_type": "execute_result"
    }
   ],
   "source": [
    "df_republik.head()"
   ]
  },
  {
   "attachments": {},
   "cell_type": "markdown",
   "metadata": {},
   "source": [
    "<h3>Datasets Politik</h3>"
   ]
  },
  {
   "cell_type": "code",
   "execution_count": 130,
   "metadata": {},
   "outputs": [],
   "source": [
    "df_politik['Text'] = df_politik['Text'].apply(stopword_remover_sastrawi)"
   ]
  },
  {
   "cell_type": "code",
   "execution_count": 131,
   "metadata": {},
   "outputs": [],
   "source": [
    "df_politik['Text'] = df_politik['Text'].apply(stopword_remover_nltk)"
   ]
  },
  {
   "cell_type": "code",
   "execution_count": 132,
   "metadata": {},
   "outputs": [
    {
     "data": {
      "text/html": [
       "<div>\n",
       "<style scoped>\n",
       "    .dataframe tbody tr th:only-of-type {\n",
       "        vertical-align: middle;\n",
       "    }\n",
       "\n",
       "    .dataframe tbody tr th {\n",
       "        vertical-align: top;\n",
       "    }\n",
       "\n",
       "    .dataframe thead th {\n",
       "        text-align: right;\n",
       "    }\n",
       "</style>\n",
       "<table border=\"1\" class=\"dataframe\">\n",
       "  <thead>\n",
       "    <tr style=\"text-align: right;\">\n",
       "      <th></th>\n",
       "      <th>Text</th>\n",
       "    </tr>\n",
       "  </thead>\n",
       "  <tbody>\n",
       "    <tr>\n",
       "      <th>0</th>\n",
       "      <td>kawan2 sunda bersatu jemput arteria dahlan 😁</td>\n",
       "    </tr>\n",
       "    <tr>\n",
       "      <th>1</th>\n",
       "      <td>arogan kapok2 arteria dahlan 😁</td>\n",
       "    </tr>\n",
       "    <tr>\n",
       "      <th>2</th>\n",
       "      <td>arteria dahlan disidang adat sunda daerah menu...</td>\n",
       "    </tr>\n",
       "    <tr>\n",
       "      <th>3</th>\n",
       "      <td>orang sunda jemput arteria dahlan sidang rakya...</td>\n",
       "    </tr>\n",
       "    <tr>\n",
       "      <th>4</th>\n",
       "      <td>ga ditafsirkan membanding bandingkan edy arter...</td>\n",
       "    </tr>\n",
       "  </tbody>\n",
       "</table>\n",
       "</div>"
      ],
      "text/plain": [
       "                                                Text\n",
       "0       kawan2 sunda bersatu jemput arteria dahlan 😁\n",
       "1                     arogan kapok2 arteria dahlan 😁\n",
       "2  arteria dahlan disidang adat sunda daerah menu...\n",
       "3  orang sunda jemput arteria dahlan sidang rakya...\n",
       "4  ga ditafsirkan membanding bandingkan edy arter..."
      ]
     },
     "execution_count": 132,
     "metadata": {},
     "output_type": "execute_result"
    }
   ],
   "source": [
    "df_politik.head()"
   ]
  },
  {
   "attachments": {},
   "cell_type": "markdown",
   "metadata": {},
   "source": [
    "<h2>Make sure punctuations has been removed</h2>"
   ]
  },
  {
   "cell_type": "code",
   "execution_count": null,
   "metadata": {},
   "outputs": [],
   "source": [
    "def check_non_alphabet(text):\n",
    "    punc = []\n",
    "    for text in text:\n",
    "        non_alphabet = re.findall(\"[^\\sa-zA-Z]+\", text)\n",
    "        if non_alphabet:\n",
    "            punc.extend(non_alphabet)\n",
    "    return punc"
   ]
  },
  {
   "attachments": {},
   "cell_type": "markdown",
   "metadata": {},
   "source": [
    "<h3>Datasets CakNun</h3>"
   ]
  },
  {
   "cell_type": "code",
   "execution_count": null,
   "metadata": {},
   "outputs": [],
   "source": [
    "# punc_CakNun = check_non_alphabet(df_caknun['Text'])\n",
    "# for i in punc_CakNun:\n",
    "#     print(i)"
   ]
  },
  {
   "attachments": {},
   "cell_type": "markdown",
   "metadata": {},
   "source": [
    "<h3>Datasets Anies</h3>"
   ]
  },
  {
   "cell_type": "code",
   "execution_count": null,
   "metadata": {},
   "outputs": [],
   "source": [
    "# punc_Anies = check_non_alphabet(df_anies['Text'])\n",
    "# for i in punc_Anies:\n",
    "#     print(i)"
   ]
  },
  {
   "attachments": {},
   "cell_type": "markdown",
   "metadata": {},
   "source": [
    "<h3>Datasets Puan</h3>"
   ]
  },
  {
   "cell_type": "code",
   "execution_count": null,
   "metadata": {},
   "outputs": [],
   "source": [
    "# punc_Puan = check_non_alphabet(df_puan['Text'])\n",
    "# for i in punc_Puan:\n",
    "#     print(i)"
   ]
  },
  {
   "attachments": {},
   "cell_type": "markdown",
   "metadata": {},
   "source": [
    "<h3>Datasets Luhut</h3>"
   ]
  },
  {
   "cell_type": "code",
   "execution_count": null,
   "metadata": {},
   "outputs": [],
   "source": [
    "# punc_Luhut = check_non_alphabet(df_luhut['Text'])\n",
    "# for i in punc_Luhut:\n",
    "#     print(i)"
   ]
  },
  {
   "attachments": {},
   "cell_type": "markdown",
   "metadata": {},
   "source": [
    "<h3>Datasets Ganjar</h3>"
   ]
  },
  {
   "cell_type": "code",
   "execution_count": null,
   "metadata": {},
   "outputs": [],
   "source": [
    "# punc_Ganjar = check_non_alphabet(df_ganjar['Text'])\n",
    "# for i in punc_Ganjar:\n",
    "#     print(i)"
   ]
  },
  {
   "attachments": {},
   "cell_type": "markdown",
   "metadata": {},
   "source": [
    "<h3>Datasets Republik Pencitraan</h3>"
   ]
  },
  {
   "cell_type": "code",
   "execution_count": null,
   "metadata": {},
   "outputs": [],
   "source": [
    "# punc_Republik = check_non_alphabet(df_republik['Text'])\n",
    "# for i in punc_Republik:\n",
    "#     print(i)"
   ]
  },
  {
   "attachments": {},
   "cell_type": "markdown",
   "metadata": {},
   "source": [
    "<h3>Datasets Politik</h3>"
   ]
  },
  {
   "cell_type": "code",
   "execution_count": null,
   "metadata": {},
   "outputs": [],
   "source": [
    "# punc_Politik = check_non_alphabet(df_politik['Text'])\n",
    "# for i in punc_Politik:\n",
    "#     print(i)"
   ]
  },
  {
   "attachments": {},
   "cell_type": "markdown",
   "metadata": {},
   "source": [
    "<h2>Separate alnums by emoji</h2>"
   ]
  },
  {
   "attachments": {},
   "cell_type": "markdown",
   "metadata": {},
   "source": [
    "<h3>Datasets CakNun</h3>"
   ]
  },
  {
   "cell_type": "code",
   "execution_count": 133,
   "metadata": {},
   "outputs": [],
   "source": [
    "df_caknun['emoji'] = df_caknun['Text'].apply(lambda x: re.findall(r'\\W', x))"
   ]
  },
  {
   "cell_type": "code",
   "execution_count": 134,
   "metadata": {},
   "outputs": [],
   "source": [
    "df_caknun['Text'] = df_caknun['Text'].apply(lambda x: re.sub(r'\\W+', ' ', x))"
   ]
  },
  {
   "cell_type": "code",
   "execution_count": 135,
   "metadata": {},
   "outputs": [
    {
     "data": {
      "text/html": [
       "<div>\n",
       "<style scoped>\n",
       "    .dataframe tbody tr th:only-of-type {\n",
       "        vertical-align: middle;\n",
       "    }\n",
       "\n",
       "    .dataframe tbody tr th {\n",
       "        vertical-align: top;\n",
       "    }\n",
       "\n",
       "    .dataframe thead th {\n",
       "        text-align: right;\n",
       "    }\n",
       "</style>\n",
       "<table border=\"1\" class=\"dataframe\">\n",
       "  <thead>\n",
       "    <tr style=\"text-align: right;\">\n",
       "      <th></th>\n",
       "      <th>Text</th>\n",
       "      <th>emoji</th>\n",
       "    </tr>\n",
       "  </thead>\n",
       "  <tbody>\n",
       "    <tr>\n",
       "      <th>0</th>\n",
       "      <td>mencemooh putus asa marah sejenis menekankan s...</td>\n",
       "      <td>[ ,  ,  ,  ,  ,  ,  ,  , 😨]</td>\n",
       "    </tr>\n",
       "    <tr>\n",
       "      <th>1</th>\n",
       "      <td>jagat jagat mengenal tuhan mengenal mengenal m</td>\n",
       "      <td>[ ,  ,  ,  ,  ,  ,  , 😨]</td>\n",
       "    </tr>\n",
       "    <tr>\n",
       "      <th>2</th>\n",
       "      <td>mbah nun politisi kubu 01 bonekay korp serakah...</td>\n",
       "      <td>[ ,  ,  ,  ,  ,  ,  ,  ,  ,  ,  ,  ,  ,  ,  , ...</td>\n",
       "    </tr>\n",
       "    <tr>\n",
       "      <th>3</th>\n",
       "      <td>mbah nun s b ydyo j k kubu 01 2y negarawan pol...</td>\n",
       "      <td>[ ,  ,  ,  ,  ,  ,  ,  ,  ,  ,  ,  ,  ,  ,  , ...</td>\n",
       "    </tr>\n",
       "    <tr>\n",
       "      <th>4</th>\n",
       "      <td>mbah nun banci komunis sengkuni yg ngumpet dib...</td>\n",
       "      <td>[ ,  ,  ,  ,  ,  ,  ,  ,  ,  ,  ,  ,  ,  ,  , ...</td>\n",
       "    </tr>\n",
       "    <tr>\n",
       "      <th>5</th>\n",
       "      <td>mbah nun berlagak ndalank silahkan dibaca foto...</td>\n",
       "      <td>[ ,  ,  ,  , 👉,  ,  ,  , 👈,  ,  ,  ,  ,  ,  , ...</td>\n",
       "    </tr>\n",
       "    <tr>\n",
       "      <th>6</th>\n",
       "      <td>caplin politikus rakus bertinggi badan cebol k...</td>\n",
       "      <td>[ , 👇,  ,  ,  ,  ,  ,  ,  ,  ,  ,  ,  ,  ,  , ...</td>\n",
       "    </tr>\n",
       "    <tr>\n",
       "      <th>7</th>\n",
       "      <td>mbah nun ma mengontrak disampink rumah baik2 a...</td>\n",
       "      <td>[ ,  ,  ,  ,  ,  ,  ,  ,  ,  ,  ,  ,  ,  ,  , ...</td>\n",
       "    </tr>\n",
       "    <tr>\n",
       "      <th>8</th>\n",
       "      <td>mbah nun kondisi media pribadi saya in sedank ...</td>\n",
       "      <td>[ ,  ,  ,  ,  , 👇,  ,  ,  ,  ,  ,  ,  ,  ,  , ...</td>\n",
       "    </tr>\n",
       "    <tr>\n",
       "      <th>9</th>\n",
       "      <td>suami istri gagal kerap dinilai menjaga kehorm...</td>\n",
       "      <td>[ ,  ,  ,  ,  ,  ,  ,  , 😨]</td>\n",
       "    </tr>\n",
       "    <tr>\n",
       "      <th>10</th>\n",
       "      <td>orang ga ngerti apa2 sejarah nu muhammadyah be...</td>\n",
       "      <td>[ ,  ,  ,  ,  ,  ,  ,  ,  ,  ,  ,  ,  ,  ,  , ...</td>\n",
       "    </tr>\n",
       "    <tr>\n",
       "      <th>11</th>\n",
       "      <td>cak nun freire orwell twit</td>\n",
       "      <td>[ ,  ,  ,  ,  , 😨]</td>\n",
       "    </tr>\n",
       "    <tr>\n",
       "      <th>12</th>\n",
       "      <td>mbah sipil2 komplotan kriminal penjahat perusa...</td>\n",
       "      <td>[ ,  ,  ,  ,  ,  ,  ,  ,  ,  ,  ,  ,  ,  ,  , ...</td>\n",
       "    </tr>\n",
       "    <tr>\n",
       "      <th>13</th>\n",
       "      <td>mbah nun kecoa tni ad s b y luhut b p j k teru...</td>\n",
       "      <td>[ ,  ,  ,  ,  ,  ,  ,  ,  ,  ,  ,  ,  ,  ,  , ...</td>\n",
       "    </tr>\n",
       "    <tr>\n",
       "      <th>14</th>\n",
       "      <td>mbah nun politisi malink kemampuan idividuy le...</td>\n",
       "      <td>[ ,  , 👇,  ,  ,  ,  ,  ,  ,  ,  ,  ,  ,  ,  , ...</td>\n",
       "    </tr>\n",
       "    <tr>\n",
       "      <th>15</th>\n",
       "      <td>habis yg korek2 kamrin cak nun skrg gus miftah...</td>\n",
       "      <td>[ ,  ,  ,  ,  ,  ,  ,  ,  ,  , 😨]</td>\n",
       "    </tr>\n",
       "    <tr>\n",
       "      <th>16</th>\n",
       "      <td>aslinya penjilat cendana hidup or bacot gede</td>\n",
       "      <td>[ ,  ,  ,  ,  ,  ,  , 😨]</td>\n",
       "    </tr>\n",
       "    <tr>\n",
       "      <th>17</th>\n",
       "      <td>mbah biank keroky sumber masalahy hayoo mbulet...</td>\n",
       "      <td>[ ,  ,  ,  , 👇,  ,  ,  ,  ,  ,  ,  ,  ,  ,  , ...</td>\n",
       "    </tr>\n",
       "    <tr>\n",
       "      <th>18</th>\n",
       "      <td>kalo si wowon emang beneran kerasukan setan be...</td>\n",
       "      <td>[ ,  ,  ,  ,  ,  ,  , 😃, 😃, 😃,  ,  ,  ,  ,  , ...</td>\n",
       "    </tr>\n",
       "    <tr>\n",
       "      <th>19</th>\n",
       "      <td>tuhan menciptakan pundak lelaki menyangga tang...</td>\n",
       "      <td>[ ,  ,  ,  ,  ,  ,  , 😨]</td>\n",
       "    </tr>\n",
       "    <tr>\n",
       "      <th>20</th>\n",
       "      <td>setan diturunkan bumi mahluk penggoda manusia ...</td>\n",
       "      <td>[ ,  ,  ,  ,  ,  ,  ,  ,  ,  ,  ,  ,  ,  ,  , ...</td>\n",
       "    </tr>\n",
       "  </tbody>\n",
       "</table>\n",
       "</div>"
      ],
      "text/plain": [
       "                                                 Text  \\\n",
       "0   mencemooh putus asa marah sejenis menekankan s...   \n",
       "1     jagat jagat mengenal tuhan mengenal mengenal m    \n",
       "2   mbah nun politisi kubu 01 bonekay korp serakah...   \n",
       "3   mbah nun s b ydyo j k kubu 01 2y negarawan pol...   \n",
       "4   mbah nun banci komunis sengkuni yg ngumpet dib...   \n",
       "5   mbah nun berlagak ndalank silahkan dibaca foto...   \n",
       "6   caplin politikus rakus bertinggi badan cebol k...   \n",
       "7   mbah nun ma mengontrak disampink rumah baik2 a...   \n",
       "8   mbah nun kondisi media pribadi saya in sedank ...   \n",
       "9   suami istri gagal kerap dinilai menjaga kehorm...   \n",
       "10  orang ga ngerti apa2 sejarah nu muhammadyah be...   \n",
       "11                        cak nun freire orwell twit    \n",
       "12  mbah sipil2 komplotan kriminal penjahat perusa...   \n",
       "13  mbah nun kecoa tni ad s b y luhut b p j k teru...   \n",
       "14  mbah nun politisi malink kemampuan idividuy le...   \n",
       "15  habis yg korek2 kamrin cak nun skrg gus miftah...   \n",
       "16      aslinya penjilat cendana hidup or bacot gede    \n",
       "17  mbah biank keroky sumber masalahy hayoo mbulet...   \n",
       "18  kalo si wowon emang beneran kerasukan setan be...   \n",
       "19  tuhan menciptakan pundak lelaki menyangga tang...   \n",
       "20  setan diturunkan bumi mahluk penggoda manusia ...   \n",
       "\n",
       "                                                emoji  \n",
       "0                         [ ,  ,  ,  ,  ,  ,  ,  , 😨]  \n",
       "1                            [ ,  ,  ,  ,  ,  ,  , 😨]  \n",
       "2   [ ,  ,  ,  ,  ,  ,  ,  ,  ,  ,  ,  ,  ,  ,  , ...  \n",
       "3   [ ,  ,  ,  ,  ,  ,  ,  ,  ,  ,  ,  ,  ,  ,  , ...  \n",
       "4   [ ,  ,  ,  ,  ,  ,  ,  ,  ,  ,  ,  ,  ,  ,  , ...  \n",
       "5   [ ,  ,  ,  , 👉,  ,  ,  , 👈,  ,  ,  ,  ,  ,  , ...  \n",
       "6   [ , 👇,  ,  ,  ,  ,  ,  ,  ,  ,  ,  ,  ,  ,  , ...  \n",
       "7   [ ,  ,  ,  ,  ,  ,  ,  ,  ,  ,  ,  ,  ,  ,  , ...  \n",
       "8   [ ,  ,  ,  ,  , 👇,  ,  ,  ,  ,  ,  ,  ,  ,  , ...  \n",
       "9                         [ ,  ,  ,  ,  ,  ,  ,  , 😨]  \n",
       "10  [ ,  ,  ,  ,  ,  ,  ,  ,  ,  ,  ,  ,  ,  ,  , ...  \n",
       "11                                 [ ,  ,  ,  ,  , 😨]  \n",
       "12  [ ,  ,  ,  ,  ,  ,  ,  ,  ,  ,  ,  ,  ,  ,  , ...  \n",
       "13  [ ,  ,  ,  ,  ,  ,  ,  ,  ,  ,  ,  ,  ,  ,  , ...  \n",
       "14  [ ,  , 👇,  ,  ,  ,  ,  ,  ,  ,  ,  ,  ,  ,  , ...  \n",
       "15                  [ ,  ,  ,  ,  ,  ,  ,  ,  ,  , 😨]  \n",
       "16                           [ ,  ,  ,  ,  ,  ,  , 😨]  \n",
       "17  [ ,  ,  ,  , 👇,  ,  ,  ,  ,  ,  ,  ,  ,  ,  , ...  \n",
       "18  [ ,  ,  ,  ,  ,  ,  , 😃, 😃, 😃,  ,  ,  ,  ,  , ...  \n",
       "19                           [ ,  ,  ,  ,  ,  ,  , 😨]  \n",
       "20  [ ,  ,  ,  ,  ,  ,  ,  ,  ,  ,  ,  ,  ,  ,  , ...  "
      ]
     },
     "execution_count": 135,
     "metadata": {},
     "output_type": "execute_result"
    }
   ],
   "source": [
    "df_caknun.head(21)"
   ]
  },
  {
   "cell_type": "code",
   "execution_count": 136,
   "metadata": {},
   "outputs": [],
   "source": [
    "df_caknun['emoji'] = df_caknun['emoji'].apply(''.join)"
   ]
  },
  {
   "cell_type": "code",
   "execution_count": 137,
   "metadata": {},
   "outputs": [],
   "source": [
    "df_caknun['emoji'] = df_caknun['emoji'].astype(str)"
   ]
  },
  {
   "cell_type": "code",
   "execution_count": 138,
   "metadata": {},
   "outputs": [
    {
     "data": {
      "text/html": [
       "<div>\n",
       "<style scoped>\n",
       "    .dataframe tbody tr th:only-of-type {\n",
       "        vertical-align: middle;\n",
       "    }\n",
       "\n",
       "    .dataframe tbody tr th {\n",
       "        vertical-align: top;\n",
       "    }\n",
       "\n",
       "    .dataframe thead th {\n",
       "        text-align: right;\n",
       "    }\n",
       "</style>\n",
       "<table border=\"1\" class=\"dataframe\">\n",
       "  <thead>\n",
       "    <tr style=\"text-align: right;\">\n",
       "      <th></th>\n",
       "      <th>Text</th>\n",
       "      <th>emoji</th>\n",
       "    </tr>\n",
       "  </thead>\n",
       "  <tbody>\n",
       "    <tr>\n",
       "      <th>0</th>\n",
       "      <td>mencemooh putus asa marah sejenis menekankan s...</td>\n",
       "      <td>😨</td>\n",
       "    </tr>\n",
       "    <tr>\n",
       "      <th>1</th>\n",
       "      <td>jagat jagat mengenal tuhan mengenal mengenal m</td>\n",
       "      <td>😨</td>\n",
       "    </tr>\n",
       "    <tr>\n",
       "      <th>2</th>\n",
       "      <td>mbah nun politisi kubu 01 bonekay korp serakah...</td>\n",
       "      <td>👉   👈 😨</td>\n",
       "    </tr>\n",
       "    <tr>\n",
       "      <th>3</th>\n",
       "      <td>mbah nun s b ydyo j k kubu 01 2y negarawan pol...</td>\n",
       "      <td>👇   😨</td>\n",
       "    </tr>\n",
       "    <tr>\n",
       "      <th>4</th>\n",
       "      <td>mbah nun banci komunis sengkuni yg ngumpet dib...</td>\n",
       "      <td>👉            👈     😨</td>\n",
       "    </tr>\n",
       "    <tr>\n",
       "      <th>5</th>\n",
       "      <td>mbah nun berlagak ndalank silahkan dibaca foto...</td>\n",
       "      <td>👉   👈                      😨</td>\n",
       "    </tr>\n",
       "    <tr>\n",
       "      <th>6</th>\n",
       "      <td>caplin politikus rakus bertinggi badan cebol k...</td>\n",
       "      <td>👇                          😨</td>\n",
       "    </tr>\n",
       "    <tr>\n",
       "      <th>7</th>\n",
       "      <td>mbah nun ma mengontrak disampink rumah baik2 a...</td>\n",
       "      <td>😏        😨</td>\n",
       "    </tr>\n",
       "    <tr>\n",
       "      <th>8</th>\n",
       "      <td>mbah nun kondisi media pribadi saya in sedank ...</td>\n",
       "      <td>👇                       👉      👈 😨</td>\n",
       "    </tr>\n",
       "    <tr>\n",
       "      <th>9</th>\n",
       "      <td>suami istri gagal kerap dinilai menjaga kehorm...</td>\n",
       "      <td>😨</td>\n",
       "    </tr>\n",
       "    <tr>\n",
       "      <th>10</th>\n",
       "      <td>orang ga ngerti apa2 sejarah nu muhammadyah be...</td>\n",
       "      <td>😨</td>\n",
       "    </tr>\n",
       "    <tr>\n",
       "      <th>11</th>\n",
       "      <td>cak nun freire orwell twit</td>\n",
       "      <td>😨</td>\n",
       "    </tr>\n",
       "    <tr>\n",
       "      <th>12</th>\n",
       "      <td>mbah sipil2 komplotan kriminal penjahat perusa...</td>\n",
       "      <td>😨</td>\n",
       "    </tr>\n",
       "    <tr>\n",
       "      <th>13</th>\n",
       "      <td>mbah nun kecoa tni ad s b y luhut b p j k teru...</td>\n",
       "      <td>😨</td>\n",
       "    </tr>\n",
       "    <tr>\n",
       "      <th>14</th>\n",
       "      <td>mbah nun politisi malink kemampuan idividuy le...</td>\n",
       "      <td>👇                        😨</td>\n",
       "    </tr>\n",
       "    <tr>\n",
       "      <th>15</th>\n",
       "      <td>habis yg korek2 kamrin cak nun skrg gus miftah...</td>\n",
       "      <td>😨</td>\n",
       "    </tr>\n",
       "    <tr>\n",
       "      <th>16</th>\n",
       "      <td>aslinya penjilat cendana hidup or bacot gede</td>\n",
       "      <td>😨</td>\n",
       "    </tr>\n",
       "    <tr>\n",
       "      <th>17</th>\n",
       "      <td>mbah biank keroky sumber masalahy hayoo mbulet...</td>\n",
       "      <td>👇                  👉        😨</td>\n",
       "    </tr>\n",
       "    <tr>\n",
       "      <th>18</th>\n",
       "      <td>kalo si wowon emang beneran kerasukan setan be...</td>\n",
       "      <td>😃😃😃      😂 😨</td>\n",
       "    </tr>\n",
       "    <tr>\n",
       "      <th>19</th>\n",
       "      <td>tuhan menciptakan pundak lelaki menyangga tang...</td>\n",
       "      <td>😨</td>\n",
       "    </tr>\n",
       "    <tr>\n",
       "      <th>20</th>\n",
       "      <td>setan diturunkan bumi mahluk penggoda manusia ...</td>\n",
       "      <td>😨</td>\n",
       "    </tr>\n",
       "  </tbody>\n",
       "</table>\n",
       "</div>"
      ],
      "text/plain": [
       "                                                 Text  \\\n",
       "0   mencemooh putus asa marah sejenis menekankan s...   \n",
       "1     jagat jagat mengenal tuhan mengenal mengenal m    \n",
       "2   mbah nun politisi kubu 01 bonekay korp serakah...   \n",
       "3   mbah nun s b ydyo j k kubu 01 2y negarawan pol...   \n",
       "4   mbah nun banci komunis sengkuni yg ngumpet dib...   \n",
       "5   mbah nun berlagak ndalank silahkan dibaca foto...   \n",
       "6   caplin politikus rakus bertinggi badan cebol k...   \n",
       "7   mbah nun ma mengontrak disampink rumah baik2 a...   \n",
       "8   mbah nun kondisi media pribadi saya in sedank ...   \n",
       "9   suami istri gagal kerap dinilai menjaga kehorm...   \n",
       "10  orang ga ngerti apa2 sejarah nu muhammadyah be...   \n",
       "11                        cak nun freire orwell twit    \n",
       "12  mbah sipil2 komplotan kriminal penjahat perusa...   \n",
       "13  mbah nun kecoa tni ad s b y luhut b p j k teru...   \n",
       "14  mbah nun politisi malink kemampuan idividuy le...   \n",
       "15  habis yg korek2 kamrin cak nun skrg gus miftah...   \n",
       "16      aslinya penjilat cendana hidup or bacot gede    \n",
       "17  mbah biank keroky sumber masalahy hayoo mbulet...   \n",
       "18  kalo si wowon emang beneran kerasukan setan be...   \n",
       "19  tuhan menciptakan pundak lelaki menyangga tang...   \n",
       "20  setan diturunkan bumi mahluk penggoda manusia ...   \n",
       "\n",
       "                                      emoji  \n",
       "0                                         😨  \n",
       "1                                         😨  \n",
       "2                                   👉   👈 😨  \n",
       "3                                     👇   😨  \n",
       "4                      👉            👈     😨  \n",
       "5              👉   👈                      😨  \n",
       "6              👇                          😨  \n",
       "7                                😏        😨  \n",
       "8        👇                       👉      👈 😨  \n",
       "9                                         😨  \n",
       "10                                        😨  \n",
       "11                                        😨  \n",
       "12                                        😨  \n",
       "13                                        😨  \n",
       "14               👇                        😨  \n",
       "15                                        😨  \n",
       "16                                        😨  \n",
       "17            👇                  👉        😨  \n",
       "18                             😃😃😃      😂 😨  \n",
       "19                                        😨  \n",
       "20                                        😨  "
      ]
     },
     "execution_count": 138,
     "metadata": {},
     "output_type": "execute_result"
    }
   ],
   "source": [
    "df_caknun.head(21)"
   ]
  },
  {
   "cell_type": "code",
   "execution_count": 139,
   "metadata": {},
   "outputs": [],
   "source": [
    "df_caknun['text_emoji'] = df_caknun['Text'] + df_caknun['emoji']"
   ]
  },
  {
   "cell_type": "code",
   "execution_count": 140,
   "metadata": {},
   "outputs": [],
   "source": [
    "df_caknun['text_emoji'] = df_caknun['text_emoji'].apply(remove_newLines)"
   ]
  },
  {
   "cell_type": "code",
   "execution_count": 141,
   "metadata": {},
   "outputs": [],
   "source": [
    "df_caknun['text_emoji'] = df_caknun['text_emoji'].apply(lambda x: x.split())"
   ]
  },
  {
   "cell_type": "code",
   "execution_count": 142,
   "metadata": {},
   "outputs": [
    {
     "data": {
      "text/plain": [
       "['mbah',\n",
       " 'nun',\n",
       " 'politisi',\n",
       " 'kubu',\n",
       " '01',\n",
       " 'bonekay',\n",
       " 'korp',\n",
       " 'serakah',\n",
       " 'hobi',\n",
       " 'campur',\n",
       " 'kurank',\n",
       " 'ajar',\n",
       " 'tni',\n",
       " 'ad',\n",
       " 'cikeas',\n",
       " 'j',\n",
       " 'k',\n",
       " 'golkar',\n",
       " 'politisi',\n",
       " 'kecoa',\n",
       " 'komunis',\n",
       " 'asli',\n",
       " 'solo',\n",
       " 'politisi',\n",
       " 'maaruf',\n",
       " 'amin',\n",
       " 'sunda',\n",
       " 'anggota',\n",
       " 'ormas',\n",
       " 'n',\n",
       " 'u',\n",
       " 'kalah',\n",
       " 'pilpres',\n",
       " '2019',\n",
       " '👉',\n",
       " '👈',\n",
       " '😨']"
      ]
     },
     "execution_count": 142,
     "metadata": {},
     "output_type": "execute_result"
    }
   ],
   "source": [
    "df_caknun['text_emoji'][2]"
   ]
  },
  {
   "cell_type": "code",
   "execution_count": 143,
   "metadata": {},
   "outputs": [
    {
     "name": "stdout",
     "output_type": "stream",
     "text": [
      "1\n",
      "1\n"
     ]
    }
   ],
   "source": [
    "tokens = df_caknun['text_emoji'][2]\n",
    "emoji_pos = ['😃','😂', '👉']\n",
    "emoji_neg = ['😨']\n",
    "\n",
    "total_positif = sum(1 for i in tokens if i in emoji_pos)\n",
    "print(total_positif)\n",
    "\n",
    "total_negatif = sum(1 for i in tokens if i in emoji_neg)\n",
    "print(total_negatif)\n"
   ]
  },
  {
   "attachments": {},
   "cell_type": "markdown",
   "metadata": {},
   "source": [
    "<h3>Datasets Anies</h3>"
   ]
  },
  {
   "cell_type": "code",
   "execution_count": null,
   "metadata": {},
   "outputs": [],
   "source": [
    "df_anies['emoji'] = df_anies['Text'].apply(lambda x: re.findall(r'\\W', x))"
   ]
  },
  {
   "cell_type": "code",
   "execution_count": null,
   "metadata": {},
   "outputs": [],
   "source": [
    "df_anies['emoji'] = df_anies['emoji'].astype(str)"
   ]
  },
  {
   "cell_type": "code",
   "execution_count": null,
   "metadata": {},
   "outputs": [],
   "source": [
    "df_anies.head(21)"
   ]
  },
  {
   "cell_type": "code",
   "execution_count": null,
   "metadata": {},
   "outputs": [],
   "source": [
    "# df_anies['emoji'] = df_anies['emoji'].apply(''.join)"
   ]
  },
  {
   "cell_type": "code",
   "execution_count": null,
   "metadata": {},
   "outputs": [],
   "source": [
    "df_anies['emoji'].head(7)"
   ]
  },
  {
   "attachments": {},
   "cell_type": "markdown",
   "metadata": {},
   "source": [
    "<h3>Datasets Puan</h3>"
   ]
  },
  {
   "cell_type": "code",
   "execution_count": null,
   "metadata": {},
   "outputs": [],
   "source": [
    "df_puan['emoji'] = df_puan['Text'].apply(lambda x: re.findall(r'\\W', x))"
   ]
  },
  {
   "cell_type": "code",
   "execution_count": null,
   "metadata": {},
   "outputs": [],
   "source": [
    "df_puan['emoji'] = df_puan['emoji'].astype(str)"
   ]
  },
  {
   "cell_type": "code",
   "execution_count": null,
   "metadata": {},
   "outputs": [],
   "source": [
    "df_puan.head(21)"
   ]
  },
  {
   "cell_type": "code",
   "execution_count": null,
   "metadata": {},
   "outputs": [],
   "source": [
    "# df_puan['emoji'] = df_puan['emoji'].apply(''.join)"
   ]
  },
  {
   "cell_type": "code",
   "execution_count": null,
   "metadata": {},
   "outputs": [],
   "source": [
    "df_puan.head(21)"
   ]
  },
  {
   "attachments": {},
   "cell_type": "markdown",
   "metadata": {},
   "source": [
    "<h3>Datasets Luhut</h3>"
   ]
  },
  {
   "cell_type": "code",
   "execution_count": null,
   "metadata": {},
   "outputs": [],
   "source": [
    "df_luhut['emoji'] = df_luhut['Text'].apply(lambda x: re.findall(r'\\W', x))"
   ]
  },
  {
   "cell_type": "code",
   "execution_count": null,
   "metadata": {},
   "outputs": [],
   "source": [
    "df_luhut['emoji'] = df_luhut['emoji'].astype(str)"
   ]
  },
  {
   "cell_type": "code",
   "execution_count": null,
   "metadata": {},
   "outputs": [],
   "source": [
    "df_luhut.head(21)"
   ]
  },
  {
   "cell_type": "code",
   "execution_count": null,
   "metadata": {},
   "outputs": [],
   "source": [
    "# df_luhut['emoji'] = df_luhut['emoji'].apply(''.join)"
   ]
  },
  {
   "cell_type": "code",
   "execution_count": null,
   "metadata": {},
   "outputs": [],
   "source": [
    "df_luhut.head(21)"
   ]
  },
  {
   "attachments": {},
   "cell_type": "markdown",
   "metadata": {},
   "source": [
    "<h3>Datasets Ganjar</h3>"
   ]
  },
  {
   "cell_type": "code",
   "execution_count": null,
   "metadata": {},
   "outputs": [],
   "source": [
    "df_ganjar['emoji'] = df_ganjar['Text'].apply(lambda x: re.findall(r'\\W', x))"
   ]
  },
  {
   "cell_type": "code",
   "execution_count": null,
   "metadata": {},
   "outputs": [],
   "source": [
    "df_ganjar['emoji'] = df_ganjar['emoji'].astype(str)"
   ]
  },
  {
   "cell_type": "code",
   "execution_count": null,
   "metadata": {},
   "outputs": [],
   "source": [
    "df_ganjar.head(21)"
   ]
  },
  {
   "cell_type": "code",
   "execution_count": null,
   "metadata": {},
   "outputs": [],
   "source": [
    "# df_ganjar['emoji'] = df_ganjar['emoji'].apply(''.join)"
   ]
  },
  {
   "cell_type": "code",
   "execution_count": null,
   "metadata": {},
   "outputs": [],
   "source": [
    "df_ganjar.head(21)"
   ]
  },
  {
   "attachments": {},
   "cell_type": "markdown",
   "metadata": {},
   "source": [
    "<h3>Datasets Republik Pencitraan</h3>"
   ]
  },
  {
   "cell_type": "code",
   "execution_count": null,
   "metadata": {},
   "outputs": [],
   "source": [
    "df_republik['emoji'] = df_republik['Text'].apply(lambda x: re.findall(r'\\W', x))"
   ]
  },
  {
   "cell_type": "code",
   "execution_count": null,
   "metadata": {},
   "outputs": [],
   "source": [
    "df_republik['emoji'] = df_republik['emoji'].astype(str)"
   ]
  },
  {
   "cell_type": "code",
   "execution_count": null,
   "metadata": {},
   "outputs": [],
   "source": [
    "df_republik.head(21)"
   ]
  },
  {
   "cell_type": "code",
   "execution_count": null,
   "metadata": {},
   "outputs": [],
   "source": [
    "# df_republik['emoji'] = df_republik['emoji'].apply(''.join)"
   ]
  },
  {
   "cell_type": "code",
   "execution_count": null,
   "metadata": {},
   "outputs": [],
   "source": [
    "df_republik.head(21)"
   ]
  },
  {
   "attachments": {},
   "cell_type": "markdown",
   "metadata": {},
   "source": [
    "<h3>Datasets Politik</h3>"
   ]
  },
  {
   "cell_type": "code",
   "execution_count": null,
   "metadata": {},
   "outputs": [],
   "source": [
    "df_politik['emoji'] = df_politik['Text'].apply(lambda x: re.findall(r'\\W', x))"
   ]
  },
  {
   "cell_type": "code",
   "execution_count": null,
   "metadata": {},
   "outputs": [],
   "source": [
    "df_politik['emoji'] = df_politik['emoji'].astype(str)"
   ]
  },
  {
   "cell_type": "code",
   "execution_count": null,
   "metadata": {},
   "outputs": [],
   "source": [
    "df_politik.head(21)"
   ]
  },
  {
   "cell_type": "code",
   "execution_count": null,
   "metadata": {},
   "outputs": [],
   "source": [
    "# df_politik['emoji'] = df_politik['emoji'].apply(''.join)"
   ]
  },
  {
   "cell_type": "code",
   "execution_count": null,
   "metadata": {},
   "outputs": [],
   "source": [
    "df_politik.head(21)"
   ]
  },
  {
   "attachments": {},
   "cell_type": "markdown",
   "metadata": {},
   "source": [
    "<h2>Stemming</h2>"
   ]
  },
  {
   "cell_type": "code",
   "execution_count": null,
   "metadata": {},
   "outputs": [],
   "source": [
    "from Sastrawi.Stemmer.StemmerFactory import StemmerFactory"
   ]
  },
  {
   "cell_type": "code",
   "execution_count": null,
   "metadata": {},
   "outputs": [],
   "source": [
    "def stemming(text):\n",
    "    factory = StemmerFactory()\n",
    "    stemmer = factory.create_stemmer()\n",
    "    \n",
    "    return stemmer.stem(text)"
   ]
  },
  {
   "attachments": {},
   "cell_type": "markdown",
   "metadata": {},
   "source": [
    "<h3>Datasets CakNun</h3>"
   ]
  },
  {
   "cell_type": "code",
   "execution_count": null,
   "metadata": {},
   "outputs": [],
   "source": [
    "df_caknun['Text'] = df_caknun['Text'].apply(stemming)"
   ]
  },
  {
   "cell_type": "code",
   "execution_count": null,
   "metadata": {},
   "outputs": [],
   "source": [
    "df_caknun['Text'].head(21)"
   ]
  },
  {
   "attachments": {},
   "cell_type": "markdown",
   "metadata": {},
   "source": [
    "<h3>Datasets Anies</h3>"
   ]
  },
  {
   "cell_type": "code",
   "execution_count": null,
   "metadata": {},
   "outputs": [],
   "source": [
    "df_anies['Text'] = df_anies['Text'].apply(stemming)"
   ]
  },
  {
   "cell_type": "code",
   "execution_count": null,
   "metadata": {},
   "outputs": [],
   "source": [
    "df_anies['Text'].head(21)"
   ]
  },
  {
   "attachments": {},
   "cell_type": "markdown",
   "metadata": {},
   "source": [
    "<h3>Datasets Puan</h3>"
   ]
  },
  {
   "cell_type": "code",
   "execution_count": null,
   "metadata": {},
   "outputs": [],
   "source": [
    "df_puan['Text'] = df_puan['Text'].apply(stemming)"
   ]
  },
  {
   "cell_type": "code",
   "execution_count": null,
   "metadata": {},
   "outputs": [],
   "source": [
    "df_puan['Text'].head(21)"
   ]
  },
  {
   "attachments": {},
   "cell_type": "markdown",
   "metadata": {},
   "source": [
    "<h3>Datasets Luhut</h3>"
   ]
  },
  {
   "cell_type": "code",
   "execution_count": null,
   "metadata": {},
   "outputs": [],
   "source": [
    "df_luhut['Text'] = df_luhut['Text'].apply(stemming)"
   ]
  },
  {
   "cell_type": "code",
   "execution_count": null,
   "metadata": {},
   "outputs": [],
   "source": [
    "df_luhut['Text'].head(21)"
   ]
  },
  {
   "attachments": {},
   "cell_type": "markdown",
   "metadata": {},
   "source": [
    "<h3>Datasets Ganjar</h3>"
   ]
  },
  {
   "cell_type": "code",
   "execution_count": null,
   "metadata": {},
   "outputs": [],
   "source": [
    "df_ganjar['Text'] = df_ganjar['Text'].apply(stemming)"
   ]
  },
  {
   "cell_type": "code",
   "execution_count": null,
   "metadata": {},
   "outputs": [],
   "source": [
    "df_ganjar['Text'].head(21)"
   ]
  },
  {
   "attachments": {},
   "cell_type": "markdown",
   "metadata": {},
   "source": [
    "<h3>Datasets Republik Pencitraan</h3>"
   ]
  },
  {
   "cell_type": "code",
   "execution_count": null,
   "metadata": {},
   "outputs": [],
   "source": [
    "df_republik['Text'] = df_republik['Text'].apply(stemming)"
   ]
  },
  {
   "cell_type": "code",
   "execution_count": null,
   "metadata": {},
   "outputs": [],
   "source": [
    "df_republik['Text'].head(21)"
   ]
  },
  {
   "attachments": {},
   "cell_type": "markdown",
   "metadata": {},
   "source": [
    "<h3>Datasets Politik</h3>"
   ]
  },
  {
   "cell_type": "code",
   "execution_count": null,
   "metadata": {},
   "outputs": [],
   "source": [
    "df_politik['Text'] = df_politik['Text'].apply(stemming)"
   ]
  },
  {
   "cell_type": "code",
   "execution_count": null,
   "metadata": {},
   "outputs": [],
   "source": [
    "df_politik['Text'].head(21)"
   ]
  },
  {
   "attachments": {},
   "cell_type": "markdown",
   "metadata": {},
   "source": [
    "<h2>Get Unknown Words From Each Datasets</h2>"
   ]
  },
  {
   "cell_type": "code",
   "execution_count": null,
   "metadata": {},
   "outputs": [],
   "source": [
    "df_kbbi = pd.read_excel('Misc/KBBI_Corpus/kbbi_corpus.xlsx')\n",
    "df_kbbi.info()"
   ]
  },
  {
   "cell_type": "code",
   "execution_count": null,
   "metadata": {},
   "outputs": [],
   "source": [
    "corpus_kbbi = []\n",
    "for i in df_kbbi['Kata']:\n",
    "    corpus_kbbi.append(i)\n"
   ]
  },
  {
   "cell_type": "code",
   "execution_count": null,
   "metadata": {},
   "outputs": [],
   "source": [
    "len(corpus_kbbi)"
   ]
  },
  {
   "attachments": {},
   "cell_type": "markdown",
   "metadata": {},
   "source": [
    "<h3>Datasets CakNun</h3>"
   ]
  },
  {
   "cell_type": "code",
   "execution_count": null,
   "metadata": {},
   "outputs": [],
   "source": [
    "df_caknun['Tokenized'] = df_caknun['Text'].apply(lambda x: x.split())"
   ]
  },
  {
   "cell_type": "code",
   "execution_count": null,
   "metadata": {},
   "outputs": [],
   "source": [
    "df_caknun.head(8)"
   ]
  },
  {
   "cell_type": "code",
   "execution_count": null,
   "metadata": {},
   "outputs": [],
   "source": [
    "corpus_caknun = []\n",
    "\n",
    "for i in df_caknun['Tokenized']:\n",
    "  corpus_caknun.append(i)\n",
    "\n",
    "corpus_caknun = set([word for words in corpus_caknun for word in words])\n",
    "corpus_kbbi = set(corpus_kbbi)"
   ]
  },
  {
   "cell_type": "code",
   "execution_count": null,
   "metadata": {},
   "outputs": [],
   "source": [
    "corpus_unknown_caknun = list(corpus_caknun - corpus_kbbi)"
   ]
  },
  {
   "cell_type": "code",
   "execution_count": null,
   "metadata": {},
   "outputs": [],
   "source": [
    "len(corpus_unknown_caknun)"
   ]
  },
  {
   "attachments": {},
   "cell_type": "markdown",
   "metadata": {},
   "source": [
    "<h3>Datasets Anies</h3>"
   ]
  },
  {
   "cell_type": "code",
   "execution_count": null,
   "metadata": {},
   "outputs": [],
   "source": [
    "df_anies['Tokenized'] = df_anies['Text'].apply(lambda x: x.split())"
   ]
  },
  {
   "cell_type": "code",
   "execution_count": null,
   "metadata": {},
   "outputs": [],
   "source": [
    "df_anies.head()"
   ]
  },
  {
   "cell_type": "code",
   "execution_count": null,
   "metadata": {},
   "outputs": [],
   "source": [
    "corpus_anies = []\n",
    "\n",
    "for i in df_anies['Tokenized']:\n",
    "  corpus_anies.append(i)\n",
    "\n",
    "corpus_anies = set([word for words in corpus_anies for word in words])"
   ]
  },
  {
   "cell_type": "code",
   "execution_count": null,
   "metadata": {},
   "outputs": [],
   "source": [
    "corpus_unknown_anies = list(corpus_anies - corpus_kbbi)"
   ]
  },
  {
   "cell_type": "code",
   "execution_count": null,
   "metadata": {},
   "outputs": [],
   "source": [
    "len(corpus_unknown_anies)"
   ]
  },
  {
   "attachments": {},
   "cell_type": "markdown",
   "metadata": {},
   "source": [
    "<h3>Datasets Puan</h3>"
   ]
  },
  {
   "cell_type": "code",
   "execution_count": null,
   "metadata": {},
   "outputs": [],
   "source": [
    "df_puan['Tokenized'] = df_puan['Text'].apply(lambda x: x.split())"
   ]
  },
  {
   "cell_type": "code",
   "execution_count": null,
   "metadata": {},
   "outputs": [],
   "source": [
    "df_puan.head()"
   ]
  },
  {
   "cell_type": "code",
   "execution_count": null,
   "metadata": {},
   "outputs": [],
   "source": [
    "corpus_puan = []\n",
    "\n",
    "for i in df_puan['Tokenized']:\n",
    "  corpus_puan.append(i)\n",
    "\n",
    "corpus_puan = set([word for words in corpus_puan for word in words])"
   ]
  },
  {
   "cell_type": "code",
   "execution_count": null,
   "metadata": {},
   "outputs": [],
   "source": [
    "corpus_unknown_puan = list(corpus_puan - corpus_kbbi)"
   ]
  },
  {
   "cell_type": "code",
   "execution_count": null,
   "metadata": {},
   "outputs": [],
   "source": [
    "len(corpus_unknown_puan)"
   ]
  },
  {
   "attachments": {},
   "cell_type": "markdown",
   "metadata": {},
   "source": [
    "<h3>Datasets Luhut</h3>"
   ]
  },
  {
   "cell_type": "code",
   "execution_count": null,
   "metadata": {},
   "outputs": [],
   "source": [
    "df_luhut['Tokenized'] = df_luhut['Text'].apply(lambda x: x.split())"
   ]
  },
  {
   "cell_type": "code",
   "execution_count": null,
   "metadata": {},
   "outputs": [],
   "source": [
    "df_luhut.head()"
   ]
  },
  {
   "cell_type": "code",
   "execution_count": null,
   "metadata": {},
   "outputs": [],
   "source": [
    "corpus_luhut = []\n",
    "\n",
    "for i in df_luhut['Tokenized']:\n",
    "  corpus_luhut.append(i)\n",
    "\n",
    "corpus_luhut = set([word for words in corpus_luhut for word in words])"
   ]
  },
  {
   "cell_type": "code",
   "execution_count": null,
   "metadata": {},
   "outputs": [],
   "source": [
    "corpus_unknown_luhut = list(corpus_luhut - corpus_kbbi)"
   ]
  },
  {
   "cell_type": "code",
   "execution_count": null,
   "metadata": {},
   "outputs": [],
   "source": [
    "len(corpus_unknown_luhut)"
   ]
  },
  {
   "attachments": {},
   "cell_type": "markdown",
   "metadata": {},
   "source": [
    "<h3>Datasets Ganjar</h3>"
   ]
  },
  {
   "cell_type": "code",
   "execution_count": null,
   "metadata": {},
   "outputs": [],
   "source": [
    "df_ganjar['Tokenized'] = df_ganjar['Text'].apply(lambda x: x.split())"
   ]
  },
  {
   "cell_type": "code",
   "execution_count": null,
   "metadata": {},
   "outputs": [],
   "source": [
    "df_ganjar.head()"
   ]
  },
  {
   "cell_type": "code",
   "execution_count": null,
   "metadata": {},
   "outputs": [],
   "source": [
    "corpus_ganjar = []\n",
    "\n",
    "for i in df_ganjar['Tokenized']:\n",
    "  corpus_ganjar.append(i)\n",
    "\n",
    "corpus_ganjar = set([word for words in corpus_ganjar for word in words])"
   ]
  },
  {
   "cell_type": "code",
   "execution_count": null,
   "metadata": {},
   "outputs": [],
   "source": [
    "corpus_unknown_ganjar = list(corpus_ganjar - corpus_kbbi)"
   ]
  },
  {
   "cell_type": "code",
   "execution_count": null,
   "metadata": {},
   "outputs": [],
   "source": [
    "len(corpus_unknown_ganjar)"
   ]
  },
  {
   "attachments": {},
   "cell_type": "markdown",
   "metadata": {},
   "source": [
    "<h3>Datasets Republik Pencitraan</h3>"
   ]
  },
  {
   "cell_type": "code",
   "execution_count": null,
   "metadata": {},
   "outputs": [],
   "source": [
    "df_republik['Tokenized'] = df_republik['Text'].apply(lambda x: x.split())"
   ]
  },
  {
   "cell_type": "code",
   "execution_count": null,
   "metadata": {},
   "outputs": [],
   "source": [
    "df_republik.head()"
   ]
  },
  {
   "cell_type": "code",
   "execution_count": null,
   "metadata": {},
   "outputs": [],
   "source": [
    "corpus_republik = []\n",
    "\n",
    "for i in df_republik['Tokenized']:\n",
    "  corpus_republik.append(i)\n",
    "\n",
    "corpus_republik = set([word for words in corpus_republik for word in words])"
   ]
  },
  {
   "cell_type": "code",
   "execution_count": null,
   "metadata": {},
   "outputs": [],
   "source": [
    "corpus_unknown_republik = list(corpus_republik - corpus_kbbi)"
   ]
  },
  {
   "cell_type": "code",
   "execution_count": null,
   "metadata": {},
   "outputs": [],
   "source": [
    "len(corpus_unknown_republik)"
   ]
  },
  {
   "attachments": {},
   "cell_type": "markdown",
   "metadata": {},
   "source": [
    "<h3>Datasets Politik</h3>"
   ]
  },
  {
   "cell_type": "code",
   "execution_count": null,
   "metadata": {},
   "outputs": [],
   "source": [
    "df_politik['Tokenized'] = df_politik['Text'].apply(lambda x: x.split())"
   ]
  },
  {
   "cell_type": "code",
   "execution_count": null,
   "metadata": {},
   "outputs": [],
   "source": [
    "df_politik.head()"
   ]
  },
  {
   "cell_type": "code",
   "execution_count": null,
   "metadata": {},
   "outputs": [],
   "source": [
    "corpus_politik = []\n",
    "\n",
    "for i in df_politik['Tokenized']:\n",
    "  corpus_politik.append(i)\n",
    "\n",
    "corpus_politik = set([word for words in corpus_politik for word in words])"
   ]
  },
  {
   "cell_type": "code",
   "execution_count": null,
   "metadata": {},
   "outputs": [],
   "source": [
    "corpus_unknown_politik = list(corpus_politik - corpus_kbbi)"
   ]
  },
  {
   "cell_type": "code",
   "execution_count": null,
   "metadata": {},
   "outputs": [],
   "source": [
    "len(corpus_unknown_politik)"
   ]
  },
  {
   "cell_type": "code",
   "execution_count": null,
   "metadata": {},
   "outputs": [],
   "source": [
    "corpus_unknown_words = []\n",
    "\n",
    "for i in corpus_unknown_politik:\n",
    "    corpus_unknown_words.append(i)\n",
    "\n",
    "\n",
    "for i in corpus_unknown_caknun:\n",
    "    corpus_unknown_words.append(i)\n",
    "\n",
    "\n",
    "for i in corpus_unknown_anies:\n",
    "    corpus_unknown_words.append(i)\n",
    "\n",
    "\n",
    "for i in corpus_unknown_puan:\n",
    "    corpus_unknown_words.append(i)\n",
    "\n",
    "\n",
    "for i in corpus_unknown_luhut:\n",
    "    corpus_unknown_words.append(i)\n",
    "\n",
    "\n",
    "for i in corpus_unknown_ganjar:\n",
    "    corpus_unknown_words.append(i)\n",
    "\n",
    "\n",
    "for i in corpus_unknown_republik:\n",
    "    corpus_unknown_words.append(i)"
   ]
  },
  {
   "cell_type": "code",
   "execution_count": null,
   "metadata": {},
   "outputs": [],
   "source": [
    "corpus_unknown_words = list(dict.fromkeys(corpus_unknown_words))\n",
    "len(corpus_unknown_words)"
   ]
  },
  {
   "cell_type": "code",
   "execution_count": null,
   "metadata": {},
   "outputs": [],
   "source": [
    "df_unknown_words = pd.DataFrame(corpus_unknown_words, columns=['Kata'])"
   ]
  },
  {
   "cell_type": "code",
   "execution_count": null,
   "metadata": {},
   "outputs": [],
   "source": [
    "df_unknown_words.info()\n",
    "df_unknown_words.head(6)"
   ]
  },
  {
   "cell_type": "code",
   "execution_count": null,
   "metadata": {},
   "outputs": [],
   "source": [
    "# Check Duplicated Word\n",
    "df_unknown_words.duplicated().sum()"
   ]
  },
  {
   "cell_type": "code",
   "execution_count": null,
   "metadata": {},
   "outputs": [],
   "source": [
    "# df_unknown_words.to_excel('Unknown_Words_v2.xlsx')"
   ]
  },
  {
   "attachments": {},
   "cell_type": "markdown",
   "metadata": {},
   "source": [
    "<h2>Replacing Unknown Words Using Unknown Corpus</h2>"
   ]
  },
  {
   "attachments": {},
   "cell_type": "markdown",
   "metadata": {},
   "source": [
    "<h3>Datasets CakNun</h3>"
   ]
  },
  {
   "cell_type": "code",
   "execution_count": null,
   "metadata": {},
   "outputs": [],
   "source": []
  },
  {
   "attachments": {},
   "cell_type": "markdown",
   "metadata": {},
   "source": [
    "<h3>Datasets Anies</h3>"
   ]
  },
  {
   "cell_type": "code",
   "execution_count": null,
   "metadata": {},
   "outputs": [],
   "source": []
  },
  {
   "attachments": {},
   "cell_type": "markdown",
   "metadata": {},
   "source": [
    "<h3>Datasets Puan</h3>"
   ]
  },
  {
   "cell_type": "code",
   "execution_count": null,
   "metadata": {},
   "outputs": [],
   "source": []
  },
  {
   "attachments": {},
   "cell_type": "markdown",
   "metadata": {},
   "source": [
    "<h3>Datasets Luhut</h3>"
   ]
  },
  {
   "cell_type": "code",
   "execution_count": null,
   "metadata": {},
   "outputs": [],
   "source": []
  },
  {
   "attachments": {},
   "cell_type": "markdown",
   "metadata": {},
   "source": [
    "<h3>Datasets Ganjar</h3>"
   ]
  },
  {
   "cell_type": "code",
   "execution_count": null,
   "metadata": {},
   "outputs": [],
   "source": []
  },
  {
   "attachments": {},
   "cell_type": "markdown",
   "metadata": {},
   "source": [
    "<h3>Datasets Republik Pencitraan</h3>"
   ]
  },
  {
   "cell_type": "code",
   "execution_count": null,
   "metadata": {},
   "outputs": [],
   "source": []
  },
  {
   "cell_type": "code",
   "execution_count": null,
   "metadata": {},
   "outputs": [],
   "source": [
    "# Remove Punctuation Again\n",
    "df_caknun['Text'] = df_caknun['Text'].apply(remove_punctuation)"
   ]
  },
  {
   "cell_type": "code",
   "execution_count": null,
   "metadata": {},
   "outputs": [],
   "source": [
    "# Removing New Lines Again\n",
    "df_caknun['text_emoji'] = df_caknun['text_emoji'].apply(remove_newLines)"
   ]
  },
  {
   "cell_type": "code",
   "execution_count": null,
   "metadata": {},
   "outputs": [],
   "source": [
    "# Lemmatization / Stemming again\n",
    "df_caknun['Text'] = df_caknun['Text'].apply(stemming)"
   ]
  },
  {
   "attachments": {},
   "cell_type": "markdown",
   "metadata": {},
   "source": [
    "<h2>Create New Feature / Column by merging Text and Emoji Column</h2>"
   ]
  },
  {
   "attachments": {},
   "cell_type": "markdown",
   "metadata": {},
   "source": [
    "<h3>Datasets CakNun</h3>"
   ]
  },
  {
   "cell_type": "code",
   "execution_count": null,
   "metadata": {},
   "outputs": [],
   "source": [
    "df_caknun['text_emoji'] = df_caknun['Text'] + df_caknun['emoji']"
   ]
  },
  {
   "cell_type": "code",
   "execution_count": null,
   "metadata": {},
   "outputs": [],
   "source": [
    "df_caknun['text_emoji'] = df_caknun['text_emoji'].apply(remove_newLines)"
   ]
  },
  {
   "cell_type": "code",
   "execution_count": null,
   "metadata": {},
   "outputs": [],
   "source": [
    "df_caknun['text_emoji'][2]"
   ]
  },
  {
   "attachments": {},
   "cell_type": "markdown",
   "metadata": {},
   "source": [
    "<h3>Datasets Anies</h3>"
   ]
  },
  {
   "cell_type": "code",
   "execution_count": null,
   "metadata": {},
   "outputs": [],
   "source": [
    "df_anies['text_emoji'] = df_anies['Text'] + df_anies['emoji']"
   ]
  },
  {
   "cell_type": "code",
   "execution_count": null,
   "metadata": {},
   "outputs": [],
   "source": [
    "df_anies['text_emoji'] = df_anies['text_emoji'].apply(remove_newLines)"
   ]
  },
  {
   "cell_type": "code",
   "execution_count": null,
   "metadata": {},
   "outputs": [],
   "source": [
    "df_anies['text_emoji'][2]"
   ]
  },
  {
   "attachments": {},
   "cell_type": "markdown",
   "metadata": {},
   "source": [
    "<h3>Datasets Puan</h3>"
   ]
  },
  {
   "cell_type": "code",
   "execution_count": null,
   "metadata": {},
   "outputs": [],
   "source": [
    "df_puan['text_emoji'] = df_puan['Text'] + df_puan['emoji']"
   ]
  },
  {
   "cell_type": "code",
   "execution_count": null,
   "metadata": {},
   "outputs": [],
   "source": [
    "df_puan['text_emoji'] = df_puan['text_emoji'].apply(remove_newLines)"
   ]
  },
  {
   "cell_type": "code",
   "execution_count": null,
   "metadata": {},
   "outputs": [],
   "source": [
    "df_puan['text_emoji'][2]"
   ]
  },
  {
   "attachments": {},
   "cell_type": "markdown",
   "metadata": {},
   "source": [
    "<h3>Datasets Luhut</h3>"
   ]
  },
  {
   "cell_type": "code",
   "execution_count": null,
   "metadata": {},
   "outputs": [],
   "source": [
    "df_luhut['text_emoji'] = df_luhut['Text'] + df_luhut['emoji']"
   ]
  },
  {
   "cell_type": "code",
   "execution_count": null,
   "metadata": {},
   "outputs": [],
   "source": [
    "df_luhut['text_emoji'] = df_luhut['text_emoji'].apply(remove_newLines)"
   ]
  },
  {
   "cell_type": "code",
   "execution_count": null,
   "metadata": {},
   "outputs": [],
   "source": [
    "df_luhut['text_emoji'][2]"
   ]
  },
  {
   "attachments": {},
   "cell_type": "markdown",
   "metadata": {},
   "source": [
    "<h3>Datasets Ganjar</h3>"
   ]
  },
  {
   "cell_type": "code",
   "execution_count": null,
   "metadata": {},
   "outputs": [],
   "source": [
    "df_ganjar['text_emoji'] = df_ganjar['Text'] + df_ganjar['emoji']"
   ]
  },
  {
   "cell_type": "code",
   "execution_count": null,
   "metadata": {},
   "outputs": [],
   "source": [
    "df_ganjar['text_emoji'] = df_ganjar['text_emoji'].apply(remove_newLines)"
   ]
  },
  {
   "cell_type": "code",
   "execution_count": null,
   "metadata": {},
   "outputs": [],
   "source": [
    "df_ganjar['text_emoji'][2]"
   ]
  },
  {
   "attachments": {},
   "cell_type": "markdown",
   "metadata": {},
   "source": [
    "<h3>Datasets Republik Pencitraan</h3>"
   ]
  },
  {
   "cell_type": "code",
   "execution_count": null,
   "metadata": {},
   "outputs": [],
   "source": [
    "df_republik['text_emoji'] = df_republik['Text'] + df_republik['emoji']"
   ]
  },
  {
   "cell_type": "code",
   "execution_count": null,
   "metadata": {},
   "outputs": [],
   "source": [
    "df_republik['text_emoji'] = df_republik['text_emoji'].apply(remove_newLines)"
   ]
  },
  {
   "cell_type": "code",
   "execution_count": null,
   "metadata": {},
   "outputs": [],
   "source": [
    "df_republik['text_emoji'][2]"
   ]
  },
  {
   "attachments": {},
   "cell_type": "markdown",
   "metadata": {},
   "source": [
    "<h2>Data Labeling</h2>"
   ]
  },
  {
   "cell_type": "code",
   "execution_count": null,
   "metadata": {},
   "outputs": [],
   "source": []
  },
  {
   "cell_type": "code",
   "execution_count": null,
   "metadata": {},
   "outputs": [],
   "source": [
    "df_emoji = pd.read_csv('Misc/Emoji_Polarity_Dict/Emoji_Sentiment_Data_v1.0.csv')"
   ]
  },
  {
   "cell_type": "code",
   "execution_count": null,
   "metadata": {},
   "outputs": [],
   "source": [
    "df_emoji.info()\n",
    "df_emoji.head()"
   ]
  },
  {
   "cell_type": "code",
   "execution_count": null,
   "metadata": {},
   "outputs": [],
   "source": [
    "emoji = []\n",
    "for i in df_emoji['Emoji']:\n",
    "    emoji.append(i)"
   ]
  },
  {
   "cell_type": "code",
   "execution_count": null,
   "metadata": {},
   "outputs": [],
   "source": [
    "emoji\n",
    "emoji_str = ''.join(emoji)"
   ]
  },
  {
   "cell_type": "code",
   "execution_count": null,
   "metadata": {},
   "outputs": [],
   "source": [
    "emoji_str"
   ]
  }
 ],
 "metadata": {
  "kernelspec": {
   "display_name": "Python 3",
   "language": "python",
   "name": "python3"
  },
  "language_info": {
   "codemirror_mode": {
    "name": "ipython",
    "version": 3
   },
   "file_extension": ".py",
   "mimetype": "text/x-python",
   "name": "python",
   "nbconvert_exporter": "python",
   "pygments_lexer": "ipython3",
   "version": "3.9.7"
  },
  "orig_nbformat": 4,
  "vscode": {
   "interpreter": {
    "hash": "11938c6bc6919ae2720b4d5011047913343b08a43b18698fd82dedb0d4417594"
   }
  }
 },
 "nbformat": 4,
 "nbformat_minor": 2
}
