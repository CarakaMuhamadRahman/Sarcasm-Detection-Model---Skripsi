{
 "cells": [
  {
   "cell_type": "code",
   "execution_count": 1,
   "metadata": {},
   "outputs": [],
   "source": [
    "import pandas as pd\n",
    "\n",
    "df_caknun = pd.read_excel('Datasets+Emoji/Done/Datasets_Caknun.xlsx')\n",
    "df_anies = pd.read_excel('Datasets+Emoji/Done/Datasets_Anies.xlsx')\n",
    "df_puan = pd.read_excel('Datasets+Emoji/Done/Datasets_Puan.xlsx')\n",
    "df_luhut = pd.read_excel('Datasets+Emoji/Done/Datasets_Luhut.xlsx')\n",
    "df_ganjar = pd.read_excel('Datasets+Emoji/Done/Datasets_Ganjar.xlsx')\n",
    "df_republik = pd.read_excel('Datasets+Emoji/Done/Datasets_RepublikPencitraan.xlsx')\n",
    "df_politik = pd.read_excel('Datasets+Emoji/Done/Datasets_Politik.xlsx')"
   ]
  },
  {
   "cell_type": "code",
   "execution_count": 2,
   "metadata": {},
   "outputs": [
    {
     "name": "stdout",
     "output_type": "stream",
     "text": [
      "<class 'pandas.core.frame.DataFrame'>\n",
      "RangeIndex: 888 entries, 0 to 887\n",
      "Data columns (total 5 columns):\n",
      " #   Column        Non-Null Count  Dtype \n",
      "---  ------        --------------  ----- \n",
      " 0   Unnamed: 0.1  888 non-null    int64 \n",
      " 1   Unnamed: 0    888 non-null    int64 \n",
      " 2   Username      888 non-null    object\n",
      " 3   Label         888 non-null    int64 \n",
      " 4   Text          888 non-null    object\n",
      "dtypes: int64(3), object(2)\n",
      "memory usage: 34.8+ KB\n"
     ]
    },
    {
     "data": {
      "text/html": [
       "<div>\n",
       "<style scoped>\n",
       "    .dataframe tbody tr th:only-of-type {\n",
       "        vertical-align: middle;\n",
       "    }\n",
       "\n",
       "    .dataframe tbody tr th {\n",
       "        vertical-align: top;\n",
       "    }\n",
       "\n",
       "    .dataframe thead th {\n",
       "        text-align: right;\n",
       "    }\n",
       "</style>\n",
       "<table border=\"1\" class=\"dataframe\">\n",
       "  <thead>\n",
       "    <tr style=\"text-align: right;\">\n",
       "      <th></th>\n",
       "      <th>Unnamed: 0.1</th>\n",
       "      <th>Unnamed: 0</th>\n",
       "      <th>Username</th>\n",
       "      <th>Label</th>\n",
       "      <th>Text</th>\n",
       "    </tr>\n",
       "  </thead>\n",
       "  <tbody>\n",
       "    <tr>\n",
       "      <th>0</th>\n",
       "      <td>0</td>\n",
       "      <td>0</td>\n",
       "      <td>ruangmaiyah</td>\n",
       "      <td>0</td>\n",
       "      <td>Bukankah hanya pada saat mencemooh, putus asa,...</td>\n",
       "    </tr>\n",
       "    <tr>\n",
       "      <th>1</th>\n",
       "      <td>1</td>\n",
       "      <td>2</td>\n",
       "      <td>ruangmaiyah</td>\n",
       "      <td>0</td>\n",
       "      <td>Toh jagat di luar dan jagat di dalam sama saja...</td>\n",
       "    </tr>\n",
       "    <tr>\n",
       "      <th>2</th>\n",
       "      <td>2</td>\n",
       "      <td>3</td>\n",
       "      <td>diyoex</td>\n",
       "      <td>0</td>\n",
       "      <td>Mbah nun @caknundotcom \\n\\nPOLITISI Kubu 01:\\n...</td>\n",
       "    </tr>\n",
       "    <tr>\n",
       "      <th>3</th>\n",
       "      <td>3</td>\n",
       "      <td>4</td>\n",
       "      <td>diyoex</td>\n",
       "      <td>0</td>\n",
       "      <td>Mbah Nun @caknundotcom \\nS.B.Ydyo=J.K kubu 01:...</td>\n",
       "    </tr>\n",
       "    <tr>\n",
       "      <th>4</th>\n",
       "      <td>4</td>\n",
       "      <td>5</td>\n",
       "      <td>diyoex</td>\n",
       "      <td>0</td>\n",
       "      <td>Mbah nun @caknundotcom \\n\\nBANCI,KOMUNIS&amp;amp;S...</td>\n",
       "    </tr>\n",
       "  </tbody>\n",
       "</table>\n",
       "</div>"
      ],
      "text/plain": [
       "   Unnamed: 0.1  Unnamed: 0     Username  Label  \\\n",
       "0             0           0  ruangmaiyah      0   \n",
       "1             1           2  ruangmaiyah      0   \n",
       "2             2           3       diyoex      0   \n",
       "3             3           4       diyoex      0   \n",
       "4             4           5       diyoex      0   \n",
       "\n",
       "                                                Text  \n",
       "0  Bukankah hanya pada saat mencemooh, putus asa,...  \n",
       "1  Toh jagat di luar dan jagat di dalam sama saja...  \n",
       "2  Mbah nun @caknundotcom \\n\\nPOLITISI Kubu 01:\\n...  \n",
       "3  Mbah Nun @caknundotcom \\nS.B.Ydyo=J.K kubu 01:...  \n",
       "4  Mbah nun @caknundotcom \\n\\nBANCI,KOMUNIS&amp;S...  "
      ]
     },
     "execution_count": 2,
     "metadata": {},
     "output_type": "execute_result"
    }
   ],
   "source": [
    "# Info DataFrame CakNun\n",
    "df_caknun.info()\n",
    "df_caknun.head()"
   ]
  },
  {
   "cell_type": "code",
   "execution_count": 3,
   "metadata": {},
   "outputs": [
    {
     "name": "stdout",
     "output_type": "stream",
     "text": [
      "<class 'pandas.core.frame.DataFrame'>\n",
      "RangeIndex: 873 entries, 0 to 872\n",
      "Data columns (total 5 columns):\n",
      " #   Column        Non-Null Count  Dtype \n",
      "---  ------        --------------  ----- \n",
      " 0   Unnamed: 0.1  873 non-null    int64 \n",
      " 1   Unnamed: 0    873 non-null    int64 \n",
      " 2   Username      873 non-null    object\n",
      " 3   Label         873 non-null    int64 \n",
      " 4   Text          873 non-null    object\n",
      "dtypes: int64(3), object(2)\n",
      "memory usage: 34.2+ KB\n"
     ]
    },
    {
     "data": {
      "text/html": [
       "<div>\n",
       "<style scoped>\n",
       "    .dataframe tbody tr th:only-of-type {\n",
       "        vertical-align: middle;\n",
       "    }\n",
       "\n",
       "    .dataframe tbody tr th {\n",
       "        vertical-align: top;\n",
       "    }\n",
       "\n",
       "    .dataframe thead th {\n",
       "        text-align: right;\n",
       "    }\n",
       "</style>\n",
       "<table border=\"1\" class=\"dataframe\">\n",
       "  <thead>\n",
       "    <tr style=\"text-align: right;\">\n",
       "      <th></th>\n",
       "      <th>Unnamed: 0.1</th>\n",
       "      <th>Unnamed: 0</th>\n",
       "      <th>Username</th>\n",
       "      <th>Label</th>\n",
       "      <th>Text</th>\n",
       "    </tr>\n",
       "  </thead>\n",
       "  <tbody>\n",
       "    <tr>\n",
       "      <th>0</th>\n",
       "      <td>0</td>\n",
       "      <td>0</td>\n",
       "      <td>JessicaNeo4</td>\n",
       "      <td>1</td>\n",
       "      <td>@aniesbaswedan prettttt,gagasan mulu yg dibaha...</td>\n",
       "    </tr>\n",
       "    <tr>\n",
       "      <th>1</th>\n",
       "      <td>1</td>\n",
       "      <td>1</td>\n",
       "      <td>masheru95159275</td>\n",
       "      <td>0</td>\n",
       "      <td>@Wiji_kedua @aniesbaswedan Pemborosan \\nBangun...</td>\n",
       "    </tr>\n",
       "    <tr>\n",
       "      <th>2</th>\n",
       "      <td>2</td>\n",
       "      <td>3</td>\n",
       "      <td>Alfito70427950</td>\n",
       "      <td>0</td>\n",
       "      <td>@tvOneNews Alhamdulillah.... Segala Puji bagiM...</td>\n",
       "    </tr>\n",
       "    <tr>\n",
       "      <th>3</th>\n",
       "      <td>3</td>\n",
       "      <td>4</td>\n",
       "      <td>Anskan7</td>\n",
       "      <td>0</td>\n",
       "      <td>Dear @Relawananies kebanyakan ngedabol, pergi ...</td>\n",
       "    </tr>\n",
       "    <tr>\n",
       "      <th>4</th>\n",
       "      <td>4</td>\n",
       "      <td>5</td>\n",
       "      <td>masheru95159275</td>\n",
       "      <td>0</td>\n",
       "      <td>@StefanAntonio__ @aniesbaswedan Bukan pemimpin...</td>\n",
       "    </tr>\n",
       "  </tbody>\n",
       "</table>\n",
       "</div>"
      ],
      "text/plain": [
       "   Unnamed: 0.1  Unnamed: 0         Username  Label  \\\n",
       "0             0           0      JessicaNeo4      1   \n",
       "1             1           1  masheru95159275      0   \n",
       "2             2           3   Alfito70427950      0   \n",
       "3             3           4          Anskan7      0   \n",
       "4             4           5  masheru95159275      0   \n",
       "\n",
       "                                                Text  \n",
       "0  @aniesbaswedan prettttt,gagasan mulu yg dibaha...  \n",
       "1  @Wiji_kedua @aniesbaswedan Pemborosan \\nBangun...  \n",
       "2  @tvOneNews Alhamdulillah.... Segala Puji bagiM...  \n",
       "3  Dear @Relawananies kebanyakan ngedabol, pergi ...  \n",
       "4  @StefanAntonio__ @aniesbaswedan Bukan pemimpin...  "
      ]
     },
     "execution_count": 3,
     "metadata": {},
     "output_type": "execute_result"
    }
   ],
   "source": [
    "# Info DataFrame Anies\n",
    "df_anies.info()\n",
    "df_anies.head()"
   ]
  },
  {
   "cell_type": "code",
   "execution_count": 4,
   "metadata": {},
   "outputs": [
    {
     "name": "stdout",
     "output_type": "stream",
     "text": [
      "<class 'pandas.core.frame.DataFrame'>\n",
      "RangeIndex: 951 entries, 0 to 950\n",
      "Data columns (total 5 columns):\n",
      " #   Column        Non-Null Count  Dtype \n",
      "---  ------        --------------  ----- \n",
      " 0   Unnamed: 0.1  951 non-null    int64 \n",
      " 1   Unnamed: 0    951 non-null    int64 \n",
      " 2   Username      951 non-null    object\n",
      " 3   Label         951 non-null    int64 \n",
      " 4   Text          951 non-null    object\n",
      "dtypes: int64(3), object(2)\n",
      "memory usage: 37.3+ KB\n"
     ]
    },
    {
     "data": {
      "text/html": [
       "<div>\n",
       "<style scoped>\n",
       "    .dataframe tbody tr th:only-of-type {\n",
       "        vertical-align: middle;\n",
       "    }\n",
       "\n",
       "    .dataframe tbody tr th {\n",
       "        vertical-align: top;\n",
       "    }\n",
       "\n",
       "    .dataframe thead th {\n",
       "        text-align: right;\n",
       "    }\n",
       "</style>\n",
       "<table border=\"1\" class=\"dataframe\">\n",
       "  <thead>\n",
       "    <tr style=\"text-align: right;\">\n",
       "      <th></th>\n",
       "      <th>Unnamed: 0.1</th>\n",
       "      <th>Unnamed: 0</th>\n",
       "      <th>Username</th>\n",
       "      <th>Label</th>\n",
       "      <th>Text</th>\n",
       "    </tr>\n",
       "  </thead>\n",
       "  <tbody>\n",
       "    <tr>\n",
       "      <th>0</th>\n",
       "      <td>0</td>\n",
       "      <td>0</td>\n",
       "      <td>Ajuansyah_putra</td>\n",
       "      <td>0</td>\n",
       "      <td>Kemarin ada yg lempar - lempar kaos sambil mas...</td>\n",
       "    </tr>\n",
       "    <tr>\n",
       "      <th>1</th>\n",
       "      <td>1</td>\n",
       "      <td>1</td>\n",
       "      <td>ikhsannawawii</td>\n",
       "      <td>0</td>\n",
       "      <td>@KompasTV Ga perduli penjelasanmuuuu puan, mem...</td>\n",
       "    </tr>\n",
       "    <tr>\n",
       "      <th>2</th>\n",
       "      <td>2</td>\n",
       "      <td>2</td>\n",
       "      <td>rony_jossaman</td>\n",
       "      <td>0</td>\n",
       "      <td>@A9NiniGramercy @BosPurwa @puanmaharani_ri @ca...</td>\n",
       "    </tr>\n",
       "    <tr>\n",
       "      <th>3</th>\n",
       "      <td>3</td>\n",
       "      <td>5</td>\n",
       "      <td>Pakamkalam</td>\n",
       "      <td>0</td>\n",
       "      <td>@cuanmaharani_ri @aniesbaswedan @puanmaharani_...</td>\n",
       "    </tr>\n",
       "    <tr>\n",
       "      <th>4</th>\n",
       "      <td>4</td>\n",
       "      <td>6</td>\n",
       "      <td>ynrvvib</td>\n",
       "      <td>0</td>\n",
       "      <td>@ardianpancaa @puanmaharani_ri gak dibrief 💯</td>\n",
       "    </tr>\n",
       "  </tbody>\n",
       "</table>\n",
       "</div>"
      ],
      "text/plain": [
       "   Unnamed: 0.1  Unnamed: 0         Username  Label  \\\n",
       "0             0           0  Ajuansyah_putra      0   \n",
       "1             1           1    ikhsannawawii      0   \n",
       "2             2           2    rony_jossaman      0   \n",
       "3             3           5       Pakamkalam      0   \n",
       "4             4           6          ynrvvib      0   \n",
       "\n",
       "                                                Text  \n",
       "0  Kemarin ada yg lempar - lempar kaos sambil mas...  \n",
       "1  @KompasTV Ga perduli penjelasanmuuuu puan, mem...  \n",
       "2  @A9NiniGramercy @BosPurwa @puanmaharani_ri @ca...  \n",
       "3  @cuanmaharani_ri @aniesbaswedan @puanmaharani_...  \n",
       "4       @ardianpancaa @puanmaharani_ri gak dibrief 💯  "
      ]
     },
     "execution_count": 4,
     "metadata": {},
     "output_type": "execute_result"
    }
   ],
   "source": [
    "# Info DataFrame Puan\n",
    "df_puan.info()\n",
    "df_puan.head()"
   ]
  },
  {
   "cell_type": "code",
   "execution_count": 5,
   "metadata": {},
   "outputs": [
    {
     "name": "stdout",
     "output_type": "stream",
     "text": [
      "<class 'pandas.core.frame.DataFrame'>\n",
      "RangeIndex: 914 entries, 0 to 913\n",
      "Data columns (total 5 columns):\n",
      " #   Column        Non-Null Count  Dtype \n",
      "---  ------        --------------  ----- \n",
      " 0   Unnamed: 0.1  914 non-null    int64 \n",
      " 1   Unnamed: 0    914 non-null    int64 \n",
      " 2   Username      914 non-null    object\n",
      " 3   Label         914 non-null    int64 \n",
      " 4   Text          914 non-null    object\n",
      "dtypes: int64(3), object(2)\n",
      "memory usage: 35.8+ KB\n"
     ]
    },
    {
     "data": {
      "text/html": [
       "<div>\n",
       "<style scoped>\n",
       "    .dataframe tbody tr th:only-of-type {\n",
       "        vertical-align: middle;\n",
       "    }\n",
       "\n",
       "    .dataframe tbody tr th {\n",
       "        vertical-align: top;\n",
       "    }\n",
       "\n",
       "    .dataframe thead th {\n",
       "        text-align: right;\n",
       "    }\n",
       "</style>\n",
       "<table border=\"1\" class=\"dataframe\">\n",
       "  <thead>\n",
       "    <tr style=\"text-align: right;\">\n",
       "      <th></th>\n",
       "      <th>Unnamed: 0.1</th>\n",
       "      <th>Unnamed: 0</th>\n",
       "      <th>Username</th>\n",
       "      <th>Label</th>\n",
       "      <th>Text</th>\n",
       "    </tr>\n",
       "  </thead>\n",
       "  <tbody>\n",
       "    <tr>\n",
       "      <th>0</th>\n",
       "      <td>0</td>\n",
       "      <td>0</td>\n",
       "      <td>ahimcakep</td>\n",
       "      <td>0</td>\n",
       "      <td>#JokowiGasPolKetahananEnergi\\nMenko km opung L...</td>\n",
       "    </tr>\n",
       "    <tr>\n",
       "      <th>1</th>\n",
       "      <td>1</td>\n",
       "      <td>1</td>\n",
       "      <td>Anadi_CR</td>\n",
       "      <td>0</td>\n",
       "      <td>Ingat kata pak luhut binsar panjaitan LBP\\n\\nM...</td>\n",
       "    </tr>\n",
       "    <tr>\n",
       "      <th>2</th>\n",
       "      <td>2</td>\n",
       "      <td>2</td>\n",
       "      <td>TheUncleDee</td>\n",
       "      <td>0</td>\n",
       "      <td>@biacho6688992 Kalau yg kasih perintah Luhut B...</td>\n",
       "    </tr>\n",
       "    <tr>\n",
       "      <th>3</th>\n",
       "      <td>3</td>\n",
       "      <td>3</td>\n",
       "      <td>TheUncleDee</td>\n",
       "      <td>0</td>\n",
       "      <td>Daripada harus melawan perintah Luhut Binsar P...</td>\n",
       "    </tr>\n",
       "    <tr>\n",
       "      <th>4</th>\n",
       "      <td>4</td>\n",
       "      <td>4</td>\n",
       "      <td>qwrtpsdfgh</td>\n",
       "      <td>0</td>\n",
       "      <td>@geloraco Hei Luhut Binsar Panjaitan.\\nTolong ...</td>\n",
       "    </tr>\n",
       "  </tbody>\n",
       "</table>\n",
       "</div>"
      ],
      "text/plain": [
       "   Unnamed: 0.1  Unnamed: 0     Username  Label  \\\n",
       "0             0           0    ahimcakep      0   \n",
       "1             1           1     Anadi_CR      0   \n",
       "2             2           2  TheUncleDee      0   \n",
       "3             3           3  TheUncleDee      0   \n",
       "4             4           4   qwrtpsdfgh      0   \n",
       "\n",
       "                                                Text  \n",
       "0  #JokowiGasPolKetahananEnergi\\nMenko km opung L...  \n",
       "1  Ingat kata pak luhut binsar panjaitan LBP\\n\\nM...  \n",
       "2  @biacho6688992 Kalau yg kasih perintah Luhut B...  \n",
       "3  Daripada harus melawan perintah Luhut Binsar P...  \n",
       "4  @geloraco Hei Luhut Binsar Panjaitan.\\nTolong ...  "
      ]
     },
     "execution_count": 5,
     "metadata": {},
     "output_type": "execute_result"
    }
   ],
   "source": [
    "# Info DataFrame Luhut\n",
    "df_luhut.info()\n",
    "df_luhut.head()"
   ]
  },
  {
   "cell_type": "code",
   "execution_count": 6,
   "metadata": {},
   "outputs": [
    {
     "name": "stdout",
     "output_type": "stream",
     "text": [
      "<class 'pandas.core.frame.DataFrame'>\n",
      "RangeIndex: 935 entries, 0 to 934\n",
      "Data columns (total 5 columns):\n",
      " #   Column        Non-Null Count  Dtype \n",
      "---  ------        --------------  ----- \n",
      " 0   Unnamed: 0.1  935 non-null    int64 \n",
      " 1   Unnamed: 0    935 non-null    int64 \n",
      " 2   Username      935 non-null    object\n",
      " 3   Label         935 non-null    int64 \n",
      " 4   Text          935 non-null    object\n",
      "dtypes: int64(3), object(2)\n",
      "memory usage: 36.6+ KB\n"
     ]
    },
    {
     "data": {
      "text/html": [
       "<div>\n",
       "<style scoped>\n",
       "    .dataframe tbody tr th:only-of-type {\n",
       "        vertical-align: middle;\n",
       "    }\n",
       "\n",
       "    .dataframe tbody tr th {\n",
       "        vertical-align: top;\n",
       "    }\n",
       "\n",
       "    .dataframe thead th {\n",
       "        text-align: right;\n",
       "    }\n",
       "</style>\n",
       "<table border=\"1\" class=\"dataframe\">\n",
       "  <thead>\n",
       "    <tr style=\"text-align: right;\">\n",
       "      <th></th>\n",
       "      <th>Unnamed: 0.1</th>\n",
       "      <th>Unnamed: 0</th>\n",
       "      <th>Username</th>\n",
       "      <th>Label</th>\n",
       "      <th>Text</th>\n",
       "    </tr>\n",
       "  </thead>\n",
       "  <tbody>\n",
       "    <tr>\n",
       "      <th>0</th>\n",
       "      <td>0</td>\n",
       "      <td>1</td>\n",
       "      <td>nepriadi74</td>\n",
       "      <td>0</td>\n",
       "      <td>@Tita83079013 @ganjarpranowo Ini murni tentang...</td>\n",
       "    </tr>\n",
       "    <tr>\n",
       "      <th>1</th>\n",
       "      <td>1</td>\n",
       "      <td>2</td>\n",
       "      <td>mukiyo_smg</td>\n",
       "      <td>0</td>\n",
       "      <td>@ch_chotimah2 @ganjarpranowo Yang di kantongny...</td>\n",
       "    </tr>\n",
       "    <tr>\n",
       "      <th>2</th>\n",
       "      <td>2</td>\n",
       "      <td>3</td>\n",
       "      <td>JessicaNeo4</td>\n",
       "      <td>1</td>\n",
       "      <td>@Dony_YNWA @Gimichan1721 @budimandjatmiko @gan...</td>\n",
       "    </tr>\n",
       "    <tr>\n",
       "      <th>3</th>\n",
       "      <td>3</td>\n",
       "      <td>4</td>\n",
       "      <td>B4ngDm</td>\n",
       "      <td>0</td>\n",
       "      <td>Setuju Arahan Jokowi, Ganjar Pranowo Larang Pe...</td>\n",
       "    </tr>\n",
       "    <tr>\n",
       "      <th>4</th>\n",
       "      <td>4</td>\n",
       "      <td>5</td>\n",
       "      <td>JuhanaSesa</td>\n",
       "      <td>0</td>\n",
       "      <td>@ganjarpranowo SD q 1968  kadang pake sepatu k...</td>\n",
       "    </tr>\n",
       "  </tbody>\n",
       "</table>\n",
       "</div>"
      ],
      "text/plain": [
       "   Unnamed: 0.1  Unnamed: 0     Username  Label  \\\n",
       "0             0           1   nepriadi74      0   \n",
       "1             1           2   mukiyo_smg      0   \n",
       "2             2           3  JessicaNeo4      1   \n",
       "3             3           4       B4ngDm      0   \n",
       "4             4           5   JuhanaSesa      0   \n",
       "\n",
       "                                                Text  \n",
       "0  @Tita83079013 @ganjarpranowo Ini murni tentang...  \n",
       "1  @ch_chotimah2 @ganjarpranowo Yang di kantongny...  \n",
       "2  @Dony_YNWA @Gimichan1721 @budimandjatmiko @gan...  \n",
       "3  Setuju Arahan Jokowi, Ganjar Pranowo Larang Pe...  \n",
       "4  @ganjarpranowo SD q 1968  kadang pake sepatu k...  "
      ]
     },
     "execution_count": 6,
     "metadata": {},
     "output_type": "execute_result"
    }
   ],
   "source": [
    "# Info DataFrame Ganjar\n",
    "df_ganjar.info()\n",
    "df_ganjar.head()"
   ]
  },
  {
   "cell_type": "code",
   "execution_count": 7,
   "metadata": {},
   "outputs": [
    {
     "name": "stdout",
     "output_type": "stream",
     "text": [
      "<class 'pandas.core.frame.DataFrame'>\n",
      "RangeIndex: 820 entries, 0 to 819\n",
      "Data columns (total 5 columns):\n",
      " #   Column        Non-Null Count  Dtype \n",
      "---  ------        --------------  ----- \n",
      " 0   Unnamed: 0.1  820 non-null    int64 \n",
      " 1   Unnamed: 0    820 non-null    int64 \n",
      " 2   Username      820 non-null    object\n",
      " 3   Label         820 non-null    int64 \n",
      " 4   Text          820 non-null    object\n",
      "dtypes: int64(3), object(2)\n",
      "memory usage: 32.2+ KB\n"
     ]
    },
    {
     "data": {
      "text/html": [
       "<div>\n",
       "<style scoped>\n",
       "    .dataframe tbody tr th:only-of-type {\n",
       "        vertical-align: middle;\n",
       "    }\n",
       "\n",
       "    .dataframe tbody tr th {\n",
       "        vertical-align: top;\n",
       "    }\n",
       "\n",
       "    .dataframe thead th {\n",
       "        text-align: right;\n",
       "    }\n",
       "</style>\n",
       "<table border=\"1\" class=\"dataframe\">\n",
       "  <thead>\n",
       "    <tr style=\"text-align: right;\">\n",
       "      <th></th>\n",
       "      <th>Unnamed: 0.1</th>\n",
       "      <th>Unnamed: 0</th>\n",
       "      <th>Username</th>\n",
       "      <th>Label</th>\n",
       "      <th>Text</th>\n",
       "    </tr>\n",
       "  </thead>\n",
       "  <tbody>\n",
       "    <tr>\n",
       "      <th>0</th>\n",
       "      <td>0</td>\n",
       "      <td>0</td>\n",
       "      <td>ahmadjaijuli</td>\n",
       "      <td>0</td>\n",
       "      <td>Anak-anak Buzzing selamat lembur, awas pke mas...</td>\n",
       "    </tr>\n",
       "    <tr>\n",
       "      <th>1</th>\n",
       "      <td>1</td>\n",
       "      <td>2</td>\n",
       "      <td>kukuhnugraha22</td>\n",
       "      <td>0</td>\n",
       "      <td>Ulama dipersekusi tapi giliran duit umat langs...</td>\n",
       "    </tr>\n",
       "    <tr>\n",
       "      <th>2</th>\n",
       "      <td>2</td>\n",
       "      <td>3</td>\n",
       "      <td>Pejuang68406722</td>\n",
       "      <td>0</td>\n",
       "      <td>Tangkap ikan “kakap besar” di laut dangkal saj...</td>\n",
       "    </tr>\n",
       "    <tr>\n",
       "      <th>3</th>\n",
       "      <td>3</td>\n",
       "      <td>4</td>\n",
       "      <td>Pejuang68406722</td>\n",
       "      <td>0</td>\n",
       "      <td>Anak ibu pertiwi rat-rata pada teriak betapa s...</td>\n",
       "    </tr>\n",
       "    <tr>\n",
       "      <th>4</th>\n",
       "      <td>4</td>\n",
       "      <td>5</td>\n",
       "      <td>Pejuang68406722</td>\n",
       "      <td>0</td>\n",
       "      <td>Harus di usut, kalo rakyat ramai\" ramai mengus...</td>\n",
       "    </tr>\n",
       "  </tbody>\n",
       "</table>\n",
       "</div>"
      ],
      "text/plain": [
       "   Unnamed: 0.1  Unnamed: 0         Username  Label  \\\n",
       "0             0           0     ahmadjaijuli      0   \n",
       "1             1           2   kukuhnugraha22      0   \n",
       "2             2           3  Pejuang68406722      0   \n",
       "3             3           4  Pejuang68406722      0   \n",
       "4             4           5  Pejuang68406722      0   \n",
       "\n",
       "                                                Text  \n",
       "0  Anak-anak Buzzing selamat lembur, awas pke mas...  \n",
       "1  Ulama dipersekusi tapi giliran duit umat langs...  \n",
       "2  Tangkap ikan “kakap besar” di laut dangkal saj...  \n",
       "3  Anak ibu pertiwi rat-rata pada teriak betapa s...  \n",
       "4  Harus di usut, kalo rakyat ramai\" ramai mengus...  "
      ]
     },
     "execution_count": 7,
     "metadata": {},
     "output_type": "execute_result"
    }
   ],
   "source": [
    "# Info DataFrame Republik\n",
    "df_republik.info()\n",
    "df_republik.head()"
   ]
  },
  {
   "cell_type": "code",
   "execution_count": 8,
   "metadata": {},
   "outputs": [
    {
     "name": "stdout",
     "output_type": "stream",
     "text": [
      "<class 'pandas.core.frame.DataFrame'>\n",
      "RangeIndex: 1039 entries, 0 to 1038\n",
      "Data columns (total 5 columns):\n",
      " #   Column      Non-Null Count  Dtype \n",
      "---  ------      --------------  ----- \n",
      " 0   Unnamed: 0  1039 non-null   int64 \n",
      " 1   From-User   1038 non-null   object\n",
      " 2   Sentimen    1039 non-null   object\n",
      " 3   Sarkas      418 non-null    object\n",
      " 4   Text        1039 non-null   object\n",
      "dtypes: int64(1), object(4)\n",
      "memory usage: 40.7+ KB\n"
     ]
    },
    {
     "data": {
      "text/html": [
       "<div>\n",
       "<style scoped>\n",
       "    .dataframe tbody tr th:only-of-type {\n",
       "        vertical-align: middle;\n",
       "    }\n",
       "\n",
       "    .dataframe tbody tr th {\n",
       "        vertical-align: top;\n",
       "    }\n",
       "\n",
       "    .dataframe thead th {\n",
       "        text-align: right;\n",
       "    }\n",
       "</style>\n",
       "<table border=\"1\" class=\"dataframe\">\n",
       "  <thead>\n",
       "    <tr style=\"text-align: right;\">\n",
       "      <th></th>\n",
       "      <th>Unnamed: 0</th>\n",
       "      <th>From-User</th>\n",
       "      <th>Sentimen</th>\n",
       "      <th>Sarkas</th>\n",
       "      <th>Text</th>\n",
       "    </tr>\n",
       "  </thead>\n",
       "  <tbody>\n",
       "    <tr>\n",
       "      <th>0</th>\n",
       "      <td>0</td>\n",
       "      <td>Muhri Zayyin</td>\n",
       "      <td>Positif</td>\n",
       "      <td>Sarkas</td>\n",
       "      <td>Kawan2 sunda harusnya bersatu jemput Arteria d...</td>\n",
       "    </tr>\n",
       "    <tr>\n",
       "      <th>1</th>\n",
       "      <td>1</td>\n",
       "      <td>Sudarsono Darsono</td>\n",
       "      <td>Negatif</td>\n",
       "      <td>NaN</td>\n",
       "      <td>Arogan dan tidak kapok2 Arteria Dahlan ini 😁</td>\n",
       "    </tr>\n",
       "    <tr>\n",
       "      <th>2</th>\n",
       "      <td>2</td>\n",
       "      <td>Ni_Di_Indonesia????</td>\n",
       "      <td>Negatif</td>\n",
       "      <td>NaN</td>\n",
       "      <td>Arteria Dahlan bisa juga dong disidang adat Su...</td>\n",
       "    </tr>\n",
       "    <tr>\n",
       "      <th>3</th>\n",
       "      <td>3</td>\n",
       "      <td>Brigade Soeharto (Founder)</td>\n",
       "      <td>Negatif</td>\n",
       "      <td>NaN</td>\n",
       "      <td>Terus orang Sunda jemput Arteria Dahlan untuk ...</td>\n",
       "    </tr>\n",
       "    <tr>\n",
       "      <th>4</th>\n",
       "      <td>4</td>\n",
       "      <td>NKRI-HargaMati Mohu</td>\n",
       "      <td>Negatif</td>\n",
       "      <td>NaN</td>\n",
       "      <td>Ga usah dijelaskan atau ditafsirkan apalagi me...</td>\n",
       "    </tr>\n",
       "  </tbody>\n",
       "</table>\n",
       "</div>"
      ],
      "text/plain": [
       "   Unnamed: 0                   From-User Sentimen  Sarkas  \\\n",
       "0           0                Muhri Zayyin  Positif  Sarkas   \n",
       "1           1           Sudarsono Darsono  Negatif     NaN   \n",
       "2           2         Ni_Di_Indonesia????  Negatif     NaN   \n",
       "3           3  Brigade Soeharto (Founder)  Negatif     NaN   \n",
       "4           4         NKRI-HargaMati Mohu  Negatif     NaN   \n",
       "\n",
       "                                                Text  \n",
       "0  Kawan2 sunda harusnya bersatu jemput Arteria d...  \n",
       "1       Arogan dan tidak kapok2 Arteria Dahlan ini 😁  \n",
       "2  Arteria Dahlan bisa juga dong disidang adat Su...  \n",
       "3  Terus orang Sunda jemput Arteria Dahlan untuk ...  \n",
       "4  Ga usah dijelaskan atau ditafsirkan apalagi me...  "
      ]
     },
     "execution_count": 8,
     "metadata": {},
     "output_type": "execute_result"
    }
   ],
   "source": [
    "# Info DataFrame Politik\n",
    "df_politik.info()\n",
    "df_politik.head()"
   ]
  },
  {
   "cell_type": "code",
   "execution_count": 9,
   "metadata": {},
   "outputs": [],
   "source": [
    "# Remove Unused Feature / Column\n",
    "df_caknun = df_caknun.drop(columns='Unnamed: 0')\n",
    "df_caknun = df_caknun.drop(columns='Unnamed: 0.1')\n",
    "df_caknun = df_caknun.drop(columns='Username')\n",
    "df_caknun = df_caknun.drop(columns='Label')\n",
    "\n",
    "df_anies = df_anies.drop(columns='Unnamed: 0')\n",
    "df_anies = df_anies.drop(columns='Unnamed: 0.1')\n",
    "df_anies = df_anies.drop(columns='Username')\n",
    "df_anies = df_anies.drop(columns='Label')\n",
    "\n",
    "df_puan = df_puan.drop(columns='Unnamed: 0')\n",
    "df_puan = df_puan.drop(columns='Unnamed: 0.1')\n",
    "df_puan = df_puan.drop(columns='Username')\n",
    "df_puan = df_puan.drop(columns='Label')\n",
    "\n",
    "df_luhut = df_luhut.drop(columns='Unnamed: 0')\n",
    "df_luhut = df_luhut.drop(columns='Unnamed: 0.1')\n",
    "df_luhut = df_luhut.drop(columns='Username')\n",
    "df_luhut = df_luhut.drop(columns='Label')\n",
    "\n",
    "df_ganjar = df_ganjar.drop(columns='Unnamed: 0')\n",
    "df_ganjar = df_ganjar.drop(columns='Unnamed: 0.1')\n",
    "df_ganjar = df_ganjar.drop(columns='Username')\n",
    "df_ganjar = df_ganjar.drop(columns='Label')\n",
    "\n",
    "df_republik = df_republik.drop(columns='Unnamed: 0')\n",
    "df_republik = df_republik.drop(columns='Unnamed: 0.1')\n",
    "df_republik = df_republik.drop(columns='Username')\n",
    "df_republik = df_republik.drop(columns='Label')\n",
    "\n",
    "df_politik = df_politik.drop(columns='Unnamed: 0')\n",
    "df_politik = df_politik.drop(columns='From-User')\n",
    "df_politik = df_politik.drop(columns='Sentimen')\n",
    "df_politik = df_politik.drop(columns='Sarkas')"
   ]
  },
  {
   "cell_type": "code",
   "execution_count": 10,
   "metadata": {},
   "outputs": [
    {
     "name": "stdout",
     "output_type": "stream",
     "text": [
      "<class 'pandas.core.frame.DataFrame'>\n",
      "RangeIndex: 1039 entries, 0 to 1038\n",
      "Data columns (total 1 columns):\n",
      " #   Column  Non-Null Count  Dtype \n",
      "---  ------  --------------  ----- \n",
      " 0   Text    1039 non-null   object\n",
      "dtypes: object(1)\n",
      "memory usage: 8.2+ KB\n"
     ]
    }
   ],
   "source": [
    "df_politik.info()"
   ]
  },
  {
   "cell_type": "code",
   "execution_count": 11,
   "metadata": {},
   "outputs": [
    {
     "name": "stdout",
     "output_type": "stream",
     "text": [
      "<class 'pandas.core.frame.DataFrame'>\n",
      "RangeIndex: 888 entries, 0 to 887\n",
      "Data columns (total 1 columns):\n",
      " #   Column  Non-Null Count  Dtype \n",
      "---  ------  --------------  ----- \n",
      " 0   Text    888 non-null    object\n",
      "dtypes: object(1)\n",
      "memory usage: 7.1+ KB\n"
     ]
    }
   ],
   "source": [
    "df_caknun.info()"
   ]
  },
  {
   "cell_type": "code",
   "execution_count": 12,
   "metadata": {},
   "outputs": [
    {
     "name": "stdout",
     "output_type": "stream",
     "text": [
      "<class 'pandas.core.frame.DataFrame'>\n",
      "RangeIndex: 873 entries, 0 to 872\n",
      "Data columns (total 1 columns):\n",
      " #   Column  Non-Null Count  Dtype \n",
      "---  ------  --------------  ----- \n",
      " 0   Text    873 non-null    object\n",
      "dtypes: object(1)\n",
      "memory usage: 6.9+ KB\n"
     ]
    }
   ],
   "source": [
    "df_anies.info()"
   ]
  },
  {
   "cell_type": "code",
   "execution_count": 13,
   "metadata": {},
   "outputs": [
    {
     "name": "stdout",
     "output_type": "stream",
     "text": [
      "<class 'pandas.core.frame.DataFrame'>\n",
      "RangeIndex: 951 entries, 0 to 950\n",
      "Data columns (total 1 columns):\n",
      " #   Column  Non-Null Count  Dtype \n",
      "---  ------  --------------  ----- \n",
      " 0   Text    951 non-null    object\n",
      "dtypes: object(1)\n",
      "memory usage: 7.6+ KB\n"
     ]
    }
   ],
   "source": [
    "df_puan.info()"
   ]
  },
  {
   "cell_type": "code",
   "execution_count": 14,
   "metadata": {},
   "outputs": [
    {
     "name": "stdout",
     "output_type": "stream",
     "text": [
      "<class 'pandas.core.frame.DataFrame'>\n",
      "RangeIndex: 914 entries, 0 to 913\n",
      "Data columns (total 1 columns):\n",
      " #   Column  Non-Null Count  Dtype \n",
      "---  ------  --------------  ----- \n",
      " 0   Text    914 non-null    object\n",
      "dtypes: object(1)\n",
      "memory usage: 7.3+ KB\n"
     ]
    }
   ],
   "source": [
    "df_luhut.info()"
   ]
  },
  {
   "cell_type": "code",
   "execution_count": 15,
   "metadata": {},
   "outputs": [
    {
     "name": "stdout",
     "output_type": "stream",
     "text": [
      "<class 'pandas.core.frame.DataFrame'>\n",
      "RangeIndex: 935 entries, 0 to 934\n",
      "Data columns (total 1 columns):\n",
      " #   Column  Non-Null Count  Dtype \n",
      "---  ------  --------------  ----- \n",
      " 0   Text    935 non-null    object\n",
      "dtypes: object(1)\n",
      "memory usage: 7.4+ KB\n"
     ]
    }
   ],
   "source": [
    "df_ganjar.info()"
   ]
  },
  {
   "cell_type": "code",
   "execution_count": 16,
   "metadata": {},
   "outputs": [
    {
     "name": "stdout",
     "output_type": "stream",
     "text": [
      "<class 'pandas.core.frame.DataFrame'>\n",
      "RangeIndex: 820 entries, 0 to 819\n",
      "Data columns (total 1 columns):\n",
      " #   Column  Non-Null Count  Dtype \n",
      "---  ------  --------------  ----- \n",
      " 0   Text    820 non-null    object\n",
      "dtypes: object(1)\n",
      "memory usage: 6.5+ KB\n"
     ]
    }
   ],
   "source": [
    "df_republik.info()"
   ]
  },
  {
   "attachments": {},
   "cell_type": "markdown",
   "metadata": {},
   "source": [
    "<h1>DATA PREPROCESSING</h1>"
   ]
  },
  {
   "cell_type": "code",
   "execution_count": 17,
   "metadata": {},
   "outputs": [],
   "source": [
    "import regex as re\n",
    "from html import unescape\n",
    "import unicodedata"
   ]
  },
  {
   "attachments": {},
   "cell_type": "markdown",
   "metadata": {},
   "source": [
    "<h2>Convert Mathematical Alphanumeric Symbols to ASCII</h2>"
   ]
  },
  {
   "cell_type": "code",
   "execution_count": 18,
   "metadata": {},
   "outputs": [],
   "source": [
    "for i in range(len(df_caknun)):\n",
    "    df_caknun.loc[i, 'Text'] = unicodedata.normalize('NFKD', df_caknun.loc[i, 'Text'])\n",
    "\n",
    "\n",
    "for i in range(len(df_anies)):\n",
    "    df_anies.loc[i, 'Text'] = unicodedata.normalize('NFKD', df_anies.loc[i, 'Text'])\n",
    "\n",
    "\n",
    "for i in range(len(df_puan)):\n",
    "    df_puan.loc[i, 'Text'] = unicodedata.normalize('NFKD', df_puan.loc[i, 'Text'])\n",
    "\n",
    "\n",
    "for i in range(len(df_luhut)):\n",
    "    df_luhut.loc[i, 'Text'] = unicodedata.normalize('NFKD', df_luhut.loc[i, 'Text'])\n",
    "\n",
    "\n",
    "for i in range(len(df_ganjar)):\n",
    "    df_ganjar.loc[i, 'Text'] = unicodedata.normalize('NFKD', df_ganjar.loc[i, 'Text'])\n",
    "\n",
    "\n",
    "for i in range(len(df_republik)):\n",
    "    df_republik.loc[i, 'Text'] = unicodedata.normalize('NFKD', df_republik.loc[i, 'Text'])\n",
    "\n",
    "\n",
    "for i in range(len(df_politik)):\n",
    "    df_politik.loc[i, 'Text'] = unicodedata.normalize('NFKD', df_politik.loc[i, 'Text'])"
   ]
  },
  {
   "attachments": {},
   "cell_type": "markdown",
   "metadata": {},
   "source": [
    "<h2>Removing HTML Encoding</h2>"
   ]
  },
  {
   "cell_type": "code",
   "execution_count": 19,
   "metadata": {},
   "outputs": [],
   "source": [
    "def remove_htmlEncoding(text):\n",
    "    # Mengubah HTML entity menjadi karakter normal\n",
    "    text = unescape(text)\n",
    "\n",
    "    # Menghapus tag HTML\n",
    "    text = re.sub(r'<.*?>', ' ', text)\n",
    "\n",
    "    return text"
   ]
  },
  {
   "attachments": {},
   "cell_type": "markdown",
   "metadata": {},
   "source": [
    "<h3>Datasets CakNun</h3>"
   ]
  },
  {
   "cell_type": "code",
   "execution_count": 20,
   "metadata": {},
   "outputs": [],
   "source": [
    "df_caknun['Text'] = df_caknun['Text'].apply(remove_htmlEncoding)"
   ]
  },
  {
   "cell_type": "code",
   "execution_count": 21,
   "metadata": {},
   "outputs": [
    {
     "data": {
      "text/plain": [
       "0    Bukankah hanya pada saat mencemooh, putus asa,...\n",
       "1    Toh jagat di luar dan jagat di dalam sama saja...\n",
       "2    Mbah nun @caknundotcom \\n\\nPOLITISI Kubu 01:\\n...\n",
       "3    Mbah Nun @caknundotcom \\nS.B.Ydyo=J.K kubu 01:...\n",
       "4    Mbah nun @caknundotcom \\n\\nBANCI,KOMUNIS&SENGK...\n",
       "5    Mbah nun @caknundotcom \\n\\nBerLAGAK nDALANK\\n👉...\n",
       "Name: Text, dtype: object"
      ]
     },
     "execution_count": 21,
     "metadata": {},
     "output_type": "execute_result"
    }
   ],
   "source": [
    "df_caknun['Text'].head(6)"
   ]
  },
  {
   "attachments": {},
   "cell_type": "markdown",
   "metadata": {},
   "source": [
    "<h3>Datasets Anies</h3>"
   ]
  },
  {
   "cell_type": "code",
   "execution_count": 22,
   "metadata": {},
   "outputs": [],
   "source": [
    "df_anies['Text'] = df_anies['Text'].apply(remove_htmlEncoding)"
   ]
  },
  {
   "cell_type": "code",
   "execution_count": 23,
   "metadata": {},
   "outputs": [
    {
     "data": {
      "text/plain": [
       "0    @aniesbaswedan prettttt,gagasan mulu yg dibaha...\n",
       "1    @Wiji_kedua @aniesbaswedan Pemborosan \\nBangun...\n",
       "2    @tvOneNews Alhamdulillah.... Segala Puji bagiM...\n",
       "3    Dear @Relawananies kebanyakan ngedabol, pergi ...\n",
       "4    @StefanAntonio__ @aniesbaswedan Bukan pemimpin...\n",
       "5    Koalisi Perubahan Makin Solid, Anies Baswedan:...\n",
       "Name: Text, dtype: object"
      ]
     },
     "execution_count": 23,
     "metadata": {},
     "output_type": "execute_result"
    }
   ],
   "source": [
    "df_anies['Text'].head(6)"
   ]
  },
  {
   "attachments": {},
   "cell_type": "markdown",
   "metadata": {},
   "source": [
    "<h3>Datasets Puan</h3>"
   ]
  },
  {
   "cell_type": "code",
   "execution_count": 24,
   "metadata": {},
   "outputs": [],
   "source": [
    "df_puan['Text'] = df_puan['Text'].apply(remove_htmlEncoding)"
   ]
  },
  {
   "cell_type": "code",
   "execution_count": 25,
   "metadata": {},
   "outputs": [
    {
     "data": {
      "text/plain": [
       "0    Kemarin ada yg lempar - lempar kaos sambil mas...\n",
       "1    @KompasTV Ga perduli penjelasanmuuuu puan, mem...\n",
       "2    @A9NiniGramercy @BosPurwa @puanmaharani_ri @ca...\n",
       "3    @cuanmaharani_ri @aniesbaswedan @puanmaharani_...\n",
       "4         @ardianpancaa @puanmaharani_ri gak dibrief 💯\n",
       "5    @RositaPratiwi9 @puanmaharani_ri Presiden PDIP...\n",
       "Name: Text, dtype: object"
      ]
     },
     "execution_count": 25,
     "metadata": {},
     "output_type": "execute_result"
    }
   ],
   "source": [
    "df_puan['Text'].head(6)"
   ]
  },
  {
   "attachments": {},
   "cell_type": "markdown",
   "metadata": {},
   "source": [
    "<h3>Datasets Luhut</h3>"
   ]
  },
  {
   "cell_type": "code",
   "execution_count": 26,
   "metadata": {},
   "outputs": [],
   "source": [
    "df_luhut['Text'] = df_luhut['Text'].apply(remove_htmlEncoding)"
   ]
  },
  {
   "cell_type": "code",
   "execution_count": 27,
   "metadata": {},
   "outputs": [
    {
     "data": {
      "text/plain": [
       "0    #JokowiGasPolKetahananEnergi\\nMenko km opung L...\n",
       "1    Ingat kata pak luhut binsar panjaitan LBP\\n\\nM...\n",
       "2    @biacho6688992 Kalau yg kasih perintah Luhut B...\n",
       "3    Daripada harus melawan perintah Luhut Binsar P...\n",
       "4    @geloraco Hei Luhut Binsar Panjaitan.\\nTolong ...\n",
       "5    Baru nyadar Pak @jokowi kalau selama ini udah ...\n",
       "Name: Text, dtype: object"
      ]
     },
     "execution_count": 27,
     "metadata": {},
     "output_type": "execute_result"
    }
   ],
   "source": [
    "df_luhut['Text'].head(6)"
   ]
  },
  {
   "attachments": {},
   "cell_type": "markdown",
   "metadata": {},
   "source": [
    "<h3>Datasets Ganjar</h3>"
   ]
  },
  {
   "cell_type": "code",
   "execution_count": 28,
   "metadata": {},
   "outputs": [],
   "source": [
    "df_ganjar['Text'] = df_ganjar['Text'].apply(remove_htmlEncoding)"
   ]
  },
  {
   "cell_type": "code",
   "execution_count": 29,
   "metadata": {},
   "outputs": [
    {
     "data": {
      "text/plain": [
       "0    @Tita83079013 @ganjarpranowo Ini murni tentang...\n",
       "1    @ch_chotimah2 @ganjarpranowo Yang di kantongny...\n",
       "2    @Dony_YNWA @Gimichan1721 @budimandjatmiko @gan...\n",
       "3    Setuju Arahan Jokowi, Ganjar Pranowo Larang Pe...\n",
       "4    @ganjarpranowo SD q 1968  kadang pake sepatu k...\n",
       "5    @Tita83079013 @ganjarpranowo @PDI_Perjuangan M...\n",
       "Name: Text, dtype: object"
      ]
     },
     "execution_count": 29,
     "metadata": {},
     "output_type": "execute_result"
    }
   ],
   "source": [
    "df_ganjar['Text'].head(6)"
   ]
  },
  {
   "attachments": {},
   "cell_type": "markdown",
   "metadata": {},
   "source": [
    "<h3>Datasets Republik Pencitraan</h3>"
   ]
  },
  {
   "cell_type": "code",
   "execution_count": 30,
   "metadata": {},
   "outputs": [],
   "source": [
    "df_republik['Text'] = df_republik['Text'].apply(remove_htmlEncoding)"
   ]
  },
  {
   "cell_type": "code",
   "execution_count": 31,
   "metadata": {},
   "outputs": [
    {
     "data": {
      "text/plain": [
       "0    Anak-anak Buzzing selamat lembur, awas pke mas...\n",
       "1    Ulama dipersekusi tapi giliran duit umat langs...\n",
       "2    Tangkap ikan “kakap besar” di laut dangkal saj...\n",
       "3    Anak ibu pertiwi rat-rata pada teriak betapa s...\n",
       "4    Harus di usut, kalo rakyat ramai\" ramai mengus...\n",
       "5    Anak ibu pertiwi rata-rata menjerit perih nya ...\n",
       "Name: Text, dtype: object"
      ]
     },
     "execution_count": 31,
     "metadata": {},
     "output_type": "execute_result"
    }
   ],
   "source": [
    "df_republik['Text'].head(6)"
   ]
  },
  {
   "attachments": {},
   "cell_type": "markdown",
   "metadata": {},
   "source": [
    "<h3>Datasets Politik</h3>"
   ]
  },
  {
   "cell_type": "code",
   "execution_count": 32,
   "metadata": {},
   "outputs": [],
   "source": [
    "df_politik['Text'] = df_politik['Text'].apply(remove_htmlEncoding)"
   ]
  },
  {
   "cell_type": "code",
   "execution_count": 33,
   "metadata": {},
   "outputs": [
    {
     "data": {
      "text/plain": [
       "0    Kawan2 sunda harusnya bersatu jemput Arteria d...\n",
       "1         Arogan dan tidak kapok2 Arteria Dahlan ini 😁\n",
       "2    Arteria Dahlan bisa juga dong disidang adat Su...\n",
       "3    Terus orang Sunda jemput Arteria Dahlan untuk ...\n",
       "4    Ga usah dijelaskan atau ditafsirkan apalagi me...\n",
       "5    kan nantik ngak seperti DivHumas_Polri ..awal ...\n",
       "Name: Text, dtype: object"
      ]
     },
     "execution_count": 33,
     "metadata": {},
     "output_type": "execute_result"
    }
   ],
   "source": [
    "df_politik['Text'].head(6)"
   ]
  },
  {
   "attachments": {},
   "cell_type": "markdown",
   "metadata": {},
   "source": [
    "<h2>Removing Mentions</h2>"
   ]
  },
  {
   "cell_type": "code",
   "execution_count": 34,
   "metadata": {},
   "outputs": [],
   "source": [
    "def remove_mentions(text):\n",
    "    text = re.sub(r'@[A-Za-z0-9__]+',' ',text)\n",
    "\n",
    "    return text"
   ]
  },
  {
   "attachments": {},
   "cell_type": "markdown",
   "metadata": {},
   "source": [
    "<h3>Datasets CakNun</h3>"
   ]
  },
  {
   "cell_type": "code",
   "execution_count": 35,
   "metadata": {},
   "outputs": [],
   "source": [
    "df_caknun['Text'] = df_caknun['Text'].apply(remove_mentions)"
   ]
  },
  {
   "cell_type": "code",
   "execution_count": 36,
   "metadata": {},
   "outputs": [
    {
     "data": {
      "text/plain": [
       "0    Bukankah hanya pada saat mencemooh, putus asa,...\n",
       "1    Toh jagat di luar dan jagat di dalam sama saja...\n",
       "2    Mbah nun   \\n\\nPOLITISI Kubu 01:\\nBONEKA'y Kor...\n",
       "3    Mbah Nun   \\nS.B.Ydyo=J.K kubu 01:\\nke-2'y Ada...\n",
       "4    Mbah nun   \\n\\nBANCI,KOMUNIS&SENGKUNI:\\nyg NGU...\n",
       "5    Mbah nun   \\n\\nBerLAGAK nDALANK\\n👉Silahkan diB...\n",
       "Name: Text, dtype: object"
      ]
     },
     "execution_count": 36,
     "metadata": {},
     "output_type": "execute_result"
    }
   ],
   "source": [
    "df_caknun['Text'].head(6)"
   ]
  },
  {
   "attachments": {},
   "cell_type": "markdown",
   "metadata": {},
   "source": [
    "<h3>Datasets Anies</h3>"
   ]
  },
  {
   "cell_type": "code",
   "execution_count": 37,
   "metadata": {},
   "outputs": [],
   "source": [
    "df_anies['Text'] = df_anies['Text'].apply(remove_mentions)"
   ]
  },
  {
   "cell_type": "code",
   "execution_count": 38,
   "metadata": {},
   "outputs": [
    {
     "data": {
      "text/plain": [
       "0      prettttt,gagasan mulu yg dibahas nyatanya zo...\n",
       "1        Pemborosan \\nBangunan tingkat kampung\\nSeb...\n",
       "2      Alhamdulillah.... Segala Puji bagiMu ya Alla...\n",
       "3    Dear   kebanyakan ngedabol, pergi ke Kalimanta...\n",
       "4        Bukan pemimpin\\nHanya dosen yg pindah ruan...\n",
       "5    Koalisi Perubahan Makin Solid, Anies Baswedan:...\n",
       "Name: Text, dtype: object"
      ]
     },
     "execution_count": 38,
     "metadata": {},
     "output_type": "execute_result"
    }
   ],
   "source": [
    "df_anies['Text'].head(6)"
   ]
  },
  {
   "attachments": {},
   "cell_type": "markdown",
   "metadata": {},
   "source": [
    "<h3>Datasets Puan</h3>"
   ]
  },
  {
   "cell_type": "code",
   "execution_count": 39,
   "metadata": {},
   "outputs": [],
   "source": [
    "df_puan['Text'] = df_puan['Text'].apply(remove_mentions)"
   ]
  },
  {
   "cell_type": "code",
   "execution_count": 40,
   "metadata": {},
   "outputs": [
    {
     "data": {
      "text/plain": [
       "0    Kemarin ada yg lempar - lempar kaos sambil mas...\n",
       "1      Ga perduli penjelasanmuuuu puan, memang kau ...\n",
       "2                 Ciri ciri barang g laku ya diobral 💯\n",
       "3            Baru saya sadar, ternyata dia bukan   🤭 💯\n",
       "4                                        gak dibrief 💯\n",
       "5                                   Presiden PDIP 🤣🤣 💯\n",
       "Name: Text, dtype: object"
      ]
     },
     "execution_count": 40,
     "metadata": {},
     "output_type": "execute_result"
    }
   ],
   "source": [
    "df_puan['Text'].head(6)"
   ]
  },
  {
   "attachments": {},
   "cell_type": "markdown",
   "metadata": {},
   "source": [
    "<h3>Datasets Luhut</h3>"
   ]
  },
  {
   "cell_type": "code",
   "execution_count": 41,
   "metadata": {},
   "outputs": [],
   "source": [
    "df_luhut['Text'] = df_luhut['Text'].apply(remove_mentions)"
   ]
  },
  {
   "cell_type": "code",
   "execution_count": 42,
   "metadata": {},
   "outputs": [
    {
     "data": {
      "text/plain": [
       "0    #JokowiGasPolKetahananEnergi\\nMenko km opung L...\n",
       "1    Ingat kata pak luhut binsar panjaitan LBP\\n\\nM...\n",
       "2      Kalau yg kasih perintah Luhut Binsar Panjait...\n",
       "3    Daripada harus melawan perintah Luhut Binsar P...\n",
       "4      Hei Luhut Binsar Panjaitan.\\nTolong jelaskan...\n",
       "5    Baru nyadar Pak   kalau selama ini udah di Boh...\n",
       "Name: Text, dtype: object"
      ]
     },
     "execution_count": 42,
     "metadata": {},
     "output_type": "execute_result"
    }
   ],
   "source": [
    "df_luhut['Text'].head(6)"
   ]
  },
  {
   "attachments": {},
   "cell_type": "markdown",
   "metadata": {},
   "source": [
    "<h3>Datasets Ganjar</h3>"
   ]
  },
  {
   "cell_type": "code",
   "execution_count": 43,
   "metadata": {},
   "outputs": [],
   "source": [
    "df_ganjar['Text'] = df_ganjar['Text'].apply(remove_mentions)"
   ]
  },
  {
   "cell_type": "code",
   "execution_count": 44,
   "metadata": {},
   "outputs": [
    {
     "data": {
      "text/plain": [
       "0        Ini murni tentang konstitusi yg harus dite...\n",
       "1        Yang di kantongnya bu Mega bukan dia.\\n  l...\n",
       "2                                haha saya suka ini. 😭\n",
       "3    Setuju Arahan Jokowi, Ganjar Pranowo Larang Pe...\n",
       "4      SD q 1968  kadang pake sepatu kadang sandal ...\n",
       "5          Masak seorang ganjar ndak ngerti fifa it...\n",
       "Name: Text, dtype: object"
      ]
     },
     "execution_count": 44,
     "metadata": {},
     "output_type": "execute_result"
    }
   ],
   "source": [
    "df_ganjar['Text'].head(6)"
   ]
  },
  {
   "attachments": {},
   "cell_type": "markdown",
   "metadata": {},
   "source": [
    "<h3>Datasets Republik Pencitraan</h3>"
   ]
  },
  {
   "cell_type": "code",
   "execution_count": 45,
   "metadata": {},
   "outputs": [],
   "source": [
    "df_republik['Text'] = df_republik['Text'].apply(remove_mentions)"
   ]
  },
  {
   "cell_type": "code",
   "execution_count": 46,
   "metadata": {},
   "outputs": [
    {
     "data": {
      "text/plain": [
       "0    Anak-anak Buzzing selamat lembur, awas pke mas...\n",
       "1    Ulama dipersekusi tapi giliran duit umat langs...\n",
       "2    Tangkap ikan “kakap besar” di laut dangkal saj...\n",
       "3    Anak ibu pertiwi rat-rata pada teriak betapa s...\n",
       "4    Harus di usut, kalo rakyat ramai\" ramai mengus...\n",
       "5    Anak ibu pertiwi rata-rata menjerit perih nya ...\n",
       "Name: Text, dtype: object"
      ]
     },
     "execution_count": 46,
     "metadata": {},
     "output_type": "execute_result"
    }
   ],
   "source": [
    "df_republik['Text'].head(6)"
   ]
  },
  {
   "attachments": {},
   "cell_type": "markdown",
   "metadata": {},
   "source": [
    "<h3>Datasets Politik</h3>"
   ]
  },
  {
   "cell_type": "code",
   "execution_count": 47,
   "metadata": {},
   "outputs": [],
   "source": [
    "df_politik['Text'] = df_politik['Text'].apply(remove_mentions)"
   ]
  },
  {
   "cell_type": "code",
   "execution_count": 48,
   "metadata": {},
   "outputs": [
    {
     "data": {
      "text/plain": [
       "0    Kawan2 sunda harusnya bersatu jemput Arteria d...\n",
       "1         Arogan dan tidak kapok2 Arteria Dahlan ini 😁\n",
       "2    Arteria Dahlan bisa juga dong disidang adat Su...\n",
       "3    Terus orang Sunda jemput Arteria Dahlan untuk ...\n",
       "4    Ga usah dijelaskan atau ditafsirkan apalagi me...\n",
       "5    kan nantik ngak seperti DivHumas_Polri ..awal ...\n",
       "Name: Text, dtype: object"
      ]
     },
     "execution_count": 48,
     "metadata": {},
     "output_type": "execute_result"
    }
   ],
   "source": [
    "df_politik['Text'].head(6)"
   ]
  },
  {
   "attachments": {},
   "cell_type": "markdown",
   "metadata": {},
   "source": [
    "<h2>Removing Hashtags</h2>"
   ]
  },
  {
   "cell_type": "code",
   "execution_count": 49,
   "metadata": {},
   "outputs": [],
   "source": [
    "def remove_hashtags(text):\n",
    "    text = re.sub(r'#[A-Za-z0-9-]+',' ', text)\n",
    "\n",
    "    return text"
   ]
  },
  {
   "attachments": {},
   "cell_type": "markdown",
   "metadata": {},
   "source": [
    "<h3>Datasets CakNun</h3>"
   ]
  },
  {
   "cell_type": "code",
   "execution_count": 50,
   "metadata": {},
   "outputs": [],
   "source": [
    "df_caknun['Text'] = df_caknun['Text'].apply(remove_hashtags)"
   ]
  },
  {
   "cell_type": "code",
   "execution_count": 51,
   "metadata": {},
   "outputs": [
    {
     "data": {
      "text/plain": [
       "0    Bukankah hanya pada saat mencemooh, putus asa,...\n",
       "1    Toh jagat di luar dan jagat di dalam sama saja...\n",
       "2    Mbah nun   \\n\\nPOLITISI Kubu 01:\\nBONEKA'y Kor...\n",
       "3    Mbah Nun   \\nS.B.Ydyo=J.K kubu 01:\\nke-2'y Ada...\n",
       "4    Mbah nun   \\n\\nBANCI,KOMUNIS&SENGKUNI:\\nyg NGU...\n",
       "5    Mbah nun   \\n\\nBerLAGAK nDALANK\\n👉Silahkan diB...\n",
       "Name: Text, dtype: object"
      ]
     },
     "execution_count": 51,
     "metadata": {},
     "output_type": "execute_result"
    }
   ],
   "source": [
    "df_caknun['Text'].head(6)"
   ]
  },
  {
   "attachments": {},
   "cell_type": "markdown",
   "metadata": {},
   "source": [
    "<h3>Datasets Anies</h3>"
   ]
  },
  {
   "cell_type": "code",
   "execution_count": 52,
   "metadata": {},
   "outputs": [],
   "source": [
    "df_anies['Text'] = df_anies['Text'].apply(remove_hashtags)"
   ]
  },
  {
   "cell_type": "code",
   "execution_count": 53,
   "metadata": {},
   "outputs": [
    {
     "data": {
      "text/plain": [
       "0      prettttt,gagasan mulu yg dibahas nyatanya zo...\n",
       "1        Pemborosan \\nBangunan tingkat kampung\\nSeb...\n",
       "2      Alhamdulillah.... Segala Puji bagiMu ya Alla...\n",
       "3    Dear   kebanyakan ngedabol, pergi ke Kalimanta...\n",
       "4        Bukan pemimpin\\nHanya dosen yg pindah ruan...\n",
       "5    Koalisi Perubahan Makin Solid, Anies Baswedan:...\n",
       "Name: Text, dtype: object"
      ]
     },
     "execution_count": 53,
     "metadata": {},
     "output_type": "execute_result"
    }
   ],
   "source": [
    "df_anies['Text'].head(6)"
   ]
  },
  {
   "attachments": {},
   "cell_type": "markdown",
   "metadata": {},
   "source": [
    "<h3>Datasets Puan</h3>"
   ]
  },
  {
   "cell_type": "code",
   "execution_count": 54,
   "metadata": {},
   "outputs": [],
   "source": [
    "df_puan['Text'] = df_puan['Text'].apply(remove_hashtags)"
   ]
  },
  {
   "cell_type": "code",
   "execution_count": 55,
   "metadata": {},
   "outputs": [
    {
     "data": {
      "text/plain": [
       "0    Kemarin ada yg lempar - lempar kaos sambil mas...\n",
       "1      Ga perduli penjelasanmuuuu puan, memang kau ...\n",
       "2                 Ciri ciri barang g laku ya diobral 💯\n",
       "3            Baru saya sadar, ternyata dia bukan   🤭 💯\n",
       "4                                        gak dibrief 💯\n",
       "5                                   Presiden PDIP 🤣🤣 💯\n",
       "Name: Text, dtype: object"
      ]
     },
     "execution_count": 55,
     "metadata": {},
     "output_type": "execute_result"
    }
   ],
   "source": [
    "df_puan['Text'].head(6)"
   ]
  },
  {
   "attachments": {},
   "cell_type": "markdown",
   "metadata": {},
   "source": [
    "<h3>Datasets Luhut</h3>"
   ]
  },
  {
   "cell_type": "code",
   "execution_count": 56,
   "metadata": {},
   "outputs": [],
   "source": [
    "df_luhut['Text'] = df_luhut['Text'].apply(remove_hashtags)"
   ]
  },
  {
   "cell_type": "code",
   "execution_count": 57,
   "metadata": {},
   "outputs": [
    {
     "data": {
      "text/plain": [
       "0     \\nMenko km opung Luhut B Panjaitan : \\nKendar...\n",
       "1    Ingat kata pak luhut binsar panjaitan LBP\\n\\nM...\n",
       "2      Kalau yg kasih perintah Luhut Binsar Panjait...\n",
       "3    Daripada harus melawan perintah Luhut Binsar P...\n",
       "4      Hei Luhut Binsar Panjaitan.\\nTolong jelaskan...\n",
       "5    Baru nyadar Pak   kalau selama ini udah di Boh...\n",
       "Name: Text, dtype: object"
      ]
     },
     "execution_count": 57,
     "metadata": {},
     "output_type": "execute_result"
    }
   ],
   "source": [
    "df_luhut['Text'].head(6)"
   ]
  },
  {
   "attachments": {},
   "cell_type": "markdown",
   "metadata": {},
   "source": [
    "<h3>Datasets Ganjar</h3>"
   ]
  },
  {
   "cell_type": "code",
   "execution_count": 58,
   "metadata": {},
   "outputs": [],
   "source": [
    "df_ganjar['Text'] = df_ganjar['Text'].apply(remove_hashtags)"
   ]
  },
  {
   "cell_type": "code",
   "execution_count": 59,
   "metadata": {},
   "outputs": [
    {
     "data": {
      "text/plain": [
       "0        Ini murni tentang konstitusi yg harus dite...\n",
       "1        Yang di kantongnya bu Mega bukan dia.\\n  l...\n",
       "2                                haha saya suka ini. 😭\n",
       "3    Setuju Arahan Jokowi, Ganjar Pranowo Larang Pe...\n",
       "4      SD q 1968  kadang pake sepatu kadang sandal ...\n",
       "5          Masak seorang ganjar ndak ngerti fifa it...\n",
       "Name: Text, dtype: object"
      ]
     },
     "execution_count": 59,
     "metadata": {},
     "output_type": "execute_result"
    }
   ],
   "source": [
    "df_ganjar['Text'].head(6)"
   ]
  },
  {
   "attachments": {},
   "cell_type": "markdown",
   "metadata": {},
   "source": [
    "<h3>Datasets Republik Pencitraan</h3>"
   ]
  },
  {
   "cell_type": "code",
   "execution_count": 60,
   "metadata": {},
   "outputs": [],
   "source": [
    "df_republik['Text'] = df_republik['Text'].apply(remove_hashtags)"
   ]
  },
  {
   "cell_type": "code",
   "execution_count": 61,
   "metadata": {},
   "outputs": [
    {
     "data": {
      "text/plain": [
       "0    Anak-anak Buzzing selamat lembur, awas pke mas...\n",
       "1    Ulama dipersekusi tapi giliran duit umat langs...\n",
       "2    Tangkap ikan “kakap besar” di laut dangkal saj...\n",
       "3    Anak ibu pertiwi rat-rata pada teriak betapa s...\n",
       "4    Harus di usut, kalo rakyat ramai\" ramai mengus...\n",
       "5    Anak ibu pertiwi rata-rata menjerit perih nya ...\n",
       "Name: Text, dtype: object"
      ]
     },
     "execution_count": 61,
     "metadata": {},
     "output_type": "execute_result"
    }
   ],
   "source": [
    "df_republik['Text'].head(6)"
   ]
  },
  {
   "attachments": {},
   "cell_type": "markdown",
   "metadata": {},
   "source": [
    "<h3>Datasets Politik</h3>"
   ]
  },
  {
   "cell_type": "code",
   "execution_count": 62,
   "metadata": {},
   "outputs": [],
   "source": [
    "df_politik['Text'] = df_politik['Text'].apply(remove_hashtags)"
   ]
  },
  {
   "cell_type": "code",
   "execution_count": 63,
   "metadata": {},
   "outputs": [
    {
     "data": {
      "text/plain": [
       "0    Kawan2 sunda harusnya bersatu jemput Arteria d...\n",
       "1         Arogan dan tidak kapok2 Arteria Dahlan ini 😁\n",
       "2    Arteria Dahlan bisa juga dong disidang adat Su...\n",
       "3    Terus orang Sunda jemput Arteria Dahlan untuk ...\n",
       "4    Ga usah dijelaskan atau ditafsirkan apalagi me...\n",
       "5    kan nantik ngak seperti DivHumas_Polri ..awal ...\n",
       "Name: Text, dtype: object"
      ]
     },
     "execution_count": 63,
     "metadata": {},
     "output_type": "execute_result"
    }
   ],
   "source": [
    "df_politik['Text'].head(6)"
   ]
  },
  {
   "attachments": {},
   "cell_type": "markdown",
   "metadata": {},
   "source": [
    "<h2>Removing Weblinks</h2>"
   ]
  },
  {
   "cell_type": "code",
   "execution_count": 64,
   "metadata": {},
   "outputs": [],
   "source": [
    "def remove_url(text):\n",
    "    text = re.sub(r'''(?i)\\b((?:https?://|www\\d{0,3}[.]|[a-z0-9.\\-]+[.][a-z]{2,4}/)(?:[^\\s()<>]+|\\(([^\\s()<>]+|(\\([^\\s()<>]+\\)))*\\))+(?:\\(([^\\s()<>]+|(\\([^\\s()<>]+\\)))*\\)|[^\\s`!()\\[\\]{};:'\".,<>?«»“”‘’]))''',' ', text)\n",
    "    text = re.sub(r'https?://t\\.co/\\S+', ' ', text)\n",
    "\n",
    "    return text"
   ]
  },
  {
   "attachments": {},
   "cell_type": "markdown",
   "metadata": {},
   "source": [
    "<h3>Datasets CakNun</h3>"
   ]
  },
  {
   "cell_type": "code",
   "execution_count": 65,
   "metadata": {},
   "outputs": [],
   "source": [
    "df_caknun['Text'] = df_caknun['Text'].apply(remove_url)"
   ]
  },
  {
   "cell_type": "code",
   "execution_count": 66,
   "metadata": {},
   "outputs": [
    {
     "data": {
      "text/plain": [
       "0    Bukankah hanya pada saat mencemooh, putus asa,...\n",
       "1    Toh jagat di luar dan jagat di dalam sama saja...\n",
       "2    Mbah nun   \\n\\nPOLITISI Kubu 01:\\nBONEKA'y Kor...\n",
       "3    Mbah Nun   \\nS.B.Ydyo=J.K kubu 01:\\nke-2'y Ada...\n",
       "4    Mbah nun   \\n\\nBANCI,KOMUNIS&SENGKUNI:\\nyg NGU...\n",
       "5    Mbah nun   \\n\\nBerLAGAK nDALANK\\n👉Silahkan diB...\n",
       "Name: Text, dtype: object"
      ]
     },
     "execution_count": 66,
     "metadata": {},
     "output_type": "execute_result"
    }
   ],
   "source": [
    "df_caknun['Text'].head(6)"
   ]
  },
  {
   "attachments": {},
   "cell_type": "markdown",
   "metadata": {},
   "source": [
    "<h3>Datasets Anies</h3>"
   ]
  },
  {
   "cell_type": "code",
   "execution_count": 67,
   "metadata": {},
   "outputs": [],
   "source": [
    "df_anies['Text'] = df_anies['Text'].apply(remove_url)"
   ]
  },
  {
   "cell_type": "code",
   "execution_count": 68,
   "metadata": {},
   "outputs": [
    {
     "data": {
      "text/plain": [
       "0      prettttt,gagasan mulu yg dibahas nyatanya zo...\n",
       "1        Pemborosan \\nBangunan tingkat kampung\\nSeb...\n",
       "2      Alhamdulillah.... Segala Puji bagiMu ya Alla...\n",
       "3    Dear   kebanyakan ngedabol, pergi ke Kalimanta...\n",
       "4        Bukan pemimpin\\nHanya dosen yg pindah ruan...\n",
       "5    Koalisi Perubahan Makin Solid, Anies Baswedan:...\n",
       "Name: Text, dtype: object"
      ]
     },
     "execution_count": 68,
     "metadata": {},
     "output_type": "execute_result"
    }
   ],
   "source": [
    "df_anies['Text'].head(6)"
   ]
  },
  {
   "attachments": {},
   "cell_type": "markdown",
   "metadata": {},
   "source": [
    "<h3>Datasets Puan</h3>"
   ]
  },
  {
   "cell_type": "code",
   "execution_count": 69,
   "metadata": {},
   "outputs": [],
   "source": [
    "df_puan['Text'] = df_puan['Text'].apply(remove_url)"
   ]
  },
  {
   "cell_type": "code",
   "execution_count": 70,
   "metadata": {},
   "outputs": [
    {
     "data": {
      "text/plain": [
       "0    Kemarin ada yg lempar - lempar kaos sambil mas...\n",
       "1      Ga perduli penjelasanmuuuu puan, memang kau ...\n",
       "2                 Ciri ciri barang g laku ya diobral 💯\n",
       "3            Baru saya sadar, ternyata dia bukan   🤭 💯\n",
       "4                                        gak dibrief 💯\n",
       "5                                   Presiden PDIP 🤣🤣 💯\n",
       "Name: Text, dtype: object"
      ]
     },
     "execution_count": 70,
     "metadata": {},
     "output_type": "execute_result"
    }
   ],
   "source": [
    "df_puan['Text'].head(6)"
   ]
  },
  {
   "attachments": {},
   "cell_type": "markdown",
   "metadata": {},
   "source": [
    "<h3>Datasets Luhut</h3>"
   ]
  },
  {
   "cell_type": "code",
   "execution_count": 71,
   "metadata": {},
   "outputs": [],
   "source": [
    "df_luhut['Text'] = df_luhut['Text'].apply(remove_url)"
   ]
  },
  {
   "cell_type": "code",
   "execution_count": 72,
   "metadata": {},
   "outputs": [
    {
     "data": {
      "text/plain": [
       "0     \\nMenko km opung Luhut B Panjaitan : \\nKendar...\n",
       "1    Ingat kata pak luhut binsar panjaitan LBP\\n\\nM...\n",
       "2      Kalau yg kasih perintah Luhut Binsar Panjait...\n",
       "3    Daripada harus melawan perintah Luhut Binsar P...\n",
       "4      Hei Luhut Binsar Panjaitan.\\nTolong jelaskan...\n",
       "5    Baru nyadar Pak   kalau selama ini udah di Boh...\n",
       "Name: Text, dtype: object"
      ]
     },
     "execution_count": 72,
     "metadata": {},
     "output_type": "execute_result"
    }
   ],
   "source": [
    "df_luhut['Text'].head(6)"
   ]
  },
  {
   "attachments": {},
   "cell_type": "markdown",
   "metadata": {},
   "source": [
    "<h3>Datasets Ganjar</h3>"
   ]
  },
  {
   "cell_type": "code",
   "execution_count": 73,
   "metadata": {},
   "outputs": [],
   "source": [
    "df_ganjar['Text'] = df_ganjar['Text'].apply(remove_url)"
   ]
  },
  {
   "cell_type": "code",
   "execution_count": 74,
   "metadata": {},
   "outputs": [
    {
     "data": {
      "text/plain": [
       "0        Ini murni tentang konstitusi yg harus dite...\n",
       "1        Yang di kantongnya bu Mega bukan dia.\\n  l...\n",
       "2                                haha saya suka ini. 😭\n",
       "3    Setuju Arahan Jokowi, Ganjar Pranowo Larang Pe...\n",
       "4      SD q 1968  kadang pake sepatu kadang sandal ...\n",
       "5          Masak seorang ganjar ndak ngerti fifa it...\n",
       "Name: Text, dtype: object"
      ]
     },
     "execution_count": 74,
     "metadata": {},
     "output_type": "execute_result"
    }
   ],
   "source": [
    "df_ganjar['Text'].head(6)"
   ]
  },
  {
   "attachments": {},
   "cell_type": "markdown",
   "metadata": {},
   "source": [
    "<h3>Datasets Republik Pencitraan</h3>"
   ]
  },
  {
   "cell_type": "code",
   "execution_count": 75,
   "metadata": {},
   "outputs": [],
   "source": [
    "df_republik['Text'] = df_republik['Text'].apply(remove_url)"
   ]
  },
  {
   "cell_type": "code",
   "execution_count": 76,
   "metadata": {},
   "outputs": [
    {
     "data": {
      "text/plain": [
       "0    Anak-anak Buzzing selamat lembur, awas pke mas...\n",
       "1    Ulama dipersekusi tapi giliran duit umat langs...\n",
       "2    Tangkap ikan “kakap besar” di laut dangkal saj...\n",
       "3    Anak ibu pertiwi rat-rata pada teriak betapa s...\n",
       "4    Harus di usut, kalo rakyat ramai\" ramai mengus...\n",
       "5    Anak ibu pertiwi rata-rata menjerit perih nya ...\n",
       "Name: Text, dtype: object"
      ]
     },
     "execution_count": 76,
     "metadata": {},
     "output_type": "execute_result"
    }
   ],
   "source": [
    "df_republik['Text'].head(6)"
   ]
  },
  {
   "attachments": {},
   "cell_type": "markdown",
   "metadata": {},
   "source": [
    "<h3>Datasets Politik</h3>"
   ]
  },
  {
   "cell_type": "code",
   "execution_count": 77,
   "metadata": {},
   "outputs": [],
   "source": [
    "df_politik['Text'] = df_politik['Text'].apply(remove_url)"
   ]
  },
  {
   "cell_type": "code",
   "execution_count": 78,
   "metadata": {},
   "outputs": [
    {
     "data": {
      "text/plain": [
       "0    Kawan2 sunda harusnya bersatu jemput Arteria d...\n",
       "1         Arogan dan tidak kapok2 Arteria Dahlan ini 😁\n",
       "2    Arteria Dahlan bisa juga dong disidang adat Su...\n",
       "3    Terus orang Sunda jemput Arteria Dahlan untuk ...\n",
       "4    Ga usah dijelaskan atau ditafsirkan apalagi me...\n",
       "5    kan nantik ngak seperti DivHumas_Polri ..awal ...\n",
       "Name: Text, dtype: object"
      ]
     },
     "execution_count": 78,
     "metadata": {},
     "output_type": "execute_result"
    }
   ],
   "source": [
    "df_politik['Text'].head(6)"
   ]
  },
  {
   "attachments": {},
   "cell_type": "markdown",
   "metadata": {},
   "source": [
    "<h2>Removing Punctuation</h2>"
   ]
  },
  {
   "cell_type": "code",
   "execution_count": 79,
   "metadata": {},
   "outputs": [],
   "source": [
    "def remove_punctuation(text):\n",
    "    text = re.sub('\\.', ' ', text)\n",
    "    text = re.sub('\\:', ' ', text)\n",
    "    text = re.sub('\\;', ' ', text)\n",
    "    text = re.sub(\"\\'\", '', text)\n",
    "    text = re.sub(\"\\?\", ' ', text)\n",
    "    text = re.sub('\\-', ' ', text)\n",
    "    text = re.sub('\\!', ' ', text)\n",
    "    text = re.sub('\\,', ' ', text)\n",
    "    text = re.sub('\\=', ' ', text)\n",
    "    text = re.sub('\\+', ' ', text)\n",
    "    text = re.sub('\\<', ' ', text)\n",
    "    text = re.sub('\\,', ' ', text)\n",
    "    text = re.sub('\\—', ' ', text)\n",
    "    text = re.sub('\\``', ' ', text)\n",
    "    text = re.sub('\\~', ' ', text)\n",
    "    text = re.sub('\\@', ' ', text)\n",
    "    text = re.sub('\\…', ' ', text)\n",
    "    text = re.sub('\\\"', ' ', text)\n",
    "    text = re.sub('\\—', ' ', text)\n",
    "    text = re.sub(\"\\`\", ' ', text)\n",
    "    text = re.sub(\"\\*\", ' ', text)\n",
    "    text = re.sub(\"’\", ' ', text)\n",
    "    text = re.sub(\"\\|\", ' ', text)\n",
    "    text = re.sub(\"\\‘\", ' ', text)\n",
    "    text = re.sub(\"\\”\", ' ', text)\n",
    "    text = re.sub(\"\\“\", ' ', text)\n",
    "    text = re.sub(\"\\[\", ' ', text)\n",
    "    text = re.sub(\"\\]\", ' ', text)\n",
    "    text = re.sub(\"\\–\", ' ', text)\n",
    "    text = re.sub(\"\\#\", ' ', text)\n",
    "    text = re.sub(\"\\ð\", ' ', text)\n",
    "    text = re.sub(\"\\›\", ' ', text)\n",
    "    text = re.sub(\"\\†\", ' ', text)\n",
    "    text = re.sub(\"\\¢\", ' ', text)\n",
    "    text = re.sub(\"\\¤\", ' ', text)\n",
    "    text = re.sub(\"\\£\", ' ', text)\n",
    "    text = re.sub(\"\\#\", ' ', text)\n",
    "    text = re.sub(\"\\‡\", ' ', text)\n",
    "    text = re.sub(\"\\œ\", ' ', text)\n",
    "    text = re.sub(\"\\„\", ' ', text)\n",
    "    text = re.sub(\"\\±\", ' ', text)\n",
    "    text = re.sub(\"\\¦\", ' ', text)\n",
    "    text = re.sub(\"\\•\", ' ', text)\n",
    "    text = re.sub(\"\\¥\", ' ', text)\n",
    "    text = re.sub(\"\\ø\", ' ', text)\n",
    "    text = re.sub(\"\\\", ' ', text)\n",
    "    text = re.sub(\"\\\", ' ', text)\n",
    "    text = re.sub(\"\\ƒ\", ' ', text)\n",
    "    \n",
    "    return text"
   ]
  },
  {
   "attachments": {},
   "cell_type": "markdown",
   "metadata": {},
   "source": [
    "<h3>Datasets CakNun</h3>"
   ]
  },
  {
   "cell_type": "code",
   "execution_count": 80,
   "metadata": {},
   "outputs": [],
   "source": [
    "df_caknun['Text'] = df_caknun['Text'].apply(remove_punctuation)"
   ]
  },
  {
   "cell_type": "code",
   "execution_count": 81,
   "metadata": {},
   "outputs": [
    {
     "data": {
      "text/plain": [
       "0    Bukankah hanya pada saat mencemooh  putus asa ...\n",
       "1    Toh jagat di luar dan jagat di dalam sama saja...\n",
       "2    Mbah nun   \\n\\nPOLITISI Kubu 01 \\nBONEKAy Korp...\n",
       "3    Mbah Nun   \\nS B Ydyo J K kubu 01 \\nke 2y Adal...\n",
       "4    Mbah nun   \\n\\nBANCI KOMUNIS&SENGKUNI \\nyg NGU...\n",
       "5    Mbah nun   \\n\\nBerLAGAK nDALANK\\n👉Silahkan diB...\n",
       "Name: Text, dtype: object"
      ]
     },
     "execution_count": 81,
     "metadata": {},
     "output_type": "execute_result"
    }
   ],
   "source": [
    "df_caknun['Text'].head(6)"
   ]
  },
  {
   "attachments": {},
   "cell_type": "markdown",
   "metadata": {},
   "source": [
    "<h3>Datasets Anies</h3>"
   ]
  },
  {
   "cell_type": "code",
   "execution_count": 82,
   "metadata": {},
   "outputs": [],
   "source": [
    "df_anies['Text'] = df_anies['Text'].apply(remove_punctuation)"
   ]
  },
  {
   "cell_type": "code",
   "execution_count": 83,
   "metadata": {},
   "outputs": [
    {
     "data": {
      "text/plain": [
       "0      prettttt gagasan mulu yg dibahas nyatanya zo...\n",
       "1        Pemborosan \\nBangunan tingkat kampung\\nSeb...\n",
       "2      Alhamdulillah     Segala Puji bagiMu ya Alla...\n",
       "3    Dear   kebanyakan ngedabol  pergi ke Kalimanta...\n",
       "4        Bukan pemimpin\\nHanya dosen yg pindah ruan...\n",
       "5    Koalisi Perubahan Makin Solid  Anies Baswedan ...\n",
       "Name: Text, dtype: object"
      ]
     },
     "execution_count": 83,
     "metadata": {},
     "output_type": "execute_result"
    }
   ],
   "source": [
    "df_anies['Text'].head(6)"
   ]
  },
  {
   "attachments": {},
   "cell_type": "markdown",
   "metadata": {},
   "source": [
    "<h3>Datasets Puan</h3>"
   ]
  },
  {
   "cell_type": "code",
   "execution_count": 84,
   "metadata": {},
   "outputs": [],
   "source": [
    "df_puan['Text'] = df_puan['Text'].apply(remove_punctuation)"
   ]
  },
  {
   "cell_type": "code",
   "execution_count": 85,
   "metadata": {},
   "outputs": [
    {
     "data": {
      "text/plain": [
       "0    Kemarin ada yg lempar   lempar kaos sambil mas...\n",
       "1      Ga perduli penjelasanmuuuu puan  memang kau ...\n",
       "2                 Ciri ciri barang g laku ya diobral 💯\n",
       "3            Baru saya sadar  ternyata dia bukan   🤭 💯\n",
       "4                                        gak dibrief 💯\n",
       "5                                   Presiden PDIP 🤣🤣 💯\n",
       "Name: Text, dtype: object"
      ]
     },
     "execution_count": 85,
     "metadata": {},
     "output_type": "execute_result"
    }
   ],
   "source": [
    "df_puan['Text'].head(6)"
   ]
  },
  {
   "attachments": {},
   "cell_type": "markdown",
   "metadata": {},
   "source": [
    "<h3>Datasets Luhut</h3>"
   ]
  },
  {
   "cell_type": "code",
   "execution_count": 86,
   "metadata": {},
   "outputs": [],
   "source": [
    "df_luhut['Text'] = df_luhut['Text'].apply(remove_punctuation)"
   ]
  },
  {
   "cell_type": "code",
   "execution_count": 87,
   "metadata": {},
   "outputs": [
    {
     "data": {
      "text/plain": [
       "0     \\nMenko km opung Luhut B Panjaitan   \\nKendar...\n",
       "1    Ingat kata pak luhut binsar panjaitan LBP\\n\\nM...\n",
       "2      Kalau yg kasih perintah Luhut Binsar Panjait...\n",
       "3    Daripada harus melawan perintah Luhut Binsar P...\n",
       "4      Hei Luhut Binsar Panjaitan \\nTolong jelaskan...\n",
       "5    Baru nyadar Pak   kalau selama ini udah di Boh...\n",
       "Name: Text, dtype: object"
      ]
     },
     "execution_count": 87,
     "metadata": {},
     "output_type": "execute_result"
    }
   ],
   "source": [
    "df_luhut['Text'].head(6)"
   ]
  },
  {
   "attachments": {},
   "cell_type": "markdown",
   "metadata": {},
   "source": [
    "<h3>Datasets Ganjar</h3>"
   ]
  },
  {
   "cell_type": "code",
   "execution_count": 88,
   "metadata": {},
   "outputs": [],
   "source": [
    "df_ganjar['Text'] = df_ganjar['Text'].apply(remove_punctuation)"
   ]
  },
  {
   "cell_type": "code",
   "execution_count": 89,
   "metadata": {},
   "outputs": [
    {
     "data": {
      "text/plain": [
       "0        Ini murni tentang konstitusi yg harus dite...\n",
       "1        Yang di kantongnya bu Mega bukan dia \\n  l...\n",
       "2                                haha saya suka ini  😭\n",
       "3    Setuju Arahan Jokowi  Ganjar Pranowo Larang Pe...\n",
       "4      SD q 1968  kadang pake sepatu kadang sandal ...\n",
       "5          Masak seorang ganjar ndak ngerti fifa it...\n",
       "Name: Text, dtype: object"
      ]
     },
     "execution_count": 89,
     "metadata": {},
     "output_type": "execute_result"
    }
   ],
   "source": [
    "df_ganjar['Text'].head(6)"
   ]
  },
  {
   "attachments": {},
   "cell_type": "markdown",
   "metadata": {},
   "source": [
    "<h3>Datasets Republik Pencitraan</h3>"
   ]
  },
  {
   "cell_type": "code",
   "execution_count": 90,
   "metadata": {},
   "outputs": [],
   "source": [
    "df_republik['Text'] = df_republik['Text'].apply(remove_punctuation)"
   ]
  },
  {
   "cell_type": "code",
   "execution_count": 91,
   "metadata": {},
   "outputs": [
    {
     "data": {
      "text/plain": [
       "0    Anak anak Buzzing selamat lembur  awas pke mas...\n",
       "1    Ulama dipersekusi tapi giliran duit umat langs...\n",
       "2    Tangkap ikan  kakap besar  di laut dangkal saj...\n",
       "3    Anak ibu pertiwi rat rata pada teriak betapa s...\n",
       "4    Harus di usut  kalo rakyat ramai  ramai mengus...\n",
       "5    Anak ibu pertiwi rata rata menjerit perih nya ...\n",
       "Name: Text, dtype: object"
      ]
     },
     "execution_count": 91,
     "metadata": {},
     "output_type": "execute_result"
    }
   ],
   "source": [
    "df_republik['Text'].head(6)"
   ]
  },
  {
   "attachments": {},
   "cell_type": "markdown",
   "metadata": {},
   "source": [
    "<h3>Datasets Politik</h3>"
   ]
  },
  {
   "cell_type": "code",
   "execution_count": 92,
   "metadata": {},
   "outputs": [],
   "source": [
    "df_politik['Text'] = df_politik['Text'].apply(remove_punctuation)"
   ]
  },
  {
   "cell_type": "code",
   "execution_count": 93,
   "metadata": {},
   "outputs": [
    {
     "data": {
      "text/plain": [
       "0    Kawan2 sunda harusnya bersatu jemput Arteria d...\n",
       "1         Arogan dan tidak kapok2 Arteria Dahlan ini 😁\n",
       "2    Arteria Dahlan bisa juga dong disidang adat Su...\n",
       "3    Terus orang Sunda jemput Arteria Dahlan untuk ...\n",
       "4    Ga usah dijelaskan atau ditafsirkan apalagi me...\n",
       "5    kan nantik ngak seperti DivHumas_Polri   awal ...\n",
       "Name: Text, dtype: object"
      ]
     },
     "execution_count": 93,
     "metadata": {},
     "output_type": "execute_result"
    }
   ],
   "source": [
    "df_politik['Text'].head(6)"
   ]
  },
  {
   "attachments": {},
   "cell_type": "markdown",
   "metadata": {},
   "source": [
    "<h2>Removing New Lines and Double Whitespaces</h2>"
   ]
  },
  {
   "cell_type": "code",
   "execution_count": 94,
   "metadata": {},
   "outputs": [],
   "source": [
    "def remove_newLines(text):\n",
    "    # Removing New Lines and characters\n",
    "    text = re.sub('\\n', ' ', text)\n",
    "    text = re.sub(':', ' ', text)\n",
    "    text = re.sub('&amp', ' ', text)\n",
    "    text = re.sub(';', ' ', text)\n",
    "    text = re.sub('\\(', ' ', text)\n",
    "    text = re.sub('\\)', ' ', text)\n",
    "    text = re.sub('\\_', ' ', text)\n",
    "    text = re.sub('\\&', ' dan ', text)\n",
    "    text = re.sub('\\/', ' atau ', text)\n",
    "    text = re.sub('\\>', ' ', text)\n",
    "    text = re.sub(\"\\u200d\", ' ', text)\n",
    "\n",
    "    # Removing Double Whitespaces\n",
    "    text = re.sub(r'^\\s+','', text)\n",
    "    text = re.sub(r'\\s+$','', text)\n",
    "    text = re.sub(r\"//t\",r\"\\t\", text)\n",
    "    text = re.sub(r\"( )\\1+\",r\"\\1\", text)\n",
    "    text = re.sub(r\"(\\n)\\1+\",r\"\\1\", text)\n",
    "    text = re.sub(r\"(\\n)\\1+\",r\"\\1\", text)\n",
    "    text = re.sub(r\"(\\r)\\1+\",r\"\\1\", text)\n",
    "    text = re.sub(r\"(\\t)\\1+\",r\"\\1\", text)\n",
    "\n",
    "    return text"
   ]
  },
  {
   "attachments": {},
   "cell_type": "markdown",
   "metadata": {},
   "source": [
    "<h3>Datasets CakNun</h3>"
   ]
  },
  {
   "cell_type": "code",
   "execution_count": 95,
   "metadata": {},
   "outputs": [],
   "source": [
    "df_caknun['Text'] = df_caknun['Text'].apply(remove_newLines)"
   ]
  },
  {
   "cell_type": "code",
   "execution_count": 96,
   "metadata": {},
   "outputs": [
    {
     "data": {
      "text/html": [
       "<div>\n",
       "<style scoped>\n",
       "    .dataframe tbody tr th:only-of-type {\n",
       "        vertical-align: middle;\n",
       "    }\n",
       "\n",
       "    .dataframe tbody tr th {\n",
       "        vertical-align: top;\n",
       "    }\n",
       "\n",
       "    .dataframe thead th {\n",
       "        text-align: right;\n",
       "    }\n",
       "</style>\n",
       "<table border=\"1\" class=\"dataframe\">\n",
       "  <thead>\n",
       "    <tr style=\"text-align: right;\">\n",
       "      <th></th>\n",
       "      <th>Text</th>\n",
       "    </tr>\n",
       "  </thead>\n",
       "  <tbody>\n",
       "    <tr>\n",
       "      <th>0</th>\n",
       "      <td>Bukankah hanya pada saat mencemooh putus asa m...</td>\n",
       "    </tr>\n",
       "    <tr>\n",
       "      <th>1</th>\n",
       "      <td>Toh jagat di luar dan jagat di dalam sama saja...</td>\n",
       "    </tr>\n",
       "    <tr>\n",
       "      <th>2</th>\n",
       "      <td>Mbah nun POLITISI Kubu 01 BONEKAy Korp SERAKAH...</td>\n",
       "    </tr>\n",
       "    <tr>\n",
       "      <th>3</th>\n",
       "      <td>Mbah Nun S B Ydyo J K kubu 01 ke 2y Adalah BUK...</td>\n",
       "    </tr>\n",
       "    <tr>\n",
       "      <th>4</th>\n",
       "      <td>Mbah nun BANCI KOMUNIS dan SENGKUNI yg NGUMPET...</td>\n",
       "    </tr>\n",
       "  </tbody>\n",
       "</table>\n",
       "</div>"
      ],
      "text/plain": [
       "                                                Text\n",
       "0  Bukankah hanya pada saat mencemooh putus asa m...\n",
       "1  Toh jagat di luar dan jagat di dalam sama saja...\n",
       "2  Mbah nun POLITISI Kubu 01 BONEKAy Korp SERAKAH...\n",
       "3  Mbah Nun S B Ydyo J K kubu 01 ke 2y Adalah BUK...\n",
       "4  Mbah nun BANCI KOMUNIS dan SENGKUNI yg NGUMPET..."
      ]
     },
     "execution_count": 96,
     "metadata": {},
     "output_type": "execute_result"
    }
   ],
   "source": [
    "df_caknun.head()"
   ]
  },
  {
   "attachments": {},
   "cell_type": "markdown",
   "metadata": {},
   "source": [
    "<h3>Datasets Anies</h3>"
   ]
  },
  {
   "cell_type": "code",
   "execution_count": 97,
   "metadata": {},
   "outputs": [],
   "source": [
    "df_anies['Text'] = df_anies['Text'].apply(remove_newLines)"
   ]
  },
  {
   "cell_type": "code",
   "execution_count": 98,
   "metadata": {},
   "outputs": [
    {
     "data": {
      "text/html": [
       "<div>\n",
       "<style scoped>\n",
       "    .dataframe tbody tr th:only-of-type {\n",
       "        vertical-align: middle;\n",
       "    }\n",
       "\n",
       "    .dataframe tbody tr th {\n",
       "        vertical-align: top;\n",
       "    }\n",
       "\n",
       "    .dataframe thead th {\n",
       "        text-align: right;\n",
       "    }\n",
       "</style>\n",
       "<table border=\"1\" class=\"dataframe\">\n",
       "  <thead>\n",
       "    <tr style=\"text-align: right;\">\n",
       "      <th></th>\n",
       "      <th>Text</th>\n",
       "    </tr>\n",
       "  </thead>\n",
       "  <tbody>\n",
       "    <tr>\n",
       "      <th>0</th>\n",
       "      <td>prettttt gagasan mulu yg dibahas nyatanya zonk...</td>\n",
       "    </tr>\n",
       "    <tr>\n",
       "      <th>1</th>\n",
       "      <td>Pemborosan Bangunan tingkat kampung Sebentar b...</td>\n",
       "    </tr>\n",
       "    <tr>\n",
       "      <th>2</th>\n",
       "      <td>Alhamdulillah Segala Puji bagiMu ya Allah Bara...</td>\n",
       "    </tr>\n",
       "    <tr>\n",
       "      <th>3</th>\n",
       "      <td>Dear kebanyakan ngedabol pergi ke Kalimantan m...</td>\n",
       "    </tr>\n",
       "    <tr>\n",
       "      <th>4</th>\n",
       "      <td>Bukan pemimpin Hanya dosen yg pindah ruang Kel...</td>\n",
       "    </tr>\n",
       "  </tbody>\n",
       "</table>\n",
       "</div>"
      ],
      "text/plain": [
       "                                                Text\n",
       "0  prettttt gagasan mulu yg dibahas nyatanya zonk...\n",
       "1  Pemborosan Bangunan tingkat kampung Sebentar b...\n",
       "2  Alhamdulillah Segala Puji bagiMu ya Allah Bara...\n",
       "3  Dear kebanyakan ngedabol pergi ke Kalimantan m...\n",
       "4  Bukan pemimpin Hanya dosen yg pindah ruang Kel..."
      ]
     },
     "execution_count": 98,
     "metadata": {},
     "output_type": "execute_result"
    }
   ],
   "source": [
    "df_anies.head()"
   ]
  },
  {
   "attachments": {},
   "cell_type": "markdown",
   "metadata": {},
   "source": [
    "<h3>Datasets Puan</h3>"
   ]
  },
  {
   "cell_type": "code",
   "execution_count": 99,
   "metadata": {},
   "outputs": [],
   "source": [
    "df_puan['Text'] = df_puan['Text'].apply(remove_newLines)"
   ]
  },
  {
   "cell_type": "code",
   "execution_count": 100,
   "metadata": {},
   "outputs": [
    {
     "data": {
      "text/html": [
       "<div>\n",
       "<style scoped>\n",
       "    .dataframe tbody tr th:only-of-type {\n",
       "        vertical-align: middle;\n",
       "    }\n",
       "\n",
       "    .dataframe tbody tr th {\n",
       "        vertical-align: top;\n",
       "    }\n",
       "\n",
       "    .dataframe thead th {\n",
       "        text-align: right;\n",
       "    }\n",
       "</style>\n",
       "<table border=\"1\" class=\"dataframe\">\n",
       "  <thead>\n",
       "    <tr style=\"text-align: right;\">\n",
       "      <th></th>\n",
       "      <th>Text</th>\n",
       "    </tr>\n",
       "  </thead>\n",
       "  <tbody>\n",
       "    <tr>\n",
       "      <th>0</th>\n",
       "      <td>Kemarin ada yg lempar lempar kaos sambil masem...</td>\n",
       "    </tr>\n",
       "    <tr>\n",
       "      <th>1</th>\n",
       "      <td>Ga perduli penjelasanmuuuu puan memang kau itu...</td>\n",
       "    </tr>\n",
       "    <tr>\n",
       "      <th>2</th>\n",
       "      <td>Ciri ciri barang g laku ya diobral 💯</td>\n",
       "    </tr>\n",
       "    <tr>\n",
       "      <th>3</th>\n",
       "      <td>Baru saya sadar ternyata dia bukan 🤭 💯</td>\n",
       "    </tr>\n",
       "    <tr>\n",
       "      <th>4</th>\n",
       "      <td>gak dibrief 💯</td>\n",
       "    </tr>\n",
       "  </tbody>\n",
       "</table>\n",
       "</div>"
      ],
      "text/plain": [
       "                                                Text\n",
       "0  Kemarin ada yg lempar lempar kaos sambil masem...\n",
       "1  Ga perduli penjelasanmuuuu puan memang kau itu...\n",
       "2               Ciri ciri barang g laku ya diobral 💯\n",
       "3             Baru saya sadar ternyata dia bukan 🤭 💯\n",
       "4                                      gak dibrief 💯"
      ]
     },
     "execution_count": 100,
     "metadata": {},
     "output_type": "execute_result"
    }
   ],
   "source": [
    "df_puan.head()"
   ]
  },
  {
   "attachments": {},
   "cell_type": "markdown",
   "metadata": {},
   "source": [
    "<h3>Datasets Luhut</h3>"
   ]
  },
  {
   "cell_type": "code",
   "execution_count": 101,
   "metadata": {},
   "outputs": [],
   "source": [
    "df_luhut['Text'] = df_luhut['Text'].apply(remove_newLines)"
   ]
  },
  {
   "cell_type": "code",
   "execution_count": 102,
   "metadata": {},
   "outputs": [
    {
     "data": {
      "text/html": [
       "<div>\n",
       "<style scoped>\n",
       "    .dataframe tbody tr th:only-of-type {\n",
       "        vertical-align: middle;\n",
       "    }\n",
       "\n",
       "    .dataframe tbody tr th {\n",
       "        vertical-align: top;\n",
       "    }\n",
       "\n",
       "    .dataframe thead th {\n",
       "        text-align: right;\n",
       "    }\n",
       "</style>\n",
       "<table border=\"1\" class=\"dataframe\">\n",
       "  <thead>\n",
       "    <tr style=\"text-align: right;\">\n",
       "      <th></th>\n",
       "      <th>Text</th>\n",
       "    </tr>\n",
       "  </thead>\n",
       "  <tbody>\n",
       "    <tr>\n",
       "      <th>0</th>\n",
       "      <td>Menko km opung Luhut B Panjaitan Kendaraan lis...</td>\n",
       "    </tr>\n",
       "    <tr>\n",
       "      <th>1</th>\n",
       "      <td>Ingat kata pak luhut binsar panjaitan LBP MENJ...</td>\n",
       "    </tr>\n",
       "    <tr>\n",
       "      <th>2</th>\n",
       "      <td>Kalau yg kasih perintah Luhut Binsar Panjaitan...</td>\n",
       "    </tr>\n",
       "    <tr>\n",
       "      <th>3</th>\n",
       "      <td>Daripada harus melawan perintah Luhut Binsar P...</td>\n",
       "    </tr>\n",
       "    <tr>\n",
       "      <th>4</th>\n",
       "      <td>Hei Luhut Binsar Panjaitan Tolong jelaskan war...</td>\n",
       "    </tr>\n",
       "  </tbody>\n",
       "</table>\n",
       "</div>"
      ],
      "text/plain": [
       "                                                Text\n",
       "0  Menko km opung Luhut B Panjaitan Kendaraan lis...\n",
       "1  Ingat kata pak luhut binsar panjaitan LBP MENJ...\n",
       "2  Kalau yg kasih perintah Luhut Binsar Panjaitan...\n",
       "3  Daripada harus melawan perintah Luhut Binsar P...\n",
       "4  Hei Luhut Binsar Panjaitan Tolong jelaskan war..."
      ]
     },
     "execution_count": 102,
     "metadata": {},
     "output_type": "execute_result"
    }
   ],
   "source": [
    "df_luhut.head()"
   ]
  },
  {
   "attachments": {},
   "cell_type": "markdown",
   "metadata": {},
   "source": [
    "<h3>Datasets Ganjar</h3>"
   ]
  },
  {
   "cell_type": "code",
   "execution_count": 103,
   "metadata": {},
   "outputs": [],
   "source": [
    "df_ganjar['Text'] = df_ganjar['Text'].apply(remove_newLines)"
   ]
  },
  {
   "cell_type": "code",
   "execution_count": 104,
   "metadata": {},
   "outputs": [
    {
     "data": {
      "text/html": [
       "<div>\n",
       "<style scoped>\n",
       "    .dataframe tbody tr th:only-of-type {\n",
       "        vertical-align: middle;\n",
       "    }\n",
       "\n",
       "    .dataframe tbody tr th {\n",
       "        vertical-align: top;\n",
       "    }\n",
       "\n",
       "    .dataframe thead th {\n",
       "        text-align: right;\n",
       "    }\n",
       "</style>\n",
       "<table border=\"1\" class=\"dataframe\">\n",
       "  <thead>\n",
       "    <tr style=\"text-align: right;\">\n",
       "      <th></th>\n",
       "      <th>Text</th>\n",
       "    </tr>\n",
       "  </thead>\n",
       "  <tbody>\n",
       "    <tr>\n",
       "      <th>0</th>\n",
       "      <td>Ini murni tentang konstitusi yg harus ditegakk...</td>\n",
       "    </tr>\n",
       "    <tr>\n",
       "      <th>1</th>\n",
       "      <td>Yang di kantongnya bu Mega bukan dia lebih pah...</td>\n",
       "    </tr>\n",
       "    <tr>\n",
       "      <th>2</th>\n",
       "      <td>haha saya suka ini 😭</td>\n",
       "    </tr>\n",
       "    <tr>\n",
       "      <th>3</th>\n",
       "      <td>Setuju Arahan Jokowi Ganjar Pranowo Larang Pej...</td>\n",
       "    </tr>\n",
       "    <tr>\n",
       "      <th>4</th>\n",
       "      <td>SD q 1968 kadang pake sepatu kadang sandal jep...</td>\n",
       "    </tr>\n",
       "  </tbody>\n",
       "</table>\n",
       "</div>"
      ],
      "text/plain": [
       "                                                Text\n",
       "0  Ini murni tentang konstitusi yg harus ditegakk...\n",
       "1  Yang di kantongnya bu Mega bukan dia lebih pah...\n",
       "2                               haha saya suka ini 😭\n",
       "3  Setuju Arahan Jokowi Ganjar Pranowo Larang Pej...\n",
       "4  SD q 1968 kadang pake sepatu kadang sandal jep..."
      ]
     },
     "execution_count": 104,
     "metadata": {},
     "output_type": "execute_result"
    }
   ],
   "source": [
    "df_ganjar.head()"
   ]
  },
  {
   "attachments": {},
   "cell_type": "markdown",
   "metadata": {},
   "source": [
    "<h3>Datasets Republik Pencitraan</h3>"
   ]
  },
  {
   "cell_type": "code",
   "execution_count": 105,
   "metadata": {},
   "outputs": [],
   "source": [
    "df_republik['Text'] = df_republik['Text'].apply(remove_newLines)"
   ]
  },
  {
   "cell_type": "code",
   "execution_count": 106,
   "metadata": {},
   "outputs": [
    {
     "data": {
      "text/html": [
       "<div>\n",
       "<style scoped>\n",
       "    .dataframe tbody tr th:only-of-type {\n",
       "        vertical-align: middle;\n",
       "    }\n",
       "\n",
       "    .dataframe tbody tr th {\n",
       "        vertical-align: top;\n",
       "    }\n",
       "\n",
       "    .dataframe thead th {\n",
       "        text-align: right;\n",
       "    }\n",
       "</style>\n",
       "<table border=\"1\" class=\"dataframe\">\n",
       "  <thead>\n",
       "    <tr style=\"text-align: right;\">\n",
       "      <th></th>\n",
       "      <th>Text</th>\n",
       "    </tr>\n",
       "  </thead>\n",
       "  <tbody>\n",
       "    <tr>\n",
       "      <th>0</th>\n",
       "      <td>Anak anak Buzzing selamat lembur awas pke mask...</td>\n",
       "    </tr>\n",
       "    <tr>\n",
       "      <th>1</th>\n",
       "      <td>Ulama dipersekusi tapi giliran duit umat langs...</td>\n",
       "    </tr>\n",
       "    <tr>\n",
       "      <th>2</th>\n",
       "      <td>Tangkap ikan kakap besar di laut dangkal saja ...</td>\n",
       "    </tr>\n",
       "    <tr>\n",
       "      <th>3</th>\n",
       "      <td>Anak ibu pertiwi rat rata pada teriak betapa s...</td>\n",
       "    </tr>\n",
       "    <tr>\n",
       "      <th>4</th>\n",
       "      <td>Harus di usut kalo rakyat ramai ramai mengusut...</td>\n",
       "    </tr>\n",
       "  </tbody>\n",
       "</table>\n",
       "</div>"
      ],
      "text/plain": [
       "                                                Text\n",
       "0  Anak anak Buzzing selamat lembur awas pke mask...\n",
       "1  Ulama dipersekusi tapi giliran duit umat langs...\n",
       "2  Tangkap ikan kakap besar di laut dangkal saja ...\n",
       "3  Anak ibu pertiwi rat rata pada teriak betapa s...\n",
       "4  Harus di usut kalo rakyat ramai ramai mengusut..."
      ]
     },
     "execution_count": 106,
     "metadata": {},
     "output_type": "execute_result"
    }
   ],
   "source": [
    "df_republik.head()"
   ]
  },
  {
   "attachments": {},
   "cell_type": "markdown",
   "metadata": {},
   "source": [
    "<h3>Datasets Politik</h3>"
   ]
  },
  {
   "cell_type": "code",
   "execution_count": 107,
   "metadata": {},
   "outputs": [],
   "source": [
    "df_politik['Text'] = df_politik['Text'].apply(remove_newLines)"
   ]
  },
  {
   "cell_type": "code",
   "execution_count": 108,
   "metadata": {},
   "outputs": [
    {
     "data": {
      "text/html": [
       "<div>\n",
       "<style scoped>\n",
       "    .dataframe tbody tr th:only-of-type {\n",
       "        vertical-align: middle;\n",
       "    }\n",
       "\n",
       "    .dataframe tbody tr th {\n",
       "        vertical-align: top;\n",
       "    }\n",
       "\n",
       "    .dataframe thead th {\n",
       "        text-align: right;\n",
       "    }\n",
       "</style>\n",
       "<table border=\"1\" class=\"dataframe\">\n",
       "  <thead>\n",
       "    <tr style=\"text-align: right;\">\n",
       "      <th></th>\n",
       "      <th>Text</th>\n",
       "    </tr>\n",
       "  </thead>\n",
       "  <tbody>\n",
       "    <tr>\n",
       "      <th>0</th>\n",
       "      <td>Kawan2 sunda harusnya bersatu jemput Arteria d...</td>\n",
       "    </tr>\n",
       "    <tr>\n",
       "      <th>1</th>\n",
       "      <td>Arogan dan tidak kapok2 Arteria Dahlan ini 😁</td>\n",
       "    </tr>\n",
       "    <tr>\n",
       "      <th>2</th>\n",
       "      <td>Arteria Dahlan bisa juga dong disidang adat Su...</td>\n",
       "    </tr>\n",
       "    <tr>\n",
       "      <th>3</th>\n",
       "      <td>Terus orang Sunda jemput Arteria Dahlan untuk ...</td>\n",
       "    </tr>\n",
       "    <tr>\n",
       "      <th>4</th>\n",
       "      <td>Ga usah dijelaskan atau ditafsirkan apalagi me...</td>\n",
       "    </tr>\n",
       "    <tr>\n",
       "      <th>5</th>\n",
       "      <td>kan nantik ngak seperti DivHumas Polri awal ny...</td>\n",
       "    </tr>\n",
       "  </tbody>\n",
       "</table>\n",
       "</div>"
      ],
      "text/plain": [
       "                                                Text\n",
       "0  Kawan2 sunda harusnya bersatu jemput Arteria d...\n",
       "1       Arogan dan tidak kapok2 Arteria Dahlan ini 😁\n",
       "2  Arteria Dahlan bisa juga dong disidang adat Su...\n",
       "3  Terus orang Sunda jemput Arteria Dahlan untuk ...\n",
       "4  Ga usah dijelaskan atau ditafsirkan apalagi me...\n",
       "5  kan nantik ngak seperti DivHumas Polri awal ny..."
      ]
     },
     "execution_count": 108,
     "metadata": {},
     "output_type": "execute_result"
    }
   ],
   "source": [
    "df_politik.head(6)"
   ]
  },
  {
   "attachments": {},
   "cell_type": "markdown",
   "metadata": {},
   "source": [
    "<h2>Stopwords Removal</h2>"
   ]
  },
  {
   "cell_type": "code",
   "execution_count": 109,
   "metadata": {},
   "outputs": [],
   "source": [
    "from Sastrawi.StopWordRemover.StopWordRemoverFactory import StopWordRemoverFactory\n",
    "from nltk.corpus import stopwords\n",
    "import nltk"
   ]
  },
  {
   "cell_type": "code",
   "execution_count": 110,
   "metadata": {},
   "outputs": [],
   "source": [
    "def stopword_remover_sastrawi(text):\n",
    "    factory = StopWordRemoverFactory()\n",
    "    # stopwords = factory.get_stop_words()\n",
    "    text = text.lower()\n",
    "    stopwords_remover = factory.create_stop_word_remover()\n",
    "    return stopwords_remover.remove(text)\n",
    "\n",
    "def stopword_remover_nltk(text):\n",
    "    stop_words = set(stopwords.words('indonesian'))\n",
    "    words = nltk.word_tokenize(text)\n",
    "    filtered_words = [word for word in words if word.casefold() not in stop_words]\n",
    "\n",
    "    return ' '.join(filtered_words)"
   ]
  },
  {
   "attachments": {},
   "cell_type": "markdown",
   "metadata": {},
   "source": [
    "<h3>Datasets CakNun</h3>"
   ]
  },
  {
   "cell_type": "code",
   "execution_count": 111,
   "metadata": {},
   "outputs": [],
   "source": [
    "df_caknun['Text'] = df_caknun['Text'].apply(stopword_remover_sastrawi)"
   ]
  },
  {
   "cell_type": "code",
   "execution_count": 112,
   "metadata": {},
   "outputs": [],
   "source": [
    "df_caknun['Text'] = df_caknun['Text'].apply(stopword_remover_nltk)"
   ]
  },
  {
   "cell_type": "code",
   "execution_count": 113,
   "metadata": {},
   "outputs": [
    {
     "data": {
      "text/html": [
       "<div>\n",
       "<style scoped>\n",
       "    .dataframe tbody tr th:only-of-type {\n",
       "        vertical-align: middle;\n",
       "    }\n",
       "\n",
       "    .dataframe tbody tr th {\n",
       "        vertical-align: top;\n",
       "    }\n",
       "\n",
       "    .dataframe thead th {\n",
       "        text-align: right;\n",
       "    }\n",
       "</style>\n",
       "<table border=\"1\" class=\"dataframe\">\n",
       "  <thead>\n",
       "    <tr style=\"text-align: right;\">\n",
       "      <th></th>\n",
       "      <th>Text</th>\n",
       "    </tr>\n",
       "  </thead>\n",
       "  <tbody>\n",
       "    <tr>\n",
       "      <th>0</th>\n",
       "      <td>mencemooh putus asa marah sejenis menekankan s...</td>\n",
       "    </tr>\n",
       "    <tr>\n",
       "      <th>1</th>\n",
       "      <td>jagat jagat mengenal tuhan mengenal mengenal m 😨</td>\n",
       "    </tr>\n",
       "    <tr>\n",
       "      <th>2</th>\n",
       "      <td>mbah nun politisi kubu 01 bonekay korp serakah...</td>\n",
       "    </tr>\n",
       "    <tr>\n",
       "      <th>3</th>\n",
       "      <td>mbah nun s b ydyo j k kubu 01 2y negarawan pol...</td>\n",
       "    </tr>\n",
       "    <tr>\n",
       "      <th>4</th>\n",
       "      <td>mbah nun banci komunis sengkuni yg ngumpet dib...</td>\n",
       "    </tr>\n",
       "  </tbody>\n",
       "</table>\n",
       "</div>"
      ],
      "text/plain": [
       "                                                Text\n",
       "0  mencemooh putus asa marah sejenis menekankan s...\n",
       "1   jagat jagat mengenal tuhan mengenal mengenal m 😨\n",
       "2  mbah nun politisi kubu 01 bonekay korp serakah...\n",
       "3  mbah nun s b ydyo j k kubu 01 2y negarawan pol...\n",
       "4  mbah nun banci komunis sengkuni yg ngumpet dib..."
      ]
     },
     "execution_count": 113,
     "metadata": {},
     "output_type": "execute_result"
    }
   ],
   "source": [
    "df_caknun.head()"
   ]
  },
  {
   "attachments": {},
   "cell_type": "markdown",
   "metadata": {},
   "source": [
    "<h3>Datasets Anies</h3>"
   ]
  },
  {
   "cell_type": "code",
   "execution_count": 114,
   "metadata": {},
   "outputs": [],
   "source": [
    "df_anies['Text'] = df_anies['Text'].apply(stopword_remover_sastrawi)"
   ]
  },
  {
   "cell_type": "code",
   "execution_count": 115,
   "metadata": {},
   "outputs": [],
   "source": [
    "df_anies['Text'] = df_anies['Text'].apply(stopword_remover_nltk)"
   ]
  },
  {
   "cell_type": "code",
   "execution_count": 116,
   "metadata": {},
   "outputs": [
    {
     "data": {
      "text/html": [
       "<div>\n",
       "<style scoped>\n",
       "    .dataframe tbody tr th:only-of-type {\n",
       "        vertical-align: middle;\n",
       "    }\n",
       "\n",
       "    .dataframe tbody tr th {\n",
       "        vertical-align: top;\n",
       "    }\n",
       "\n",
       "    .dataframe thead th {\n",
       "        text-align: right;\n",
       "    }\n",
       "</style>\n",
       "<table border=\"1\" class=\"dataframe\">\n",
       "  <thead>\n",
       "    <tr style=\"text-align: right;\">\n",
       "      <th></th>\n",
       "      <th>Text</th>\n",
       "    </tr>\n",
       "  </thead>\n",
       "  <tbody>\n",
       "    <tr>\n",
       "      <th>0</th>\n",
       "      <td>prettttt gagasan mulu yg dibahas zonk eksekusi...</td>\n",
       "    </tr>\n",
       "    <tr>\n",
       "      <th>1</th>\n",
       "      <td>pemborosan bangunan tingkat kampung sebentar b...</td>\n",
       "    </tr>\n",
       "    <tr>\n",
       "      <th>2</th>\n",
       "      <td>alhamdulillah puji bagimu allah barakallah bpk...</td>\n",
       "    </tr>\n",
       "    <tr>\n",
       "      <th>3</th>\n",
       "      <td>dear kebanyakan ngedabol pergi kalimantan meng...</td>\n",
       "    </tr>\n",
       "    <tr>\n",
       "      <th>4</th>\n",
       "      <td>pemimpin dosen yg pindah ruang kelebihan keleb...</td>\n",
       "    </tr>\n",
       "  </tbody>\n",
       "</table>\n",
       "</div>"
      ],
      "text/plain": [
       "                                                Text\n",
       "0  prettttt gagasan mulu yg dibahas zonk eksekusi...\n",
       "1  pemborosan bangunan tingkat kampung sebentar b...\n",
       "2  alhamdulillah puji bagimu allah barakallah bpk...\n",
       "3  dear kebanyakan ngedabol pergi kalimantan meng...\n",
       "4  pemimpin dosen yg pindah ruang kelebihan keleb..."
      ]
     },
     "execution_count": 116,
     "metadata": {},
     "output_type": "execute_result"
    }
   ],
   "source": [
    "df_anies.head()"
   ]
  },
  {
   "attachments": {},
   "cell_type": "markdown",
   "metadata": {},
   "source": [
    "<h3>Datasets Puan</h3>"
   ]
  },
  {
   "cell_type": "code",
   "execution_count": 117,
   "metadata": {},
   "outputs": [],
   "source": [
    "df_puan['Text'] = df_puan['Text'].apply(stopword_remover_sastrawi)"
   ]
  },
  {
   "cell_type": "code",
   "execution_count": 118,
   "metadata": {},
   "outputs": [],
   "source": [
    "df_puan['Text'] = df_puan['Text'].apply(stopword_remover_nltk)"
   ]
  },
  {
   "cell_type": "code",
   "execution_count": 119,
   "metadata": {},
   "outputs": [
    {
     "data": {
      "text/html": [
       "<div>\n",
       "<style scoped>\n",
       "    .dataframe tbody tr th:only-of-type {\n",
       "        vertical-align: middle;\n",
       "    }\n",
       "\n",
       "    .dataframe tbody tr th {\n",
       "        vertical-align: top;\n",
       "    }\n",
       "\n",
       "    .dataframe thead th {\n",
       "        text-align: right;\n",
       "    }\n",
       "</style>\n",
       "<table border=\"1\" class=\"dataframe\">\n",
       "  <thead>\n",
       "    <tr style=\"text-align: right;\">\n",
       "      <th></th>\n",
       "      <th>Text</th>\n",
       "    </tr>\n",
       "  </thead>\n",
       "  <tbody>\n",
       "    <tr>\n",
       "      <th>0</th>\n",
       "      <td>kemarin yg lempar lempar kaos masem mukanya le...</td>\n",
       "    </tr>\n",
       "    <tr>\n",
       "      <th>1</th>\n",
       "      <td>ga perduli penjelasanmuuuu puan kau orangnya k...</td>\n",
       "    </tr>\n",
       "    <tr>\n",
       "      <th>2</th>\n",
       "      <td>ciri ciri barang g laku diobral 💯</td>\n",
       "    </tr>\n",
       "    <tr>\n",
       "      <th>3</th>\n",
       "      <td>sadar 🤭 💯</td>\n",
       "    </tr>\n",
       "    <tr>\n",
       "      <th>4</th>\n",
       "      <td>gak dibrief 💯</td>\n",
       "    </tr>\n",
       "  </tbody>\n",
       "</table>\n",
       "</div>"
      ],
      "text/plain": [
       "                                                Text\n",
       "0  kemarin yg lempar lempar kaos masem mukanya le...\n",
       "1  ga perduli penjelasanmuuuu puan kau orangnya k...\n",
       "2                  ciri ciri barang g laku diobral 💯\n",
       "3                                          sadar 🤭 💯\n",
       "4                                      gak dibrief 💯"
      ]
     },
     "execution_count": 119,
     "metadata": {},
     "output_type": "execute_result"
    }
   ],
   "source": [
    "df_puan.head()"
   ]
  },
  {
   "attachments": {},
   "cell_type": "markdown",
   "metadata": {},
   "source": [
    "<h3>Datasets Luhut</h3>"
   ]
  },
  {
   "cell_type": "code",
   "execution_count": 120,
   "metadata": {},
   "outputs": [],
   "source": [
    "df_luhut['Text'] = df_luhut['Text'].apply(stopword_remover_sastrawi)"
   ]
  },
  {
   "cell_type": "code",
   "execution_count": 121,
   "metadata": {},
   "outputs": [],
   "source": [
    "df_luhut['Text'] = df_luhut['Text'].apply(stopword_remover_nltk)"
   ]
  },
  {
   "cell_type": "code",
   "execution_count": 122,
   "metadata": {},
   "outputs": [
    {
     "data": {
      "text/html": [
       "<div>\n",
       "<style scoped>\n",
       "    .dataframe tbody tr th:only-of-type {\n",
       "        vertical-align: middle;\n",
       "    }\n",
       "\n",
       "    .dataframe tbody tr th {\n",
       "        vertical-align: top;\n",
       "    }\n",
       "\n",
       "    .dataframe thead th {\n",
       "        text-align: right;\n",
       "    }\n",
       "</style>\n",
       "<table border=\"1\" class=\"dataframe\">\n",
       "  <thead>\n",
       "    <tr style=\"text-align: right;\">\n",
       "      <th></th>\n",
       "      <th>Text</th>\n",
       "    </tr>\n",
       "  </thead>\n",
       "  <tbody>\n",
       "    <tr>\n",
       "      <th>0</th>\n",
       "      <td>menko km opung luhut b panjaitan kendaraan lis...</td>\n",
       "    </tr>\n",
       "    <tr>\n",
       "      <th>1</th>\n",
       "      <td>luhut binsar panjaitan lbp abdi pahlawan negar...</td>\n",
       "    </tr>\n",
       "    <tr>\n",
       "      <th>2</th>\n",
       "      <td>yg kasih perintah luhut binsar panjaitan ketua...</td>\n",
       "    </tr>\n",
       "    <tr>\n",
       "      <th>3</th>\n",
       "      <td>melawan perintah luhut binsar panjaitan mendin...</td>\n",
       "    </tr>\n",
       "    <tr>\n",
       "      <th>4</th>\n",
       "      <td>hei luhut binsar panjaitan warga kau mengurus ...</td>\n",
       "    </tr>\n",
       "  </tbody>\n",
       "</table>\n",
       "</div>"
      ],
      "text/plain": [
       "                                                Text\n",
       "0  menko km opung luhut b panjaitan kendaraan lis...\n",
       "1  luhut binsar panjaitan lbp abdi pahlawan negar...\n",
       "2  yg kasih perintah luhut binsar panjaitan ketua...\n",
       "3  melawan perintah luhut binsar panjaitan mendin...\n",
       "4  hei luhut binsar panjaitan warga kau mengurus ..."
      ]
     },
     "execution_count": 122,
     "metadata": {},
     "output_type": "execute_result"
    }
   ],
   "source": [
    "df_luhut.head()"
   ]
  },
  {
   "attachments": {},
   "cell_type": "markdown",
   "metadata": {},
   "source": [
    "<h3>Datasets Ganjar</h3>"
   ]
  },
  {
   "cell_type": "code",
   "execution_count": 123,
   "metadata": {},
   "outputs": [],
   "source": [
    "df_ganjar['Text'] = df_ganjar['Text'].apply(stopword_remover_sastrawi)"
   ]
  },
  {
   "cell_type": "code",
   "execution_count": 124,
   "metadata": {},
   "outputs": [],
   "source": [
    "df_ganjar['Text'] = df_ganjar['Text'].apply(stopword_remover_nltk)"
   ]
  },
  {
   "cell_type": "code",
   "execution_count": 125,
   "metadata": {},
   "outputs": [
    {
     "data": {
      "text/html": [
       "<div>\n",
       "<style scoped>\n",
       "    .dataframe tbody tr th:only-of-type {\n",
       "        vertical-align: middle;\n",
       "    }\n",
       "\n",
       "    .dataframe tbody tr th {\n",
       "        vertical-align: top;\n",
       "    }\n",
       "\n",
       "    .dataframe thead th {\n",
       "        text-align: right;\n",
       "    }\n",
       "</style>\n",
       "<table border=\"1\" class=\"dataframe\">\n",
       "  <thead>\n",
       "    <tr style=\"text-align: right;\">\n",
       "      <th></th>\n",
       "      <th>Text</th>\n",
       "    </tr>\n",
       "  </thead>\n",
       "  <tbody>\n",
       "    <tr>\n",
       "      <th>0</th>\n",
       "      <td>murni konstitusi yg ditegakkan yg pd uud 45 al...</td>\n",
       "    </tr>\n",
       "    <tr>\n",
       "      <th>1</th>\n",
       "      <td>kantongnya bu mega paham jateng mengelu elukan...</td>\n",
       "    </tr>\n",
       "    <tr>\n",
       "      <th>2</th>\n",
       "      <td>haha suka 😭</td>\n",
       "    </tr>\n",
       "    <tr>\n",
       "      <th>3</th>\n",
       "      <td>setuju arahan jokowi ganjar pranowo larang pej...</td>\n",
       "    </tr>\n",
       "    <tr>\n",
       "      <th>4</th>\n",
       "      <td>sd q 1968 kadang pake sepatu kadang sandal jep...</td>\n",
       "    </tr>\n",
       "  </tbody>\n",
       "</table>\n",
       "</div>"
      ],
      "text/plain": [
       "                                                Text\n",
       "0  murni konstitusi yg ditegakkan yg pd uud 45 al...\n",
       "1  kantongnya bu mega paham jateng mengelu elukan...\n",
       "2                                        haha suka 😭\n",
       "3  setuju arahan jokowi ganjar pranowo larang pej...\n",
       "4  sd q 1968 kadang pake sepatu kadang sandal jep..."
      ]
     },
     "execution_count": 125,
     "metadata": {},
     "output_type": "execute_result"
    }
   ],
   "source": [
    "df_ganjar.head()"
   ]
  },
  {
   "attachments": {},
   "cell_type": "markdown",
   "metadata": {},
   "source": [
    "<h3>Datasets Republik Pencitraan</h3>"
   ]
  },
  {
   "cell_type": "code",
   "execution_count": 126,
   "metadata": {},
   "outputs": [],
   "source": [
    "df_republik['Text'] = df_republik['Text'].apply(stopword_remover_sastrawi)"
   ]
  },
  {
   "cell_type": "code",
   "execution_count": 127,
   "metadata": {},
   "outputs": [],
   "source": [
    "df_republik['Text'] = df_republik['Text'].apply(stopword_remover_nltk)"
   ]
  },
  {
   "cell_type": "code",
   "execution_count": 128,
   "metadata": {},
   "outputs": [
    {
     "data": {
      "text/html": [
       "<div>\n",
       "<style scoped>\n",
       "    .dataframe tbody tr th:only-of-type {\n",
       "        vertical-align: middle;\n",
       "    }\n",
       "\n",
       "    .dataframe tbody tr th {\n",
       "        vertical-align: top;\n",
       "    }\n",
       "\n",
       "    .dataframe thead th {\n",
       "        text-align: right;\n",
       "    }\n",
       "</style>\n",
       "<table border=\"1\" class=\"dataframe\">\n",
       "  <thead>\n",
       "    <tr style=\"text-align: right;\">\n",
       "      <th></th>\n",
       "      <th>Text</th>\n",
       "    </tr>\n",
       "  </thead>\n",
       "  <tbody>\n",
       "    <tr>\n",
       "      <th>0</th>\n",
       "      <td>anak anak buzzing selamat lembur awas pke mask...</td>\n",
       "    </tr>\n",
       "    <tr>\n",
       "      <th>1</th>\n",
       "      <td>ulama dipersekusi giliran duit umat langsung n...</td>\n",
       "    </tr>\n",
       "    <tr>\n",
       "      <th>2</th>\n",
       "      <td>tangkap ikan kakap laut dangkal ndak bernyali ...</td>\n",
       "    </tr>\n",
       "    <tr>\n",
       "      <th>3</th>\n",
       "      <td>anak pertiwi rat teriak betapa susah nya ekono...</td>\n",
       "    </tr>\n",
       "    <tr>\n",
       "      <th>4</th>\n",
       "      <td>usut kalo rakyat ramai ramai mengusut nya insy...</td>\n",
       "    </tr>\n",
       "  </tbody>\n",
       "</table>\n",
       "</div>"
      ],
      "text/plain": [
       "                                                Text\n",
       "0  anak anak buzzing selamat lembur awas pke mask...\n",
       "1  ulama dipersekusi giliran duit umat langsung n...\n",
       "2  tangkap ikan kakap laut dangkal ndak bernyali ...\n",
       "3  anak pertiwi rat teriak betapa susah nya ekono...\n",
       "4  usut kalo rakyat ramai ramai mengusut nya insy..."
      ]
     },
     "execution_count": 128,
     "metadata": {},
     "output_type": "execute_result"
    }
   ],
   "source": [
    "df_republik.head()"
   ]
  },
  {
   "attachments": {},
   "cell_type": "markdown",
   "metadata": {},
   "source": [
    "<h3>Datasets Politik</h3>"
   ]
  },
  {
   "cell_type": "code",
   "execution_count": 129,
   "metadata": {},
   "outputs": [],
   "source": [
    "df_politik['Text'] = df_politik['Text'].apply(stopword_remover_sastrawi)"
   ]
  },
  {
   "cell_type": "code",
   "execution_count": 130,
   "metadata": {},
   "outputs": [],
   "source": [
    "df_politik['Text'] = df_politik['Text'].apply(stopword_remover_nltk)"
   ]
  },
  {
   "cell_type": "code",
   "execution_count": 131,
   "metadata": {},
   "outputs": [
    {
     "data": {
      "text/html": [
       "<div>\n",
       "<style scoped>\n",
       "    .dataframe tbody tr th:only-of-type {\n",
       "        vertical-align: middle;\n",
       "    }\n",
       "\n",
       "    .dataframe tbody tr th {\n",
       "        vertical-align: top;\n",
       "    }\n",
       "\n",
       "    .dataframe thead th {\n",
       "        text-align: right;\n",
       "    }\n",
       "</style>\n",
       "<table border=\"1\" class=\"dataframe\">\n",
       "  <thead>\n",
       "    <tr style=\"text-align: right;\">\n",
       "      <th></th>\n",
       "      <th>Text</th>\n",
       "    </tr>\n",
       "  </thead>\n",
       "  <tbody>\n",
       "    <tr>\n",
       "      <th>0</th>\n",
       "      <td>kawan2 sunda bersatu jemput arteria dahlan 😁</td>\n",
       "    </tr>\n",
       "    <tr>\n",
       "      <th>1</th>\n",
       "      <td>arogan kapok2 arteria dahlan 😁</td>\n",
       "    </tr>\n",
       "    <tr>\n",
       "      <th>2</th>\n",
       "      <td>arteria dahlan disidang adat sunda daerah menu...</td>\n",
       "    </tr>\n",
       "    <tr>\n",
       "      <th>3</th>\n",
       "      <td>orang sunda jemput arteria dahlan sidang rakya...</td>\n",
       "    </tr>\n",
       "    <tr>\n",
       "      <th>4</th>\n",
       "      <td>ga ditafsirkan membanding bandingkan edy arter...</td>\n",
       "    </tr>\n",
       "  </tbody>\n",
       "</table>\n",
       "</div>"
      ],
      "text/plain": [
       "                                                Text\n",
       "0       kawan2 sunda bersatu jemput arteria dahlan 😁\n",
       "1                     arogan kapok2 arteria dahlan 😁\n",
       "2  arteria dahlan disidang adat sunda daerah menu...\n",
       "3  orang sunda jemput arteria dahlan sidang rakya...\n",
       "4  ga ditafsirkan membanding bandingkan edy arter..."
      ]
     },
     "execution_count": 131,
     "metadata": {},
     "output_type": "execute_result"
    }
   ],
   "source": [
    "df_politik.head()"
   ]
  },
  {
   "attachments": {},
   "cell_type": "markdown",
   "metadata": {},
   "source": [
    "<h2>Make sure punctuations has been removed</h2>"
   ]
  },
  {
   "cell_type": "code",
   "execution_count": null,
   "metadata": {},
   "outputs": [],
   "source": [
    "def check_non_alphabet(text):\n",
    "    punc = []\n",
    "    for text in text:\n",
    "        non_alphabet = re.findall(\"[^\\sa-zA-Z]+\", text)\n",
    "        if non_alphabet:\n",
    "            punc.extend(non_alphabet)\n",
    "    return punc"
   ]
  },
  {
   "attachments": {},
   "cell_type": "markdown",
   "metadata": {},
   "source": [
    "<h3>Datasets CakNun</h3>"
   ]
  },
  {
   "cell_type": "code",
   "execution_count": null,
   "metadata": {},
   "outputs": [],
   "source": [
    "# punc_CakNun = check_non_alphabet(df_caknun['Text'])\n",
    "# for i in punc_CakNun:\n",
    "#     print(i)"
   ]
  },
  {
   "attachments": {},
   "cell_type": "markdown",
   "metadata": {},
   "source": [
    "<h3>Datasets Anies</h3>"
   ]
  },
  {
   "cell_type": "code",
   "execution_count": null,
   "metadata": {},
   "outputs": [],
   "source": [
    "# punc_Anies = check_non_alphabet(df_anies['Text'])\n",
    "# for i in punc_Anies:\n",
    "#     print(i)"
   ]
  },
  {
   "attachments": {},
   "cell_type": "markdown",
   "metadata": {},
   "source": [
    "<h3>Datasets Puan</h3>"
   ]
  },
  {
   "cell_type": "code",
   "execution_count": null,
   "metadata": {},
   "outputs": [],
   "source": [
    "# punc_Puan = check_non_alphabet(df_puan['Text'])\n",
    "# for i in punc_Puan:\n",
    "#     print(i)"
   ]
  },
  {
   "attachments": {},
   "cell_type": "markdown",
   "metadata": {},
   "source": [
    "<h3>Datasets Luhut</h3>"
   ]
  },
  {
   "cell_type": "code",
   "execution_count": null,
   "metadata": {},
   "outputs": [],
   "source": [
    "# punc_Luhut = check_non_alphabet(df_luhut['Text'])\n",
    "# for i in punc_Luhut:\n",
    "#     print(i)"
   ]
  },
  {
   "attachments": {},
   "cell_type": "markdown",
   "metadata": {},
   "source": [
    "<h3>Datasets Ganjar</h3>"
   ]
  },
  {
   "cell_type": "code",
   "execution_count": null,
   "metadata": {},
   "outputs": [],
   "source": [
    "# punc_Ganjar = check_non_alphabet(df_ganjar['Text'])\n",
    "# for i in punc_Ganjar:\n",
    "#     print(i)"
   ]
  },
  {
   "attachments": {},
   "cell_type": "markdown",
   "metadata": {},
   "source": [
    "<h3>Datasets Republik Pencitraan</h3>"
   ]
  },
  {
   "cell_type": "code",
   "execution_count": null,
   "metadata": {},
   "outputs": [],
   "source": [
    "# punc_Republik = check_non_alphabet(df_republik['Text'])\n",
    "# for i in punc_Republik:\n",
    "#     print(i)"
   ]
  },
  {
   "attachments": {},
   "cell_type": "markdown",
   "metadata": {},
   "source": [
    "<h3>Datasets Politik</h3>"
   ]
  },
  {
   "cell_type": "code",
   "execution_count": null,
   "metadata": {},
   "outputs": [],
   "source": [
    "# punc_Politik = check_non_alphabet(df_politik['Text'])\n",
    "# for i in punc_Politik:\n",
    "#     print(i)"
   ]
  },
  {
   "attachments": {},
   "cell_type": "markdown",
   "metadata": {},
   "source": [
    "<h2>Separate alnums by emoji</h2>"
   ]
  },
  {
   "attachments": {},
   "cell_type": "markdown",
   "metadata": {},
   "source": [
    "<h3>Datasets CakNun</h3>"
   ]
  },
  {
   "cell_type": "code",
   "execution_count": 132,
   "metadata": {},
   "outputs": [],
   "source": [
    "df_caknun['emoji'] = df_caknun['Text'].apply(lambda x: re.findall(r'\\W', x))"
   ]
  },
  {
   "cell_type": "code",
   "execution_count": 133,
   "metadata": {},
   "outputs": [],
   "source": [
    "df_caknun['Text'] = df_caknun['Text'].apply(lambda x: re.sub(r'\\W+', ' ', x))"
   ]
  },
  {
   "cell_type": "code",
   "execution_count": 134,
   "metadata": {},
   "outputs": [],
   "source": [
    "df_caknun['Text'] = df_caknun['Text'].apply(remove_newLines)"
   ]
  },
  {
   "cell_type": "code",
   "execution_count": 135,
   "metadata": {},
   "outputs": [
    {
     "data": {
      "text/html": [
       "<div>\n",
       "<style scoped>\n",
       "    .dataframe tbody tr th:only-of-type {\n",
       "        vertical-align: middle;\n",
       "    }\n",
       "\n",
       "    .dataframe tbody tr th {\n",
       "        vertical-align: top;\n",
       "    }\n",
       "\n",
       "    .dataframe thead th {\n",
       "        text-align: right;\n",
       "    }\n",
       "</style>\n",
       "<table border=\"1\" class=\"dataframe\">\n",
       "  <thead>\n",
       "    <tr style=\"text-align: right;\">\n",
       "      <th></th>\n",
       "      <th>Text</th>\n",
       "      <th>emoji</th>\n",
       "    </tr>\n",
       "  </thead>\n",
       "  <tbody>\n",
       "    <tr>\n",
       "      <th>0</th>\n",
       "      <td>mencemooh putus asa marah sejenis menekankan s...</td>\n",
       "      <td>[ ,  ,  ,  ,  ,  ,  ,  , 😨]</td>\n",
       "    </tr>\n",
       "    <tr>\n",
       "      <th>1</th>\n",
       "      <td>jagat jagat mengenal tuhan mengenal mengenal m</td>\n",
       "      <td>[ ,  ,  ,  ,  ,  ,  , 😨]</td>\n",
       "    </tr>\n",
       "    <tr>\n",
       "      <th>2</th>\n",
       "      <td>mbah nun politisi kubu 01 bonekay korp serakah...</td>\n",
       "      <td>[ ,  ,  ,  ,  ,  ,  ,  ,  ,  ,  ,  ,  ,  ,  , ...</td>\n",
       "    </tr>\n",
       "    <tr>\n",
       "      <th>3</th>\n",
       "      <td>mbah nun s b ydyo j k kubu 01 2y negarawan pol...</td>\n",
       "      <td>[ ,  ,  ,  ,  ,  ,  ,  ,  ,  ,  ,  ,  ,  ,  , ...</td>\n",
       "    </tr>\n",
       "    <tr>\n",
       "      <th>4</th>\n",
       "      <td>mbah nun banci komunis sengkuni yg ngumpet dib...</td>\n",
       "      <td>[ ,  ,  ,  ,  ,  ,  ,  ,  ,  ,  ,  ,  ,  ,  , ...</td>\n",
       "    </tr>\n",
       "    <tr>\n",
       "      <th>5</th>\n",
       "      <td>mbah nun berlagak ndalank silahkan dibaca foto...</td>\n",
       "      <td>[ ,  ,  ,  , 👉,  ,  ,  , 👈,  ,  ,  ,  ,  ,  , ...</td>\n",
       "    </tr>\n",
       "    <tr>\n",
       "      <th>6</th>\n",
       "      <td>caplin politikus rakus bertinggi badan cebol k...</td>\n",
       "      <td>[ , 👇,  ,  ,  ,  ,  ,  ,  ,  ,  ,  ,  ,  ,  , ...</td>\n",
       "    </tr>\n",
       "    <tr>\n",
       "      <th>7</th>\n",
       "      <td>mbah nun ma mengontrak disampink rumah baik2 a...</td>\n",
       "      <td>[ ,  ,  ,  ,  ,  ,  ,  ,  ,  ,  ,  ,  ,  ,  , ...</td>\n",
       "    </tr>\n",
       "    <tr>\n",
       "      <th>8</th>\n",
       "      <td>mbah nun kondisi media pribadi saya in sedank ...</td>\n",
       "      <td>[ ,  ,  ,  ,  , 👇,  ,  ,  ,  ,  ,  ,  ,  ,  , ...</td>\n",
       "    </tr>\n",
       "    <tr>\n",
       "      <th>9</th>\n",
       "      <td>suami istri gagal kerap dinilai menjaga kehorm...</td>\n",
       "      <td>[ ,  ,  ,  ,  ,  ,  ,  , 😨]</td>\n",
       "    </tr>\n",
       "    <tr>\n",
       "      <th>10</th>\n",
       "      <td>orang ga ngerti apa2 sejarah nu muhammadyah be...</td>\n",
       "      <td>[ ,  ,  ,  ,  ,  ,  ,  ,  ,  ,  ,  ,  ,  ,  , ...</td>\n",
       "    </tr>\n",
       "    <tr>\n",
       "      <th>11</th>\n",
       "      <td>cak nun freire orwell twit</td>\n",
       "      <td>[ ,  ,  ,  ,  , 😨]</td>\n",
       "    </tr>\n",
       "    <tr>\n",
       "      <th>12</th>\n",
       "      <td>mbah sipil2 komplotan kriminal penjahat perusa...</td>\n",
       "      <td>[ ,  ,  ,  ,  ,  ,  ,  ,  ,  ,  ,  ,  ,  ,  , ...</td>\n",
       "    </tr>\n",
       "    <tr>\n",
       "      <th>13</th>\n",
       "      <td>mbah nun kecoa tni ad s b y luhut b p j k teru...</td>\n",
       "      <td>[ ,  ,  ,  ,  ,  ,  ,  ,  ,  ,  ,  ,  ,  ,  , ...</td>\n",
       "    </tr>\n",
       "    <tr>\n",
       "      <th>14</th>\n",
       "      <td>mbah nun politisi malink kemampuan idividuy le...</td>\n",
       "      <td>[ ,  , 👇,  ,  ,  ,  ,  ,  ,  ,  ,  ,  ,  ,  , ...</td>\n",
       "    </tr>\n",
       "    <tr>\n",
       "      <th>15</th>\n",
       "      <td>habis yg korek2 kamrin cak nun skrg gus miftah...</td>\n",
       "      <td>[ ,  ,  ,  ,  ,  ,  ,  ,  ,  , 😨]</td>\n",
       "    </tr>\n",
       "    <tr>\n",
       "      <th>16</th>\n",
       "      <td>aslinya penjilat cendana hidup or bacot gede</td>\n",
       "      <td>[ ,  ,  ,  ,  ,  ,  , 😨]</td>\n",
       "    </tr>\n",
       "    <tr>\n",
       "      <th>17</th>\n",
       "      <td>mbah biank keroky sumber masalahy hayoo mbulet...</td>\n",
       "      <td>[ ,  ,  ,  , 👇,  ,  ,  ,  ,  ,  ,  ,  ,  ,  , ...</td>\n",
       "    </tr>\n",
       "    <tr>\n",
       "      <th>18</th>\n",
       "      <td>kalo si wowon emang beneran kerasukan setan be...</td>\n",
       "      <td>[ ,  ,  ,  ,  ,  ,  , 😃, 😃, 😃,  ,  ,  ,  ,  , ...</td>\n",
       "    </tr>\n",
       "    <tr>\n",
       "      <th>19</th>\n",
       "      <td>tuhan menciptakan pundak lelaki menyangga tang...</td>\n",
       "      <td>[ ,  ,  ,  ,  ,  ,  , 😨]</td>\n",
       "    </tr>\n",
       "    <tr>\n",
       "      <th>20</th>\n",
       "      <td>setan diturunkan bumi mahluk penggoda manusia ...</td>\n",
       "      <td>[ ,  ,  ,  ,  ,  ,  ,  ,  ,  ,  ,  ,  ,  ,  , ...</td>\n",
       "    </tr>\n",
       "  </tbody>\n",
       "</table>\n",
       "</div>"
      ],
      "text/plain": [
       "                                                 Text  \\\n",
       "0   mencemooh putus asa marah sejenis menekankan s...   \n",
       "1      jagat jagat mengenal tuhan mengenal mengenal m   \n",
       "2   mbah nun politisi kubu 01 bonekay korp serakah...   \n",
       "3   mbah nun s b ydyo j k kubu 01 2y negarawan pol...   \n",
       "4   mbah nun banci komunis sengkuni yg ngumpet dib...   \n",
       "5   mbah nun berlagak ndalank silahkan dibaca foto...   \n",
       "6   caplin politikus rakus bertinggi badan cebol k...   \n",
       "7   mbah nun ma mengontrak disampink rumah baik2 a...   \n",
       "8   mbah nun kondisi media pribadi saya in sedank ...   \n",
       "9   suami istri gagal kerap dinilai menjaga kehorm...   \n",
       "10  orang ga ngerti apa2 sejarah nu muhammadyah be...   \n",
       "11                         cak nun freire orwell twit   \n",
       "12  mbah sipil2 komplotan kriminal penjahat perusa...   \n",
       "13  mbah nun kecoa tni ad s b y luhut b p j k teru...   \n",
       "14  mbah nun politisi malink kemampuan idividuy le...   \n",
       "15  habis yg korek2 kamrin cak nun skrg gus miftah...   \n",
       "16       aslinya penjilat cendana hidup or bacot gede   \n",
       "17  mbah biank keroky sumber masalahy hayoo mbulet...   \n",
       "18  kalo si wowon emang beneran kerasukan setan be...   \n",
       "19  tuhan menciptakan pundak lelaki menyangga tang...   \n",
       "20  setan diturunkan bumi mahluk penggoda manusia ...   \n",
       "\n",
       "                                                emoji  \n",
       "0                         [ ,  ,  ,  ,  ,  ,  ,  , 😨]  \n",
       "1                            [ ,  ,  ,  ,  ,  ,  , 😨]  \n",
       "2   [ ,  ,  ,  ,  ,  ,  ,  ,  ,  ,  ,  ,  ,  ,  , ...  \n",
       "3   [ ,  ,  ,  ,  ,  ,  ,  ,  ,  ,  ,  ,  ,  ,  , ...  \n",
       "4   [ ,  ,  ,  ,  ,  ,  ,  ,  ,  ,  ,  ,  ,  ,  , ...  \n",
       "5   [ ,  ,  ,  , 👉,  ,  ,  , 👈,  ,  ,  ,  ,  ,  , ...  \n",
       "6   [ , 👇,  ,  ,  ,  ,  ,  ,  ,  ,  ,  ,  ,  ,  , ...  \n",
       "7   [ ,  ,  ,  ,  ,  ,  ,  ,  ,  ,  ,  ,  ,  ,  , ...  \n",
       "8   [ ,  ,  ,  ,  , 👇,  ,  ,  ,  ,  ,  ,  ,  ,  , ...  \n",
       "9                         [ ,  ,  ,  ,  ,  ,  ,  , 😨]  \n",
       "10  [ ,  ,  ,  ,  ,  ,  ,  ,  ,  ,  ,  ,  ,  ,  , ...  \n",
       "11                                 [ ,  ,  ,  ,  , 😨]  \n",
       "12  [ ,  ,  ,  ,  ,  ,  ,  ,  ,  ,  ,  ,  ,  ,  , ...  \n",
       "13  [ ,  ,  ,  ,  ,  ,  ,  ,  ,  ,  ,  ,  ,  ,  , ...  \n",
       "14  [ ,  , 👇,  ,  ,  ,  ,  ,  ,  ,  ,  ,  ,  ,  , ...  \n",
       "15                  [ ,  ,  ,  ,  ,  ,  ,  ,  ,  , 😨]  \n",
       "16                           [ ,  ,  ,  ,  ,  ,  , 😨]  \n",
       "17  [ ,  ,  ,  , 👇,  ,  ,  ,  ,  ,  ,  ,  ,  ,  , ...  \n",
       "18  [ ,  ,  ,  ,  ,  ,  , 😃, 😃, 😃,  ,  ,  ,  ,  , ...  \n",
       "19                           [ ,  ,  ,  ,  ,  ,  , 😨]  \n",
       "20  [ ,  ,  ,  ,  ,  ,  ,  ,  ,  ,  ,  ,  ,  ,  , ...  "
      ]
     },
     "execution_count": 135,
     "metadata": {},
     "output_type": "execute_result"
    }
   ],
   "source": [
    "df_caknun.head(21)"
   ]
  },
  {
   "cell_type": "code",
   "execution_count": 136,
   "metadata": {},
   "outputs": [],
   "source": [
    "df_caknun['emoji'] = df_caknun['emoji'].apply(''.join)"
   ]
  },
  {
   "cell_type": "code",
   "execution_count": 137,
   "metadata": {},
   "outputs": [],
   "source": [
    "df_caknun['emoji'] = df_caknun['emoji'].astype(str)"
   ]
  },
  {
   "cell_type": "code",
   "execution_count": 138,
   "metadata": {},
   "outputs": [
    {
     "data": {
      "text/html": [
       "<div>\n",
       "<style scoped>\n",
       "    .dataframe tbody tr th:only-of-type {\n",
       "        vertical-align: middle;\n",
       "    }\n",
       "\n",
       "    .dataframe tbody tr th {\n",
       "        vertical-align: top;\n",
       "    }\n",
       "\n",
       "    .dataframe thead th {\n",
       "        text-align: right;\n",
       "    }\n",
       "</style>\n",
       "<table border=\"1\" class=\"dataframe\">\n",
       "  <thead>\n",
       "    <tr style=\"text-align: right;\">\n",
       "      <th></th>\n",
       "      <th>Text</th>\n",
       "      <th>emoji</th>\n",
       "    </tr>\n",
       "  </thead>\n",
       "  <tbody>\n",
       "    <tr>\n",
       "      <th>0</th>\n",
       "      <td>mencemooh putus asa marah sejenis menekankan s...</td>\n",
       "      <td>😨</td>\n",
       "    </tr>\n",
       "    <tr>\n",
       "      <th>1</th>\n",
       "      <td>jagat jagat mengenal tuhan mengenal mengenal m</td>\n",
       "      <td>😨</td>\n",
       "    </tr>\n",
       "    <tr>\n",
       "      <th>2</th>\n",
       "      <td>mbah nun politisi kubu 01 bonekay korp serakah...</td>\n",
       "      <td>👉   👈 😨</td>\n",
       "    </tr>\n",
       "    <tr>\n",
       "      <th>3</th>\n",
       "      <td>mbah nun s b ydyo j k kubu 01 2y negarawan pol...</td>\n",
       "      <td>👇   😨</td>\n",
       "    </tr>\n",
       "    <tr>\n",
       "      <th>4</th>\n",
       "      <td>mbah nun banci komunis sengkuni yg ngumpet dib...</td>\n",
       "      <td>👉            👈     😨</td>\n",
       "    </tr>\n",
       "    <tr>\n",
       "      <th>5</th>\n",
       "      <td>mbah nun berlagak ndalank silahkan dibaca foto...</td>\n",
       "      <td>👉   👈                      😨</td>\n",
       "    </tr>\n",
       "    <tr>\n",
       "      <th>6</th>\n",
       "      <td>caplin politikus rakus bertinggi badan cebol k...</td>\n",
       "      <td>👇                          😨</td>\n",
       "    </tr>\n",
       "    <tr>\n",
       "      <th>7</th>\n",
       "      <td>mbah nun ma mengontrak disampink rumah baik2 a...</td>\n",
       "      <td>😏        😨</td>\n",
       "    </tr>\n",
       "    <tr>\n",
       "      <th>8</th>\n",
       "      <td>mbah nun kondisi media pribadi saya in sedank ...</td>\n",
       "      <td>👇                       👉      👈 😨</td>\n",
       "    </tr>\n",
       "    <tr>\n",
       "      <th>9</th>\n",
       "      <td>suami istri gagal kerap dinilai menjaga kehorm...</td>\n",
       "      <td>😨</td>\n",
       "    </tr>\n",
       "    <tr>\n",
       "      <th>10</th>\n",
       "      <td>orang ga ngerti apa2 sejarah nu muhammadyah be...</td>\n",
       "      <td>😨</td>\n",
       "    </tr>\n",
       "    <tr>\n",
       "      <th>11</th>\n",
       "      <td>cak nun freire orwell twit</td>\n",
       "      <td>😨</td>\n",
       "    </tr>\n",
       "    <tr>\n",
       "      <th>12</th>\n",
       "      <td>mbah sipil2 komplotan kriminal penjahat perusa...</td>\n",
       "      <td>😨</td>\n",
       "    </tr>\n",
       "    <tr>\n",
       "      <th>13</th>\n",
       "      <td>mbah nun kecoa tni ad s b y luhut b p j k teru...</td>\n",
       "      <td>😨</td>\n",
       "    </tr>\n",
       "    <tr>\n",
       "      <th>14</th>\n",
       "      <td>mbah nun politisi malink kemampuan idividuy le...</td>\n",
       "      <td>👇                        😨</td>\n",
       "    </tr>\n",
       "    <tr>\n",
       "      <th>15</th>\n",
       "      <td>habis yg korek2 kamrin cak nun skrg gus miftah...</td>\n",
       "      <td>😨</td>\n",
       "    </tr>\n",
       "    <tr>\n",
       "      <th>16</th>\n",
       "      <td>aslinya penjilat cendana hidup or bacot gede</td>\n",
       "      <td>😨</td>\n",
       "    </tr>\n",
       "    <tr>\n",
       "      <th>17</th>\n",
       "      <td>mbah biank keroky sumber masalahy hayoo mbulet...</td>\n",
       "      <td>👇                  👉        😨</td>\n",
       "    </tr>\n",
       "    <tr>\n",
       "      <th>18</th>\n",
       "      <td>kalo si wowon emang beneran kerasukan setan be...</td>\n",
       "      <td>😃😃😃      😂 😨</td>\n",
       "    </tr>\n",
       "    <tr>\n",
       "      <th>19</th>\n",
       "      <td>tuhan menciptakan pundak lelaki menyangga tang...</td>\n",
       "      <td>😨</td>\n",
       "    </tr>\n",
       "    <tr>\n",
       "      <th>20</th>\n",
       "      <td>setan diturunkan bumi mahluk penggoda manusia ...</td>\n",
       "      <td>😨</td>\n",
       "    </tr>\n",
       "  </tbody>\n",
       "</table>\n",
       "</div>"
      ],
      "text/plain": [
       "                                                 Text  \\\n",
       "0   mencemooh putus asa marah sejenis menekankan s...   \n",
       "1      jagat jagat mengenal tuhan mengenal mengenal m   \n",
       "2   mbah nun politisi kubu 01 bonekay korp serakah...   \n",
       "3   mbah nun s b ydyo j k kubu 01 2y negarawan pol...   \n",
       "4   mbah nun banci komunis sengkuni yg ngumpet dib...   \n",
       "5   mbah nun berlagak ndalank silahkan dibaca foto...   \n",
       "6   caplin politikus rakus bertinggi badan cebol k...   \n",
       "7   mbah nun ma mengontrak disampink rumah baik2 a...   \n",
       "8   mbah nun kondisi media pribadi saya in sedank ...   \n",
       "9   suami istri gagal kerap dinilai menjaga kehorm...   \n",
       "10  orang ga ngerti apa2 sejarah nu muhammadyah be...   \n",
       "11                         cak nun freire orwell twit   \n",
       "12  mbah sipil2 komplotan kriminal penjahat perusa...   \n",
       "13  mbah nun kecoa tni ad s b y luhut b p j k teru...   \n",
       "14  mbah nun politisi malink kemampuan idividuy le...   \n",
       "15  habis yg korek2 kamrin cak nun skrg gus miftah...   \n",
       "16       aslinya penjilat cendana hidup or bacot gede   \n",
       "17  mbah biank keroky sumber masalahy hayoo mbulet...   \n",
       "18  kalo si wowon emang beneran kerasukan setan be...   \n",
       "19  tuhan menciptakan pundak lelaki menyangga tang...   \n",
       "20  setan diturunkan bumi mahluk penggoda manusia ...   \n",
       "\n",
       "                                      emoji  \n",
       "0                                         😨  \n",
       "1                                         😨  \n",
       "2                                   👉   👈 😨  \n",
       "3                                     👇   😨  \n",
       "4                      👉            👈     😨  \n",
       "5              👉   👈                      😨  \n",
       "6              👇                          😨  \n",
       "7                                😏        😨  \n",
       "8        👇                       👉      👈 😨  \n",
       "9                                         😨  \n",
       "10                                        😨  \n",
       "11                                        😨  \n",
       "12                                        😨  \n",
       "13                                        😨  \n",
       "14               👇                        😨  \n",
       "15                                        😨  \n",
       "16                                        😨  \n",
       "17            👇                  👉        😨  \n",
       "18                             😃😃😃      😂 😨  \n",
       "19                                        😨  \n",
       "20                                        😨  "
      ]
     },
     "execution_count": 138,
     "metadata": {},
     "output_type": "execute_result"
    }
   ],
   "source": [
    "df_caknun.head(21)"
   ]
  },
  {
   "cell_type": "code",
   "execution_count": null,
   "metadata": {},
   "outputs": [],
   "source": [
    "# df_caknun['text_emoji'] = df_caknun['Text'] + df_caknun['emoji']"
   ]
  },
  {
   "cell_type": "code",
   "execution_count": null,
   "metadata": {},
   "outputs": [],
   "source": [
    "# df_caknun['text_emoji'] = df_caknun['text_emoji'].apply(remove_newLines)"
   ]
  },
  {
   "cell_type": "code",
   "execution_count": null,
   "metadata": {},
   "outputs": [],
   "source": [
    "# df_caknun['text_emoji'] = df_caknun['text_emoji'].apply(lambda x: x.split())"
   ]
  },
  {
   "cell_type": "code",
   "execution_count": null,
   "metadata": {},
   "outputs": [],
   "source": [
    "# df_caknun['text_emoji'][2]"
   ]
  },
  {
   "cell_type": "code",
   "execution_count": null,
   "metadata": {},
   "outputs": [],
   "source": [
    "# tokens = df_caknun['text_emoji'][2]\n",
    "# emoji_pos = ['😃','😂', '👉']\n",
    "# emoji_neg = ['😨']\n",
    "\n",
    "# total_positif = sum(1 for i in tokens if i in emoji_pos)\n",
    "# print(total_positif)\n",
    "\n",
    "# total_negatif = sum(1 for i in tokens if i in emoji_neg)\n",
    "# print(total_negatif)\n"
   ]
  },
  {
   "attachments": {},
   "cell_type": "markdown",
   "metadata": {},
   "source": [
    "<h3>Datasets Anies</h3>"
   ]
  },
  {
   "cell_type": "code",
   "execution_count": 139,
   "metadata": {},
   "outputs": [],
   "source": [
    "df_anies['emoji'] = df_anies['Text'].apply(lambda x: re.findall(r'\\W', x))"
   ]
  },
  {
   "cell_type": "code",
   "execution_count": 140,
   "metadata": {},
   "outputs": [],
   "source": [
    "df_anies['Text'] = df_anies['Text'].apply(lambda x: re.sub(r'\\W+', ' ', x))"
   ]
  },
  {
   "cell_type": "code",
   "execution_count": 141,
   "metadata": {},
   "outputs": [],
   "source": [
    "df_anies['Text'] = df_anies['Text'].apply(remove_newLines)"
   ]
  },
  {
   "cell_type": "code",
   "execution_count": 142,
   "metadata": {},
   "outputs": [
    {
     "data": {
      "text/html": [
       "<div>\n",
       "<style scoped>\n",
       "    .dataframe tbody tr th:only-of-type {\n",
       "        vertical-align: middle;\n",
       "    }\n",
       "\n",
       "    .dataframe tbody tr th {\n",
       "        vertical-align: top;\n",
       "    }\n",
       "\n",
       "    .dataframe thead th {\n",
       "        text-align: right;\n",
       "    }\n",
       "</style>\n",
       "<table border=\"1\" class=\"dataframe\">\n",
       "  <thead>\n",
       "    <tr style=\"text-align: right;\">\n",
       "      <th></th>\n",
       "      <th>Text</th>\n",
       "      <th>emoji</th>\n",
       "    </tr>\n",
       "  </thead>\n",
       "  <tbody>\n",
       "    <tr>\n",
       "      <th>0</th>\n",
       "      <td>prettttt gagasan mulu yg dibahas zonk eksekusi...</td>\n",
       "      <td>[ ,  ,  ,  ,  ,  ,  ,  ,  ,  ,  ,  ,  ,  ,  , 😠]</td>\n",
       "    </tr>\n",
       "    <tr>\n",
       "      <th>1</th>\n",
       "      <td>pemborosan bangunan tingkat kampung sebentar b...</td>\n",
       "      <td>[ ,  ,  ,  ,  ,  ,  ,  , 😠]</td>\n",
       "    </tr>\n",
       "    <tr>\n",
       "      <th>2</th>\n",
       "      <td>alhamdulillah puji bagimu allah barakallah bpk...</td>\n",
       "      <td>[ ,  ,  ,  ,  ,  ,  ,  ,  ,  ,  , 😠]</td>\n",
       "    </tr>\n",
       "    <tr>\n",
       "      <th>3</th>\n",
       "      <td>dear kebanyakan ngedabol pergi kalimantan meng...</td>\n",
       "      <td>[ ,  ,  ,  ,  ,  ,  ,  ,  , 👇,  , 😠]</td>\n",
       "    </tr>\n",
       "    <tr>\n",
       "      <th>4</th>\n",
       "      <td>pemimpin dosen yg pindah ruang kelebihan keleb...</td>\n",
       "      <td>[ ,  ,  ,  ,  ,  ,  ,  ,  ,  ,  ,  ,  ,  ,  , 😠]</td>\n",
       "    </tr>\n",
       "    <tr>\n",
       "      <th>5</th>\n",
       "      <td>koalisi perubahan solid anies baswedan perjalanan</td>\n",
       "      <td>[ ,  ,  ,  ,  ,  , 😠]</td>\n",
       "    </tr>\n",
       "    <tr>\n",
       "      <th>6</th>\n",
       "      <td>satu2nya manusia yg gak malu otak membela vaks...</td>\n",
       "      <td>[😂, 😂, 😂, 😂,  ,  ,  ,  ,  ,  ,  ,  ,  ,  , 😠]</td>\n",
       "    </tr>\n",
       "    <tr>\n",
       "      <th>7</th>\n",
       "      <td>bangun kebutuhan wc warga dki kau kau ngembat ...</td>\n",
       "      <td>[ ,  ,  ,  ,  ,  ,  ,  ,  ,  ,  ,  ,  , 😠]</td>\n",
       "    </tr>\n",
       "    <tr>\n",
       "      <th>8</th>\n",
       "      <td>pujapuji nasdem calonkan suaranya iya perubaha...</td>\n",
       "      <td>[ ,  ,  ,  , 🤭, 🤭,  ,  ,  ,  ,  , 🤣, 🤣, 🤣,  , 😠]</td>\n",
       "    </tr>\n",
       "    <tr>\n",
       "      <th>9</th>\n",
       "      <td>deretan prestasi gemilang anies baswedan menja...</td>\n",
       "      <td>[ ,  ,  ,  ,  ,  ,  ,  ,  ,  ,  ,  ,  , 😠]</td>\n",
       "    </tr>\n",
       "    <tr>\n",
       "      <th>10</th>\n",
       "      <td>rumah gundul mu nol persen</td>\n",
       "      <td>[ ,  ,  ,  ,  , 😠]</td>\n",
       "    </tr>\n",
       "    <tr>\n",
       "      <th>11</th>\n",
       "      <td>yg ga kebayang presiden kau golongan kau maen ...</td>\n",
       "      <td>[ ,  ,  ,  ,  ,  ,  ,  ,  ,  ,  ,  ,  ,  ,  , ...</td>\n",
       "    </tr>\n",
       "    <tr>\n",
       "      <th>12</th>\n",
       "      <td>mimpi asli nyata</td>\n",
       "      <td>[ ,  ,  , 😠]</td>\n",
       "    </tr>\n",
       "    <tr>\n",
       "      <th>13</th>\n",
       "      <td>tembak mati maling mahoni monas nies pecahin k...</td>\n",
       "      <td>[ ,  ,  ,  ,  ,  ,  ,  , ✓,  , 😠]</td>\n",
       "    </tr>\n",
       "    <tr>\n",
       "      <th>14</th>\n",
       "      <td>knp gw jd pengen beol</td>\n",
       "      <td>[ ,  ,  ,  ,  , 😠]</td>\n",
       "    </tr>\n",
       "    <tr>\n",
       "      <th>15</th>\n",
       "      <td>didu otaknya kebalik teriak oligarki pengusung...</td>\n",
       "      <td>[ ,  ,  ,  ,  ,  ,  ,  ,  ,  , 😠]</td>\n",
       "    </tr>\n",
       "    <tr>\n",
       "      <th>16</th>\n",
       "      <td>gue loe sapi dikorupsi bacot doang</td>\n",
       "      <td>[ ,  ,  ,  ,  ,  , 😁, 😁, 😁,  , 😠]</td>\n",
       "    </tr>\n",
       "    <tr>\n",
       "      <th>17</th>\n",
       "      <td>akun gak tolol gini buzzer nyebar fitnah lanca...</td>\n",
       "      <td>[ ,  ,  ,  ,  ,  ,  ,  ,  , 😠]</td>\n",
       "    </tr>\n",
       "    <tr>\n",
       "      <th>18</th>\n",
       "      <td>memng bgtu kelas ujungnya km pki munafik kafir...</td>\n",
       "      <td>[ ,  ,  ,  ,  ,  ,  ,  ,  , 😠]</td>\n",
       "    </tr>\n",
       "    <tr>\n",
       "      <th>19</th>\n",
       "      <td>mantap pokoknya anies maju abaikan rametuk2 yg...</td>\n",
       "      <td>[ ,  ,  ,  ,  ,  ,  ,  ,  ,  , 😅,  ,  , 😠]</td>\n",
       "    </tr>\n",
       "    <tr>\n",
       "      <th>20</th>\n",
       "      <td>level anies cm dkt dgn pensiunan mayor level p...</td>\n",
       "      <td>[ ,  ,  ,  ,  ,  ,  ,  ,  ,  ,  , 😂, 🤣,  , 😠]</td>\n",
       "    </tr>\n",
       "  </tbody>\n",
       "</table>\n",
       "</div>"
      ],
      "text/plain": [
       "                                                 Text  \\\n",
       "0   prettttt gagasan mulu yg dibahas zonk eksekusi...   \n",
       "1   pemborosan bangunan tingkat kampung sebentar b...   \n",
       "2   alhamdulillah puji bagimu allah barakallah bpk...   \n",
       "3   dear kebanyakan ngedabol pergi kalimantan meng...   \n",
       "4   pemimpin dosen yg pindah ruang kelebihan keleb...   \n",
       "5   koalisi perubahan solid anies baswedan perjalanan   \n",
       "6   satu2nya manusia yg gak malu otak membela vaks...   \n",
       "7   bangun kebutuhan wc warga dki kau kau ngembat ...   \n",
       "8   pujapuji nasdem calonkan suaranya iya perubaha...   \n",
       "9   deretan prestasi gemilang anies baswedan menja...   \n",
       "10                         rumah gundul mu nol persen   \n",
       "11  yg ga kebayang presiden kau golongan kau maen ...   \n",
       "12                                   mimpi asli nyata   \n",
       "13  tembak mati maling mahoni monas nies pecahin k...   \n",
       "14                              knp gw jd pengen beol   \n",
       "15  didu otaknya kebalik teriak oligarki pengusung...   \n",
       "16                 gue loe sapi dikorupsi bacot doang   \n",
       "17  akun gak tolol gini buzzer nyebar fitnah lanca...   \n",
       "18  memng bgtu kelas ujungnya km pki munafik kafir...   \n",
       "19  mantap pokoknya anies maju abaikan rametuk2 yg...   \n",
       "20  level anies cm dkt dgn pensiunan mayor level p...   \n",
       "\n",
       "                                                emoji  \n",
       "0    [ ,  ,  ,  ,  ,  ,  ,  ,  ,  ,  ,  ,  ,  ,  , 😠]  \n",
       "1                         [ ,  ,  ,  ,  ,  ,  ,  , 😠]  \n",
       "2                [ ,  ,  ,  ,  ,  ,  ,  ,  ,  ,  , 😠]  \n",
       "3                [ ,  ,  ,  ,  ,  ,  ,  ,  , 👇,  , 😠]  \n",
       "4    [ ,  ,  ,  ,  ,  ,  ,  ,  ,  ,  ,  ,  ,  ,  , 😠]  \n",
       "5                               [ ,  ,  ,  ,  ,  , 😠]  \n",
       "6       [😂, 😂, 😂, 😂,  ,  ,  ,  ,  ,  ,  ,  ,  ,  , 😠]  \n",
       "7          [ ,  ,  ,  ,  ,  ,  ,  ,  ,  ,  ,  ,  , 😠]  \n",
       "8    [ ,  ,  ,  , 🤭, 🤭,  ,  ,  ,  ,  , 🤣, 🤣, 🤣,  , 😠]  \n",
       "9          [ ,  ,  ,  ,  ,  ,  ,  ,  ,  ,  ,  ,  , 😠]  \n",
       "10                                 [ ,  ,  ,  ,  , 😠]  \n",
       "11  [ ,  ,  ,  ,  ,  ,  ,  ,  ,  ,  ,  ,  ,  ,  , ...  \n",
       "12                                       [ ,  ,  , 😠]  \n",
       "13                  [ ,  ,  ,  ,  ,  ,  ,  , ✓,  , 😠]  \n",
       "14                                 [ ,  ,  ,  ,  , 😠]  \n",
       "15                  [ ,  ,  ,  ,  ,  ,  ,  ,  ,  , 😠]  \n",
       "16                  [ ,  ,  ,  ,  ,  , 😁, 😁, 😁,  , 😠]  \n",
       "17                     [ ,  ,  ,  ,  ,  ,  ,  ,  , 😠]  \n",
       "18                     [ ,  ,  ,  ,  ,  ,  ,  ,  , 😠]  \n",
       "19         [ ,  ,  ,  ,  ,  ,  ,  ,  ,  , 😅,  ,  , 😠]  \n",
       "20      [ ,  ,  ,  ,  ,  ,  ,  ,  ,  ,  , 😂, 🤣,  , 😠]  "
      ]
     },
     "execution_count": 142,
     "metadata": {},
     "output_type": "execute_result"
    }
   ],
   "source": [
    "df_anies.head(21)"
   ]
  },
  {
   "cell_type": "code",
   "execution_count": 143,
   "metadata": {},
   "outputs": [],
   "source": [
    "df_anies['emoji'] = df_anies['emoji'].apply(''.join)"
   ]
  },
  {
   "cell_type": "code",
   "execution_count": 144,
   "metadata": {},
   "outputs": [],
   "source": [
    "df_anies['emoji'] = df_anies['emoji'].astype(str)"
   ]
  },
  {
   "cell_type": "code",
   "execution_count": 145,
   "metadata": {},
   "outputs": [
    {
     "data": {
      "text/html": [
       "<div>\n",
       "<style scoped>\n",
       "    .dataframe tbody tr th:only-of-type {\n",
       "        vertical-align: middle;\n",
       "    }\n",
       "\n",
       "    .dataframe tbody tr th {\n",
       "        vertical-align: top;\n",
       "    }\n",
       "\n",
       "    .dataframe thead th {\n",
       "        text-align: right;\n",
       "    }\n",
       "</style>\n",
       "<table border=\"1\" class=\"dataframe\">\n",
       "  <thead>\n",
       "    <tr style=\"text-align: right;\">\n",
       "      <th></th>\n",
       "      <th>Text</th>\n",
       "      <th>emoji</th>\n",
       "    </tr>\n",
       "  </thead>\n",
       "  <tbody>\n",
       "    <tr>\n",
       "      <th>0</th>\n",
       "      <td>prettttt gagasan mulu yg dibahas zonk eksekusi...</td>\n",
       "      <td>😠</td>\n",
       "    </tr>\n",
       "    <tr>\n",
       "      <th>1</th>\n",
       "      <td>pemborosan bangunan tingkat kampung sebentar b...</td>\n",
       "      <td>😠</td>\n",
       "    </tr>\n",
       "    <tr>\n",
       "      <th>2</th>\n",
       "      <td>alhamdulillah puji bagimu allah barakallah bpk...</td>\n",
       "      <td>😠</td>\n",
       "    </tr>\n",
       "    <tr>\n",
       "      <th>3</th>\n",
       "      <td>dear kebanyakan ngedabol pergi kalimantan meng...</td>\n",
       "      <td>👇 😠</td>\n",
       "    </tr>\n",
       "    <tr>\n",
       "      <th>4</th>\n",
       "      <td>pemimpin dosen yg pindah ruang kelebihan keleb...</td>\n",
       "      <td>😠</td>\n",
       "    </tr>\n",
       "    <tr>\n",
       "      <th>5</th>\n",
       "      <td>koalisi perubahan solid anies baswedan perjalanan</td>\n",
       "      <td>😠</td>\n",
       "    </tr>\n",
       "    <tr>\n",
       "      <th>6</th>\n",
       "      <td>satu2nya manusia yg gak malu otak membela vaks...</td>\n",
       "      <td>😂😂😂😂          😠</td>\n",
       "    </tr>\n",
       "    <tr>\n",
       "      <th>7</th>\n",
       "      <td>bangun kebutuhan wc warga dki kau kau ngembat ...</td>\n",
       "      <td>😠</td>\n",
       "    </tr>\n",
       "    <tr>\n",
       "      <th>8</th>\n",
       "      <td>pujapuji nasdem calonkan suaranya iya perubaha...</td>\n",
       "      <td>🤭🤭     🤣🤣🤣 😠</td>\n",
       "    </tr>\n",
       "    <tr>\n",
       "      <th>9</th>\n",
       "      <td>deretan prestasi gemilang anies baswedan menja...</td>\n",
       "      <td>😠</td>\n",
       "    </tr>\n",
       "    <tr>\n",
       "      <th>10</th>\n",
       "      <td>rumah gundul mu nol persen</td>\n",
       "      <td>😠</td>\n",
       "    </tr>\n",
       "    <tr>\n",
       "      <th>11</th>\n",
       "      <td>yg ga kebayang presiden kau golongan kau maen ...</td>\n",
       "      <td>😠</td>\n",
       "    </tr>\n",
       "    <tr>\n",
       "      <th>12</th>\n",
       "      <td>mimpi asli nyata</td>\n",
       "      <td>😠</td>\n",
       "    </tr>\n",
       "    <tr>\n",
       "      <th>13</th>\n",
       "      <td>tembak mati maling mahoni monas nies pecahin k...</td>\n",
       "      <td>✓ 😠</td>\n",
       "    </tr>\n",
       "    <tr>\n",
       "      <th>14</th>\n",
       "      <td>knp gw jd pengen beol</td>\n",
       "      <td>😠</td>\n",
       "    </tr>\n",
       "    <tr>\n",
       "      <th>15</th>\n",
       "      <td>didu otaknya kebalik teriak oligarki pengusung...</td>\n",
       "      <td>😠</td>\n",
       "    </tr>\n",
       "    <tr>\n",
       "      <th>16</th>\n",
       "      <td>gue loe sapi dikorupsi bacot doang</td>\n",
       "      <td>😁😁😁 😠</td>\n",
       "    </tr>\n",
       "    <tr>\n",
       "      <th>17</th>\n",
       "      <td>akun gak tolol gini buzzer nyebar fitnah lanca...</td>\n",
       "      <td>😠</td>\n",
       "    </tr>\n",
       "    <tr>\n",
       "      <th>18</th>\n",
       "      <td>memng bgtu kelas ujungnya km pki munafik kafir...</td>\n",
       "      <td>😠</td>\n",
       "    </tr>\n",
       "    <tr>\n",
       "      <th>19</th>\n",
       "      <td>mantap pokoknya anies maju abaikan rametuk2 yg...</td>\n",
       "      <td>😅  😠</td>\n",
       "    </tr>\n",
       "    <tr>\n",
       "      <th>20</th>\n",
       "      <td>level anies cm dkt dgn pensiunan mayor level p...</td>\n",
       "      <td>😂🤣 😠</td>\n",
       "    </tr>\n",
       "  </tbody>\n",
       "</table>\n",
       "</div>"
      ],
      "text/plain": [
       "                                                 Text  \\\n",
       "0   prettttt gagasan mulu yg dibahas zonk eksekusi...   \n",
       "1   pemborosan bangunan tingkat kampung sebentar b...   \n",
       "2   alhamdulillah puji bagimu allah barakallah bpk...   \n",
       "3   dear kebanyakan ngedabol pergi kalimantan meng...   \n",
       "4   pemimpin dosen yg pindah ruang kelebihan keleb...   \n",
       "5   koalisi perubahan solid anies baswedan perjalanan   \n",
       "6   satu2nya manusia yg gak malu otak membela vaks...   \n",
       "7   bangun kebutuhan wc warga dki kau kau ngembat ...   \n",
       "8   pujapuji nasdem calonkan suaranya iya perubaha...   \n",
       "9   deretan prestasi gemilang anies baswedan menja...   \n",
       "10                         rumah gundul mu nol persen   \n",
       "11  yg ga kebayang presiden kau golongan kau maen ...   \n",
       "12                                   mimpi asli nyata   \n",
       "13  tembak mati maling mahoni monas nies pecahin k...   \n",
       "14                              knp gw jd pengen beol   \n",
       "15  didu otaknya kebalik teriak oligarki pengusung...   \n",
       "16                 gue loe sapi dikorupsi bacot doang   \n",
       "17  akun gak tolol gini buzzer nyebar fitnah lanca...   \n",
       "18  memng bgtu kelas ujungnya km pki munafik kafir...   \n",
       "19  mantap pokoknya anies maju abaikan rametuk2 yg...   \n",
       "20  level anies cm dkt dgn pensiunan mayor level p...   \n",
       "\n",
       "                          emoji  \n",
       "0                             😠  \n",
       "1                             😠  \n",
       "2                             😠  \n",
       "3                           👇 😠  \n",
       "4                             😠  \n",
       "5                             😠  \n",
       "6               😂😂😂😂          😠  \n",
       "7                             😠  \n",
       "8                  🤭🤭     🤣🤣🤣 😠  \n",
       "9                             😠  \n",
       "10                            😠  \n",
       "11                            😠  \n",
       "12                            😠  \n",
       "13                          ✓ 😠  \n",
       "14                            😠  \n",
       "15                            😠  \n",
       "16                        😁😁😁 😠  \n",
       "17                            😠  \n",
       "18                            😠  \n",
       "19                         😅  😠  \n",
       "20                         😂🤣 😠  "
      ]
     },
     "execution_count": 145,
     "metadata": {},
     "output_type": "execute_result"
    }
   ],
   "source": [
    "df_anies.head(21)"
   ]
  },
  {
   "cell_type": "code",
   "execution_count": null,
   "metadata": {},
   "outputs": [],
   "source": [
    "# df_anies['text_emoji'] = df_anies['Text'] + df_anies['emoji']"
   ]
  },
  {
   "cell_type": "code",
   "execution_count": null,
   "metadata": {},
   "outputs": [],
   "source": [
    "# df_anies['text_emoji'] = df_anies['text_emoji'].apply(remove_newLines)"
   ]
  },
  {
   "attachments": {},
   "cell_type": "markdown",
   "metadata": {},
   "source": [
    "<h3>Datasets Puan</h3>"
   ]
  },
  {
   "cell_type": "code",
   "execution_count": 146,
   "metadata": {},
   "outputs": [],
   "source": [
    "df_puan['emoji'] = df_puan['Text'].apply(lambda x: re.findall(r'\\W', x))"
   ]
  },
  {
   "cell_type": "code",
   "execution_count": 147,
   "metadata": {},
   "outputs": [],
   "source": [
    "df_puan['Text'] = df_puan['Text'].apply(lambda x: re.sub(r'\\W+', ' ', x))"
   ]
  },
  {
   "cell_type": "code",
   "execution_count": 148,
   "metadata": {},
   "outputs": [],
   "source": [
    "df_puan['Text'] = df_puan['Text'].apply(remove_newLines)"
   ]
  },
  {
   "cell_type": "code",
   "execution_count": 149,
   "metadata": {},
   "outputs": [
    {
     "data": {
      "text/html": [
       "<div>\n",
       "<style scoped>\n",
       "    .dataframe tbody tr th:only-of-type {\n",
       "        vertical-align: middle;\n",
       "    }\n",
       "\n",
       "    .dataframe tbody tr th {\n",
       "        vertical-align: top;\n",
       "    }\n",
       "\n",
       "    .dataframe thead th {\n",
       "        text-align: right;\n",
       "    }\n",
       "</style>\n",
       "<table border=\"1\" class=\"dataframe\">\n",
       "  <thead>\n",
       "    <tr style=\"text-align: right;\">\n",
       "      <th></th>\n",
       "      <th>Text</th>\n",
       "      <th>emoji</th>\n",
       "    </tr>\n",
       "  </thead>\n",
       "  <tbody>\n",
       "    <tr>\n",
       "      <th>0</th>\n",
       "      <td>kemarin yg lempar lempar kaos masem mukanya le...</td>\n",
       "      <td>[ ,  ,  ,  ,  ,  ,  ,  ,  ,  ,  ,  , 💯]</td>\n",
       "    </tr>\n",
       "    <tr>\n",
       "      <th>1</th>\n",
       "      <td>ga perduli penjelasanmuuuu puan kau orangnya k...</td>\n",
       "      <td>[ ,  ,  ,  ,  ,  ,  ,  ,  ,  ,  ,  ,  ,  ,  , ...</td>\n",
       "    </tr>\n",
       "    <tr>\n",
       "      <th>2</th>\n",
       "      <td>ciri ciri barang g laku diobral</td>\n",
       "      <td>[ ,  ,  ,  ,  ,  , 💯]</td>\n",
       "    </tr>\n",
       "    <tr>\n",
       "      <th>3</th>\n",
       "      <td>sadar</td>\n",
       "      <td>[ , 🤭,  , 💯]</td>\n",
       "    </tr>\n",
       "    <tr>\n",
       "      <th>4</th>\n",
       "      <td>gak dibrief</td>\n",
       "      <td>[ ,  , 💯]</td>\n",
       "    </tr>\n",
       "    <tr>\n",
       "      <th>5</th>\n",
       "      <td>presiden pdip</td>\n",
       "      <td>[ ,  , 🤣, 🤣,  , 💯]</td>\n",
       "    </tr>\n",
       "    <tr>\n",
       "      <th>6</th>\n",
       "      <td>sygmya tdk negara</td>\n",
       "      <td>[ ,  ,  , 🤣, 🤣, 🤣,  , 💯]</td>\n",
       "    </tr>\n",
       "    <tr>\n",
       "      <th>7</th>\n",
       "      <td>budak juragannya benginilah potret negeri</td>\n",
       "      <td>[ ,  ,  ,  ,  , 💯]</td>\n",
       "    </tr>\n",
       "    <tr>\n",
       "      <th>8</th>\n",
       "      <td></td>\n",
       "      <td>[😁,  , 💯]</td>\n",
       "    </tr>\n",
       "    <tr>\n",
       "      <th>9</th>\n",
       "      <td>jelang pilpres</td>\n",
       "      <td>[ ,  , 🤣,  , 💯]</td>\n",
       "    </tr>\n",
       "    <tr>\n",
       "      <th>10</th>\n",
       "      <td>kemiskinan pertahankan loh tan</td>\n",
       "      <td>[ ,  ,  ,  , 🤪,  , 💯]</td>\n",
       "    </tr>\n",
       "    <tr>\n",
       "      <th>11</th>\n",
       "      <td>moďel begian ambisi pemimpin negara yg pilih ...</td>\n",
       "      <td>[ ,  ,  ,  ,  ,  ,  ,  ,  ,  ,  ,  ,  ,  ,  , 💯]</td>\n",
       "    </tr>\n",
       "    <tr>\n",
       "      <th>12</th>\n",
       "      <td>berkualitas den bokep</td>\n",
       "      <td>[ ,  ,  , 🤪,  , 💯]</td>\n",
       "    </tr>\n",
       "    <tr>\n",
       "      <th>13</th>\n",
       "      <td>uud fakir miskin anak terlantar dipelihara neg...</td>\n",
       "      <td>[ ,  ,  ,  ,  ,  ,  ,  ,  ,  ,  , 🤣,  , 💯]</td>\n",
       "    </tr>\n",
       "    <tr>\n",
       "      <th>14</th>\n",
       "      <td>kemiskinan barang dagangan</td>\n",
       "      <td>[ ,  ,  , 😁,  , 💯]</td>\n",
       "    </tr>\n",
       "    <tr>\n",
       "      <th>15</th>\n",
       "      <td>pdip menolak cak imin wapres puan maharani</td>\n",
       "      <td>[ ,  ,  ,  ,  ,  ,  , 💯]</td>\n",
       "    </tr>\n",
       "    <tr>\n",
       "      <th>16</th>\n",
       "      <td>indonesia kaya raya masyarakatnya sejahtera pe...</td>\n",
       "      <td>[ ,  ,  ,  ,  ,  ,  ,  , 💯]</td>\n",
       "    </tr>\n",
       "    <tr>\n",
       "      <th>17</th>\n",
       "      <td>morning dik kak</td>\n",
       "      <td>[ ,  ,  , 💯]</td>\n",
       "    </tr>\n",
       "    <tr>\n",
       "      <th>18</th>\n",
       "      <td>elektabilitas vs genealogy kuat</td>\n",
       "      <td>[ ,  ,  ,  , 💯]</td>\n",
       "    </tr>\n",
       "    <tr>\n",
       "      <th>19</th>\n",
       "      <td>calon2 yg jd capres berdasarkan abjad smg maju...</td>\n",
       "      <td>[ ,  ,  ,  ,  ,  ,  ,  ,  ,  ,  ,  ,  ,  ,  , ...</td>\n",
       "    </tr>\n",
       "    <tr>\n",
       "      <th>20</th>\n",
       "      <td>mencret</td>\n",
       "      <td>[ , 💯]</td>\n",
       "    </tr>\n",
       "  </tbody>\n",
       "</table>\n",
       "</div>"
      ],
      "text/plain": [
       "                                                 Text  \\\n",
       "0   kemarin yg lempar lempar kaos masem mukanya le...   \n",
       "1   ga perduli penjelasanmuuuu puan kau orangnya k...   \n",
       "2                     ciri ciri barang g laku diobral   \n",
       "3                                               sadar   \n",
       "4                                         gak dibrief   \n",
       "5                                       presiden pdip   \n",
       "6                                   sygmya tdk negara   \n",
       "7           budak juragannya benginilah potret negeri   \n",
       "8                                                       \n",
       "9                                      jelang pilpres   \n",
       "10                     kemiskinan pertahankan loh tan   \n",
       "11  moďel begian ambisi pemimpin negara yg pilih ...   \n",
       "12                              berkualitas den bokep   \n",
       "13  uud fakir miskin anak terlantar dipelihara neg...   \n",
       "14                         kemiskinan barang dagangan   \n",
       "15         pdip menolak cak imin wapres puan maharani   \n",
       "16  indonesia kaya raya masyarakatnya sejahtera pe...   \n",
       "17                                    morning dik kak   \n",
       "18                    elektabilitas vs genealogy kuat   \n",
       "19  calon2 yg jd capres berdasarkan abjad smg maju...   \n",
       "20                                            mencret   \n",
       "\n",
       "                                                emoji  \n",
       "0             [ ,  ,  ,  ,  ,  ,  ,  ,  ,  ,  ,  , 💯]  \n",
       "1   [ ,  ,  ,  ,  ,  ,  ,  ,  ,  ,  ,  ,  ,  ,  , ...  \n",
       "2                               [ ,  ,  ,  ,  ,  , 💯]  \n",
       "3                                        [ , 🤭,  , 💯]  \n",
       "4                                           [ ,  , 💯]  \n",
       "5                                  [ ,  , 🤣, 🤣,  , 💯]  \n",
       "6                            [ ,  ,  , 🤣, 🤣, 🤣,  , 💯]  \n",
       "7                                  [ ,  ,  ,  ,  , 💯]  \n",
       "8                                           [😁,  , 💯]  \n",
       "9                                     [ ,  , 🤣,  , 💯]  \n",
       "10                              [ ,  ,  ,  , 🤪,  , 💯]  \n",
       "11   [ ,  ,  ,  ,  ,  ,  ,  ,  ,  ,  ,  ,  ,  ,  , 💯]  \n",
       "12                                 [ ,  ,  , 🤪,  , 💯]  \n",
       "13         [ ,  ,  ,  ,  ,  ,  ,  ,  ,  ,  , 🤣,  , 💯]  \n",
       "14                                 [ ,  ,  , 😁,  , 💯]  \n",
       "15                           [ ,  ,  ,  ,  ,  ,  , 💯]  \n",
       "16                        [ ,  ,  ,  ,  ,  ,  ,  , 💯]  \n",
       "17                                       [ ,  ,  , 💯]  \n",
       "18                                    [ ,  ,  ,  , 💯]  \n",
       "19  [ ,  ,  ,  ,  ,  ,  ,  ,  ,  ,  ,  ,  ,  ,  , ...  \n",
       "20                                             [ , 💯]  "
      ]
     },
     "execution_count": 149,
     "metadata": {},
     "output_type": "execute_result"
    }
   ],
   "source": [
    "df_puan.head(21)"
   ]
  },
  {
   "cell_type": "code",
   "execution_count": 150,
   "metadata": {},
   "outputs": [],
   "source": [
    "df_puan['emoji'] = df_puan['emoji'].apply(''.join)"
   ]
  },
  {
   "cell_type": "code",
   "execution_count": 151,
   "metadata": {},
   "outputs": [],
   "source": [
    "df_puan['emoji'] = df_puan['emoji'].astype(str)"
   ]
  },
  {
   "cell_type": "code",
   "execution_count": 152,
   "metadata": {},
   "outputs": [
    {
     "data": {
      "text/html": [
       "<div>\n",
       "<style scoped>\n",
       "    .dataframe tbody tr th:only-of-type {\n",
       "        vertical-align: middle;\n",
       "    }\n",
       "\n",
       "    .dataframe tbody tr th {\n",
       "        vertical-align: top;\n",
       "    }\n",
       "\n",
       "    .dataframe thead th {\n",
       "        text-align: right;\n",
       "    }\n",
       "</style>\n",
       "<table border=\"1\" class=\"dataframe\">\n",
       "  <thead>\n",
       "    <tr style=\"text-align: right;\">\n",
       "      <th></th>\n",
       "      <th>Text</th>\n",
       "      <th>emoji</th>\n",
       "    </tr>\n",
       "  </thead>\n",
       "  <tbody>\n",
       "    <tr>\n",
       "      <th>0</th>\n",
       "      <td>kemarin yg lempar lempar kaos masem mukanya le...</td>\n",
       "      <td>💯</td>\n",
       "    </tr>\n",
       "    <tr>\n",
       "      <th>1</th>\n",
       "      <td>ga perduli penjelasanmuuuu puan kau orangnya k...</td>\n",
       "      <td>💯</td>\n",
       "    </tr>\n",
       "    <tr>\n",
       "      <th>2</th>\n",
       "      <td>ciri ciri barang g laku diobral</td>\n",
       "      <td>💯</td>\n",
       "    </tr>\n",
       "    <tr>\n",
       "      <th>3</th>\n",
       "      <td>sadar</td>\n",
       "      <td>🤭 💯</td>\n",
       "    </tr>\n",
       "    <tr>\n",
       "      <th>4</th>\n",
       "      <td>gak dibrief</td>\n",
       "      <td>💯</td>\n",
       "    </tr>\n",
       "    <tr>\n",
       "      <th>5</th>\n",
       "      <td>presiden pdip</td>\n",
       "      <td>🤣🤣 💯</td>\n",
       "    </tr>\n",
       "    <tr>\n",
       "      <th>6</th>\n",
       "      <td>sygmya tdk negara</td>\n",
       "      <td>🤣🤣🤣 💯</td>\n",
       "    </tr>\n",
       "    <tr>\n",
       "      <th>7</th>\n",
       "      <td>budak juragannya benginilah potret negeri</td>\n",
       "      <td>💯</td>\n",
       "    </tr>\n",
       "    <tr>\n",
       "      <th>8</th>\n",
       "      <td></td>\n",
       "      <td>😁 💯</td>\n",
       "    </tr>\n",
       "    <tr>\n",
       "      <th>9</th>\n",
       "      <td>jelang pilpres</td>\n",
       "      <td>🤣 💯</td>\n",
       "    </tr>\n",
       "    <tr>\n",
       "      <th>10</th>\n",
       "      <td>kemiskinan pertahankan loh tan</td>\n",
       "      <td>🤪 💯</td>\n",
       "    </tr>\n",
       "    <tr>\n",
       "      <th>11</th>\n",
       "      <td>moďel begian ambisi pemimpin negara yg pilih ...</td>\n",
       "      <td>💯</td>\n",
       "    </tr>\n",
       "    <tr>\n",
       "      <th>12</th>\n",
       "      <td>berkualitas den bokep</td>\n",
       "      <td>🤪 💯</td>\n",
       "    </tr>\n",
       "    <tr>\n",
       "      <th>13</th>\n",
       "      <td>uud fakir miskin anak terlantar dipelihara neg...</td>\n",
       "      <td>🤣 💯</td>\n",
       "    </tr>\n",
       "    <tr>\n",
       "      <th>14</th>\n",
       "      <td>kemiskinan barang dagangan</td>\n",
       "      <td>😁 💯</td>\n",
       "    </tr>\n",
       "    <tr>\n",
       "      <th>15</th>\n",
       "      <td>pdip menolak cak imin wapres puan maharani</td>\n",
       "      <td>💯</td>\n",
       "    </tr>\n",
       "    <tr>\n",
       "      <th>16</th>\n",
       "      <td>indonesia kaya raya masyarakatnya sejahtera pe...</td>\n",
       "      <td>💯</td>\n",
       "    </tr>\n",
       "    <tr>\n",
       "      <th>17</th>\n",
       "      <td>morning dik kak</td>\n",
       "      <td>💯</td>\n",
       "    </tr>\n",
       "    <tr>\n",
       "      <th>18</th>\n",
       "      <td>elektabilitas vs genealogy kuat</td>\n",
       "      <td>💯</td>\n",
       "    </tr>\n",
       "    <tr>\n",
       "      <th>19</th>\n",
       "      <td>calon2 yg jd capres berdasarkan abjad smg maju...</td>\n",
       "      <td>💯</td>\n",
       "    </tr>\n",
       "    <tr>\n",
       "      <th>20</th>\n",
       "      <td>mencret</td>\n",
       "      <td>💯</td>\n",
       "    </tr>\n",
       "  </tbody>\n",
       "</table>\n",
       "</div>"
      ],
      "text/plain": [
       "                                                 Text                emoji\n",
       "0   kemarin yg lempar lempar kaos masem mukanya le...                    💯\n",
       "1   ga perduli penjelasanmuuuu puan kau orangnya k...                    💯\n",
       "2                     ciri ciri barang g laku diobral                    💯\n",
       "3                                               sadar                  🤭 💯\n",
       "4                                         gak dibrief                    💯\n",
       "5                                       presiden pdip                 🤣🤣 💯\n",
       "6                                   sygmya tdk negara                🤣🤣🤣 💯\n",
       "7           budak juragannya benginilah potret negeri                    💯\n",
       "8                                                                      😁 💯\n",
       "9                                      jelang pilpres                  🤣 💯\n",
       "10                     kemiskinan pertahankan loh tan                  🤪 💯\n",
       "11  moďel begian ambisi pemimpin negara yg pilih ...                    💯\n",
       "12                              berkualitas den bokep                  🤪 💯\n",
       "13  uud fakir miskin anak terlantar dipelihara neg...                  🤣 💯\n",
       "14                         kemiskinan barang dagangan                  😁 💯\n",
       "15         pdip menolak cak imin wapres puan maharani                    💯\n",
       "16  indonesia kaya raya masyarakatnya sejahtera pe...                    💯\n",
       "17                                    morning dik kak                    💯\n",
       "18                    elektabilitas vs genealogy kuat                    💯\n",
       "19  calon2 yg jd capres berdasarkan abjad smg maju...                    💯\n",
       "20                                            mencret                    💯"
      ]
     },
     "execution_count": 152,
     "metadata": {},
     "output_type": "execute_result"
    }
   ],
   "source": [
    "df_puan.head(21)"
   ]
  },
  {
   "cell_type": "code",
   "execution_count": null,
   "metadata": {},
   "outputs": [],
   "source": [
    "# df_puan['text_emoji'] = df_puan['Text'] + df_puan['emoji']"
   ]
  },
  {
   "cell_type": "code",
   "execution_count": null,
   "metadata": {},
   "outputs": [],
   "source": [
    "# df_puan['text_emoji'] = df_puan['text_emoji'].apply(remove_newLines)"
   ]
  },
  {
   "attachments": {},
   "cell_type": "markdown",
   "metadata": {},
   "source": [
    "<h3>Datasets Luhut</h3>"
   ]
  },
  {
   "cell_type": "code",
   "execution_count": 153,
   "metadata": {},
   "outputs": [],
   "source": [
    "df_luhut['emoji'] = df_luhut['Text'].apply(lambda x: re.findall(r'\\W', x))"
   ]
  },
  {
   "cell_type": "code",
   "execution_count": 154,
   "metadata": {},
   "outputs": [],
   "source": [
    "df_luhut['Text'] = df_luhut['Text'].apply(lambda x: re.sub(r'\\W+', ' ', x))"
   ]
  },
  {
   "cell_type": "code",
   "execution_count": 155,
   "metadata": {},
   "outputs": [],
   "source": [
    "df_luhut['Text'] = df_luhut['Text'].apply(remove_newLines)"
   ]
  },
  {
   "cell_type": "code",
   "execution_count": 156,
   "metadata": {},
   "outputs": [
    {
     "data": {
      "text/html": [
       "<div>\n",
       "<style scoped>\n",
       "    .dataframe tbody tr th:only-of-type {\n",
       "        vertical-align: middle;\n",
       "    }\n",
       "\n",
       "    .dataframe tbody tr th {\n",
       "        vertical-align: top;\n",
       "    }\n",
       "\n",
       "    .dataframe thead th {\n",
       "        text-align: right;\n",
       "    }\n",
       "</style>\n",
       "<table border=\"1\" class=\"dataframe\">\n",
       "  <thead>\n",
       "    <tr style=\"text-align: right;\">\n",
       "      <th></th>\n",
       "      <th>Text</th>\n",
       "      <th>emoji</th>\n",
       "    </tr>\n",
       "  </thead>\n",
       "  <tbody>\n",
       "    <tr>\n",
       "      <th>0</th>\n",
       "      <td>menko km opung luhut b panjaitan kendaraan lis...</td>\n",
       "      <td>[ ,  ,  ,  ,  ,  ,  ,  ,  ,  ,  ,  ,  ,  , 😨]</td>\n",
       "    </tr>\n",
       "    <tr>\n",
       "      <th>1</th>\n",
       "      <td>luhut binsar panjaitan lbp abdi pahlawan negar...</td>\n",
       "      <td>[ ,  ,  ,  ,  ,  ,  ,  ,  ,  ,  ,  , 😨]</td>\n",
       "    </tr>\n",
       "    <tr>\n",
       "      <th>2</th>\n",
       "      <td>yg kasih perintah luhut binsar panjaitan ketua...</td>\n",
       "      <td>[ ,  ,  ,  ,  ,  ,  ,  ,  ,  ,  ,  ,  ,  ,  , ...</td>\n",
       "    </tr>\n",
       "    <tr>\n",
       "      <th>3</th>\n",
       "      <td>melawan perintah luhut binsar panjaitan mendin...</td>\n",
       "      <td>[ ,  ,  ,  ,  ,  ,  ,  ,  ,  ,  ,  ,  ,  , 🤭, ...</td>\n",
       "    </tr>\n",
       "    <tr>\n",
       "      <th>4</th>\n",
       "      <td>hei luhut binsar panjaitan warga kau mengurus ...</td>\n",
       "      <td>[ ,  ,  ,  ,  ,  ,  ,  ,  ,  , 😨]</td>\n",
       "    </tr>\n",
       "    <tr>\n",
       "      <th>5</th>\n",
       "      <td>nyadar udah bohongin luhut binsar panjaitan sa...</td>\n",
       "      <td>[ ,  ,  ,  ,  ,  ,  ,  ,  ,  ,  ,  , 😨]</td>\n",
       "    </tr>\n",
       "    <tr>\n",
       "      <th>6</th>\n",
       "      <td>parah wakil presiden aja gak tau luhut binsar ...</td>\n",
       "      <td>[ ,  ,  ,  ,  ,  ,  ,  ,  , 😨]</td>\n",
       "    </tr>\n",
       "    <tr>\n",
       "      <th>7</th>\n",
       "      <td>gak sanggup salah urus nya luhut binsar panjai...</td>\n",
       "      <td>[ ,  ,  ,  ,  ,  ,  ,  ,  ,  ,  ,  ,  ,  , 😨]</td>\n",
       "    </tr>\n",
       "    <tr>\n",
       "      <th>8</th>\n",
       "      <td>info ngopi kawan ️</td>\n",
       "      <td>[ ,  ,  , 🤟, 🏻, ☕,  , 😨]</td>\n",
       "    </tr>\n",
       "    <tr>\n",
       "      <th>9</th>\n",
       "      <td>hahahaa opung luhut panjaitan tersinggung kak</td>\n",
       "      <td>[ ,  ,  ,  ,  ,  , 😨]</td>\n",
       "    </tr>\n",
       "    <tr>\n",
       "      <th>10</th>\n",
       "      <td>investor dipersulit luhut panjaitan bilang</td>\n",
       "      <td>[ ,  ,  ,  ,  , 😨]</td>\n",
       "    </tr>\n",
       "    <tr>\n",
       "      <th>11</th>\n",
       "      <td>gitu masyarakat kaga kritik terhormat luhut pa...</td>\n",
       "      <td>[ ,  ,  ,  ,  ,  ,  , 🙂,  , 😨]</td>\n",
       "    </tr>\n",
       "    <tr>\n",
       "      <th>12</th>\n",
       "      <td>evaluasi tuh anjing tua lu yg berusia 75 yg pr...</td>\n",
       "      <td>[ ,  ,  ,  ,  ,  ,  ,  ,  ,  ,  ,  ,  ,  ,  , ...</td>\n",
       "    </tr>\n",
       "    <tr>\n",
       "      <th>13</th>\n",
       "      <td>luhut binsar panjaitan lbp</td>\n",
       "      <td>[ ,  ,  ,  , 😨]</td>\n",
       "    </tr>\n",
       "    <tr>\n",
       "      <th>14</th>\n",
       "      <td>salah upaya bersaing global mempromosikan pari...</td>\n",
       "      <td>[ ,  ,  ,  ,  ,  ,  ,  ,  ,  ,  ,  ,  ,  ,  , ...</td>\n",
       "    </tr>\n",
       "    <tr>\n",
       "      <th>15</th>\n",
       "      <td>thread dihadiri luhut binsar panjaitan rakerna...</td>\n",
       "      <td>[ ,  ,  ,  ,  ,  ,  ,  ,  ,  ,  ,  , 😨]</td>\n",
       "    </tr>\n",
       "    <tr>\n",
       "      <th>16</th>\n",
       "      <td>dihadiri luhut binsar panjaitan rakernas knpi ...</td>\n",
       "      <td>[ ,  ,  ,  ,  ,  ,  ,  ,  ,  ,  , 😨]</td>\n",
       "    </tr>\n",
       "    <tr>\n",
       "      <th>17</th>\n",
       "      <td>dihadiri luhut binsar panjaitan rakernas knpi ...</td>\n",
       "      <td>[ ,  ,  ,  ,  ,  ,  ,  ,  ,  ,  , 😨]</td>\n",
       "    </tr>\n",
       "    <tr>\n",
       "      <th>18</th>\n",
       "      <td>memperkaya luhut binsar panjaitan beserta tema...</td>\n",
       "      <td>[ ,  ,  ,  ,  ,  , 😨]</td>\n",
       "    </tr>\n",
       "    <tr>\n",
       "      <th>19</th>\n",
       "      <td>mas joss nama nya panjaitan saudaraan opung luhut</td>\n",
       "      <td>[ ,  ,  ,  ,  ,  ,  ,  , 🤣, 🤣, 🤣, 🤣,  , 😨]</td>\n",
       "    </tr>\n",
       "    <tr>\n",
       "      <th>20</th>\n",
       "      <td>tarohan swceng yuk si tua bangsat luhut bangsa...</td>\n",
       "      <td>[ ,  ,  ,  ,  ,  ,  ,  ,  , 🤣, 😂, 🤣, 😂,  , 😨]</td>\n",
       "    </tr>\n",
       "  </tbody>\n",
       "</table>\n",
       "</div>"
      ],
      "text/plain": [
       "                                                 Text  \\\n",
       "0   menko km opung luhut b panjaitan kendaraan lis...   \n",
       "1   luhut binsar panjaitan lbp abdi pahlawan negar...   \n",
       "2   yg kasih perintah luhut binsar panjaitan ketua...   \n",
       "3   melawan perintah luhut binsar panjaitan mendin...   \n",
       "4   hei luhut binsar panjaitan warga kau mengurus ...   \n",
       "5   nyadar udah bohongin luhut binsar panjaitan sa...   \n",
       "6   parah wakil presiden aja gak tau luhut binsar ...   \n",
       "7   gak sanggup salah urus nya luhut binsar panjai...   \n",
       "8                                  info ngopi kawan ️   \n",
       "9       hahahaa opung luhut panjaitan tersinggung kak   \n",
       "10         investor dipersulit luhut panjaitan bilang   \n",
       "11  gitu masyarakat kaga kritik terhormat luhut pa...   \n",
       "12  evaluasi tuh anjing tua lu yg berusia 75 yg pr...   \n",
       "13                         luhut binsar panjaitan lbp   \n",
       "14  salah upaya bersaing global mempromosikan pari...   \n",
       "15  thread dihadiri luhut binsar panjaitan rakerna...   \n",
       "16  dihadiri luhut binsar panjaitan rakernas knpi ...   \n",
       "17  dihadiri luhut binsar panjaitan rakernas knpi ...   \n",
       "18  memperkaya luhut binsar panjaitan beserta tema...   \n",
       "19  mas joss nama nya panjaitan saudaraan opung luhut   \n",
       "20  tarohan swceng yuk si tua bangsat luhut bangsa...   \n",
       "\n",
       "                                                emoji  \n",
       "0       [ ,  ,  ,  ,  ,  ,  ,  ,  ,  ,  ,  ,  ,  , 😨]  \n",
       "1             [ ,  ,  ,  ,  ,  ,  ,  ,  ,  ,  ,  , 😨]  \n",
       "2   [ ,  ,  ,  ,  ,  ,  ,  ,  ,  ,  ,  ,  ,  ,  , ...  \n",
       "3   [ ,  ,  ,  ,  ,  ,  ,  ,  ,  ,  ,  ,  ,  , 🤭, ...  \n",
       "4                   [ ,  ,  ,  ,  ,  ,  ,  ,  ,  , 😨]  \n",
       "5             [ ,  ,  ,  ,  ,  ,  ,  ,  ,  ,  ,  , 😨]  \n",
       "6                      [ ,  ,  ,  ,  ,  ,  ,  ,  , 😨]  \n",
       "7       [ ,  ,  ,  ,  ,  ,  ,  ,  ,  ,  ,  ,  ,  , 😨]  \n",
       "8                            [ ,  ,  , 🤟, 🏻, ☕,  , 😨]  \n",
       "9                               [ ,  ,  ,  ,  ,  , 😨]  \n",
       "10                                 [ ,  ,  ,  ,  , 😨]  \n",
       "11                     [ ,  ,  ,  ,  ,  ,  , 🙂,  , 😨]  \n",
       "12  [ ,  ,  ,  ,  ,  ,  ,  ,  ,  ,  ,  ,  ,  ,  , ...  \n",
       "13                                    [ ,  ,  ,  , 😨]  \n",
       "14  [ ,  ,  ,  ,  ,  ,  ,  ,  ,  ,  ,  ,  ,  ,  , ...  \n",
       "15            [ ,  ,  ,  ,  ,  ,  ,  ,  ,  ,  ,  , 😨]  \n",
       "16               [ ,  ,  ,  ,  ,  ,  ,  ,  ,  ,  , 😨]  \n",
       "17               [ ,  ,  ,  ,  ,  ,  ,  ,  ,  ,  , 😨]  \n",
       "18                              [ ,  ,  ,  ,  ,  , 😨]  \n",
       "19         [ ,  ,  ,  ,  ,  ,  ,  , 🤣, 🤣, 🤣, 🤣,  , 😨]  \n",
       "20      [ ,  ,  ,  ,  ,  ,  ,  ,  , 🤣, 😂, 🤣, 😂,  , 😨]  "
      ]
     },
     "execution_count": 156,
     "metadata": {},
     "output_type": "execute_result"
    }
   ],
   "source": [
    "df_luhut.head(21)"
   ]
  },
  {
   "cell_type": "code",
   "execution_count": 157,
   "metadata": {},
   "outputs": [],
   "source": [
    "df_luhut['emoji'] = df_luhut['emoji'].apply(''.join)"
   ]
  },
  {
   "cell_type": "code",
   "execution_count": 158,
   "metadata": {},
   "outputs": [],
   "source": [
    "df_luhut['emoji'] = df_luhut['emoji'].astype(str)"
   ]
  },
  {
   "cell_type": "code",
   "execution_count": 159,
   "metadata": {},
   "outputs": [
    {
     "data": {
      "text/html": [
       "<div>\n",
       "<style scoped>\n",
       "    .dataframe tbody tr th:only-of-type {\n",
       "        vertical-align: middle;\n",
       "    }\n",
       "\n",
       "    .dataframe tbody tr th {\n",
       "        vertical-align: top;\n",
       "    }\n",
       "\n",
       "    .dataframe thead th {\n",
       "        text-align: right;\n",
       "    }\n",
       "</style>\n",
       "<table border=\"1\" class=\"dataframe\">\n",
       "  <thead>\n",
       "    <tr style=\"text-align: right;\">\n",
       "      <th></th>\n",
       "      <th>Text</th>\n",
       "      <th>emoji</th>\n",
       "    </tr>\n",
       "  </thead>\n",
       "  <tbody>\n",
       "    <tr>\n",
       "      <th>0</th>\n",
       "      <td>menko km opung luhut b panjaitan kendaraan lis...</td>\n",
       "      <td>😨</td>\n",
       "    </tr>\n",
       "    <tr>\n",
       "      <th>1</th>\n",
       "      <td>luhut binsar panjaitan lbp abdi pahlawan negar...</td>\n",
       "      <td>😨</td>\n",
       "    </tr>\n",
       "    <tr>\n",
       "      <th>2</th>\n",
       "      <td>yg kasih perintah luhut binsar panjaitan ketua...</td>\n",
       "      <td>😨</td>\n",
       "    </tr>\n",
       "    <tr>\n",
       "      <th>3</th>\n",
       "      <td>melawan perintah luhut binsar panjaitan mendin...</td>\n",
       "      <td>🤭 😨</td>\n",
       "    </tr>\n",
       "    <tr>\n",
       "      <th>4</th>\n",
       "      <td>hei luhut binsar panjaitan warga kau mengurus ...</td>\n",
       "      <td>😨</td>\n",
       "    </tr>\n",
       "    <tr>\n",
       "      <th>5</th>\n",
       "      <td>nyadar udah bohongin luhut binsar panjaitan sa...</td>\n",
       "      <td>😨</td>\n",
       "    </tr>\n",
       "    <tr>\n",
       "      <th>6</th>\n",
       "      <td>parah wakil presiden aja gak tau luhut binsar ...</td>\n",
       "      <td>😨</td>\n",
       "    </tr>\n",
       "    <tr>\n",
       "      <th>7</th>\n",
       "      <td>gak sanggup salah urus nya luhut binsar panjai...</td>\n",
       "      <td>😨</td>\n",
       "    </tr>\n",
       "    <tr>\n",
       "      <th>8</th>\n",
       "      <td>info ngopi kawan ️</td>\n",
       "      <td>🤟🏻☕ 😨</td>\n",
       "    </tr>\n",
       "    <tr>\n",
       "      <th>9</th>\n",
       "      <td>hahahaa opung luhut panjaitan tersinggung kak</td>\n",
       "      <td>😨</td>\n",
       "    </tr>\n",
       "    <tr>\n",
       "      <th>10</th>\n",
       "      <td>investor dipersulit luhut panjaitan bilang</td>\n",
       "      <td>😨</td>\n",
       "    </tr>\n",
       "    <tr>\n",
       "      <th>11</th>\n",
       "      <td>gitu masyarakat kaga kritik terhormat luhut pa...</td>\n",
       "      <td>🙂 😨</td>\n",
       "    </tr>\n",
       "    <tr>\n",
       "      <th>12</th>\n",
       "      <td>evaluasi tuh anjing tua lu yg berusia 75 yg pr...</td>\n",
       "      <td>🐶🐕 😨</td>\n",
       "    </tr>\n",
       "    <tr>\n",
       "      <th>13</th>\n",
       "      <td>luhut binsar panjaitan lbp</td>\n",
       "      <td>😨</td>\n",
       "    </tr>\n",
       "    <tr>\n",
       "      <th>14</th>\n",
       "      <td>salah upaya bersaing global mempromosikan pari...</td>\n",
       "      <td>😨</td>\n",
       "    </tr>\n",
       "    <tr>\n",
       "      <th>15</th>\n",
       "      <td>thread dihadiri luhut binsar panjaitan rakerna...</td>\n",
       "      <td>😨</td>\n",
       "    </tr>\n",
       "    <tr>\n",
       "      <th>16</th>\n",
       "      <td>dihadiri luhut binsar panjaitan rakernas knpi ...</td>\n",
       "      <td>😨</td>\n",
       "    </tr>\n",
       "    <tr>\n",
       "      <th>17</th>\n",
       "      <td>dihadiri luhut binsar panjaitan rakernas knpi ...</td>\n",
       "      <td>😨</td>\n",
       "    </tr>\n",
       "    <tr>\n",
       "      <th>18</th>\n",
       "      <td>memperkaya luhut binsar panjaitan beserta tema...</td>\n",
       "      <td>😨</td>\n",
       "    </tr>\n",
       "    <tr>\n",
       "      <th>19</th>\n",
       "      <td>mas joss nama nya panjaitan saudaraan opung luhut</td>\n",
       "      <td>🤣🤣🤣🤣 😨</td>\n",
       "    </tr>\n",
       "    <tr>\n",
       "      <th>20</th>\n",
       "      <td>tarohan swceng yuk si tua bangsat luhut bangsa...</td>\n",
       "      <td>🤣😂🤣😂 😨</td>\n",
       "    </tr>\n",
       "  </tbody>\n",
       "</table>\n",
       "</div>"
      ],
      "text/plain": [
       "                                                 Text  \\\n",
       "0   menko km opung luhut b panjaitan kendaraan lis...   \n",
       "1   luhut binsar panjaitan lbp abdi pahlawan negar...   \n",
       "2   yg kasih perintah luhut binsar panjaitan ketua...   \n",
       "3   melawan perintah luhut binsar panjaitan mendin...   \n",
       "4   hei luhut binsar panjaitan warga kau mengurus ...   \n",
       "5   nyadar udah bohongin luhut binsar panjaitan sa...   \n",
       "6   parah wakil presiden aja gak tau luhut binsar ...   \n",
       "7   gak sanggup salah urus nya luhut binsar panjai...   \n",
       "8                                  info ngopi kawan ️   \n",
       "9       hahahaa opung luhut panjaitan tersinggung kak   \n",
       "10         investor dipersulit luhut panjaitan bilang   \n",
       "11  gitu masyarakat kaga kritik terhormat luhut pa...   \n",
       "12  evaluasi tuh anjing tua lu yg berusia 75 yg pr...   \n",
       "13                         luhut binsar panjaitan lbp   \n",
       "14  salah upaya bersaing global mempromosikan pari...   \n",
       "15  thread dihadiri luhut binsar panjaitan rakerna...   \n",
       "16  dihadiri luhut binsar panjaitan rakernas knpi ...   \n",
       "17  dihadiri luhut binsar panjaitan rakernas knpi ...   \n",
       "18  memperkaya luhut binsar panjaitan beserta tema...   \n",
       "19  mas joss nama nya panjaitan saudaraan opung luhut   \n",
       "20  tarohan swceng yuk si tua bangsat luhut bangsa...   \n",
       "\n",
       "                            emoji  \n",
       "0                               😨  \n",
       "1                               😨  \n",
       "2                               😨  \n",
       "3                             🤭 😨  \n",
       "4                               😨  \n",
       "5                               😨  \n",
       "6                               😨  \n",
       "7                               😨  \n",
       "8                           🤟🏻☕ 😨  \n",
       "9                               😨  \n",
       "10                              😨  \n",
       "11                            🙂 😨  \n",
       "12                           🐶🐕 😨  \n",
       "13                              😨  \n",
       "14                              😨  \n",
       "15                              😨  \n",
       "16                              😨  \n",
       "17                              😨  \n",
       "18                              😨  \n",
       "19                         🤣🤣🤣🤣 😨  \n",
       "20                         🤣😂🤣😂 😨  "
      ]
     },
     "execution_count": 159,
     "metadata": {},
     "output_type": "execute_result"
    }
   ],
   "source": [
    "df_luhut.head(21)"
   ]
  },
  {
   "cell_type": "code",
   "execution_count": null,
   "metadata": {},
   "outputs": [],
   "source": [
    "# df_luhut['text_emoji'] = df_luhut['Text'] + df_luhut['emoji']"
   ]
  },
  {
   "cell_type": "code",
   "execution_count": null,
   "metadata": {},
   "outputs": [],
   "source": [
    "# df_luhut['text_emoji'] = df_luhut['text_emoji'].apply(remove_newLines)"
   ]
  },
  {
   "attachments": {},
   "cell_type": "markdown",
   "metadata": {},
   "source": [
    "<h3>Datasets Ganjar</h3>"
   ]
  },
  {
   "cell_type": "code",
   "execution_count": 160,
   "metadata": {},
   "outputs": [],
   "source": [
    "df_ganjar['emoji'] = df_ganjar['Text'].apply(lambda x: re.findall(r'\\W', x))"
   ]
  },
  {
   "cell_type": "code",
   "execution_count": 161,
   "metadata": {},
   "outputs": [],
   "source": [
    "df_ganjar['Text'] = df_ganjar['Text'].apply(lambda x: re.sub(r'\\W+', ' ', x))"
   ]
  },
  {
   "cell_type": "code",
   "execution_count": 162,
   "metadata": {},
   "outputs": [],
   "source": [
    "df_ganjar['Text'] = df_ganjar['Text'].apply(remove_newLines)"
   ]
  },
  {
   "cell_type": "code",
   "execution_count": 163,
   "metadata": {},
   "outputs": [
    {
     "data": {
      "text/html": [
       "<div>\n",
       "<style scoped>\n",
       "    .dataframe tbody tr th:only-of-type {\n",
       "        vertical-align: middle;\n",
       "    }\n",
       "\n",
       "    .dataframe tbody tr th {\n",
       "        vertical-align: top;\n",
       "    }\n",
       "\n",
       "    .dataframe thead th {\n",
       "        text-align: right;\n",
       "    }\n",
       "</style>\n",
       "<table border=\"1\" class=\"dataframe\">\n",
       "  <thead>\n",
       "    <tr style=\"text-align: right;\">\n",
       "      <th></th>\n",
       "      <th>Text</th>\n",
       "      <th>emoji</th>\n",
       "    </tr>\n",
       "  </thead>\n",
       "  <tbody>\n",
       "    <tr>\n",
       "      <th>0</th>\n",
       "      <td>murni konstitusi yg ditegakkan yg pd uud 45 al...</td>\n",
       "      <td>[ ,  ,  ,  ,  ,  ,  ,  ,  ,  ,  ,  ,  ,  ,  , ...</td>\n",
       "    </tr>\n",
       "    <tr>\n",
       "      <th>1</th>\n",
       "      <td>kantongnya bu mega paham jateng mengelu elukan...</td>\n",
       "      <td>[ ,  ,  ,  ,  ,  ,  ,  ,  ,  ,  ,  ,  ,  ,  , 😭]</td>\n",
       "    </tr>\n",
       "    <tr>\n",
       "      <th>2</th>\n",
       "      <td>haha suka</td>\n",
       "      <td>[ ,  , 😭]</td>\n",
       "    </tr>\n",
       "    <tr>\n",
       "      <th>3</th>\n",
       "      <td>setuju arahan jokowi ganjar pranowo larang pej...</td>\n",
       "      <td>[ ,  ,  ,  ,  ,  ,  ,  ,  ,  , 😭]</td>\n",
       "    </tr>\n",
       "    <tr>\n",
       "      <th>4</th>\n",
       "      <td>sd q 1968 kadang pake sepatu kadang sandal jep...</td>\n",
       "      <td>[ ,  ,  ,  ,  ,  ,  ,  ,  ,  ,  ,  ,  ,  ,  , ...</td>\n",
       "    </tr>\n",
       "    <tr>\n",
       "      <th>5</th>\n",
       "      <td>masak ganjar ndak ngerti fifa disembung karo p...</td>\n",
       "      <td>[ ,  ,  ,  ,  ,  ,  ,  , 😭]</td>\n",
       "    </tr>\n",
       "    <tr>\n",
       "      <th>6</th>\n",
       "      <td>hahahaha droen</td>\n",
       "      <td>[ ,  , 😅,  , 😅,  , 😭]</td>\n",
       "    </tr>\n",
       "    <tr>\n",
       "      <th>7</th>\n",
       "      <td></td>\n",
       "      <td>[😭]</td>\n",
       "    </tr>\n",
       "    <tr>\n",
       "      <th>8</th>\n",
       "      <td>gass</td>\n",
       "      <td>[ , 😭]</td>\n",
       "    </tr>\n",
       "    <tr>\n",
       "      <th>9</th>\n",
       "      <td>jd mas gak ngerti pecinta sepakbola yg ori bong</td>\n",
       "      <td>[ ,  ,  ,  ,  ,  ,  ,  ,  , 😭]</td>\n",
       "    </tr>\n",
       "    <tr>\n",
       "      <th>10</th>\n",
       "      <td>wow and here i was thinking that he was a logi...</td>\n",
       "      <td>[ ,  ,  ,  ,  ,  ,  ,  ,  ,  ,  ,  ,  ,  ,  , ...</td>\n",
       "    </tr>\n",
       "    <tr>\n",
       "      <th>11</th>\n",
       "      <td>tinggal menunggu pd nasionalis kadrun maaf gan...</td>\n",
       "      <td>[ ,  ,  ,  ,  ,  ,  ,  ,  ,  ,  , 😭]</td>\n",
       "    </tr>\n",
       "    <tr>\n",
       "      <th>12</th>\n",
       "      <td>bedain politik olah raga duhhh</td>\n",
       "      <td>[ ,  ,  ,  ,  , 😭]</td>\n",
       "    </tr>\n",
       "    <tr>\n",
       "      <th>13</th>\n",
       "      <td></td>\n",
       "      <td>[👌,  , 😭]</td>\n",
       "    </tr>\n",
       "    <tr>\n",
       "      <th>14</th>\n",
       "      <td>kecewaa idolaku dah ikutan kadrun gebyah uyah ...</td>\n",
       "      <td>[ ,  ,  ,  ,  ,  ,  ,  ,  ,  , 😭]</td>\n",
       "    </tr>\n",
       "    <tr>\n",
       "      <th>15</th>\n",
       "      <td>setuju campur olahraga dgn politik pake bumbu ...</td>\n",
       "      <td>[ ,  ,  ,  ,  ,  ,  ,  , 😑, 😑, 😑,  , 👍]</td>\n",
       "    </tr>\n",
       "    <tr>\n",
       "      <th>16</th>\n",
       "      <td>kali ganjar keliru menanggapi polemik timnas i...</td>\n",
       "      <td>[ ,  ,  ,  ,  ,  ,  ,  ,  ,  ,  ,  ,  ,  ,  , ...</td>\n",
       "    </tr>\n",
       "    <tr>\n",
       "      <th>17</th>\n",
       "      <td>jateng 1 lokalan ngadrun</td>\n",
       "      <td>[ ,  ,  ,  , 👍]</td>\n",
       "    </tr>\n",
       "    <tr>\n",
       "      <th>18</th>\n",
       "      <td>bilang salah</td>\n",
       "      <td>[ ,  , 👍]</td>\n",
       "    </tr>\n",
       "    <tr>\n",
       "      <th>19</th>\n",
       "      <td>siip cc kadrun2 geblek</td>\n",
       "      <td>[ , 👍, 🏽, 👍, 🏽,  ,  ,  ,  , 👍]</td>\n",
       "    </tr>\n",
       "    <tr>\n",
       "      <th>20</th>\n",
       "      <td>pilih</td>\n",
       "      <td>[ , 👍]</td>\n",
       "    </tr>\n",
       "  </tbody>\n",
       "</table>\n",
       "</div>"
      ],
      "text/plain": [
       "                                                 Text  \\\n",
       "0   murni konstitusi yg ditegakkan yg pd uud 45 al...   \n",
       "1   kantongnya bu mega paham jateng mengelu elukan...   \n",
       "2                                           haha suka   \n",
       "3   setuju arahan jokowi ganjar pranowo larang pej...   \n",
       "4   sd q 1968 kadang pake sepatu kadang sandal jep...   \n",
       "5   masak ganjar ndak ngerti fifa disembung karo p...   \n",
       "6                                      hahahaha droen   \n",
       "7                                                       \n",
       "8                                                gass   \n",
       "9     jd mas gak ngerti pecinta sepakbola yg ori bong   \n",
       "10  wow and here i was thinking that he was a logi...   \n",
       "11  tinggal menunggu pd nasionalis kadrun maaf gan...   \n",
       "12                     bedain politik olah raga duhhh   \n",
       "13                                                      \n",
       "14  kecewaa idolaku dah ikutan kadrun gebyah uyah ...   \n",
       "15  setuju campur olahraga dgn politik pake bumbu ...   \n",
       "16  kali ganjar keliru menanggapi polemik timnas i...   \n",
       "17                           jateng 1 lokalan ngadrun   \n",
       "18                                       bilang salah   \n",
       "19                             siip cc kadrun2 geblek   \n",
       "20                                              pilih   \n",
       "\n",
       "                                                emoji  \n",
       "0   [ ,  ,  ,  ,  ,  ,  ,  ,  ,  ,  ,  ,  ,  ,  , ...  \n",
       "1    [ ,  ,  ,  ,  ,  ,  ,  ,  ,  ,  ,  ,  ,  ,  , 😭]  \n",
       "2                                           [ ,  , 😭]  \n",
       "3                   [ ,  ,  ,  ,  ,  ,  ,  ,  ,  , 😭]  \n",
       "4   [ ,  ,  ,  ,  ,  ,  ,  ,  ,  ,  ,  ,  ,  ,  , ...  \n",
       "5                         [ ,  ,  ,  ,  ,  ,  ,  , 😭]  \n",
       "6                               [ ,  , 😅,  , 😅,  , 😭]  \n",
       "7                                                 [😭]  \n",
       "8                                              [ , 😭]  \n",
       "9                      [ ,  ,  ,  ,  ,  ,  ,  ,  , 😭]  \n",
       "10  [ ,  ,  ,  ,  ,  ,  ,  ,  ,  ,  ,  ,  ,  ,  , ...  \n",
       "11               [ ,  ,  ,  ,  ,  ,  ,  ,  ,  ,  , 😭]  \n",
       "12                                 [ ,  ,  ,  ,  , 😭]  \n",
       "13                                          [👌,  , 😭]  \n",
       "14                  [ ,  ,  ,  ,  ,  ,  ,  ,  ,  , 😭]  \n",
       "15            [ ,  ,  ,  ,  ,  ,  ,  , 😑, 😑, 😑,  , 👍]  \n",
       "16  [ ,  ,  ,  ,  ,  ,  ,  ,  ,  ,  ,  ,  ,  ,  , ...  \n",
       "17                                    [ ,  ,  ,  , 👍]  \n",
       "18                                          [ ,  , 👍]  \n",
       "19                     [ , 👍, 🏽, 👍, 🏽,  ,  ,  ,  , 👍]  \n",
       "20                                             [ , 👍]  "
      ]
     },
     "execution_count": 163,
     "metadata": {},
     "output_type": "execute_result"
    }
   ],
   "source": [
    "df_ganjar.head(21)"
   ]
  },
  {
   "cell_type": "code",
   "execution_count": 164,
   "metadata": {},
   "outputs": [],
   "source": [
    "df_ganjar['emoji'] = df_ganjar['emoji'].apply(''.join)"
   ]
  },
  {
   "cell_type": "code",
   "execution_count": 165,
   "metadata": {},
   "outputs": [],
   "source": [
    "df_ganjar['emoji'] = df_ganjar['emoji'].astype(str)"
   ]
  },
  {
   "cell_type": "code",
   "execution_count": 166,
   "metadata": {},
   "outputs": [
    {
     "data": {
      "text/html": [
       "<div>\n",
       "<style scoped>\n",
       "    .dataframe tbody tr th:only-of-type {\n",
       "        vertical-align: middle;\n",
       "    }\n",
       "\n",
       "    .dataframe tbody tr th {\n",
       "        vertical-align: top;\n",
       "    }\n",
       "\n",
       "    .dataframe thead th {\n",
       "        text-align: right;\n",
       "    }\n",
       "</style>\n",
       "<table border=\"1\" class=\"dataframe\">\n",
       "  <thead>\n",
       "    <tr style=\"text-align: right;\">\n",
       "      <th></th>\n",
       "      <th>Text</th>\n",
       "      <th>emoji</th>\n",
       "    </tr>\n",
       "  </thead>\n",
       "  <tbody>\n",
       "    <tr>\n",
       "      <th>0</th>\n",
       "      <td>murni konstitusi yg ditegakkan yg pd uud 45 al...</td>\n",
       "      <td>😭</td>\n",
       "    </tr>\n",
       "    <tr>\n",
       "      <th>1</th>\n",
       "      <td>kantongnya bu mega paham jateng mengelu elukan...</td>\n",
       "      <td>😭</td>\n",
       "    </tr>\n",
       "    <tr>\n",
       "      <th>2</th>\n",
       "      <td>haha suka</td>\n",
       "      <td>😭</td>\n",
       "    </tr>\n",
       "    <tr>\n",
       "      <th>3</th>\n",
       "      <td>setuju arahan jokowi ganjar pranowo larang pej...</td>\n",
       "      <td>😭</td>\n",
       "    </tr>\n",
       "    <tr>\n",
       "      <th>4</th>\n",
       "      <td>sd q 1968 kadang pake sepatu kadang sandal jep...</td>\n",
       "      <td>😭</td>\n",
       "    </tr>\n",
       "    <tr>\n",
       "      <th>5</th>\n",
       "      <td>masak ganjar ndak ngerti fifa disembung karo p...</td>\n",
       "      <td>😭</td>\n",
       "    </tr>\n",
       "    <tr>\n",
       "      <th>6</th>\n",
       "      <td>hahahaha droen</td>\n",
       "      <td>😅 😅 😭</td>\n",
       "    </tr>\n",
       "    <tr>\n",
       "      <th>7</th>\n",
       "      <td></td>\n",
       "      <td>😭</td>\n",
       "    </tr>\n",
       "    <tr>\n",
       "      <th>8</th>\n",
       "      <td>gass</td>\n",
       "      <td>😭</td>\n",
       "    </tr>\n",
       "    <tr>\n",
       "      <th>9</th>\n",
       "      <td>jd mas gak ngerti pecinta sepakbola yg ori bong</td>\n",
       "      <td>😭</td>\n",
       "    </tr>\n",
       "    <tr>\n",
       "      <th>10</th>\n",
       "      <td>wow and here i was thinking that he was a logi...</td>\n",
       "      <td>😭</td>\n",
       "    </tr>\n",
       "    <tr>\n",
       "      <th>11</th>\n",
       "      <td>tinggal menunggu pd nasionalis kadrun maaf gan...</td>\n",
       "      <td>😭</td>\n",
       "    </tr>\n",
       "    <tr>\n",
       "      <th>12</th>\n",
       "      <td>bedain politik olah raga duhhh</td>\n",
       "      <td>😭</td>\n",
       "    </tr>\n",
       "    <tr>\n",
       "      <th>13</th>\n",
       "      <td></td>\n",
       "      <td>👌 😭</td>\n",
       "    </tr>\n",
       "    <tr>\n",
       "      <th>14</th>\n",
       "      <td>kecewaa idolaku dah ikutan kadrun gebyah uyah ...</td>\n",
       "      <td>😭</td>\n",
       "    </tr>\n",
       "    <tr>\n",
       "      <th>15</th>\n",
       "      <td>setuju campur olahraga dgn politik pake bumbu ...</td>\n",
       "      <td>😑😑😑 👍</td>\n",
       "    </tr>\n",
       "    <tr>\n",
       "      <th>16</th>\n",
       "      <td>kali ganjar keliru menanggapi polemik timnas i...</td>\n",
       "      <td>👍</td>\n",
       "    </tr>\n",
       "    <tr>\n",
       "      <th>17</th>\n",
       "      <td>jateng 1 lokalan ngadrun</td>\n",
       "      <td>👍</td>\n",
       "    </tr>\n",
       "    <tr>\n",
       "      <th>18</th>\n",
       "      <td>bilang salah</td>\n",
       "      <td>👍</td>\n",
       "    </tr>\n",
       "    <tr>\n",
       "      <th>19</th>\n",
       "      <td>siip cc kadrun2 geblek</td>\n",
       "      <td>👍🏽👍🏽    👍</td>\n",
       "    </tr>\n",
       "    <tr>\n",
       "      <th>20</th>\n",
       "      <td>pilih</td>\n",
       "      <td>👍</td>\n",
       "    </tr>\n",
       "  </tbody>\n",
       "</table>\n",
       "</div>"
      ],
      "text/plain": [
       "                                                 Text  \\\n",
       "0   murni konstitusi yg ditegakkan yg pd uud 45 al...   \n",
       "1   kantongnya bu mega paham jateng mengelu elukan...   \n",
       "2                                           haha suka   \n",
       "3   setuju arahan jokowi ganjar pranowo larang pej...   \n",
       "4   sd q 1968 kadang pake sepatu kadang sandal jep...   \n",
       "5   masak ganjar ndak ngerti fifa disembung karo p...   \n",
       "6                                      hahahaha droen   \n",
       "7                                                       \n",
       "8                                                gass   \n",
       "9     jd mas gak ngerti pecinta sepakbola yg ori bong   \n",
       "10  wow and here i was thinking that he was a logi...   \n",
       "11  tinggal menunggu pd nasionalis kadrun maaf gan...   \n",
       "12                     bedain politik olah raga duhhh   \n",
       "13                                                      \n",
       "14  kecewaa idolaku dah ikutan kadrun gebyah uyah ...   \n",
       "15  setuju campur olahraga dgn politik pake bumbu ...   \n",
       "16  kali ganjar keliru menanggapi polemik timnas i...   \n",
       "17                           jateng 1 lokalan ngadrun   \n",
       "18                                       bilang salah   \n",
       "19                             siip cc kadrun2 geblek   \n",
       "20                                              pilih   \n",
       "\n",
       "                                     emoji  \n",
       "0                                        😭  \n",
       "1                                        😭  \n",
       "2                                        😭  \n",
       "3                                        😭  \n",
       "4                                        😭  \n",
       "5                                        😭  \n",
       "6                                    😅 😅 😭  \n",
       "7                                        😭  \n",
       "8                                        😭  \n",
       "9                                        😭  \n",
       "10                                       😭  \n",
       "11                                       😭  \n",
       "12                                       😭  \n",
       "13                                     👌 😭  \n",
       "14                                       😭  \n",
       "15                                   😑😑😑 👍  \n",
       "16                                       👍  \n",
       "17                                       👍  \n",
       "18                                       👍  \n",
       "19                               👍🏽👍🏽    👍  \n",
       "20                                       👍  "
      ]
     },
     "execution_count": 166,
     "metadata": {},
     "output_type": "execute_result"
    }
   ],
   "source": [
    "df_ganjar.head(21)"
   ]
  },
  {
   "cell_type": "code",
   "execution_count": null,
   "metadata": {},
   "outputs": [],
   "source": [
    "# df_ganjar['text_emoji'] = df_ganjar['Text'] + df_ganjar['emoji']"
   ]
  },
  {
   "cell_type": "code",
   "execution_count": null,
   "metadata": {},
   "outputs": [],
   "source": [
    "# df_ganjar['text_emoji'] = df_ganjar['text_emoji'].apply(remove_newLines)"
   ]
  },
  {
   "attachments": {},
   "cell_type": "markdown",
   "metadata": {},
   "source": [
    "<h3>Datasets Republik Pencitraan</h3>"
   ]
  },
  {
   "cell_type": "code",
   "execution_count": 167,
   "metadata": {},
   "outputs": [],
   "source": [
    "df_republik['emoji'] = df_republik['Text'].apply(lambda x: re.findall(r'\\W', x))"
   ]
  },
  {
   "cell_type": "code",
   "execution_count": 168,
   "metadata": {},
   "outputs": [],
   "source": [
    "df_republik['Text'] = df_republik['Text'].apply(lambda x: re.sub(r'\\W+', ' ', x))"
   ]
  },
  {
   "cell_type": "code",
   "execution_count": 169,
   "metadata": {},
   "outputs": [],
   "source": [
    "df_republik['Text'] = df_republik['Text'].apply(remove_newLines)"
   ]
  },
  {
   "cell_type": "code",
   "execution_count": 170,
   "metadata": {},
   "outputs": [
    {
     "data": {
      "text/html": [
       "<div>\n",
       "<style scoped>\n",
       "    .dataframe tbody tr th:only-of-type {\n",
       "        vertical-align: middle;\n",
       "    }\n",
       "\n",
       "    .dataframe tbody tr th {\n",
       "        vertical-align: top;\n",
       "    }\n",
       "\n",
       "    .dataframe thead th {\n",
       "        text-align: right;\n",
       "    }\n",
       "</style>\n",
       "<table border=\"1\" class=\"dataframe\">\n",
       "  <thead>\n",
       "    <tr style=\"text-align: right;\">\n",
       "      <th></th>\n",
       "      <th>Text</th>\n",
       "      <th>emoji</th>\n",
       "    </tr>\n",
       "  </thead>\n",
       "  <tbody>\n",
       "    <tr>\n",
       "      <th>0</th>\n",
       "      <td>anak anak buzzing selamat lembur awas pke mask...</td>\n",
       "      <td>[ ,  ,  ,  ,  ,  ,  ,  ,  ,  ,  ,  ,  ,  ,  , ...</td>\n",
       "    </tr>\n",
       "    <tr>\n",
       "      <th>1</th>\n",
       "      <td>ulama dipersekusi giliran duit umat langsung n...</td>\n",
       "      <td>[ ,  ,  ,  ,  ,  ,  , 😑, 🤔,  , 😔]</td>\n",
       "    </tr>\n",
       "    <tr>\n",
       "      <th>2</th>\n",
       "      <td>tangkap ikan kakap laut dangkal ndak bernyali ...</td>\n",
       "      <td>[ ,  ,  ,  ,  ,  ,  ,  ,  ,  ,  , 😔]</td>\n",
       "    </tr>\n",
       "    <tr>\n",
       "      <th>3</th>\n",
       "      <td>anak pertiwi rat teriak betapa susah nya ekono...</td>\n",
       "      <td>[ ,  ,  ,  ,  ,  ,  ,  ,  ,  ,  ,  ,  ,  ,  , 😔]</td>\n",
       "    </tr>\n",
       "    <tr>\n",
       "      <th>4</th>\n",
       "      <td>usut kalo rakyat ramai ramai mengusut nya insy...</td>\n",
       "      <td>[ ,  ,  ,  ,  ,  ,  ,  ,  ,  ,  ,  ,  ,  ,  , ...</td>\n",
       "    </tr>\n",
       "    <tr>\n",
       "      <th>5</th>\n",
       "      <td>anak pertiwi menjerit perih nya hidup era nya ...</td>\n",
       "      <td>[ ,  ,  ,  ,  ,  ,  ,  ,  ,  ,  ,  ,  ,  ,  , ...</td>\n",
       "    </tr>\n",
       "    <tr>\n",
       "      <th>6</th>\n",
       "      <td>fahamkan aja keliatan jd rakyat kalo g bersatu...</td>\n",
       "      <td>[ ,  ,  ,  ,  ,  ,  ,  ,  , 😔]</td>\n",
       "    </tr>\n",
       "    <tr>\n",
       "      <th>7</th>\n",
       "      <td>anggota dpr aja menolak vaksin lg rakyat y nolak</td>\n",
       "      <td>[ ,  ,  ,  ,  ,  ,  ,  ,  , 😔]</td>\n",
       "    </tr>\n",
       "    <tr>\n",
       "      <th>8</th>\n",
       "      <td>diam nya serba paksa</td>\n",
       "      <td>[ ,  ,  ,  , 😔]</td>\n",
       "    </tr>\n",
       "    <tr>\n",
       "      <th>9</th>\n",
       "      <td>nasih rakyat tg meninggal fikiran nya rakyat b...</td>\n",
       "      <td>[ ,  ,  ,  ,  ,  ,  ,  , 😔]</td>\n",
       "    </tr>\n",
       "    <tr>\n",
       "      <th>10</th>\n",
       "      <td>mn ormas partai yg slm ngaku nkri pancasilais ...</td>\n",
       "      <td>[ ,  ,  ,  ,  ,  ,  ,  ,  ,  ,  ,  ,  ,  ,  , ...</td>\n",
       "    </tr>\n",
       "    <tr>\n",
       "      <th>11</th>\n",
       "      <td>klo dh diam nya bersatu</td>\n",
       "      <td>[ ,  ,  ,  ,  , 😔]</td>\n",
       "    </tr>\n",
       "    <tr>\n",
       "      <th>12</th>\n",
       "      <td>namamya raffi rizieq kadi melanggar protokol k...</td>\n",
       "      <td>[ ,  ,  ,  ,  ,  ,  ,  , 😔]</td>\n",
       "    </tr>\n",
       "    <tr>\n",
       "      <th>13</th>\n",
       "      <td>hukum adil jngan tebang pilih</td>\n",
       "      <td>[ ,  ,  ,  ,  , 😔]</td>\n",
       "    </tr>\n",
       "    <tr>\n",
       "      <th>14</th>\n",
       "      <td>respon generasi muda gelora kinerja pemerintah</td>\n",
       "      <td>[ ,  ,  ,  ,  ,  , 😔]</td>\n",
       "    </tr>\n",
       "    <tr>\n",
       "      <th>15</th>\n",
       "      <td>contoh yah barusan vaksin</td>\n",
       "      <td>[ ,  ,  ,  , 😔]</td>\n",
       "    </tr>\n",
       "    <tr>\n",
       "      <th>16</th>\n",
       "      <td>teman teman dijual</td>\n",
       "      <td>[ ,  ,  , 😔]</td>\n",
       "    </tr>\n",
       "    <tr>\n",
       "      <th>17</th>\n",
       "      <td>siti nurbaya yg mengalami pahitnya dunia semog...</td>\n",
       "      <td>[ ,  ,  ,  ,  ,  ,  ,  ,  ,  ,  , 😀,  , 😔]</td>\n",
       "    </tr>\n",
       "    <tr>\n",
       "      <th>18</th>\n",
       "      <td>proyek korban bisnispun lancarrr selamat malam...</td>\n",
       "      <td>[ ,  ,  ,  ,  ,  ,  ,  ,  , 😷, 😷,  , 😔]</td>\n",
       "    </tr>\n",
       "    <tr>\n",
       "      <th>19</th>\n",
       "      <td>sundul yuk</td>\n",
       "      <td>[ ,  , 😔]</td>\n",
       "    </tr>\n",
       "    <tr>\n",
       "      <th>20</th>\n",
       "      <td>adakah janji lurah terealisasi</td>\n",
       "      <td>[ ,  ,  ,  , 😔]</td>\n",
       "    </tr>\n",
       "  </tbody>\n",
       "</table>\n",
       "</div>"
      ],
      "text/plain": [
       "                                                 Text  \\\n",
       "0   anak anak buzzing selamat lembur awas pke mask...   \n",
       "1   ulama dipersekusi giliran duit umat langsung n...   \n",
       "2   tangkap ikan kakap laut dangkal ndak bernyali ...   \n",
       "3   anak pertiwi rat teriak betapa susah nya ekono...   \n",
       "4   usut kalo rakyat ramai ramai mengusut nya insy...   \n",
       "5   anak pertiwi menjerit perih nya hidup era nya ...   \n",
       "6   fahamkan aja keliatan jd rakyat kalo g bersatu...   \n",
       "7    anggota dpr aja menolak vaksin lg rakyat y nolak   \n",
       "8                                diam nya serba paksa   \n",
       "9   nasih rakyat tg meninggal fikiran nya rakyat b...   \n",
       "10  mn ormas partai yg slm ngaku nkri pancasilais ...   \n",
       "11                            klo dh diam nya bersatu   \n",
       "12  namamya raffi rizieq kadi melanggar protokol k...   \n",
       "13                      hukum adil jngan tebang pilih   \n",
       "14     respon generasi muda gelora kinerja pemerintah   \n",
       "15                          contoh yah barusan vaksin   \n",
       "16                                 teman teman dijual   \n",
       "17  siti nurbaya yg mengalami pahitnya dunia semog...   \n",
       "18  proyek korban bisnispun lancarrr selamat malam...   \n",
       "19                                         sundul yuk   \n",
       "20                     adakah janji lurah terealisasi   \n",
       "\n",
       "                                                emoji  \n",
       "0   [ ,  ,  ,  ,  ,  ,  ,  ,  ,  ,  ,  ,  ,  ,  , ...  \n",
       "1                   [ ,  ,  ,  ,  ,  ,  , 😑, 🤔,  , 😔]  \n",
       "2                [ ,  ,  ,  ,  ,  ,  ,  ,  ,  ,  , 😔]  \n",
       "3    [ ,  ,  ,  ,  ,  ,  ,  ,  ,  ,  ,  ,  ,  ,  , 😔]  \n",
       "4   [ ,  ,  ,  ,  ,  ,  ,  ,  ,  ,  ,  ,  ,  ,  , ...  \n",
       "5   [ ,  ,  ,  ,  ,  ,  ,  ,  ,  ,  ,  ,  ,  ,  , ...  \n",
       "6                      [ ,  ,  ,  ,  ,  ,  ,  ,  , 😔]  \n",
       "7                      [ ,  ,  ,  ,  ,  ,  ,  ,  , 😔]  \n",
       "8                                     [ ,  ,  ,  , 😔]  \n",
       "9                         [ ,  ,  ,  ,  ,  ,  ,  , 😔]  \n",
       "10  [ ,  ,  ,  ,  ,  ,  ,  ,  ,  ,  ,  ,  ,  ,  , ...  \n",
       "11                                 [ ,  ,  ,  ,  , 😔]  \n",
       "12                        [ ,  ,  ,  ,  ,  ,  ,  , 😔]  \n",
       "13                                 [ ,  ,  ,  ,  , 😔]  \n",
       "14                              [ ,  ,  ,  ,  ,  , 😔]  \n",
       "15                                    [ ,  ,  ,  , 😔]  \n",
       "16                                       [ ,  ,  , 😔]  \n",
       "17         [ ,  ,  ,  ,  ,  ,  ,  ,  ,  ,  , 😀,  , 😔]  \n",
       "18            [ ,  ,  ,  ,  ,  ,  ,  ,  , 😷, 😷,  , 😔]  \n",
       "19                                          [ ,  , 😔]  \n",
       "20                                    [ ,  ,  ,  , 😔]  "
      ]
     },
     "execution_count": 170,
     "metadata": {},
     "output_type": "execute_result"
    }
   ],
   "source": [
    "df_republik.head(21)"
   ]
  },
  {
   "cell_type": "code",
   "execution_count": 171,
   "metadata": {},
   "outputs": [],
   "source": [
    "df_republik['emoji'] = df_republik['emoji'].apply(''.join)"
   ]
  },
  {
   "cell_type": "code",
   "execution_count": 172,
   "metadata": {},
   "outputs": [],
   "source": [
    "df_republik['emoji'] = df_republik['emoji'].astype(str)"
   ]
  },
  {
   "cell_type": "code",
   "execution_count": 173,
   "metadata": {},
   "outputs": [
    {
     "data": {
      "text/html": [
       "<div>\n",
       "<style scoped>\n",
       "    .dataframe tbody tr th:only-of-type {\n",
       "        vertical-align: middle;\n",
       "    }\n",
       "\n",
       "    .dataframe tbody tr th {\n",
       "        vertical-align: top;\n",
       "    }\n",
       "\n",
       "    .dataframe thead th {\n",
       "        text-align: right;\n",
       "    }\n",
       "</style>\n",
       "<table border=\"1\" class=\"dataframe\">\n",
       "  <thead>\n",
       "    <tr style=\"text-align: right;\">\n",
       "      <th></th>\n",
       "      <th>Text</th>\n",
       "      <th>emoji</th>\n",
       "    </tr>\n",
       "  </thead>\n",
       "  <tbody>\n",
       "    <tr>\n",
       "      <th>0</th>\n",
       "      <td>anak anak buzzing selamat lembur awas pke mask...</td>\n",
       "      <td>😔</td>\n",
       "    </tr>\n",
       "    <tr>\n",
       "      <th>1</th>\n",
       "      <td>ulama dipersekusi giliran duit umat langsung n...</td>\n",
       "      <td>😑🤔 😔</td>\n",
       "    </tr>\n",
       "    <tr>\n",
       "      <th>2</th>\n",
       "      <td>tangkap ikan kakap laut dangkal ndak bernyali ...</td>\n",
       "      <td>😔</td>\n",
       "    </tr>\n",
       "    <tr>\n",
       "      <th>3</th>\n",
       "      <td>anak pertiwi rat teriak betapa susah nya ekono...</td>\n",
       "      <td>😔</td>\n",
       "    </tr>\n",
       "    <tr>\n",
       "      <th>4</th>\n",
       "      <td>usut kalo rakyat ramai ramai mengusut nya insy...</td>\n",
       "      <td>😔</td>\n",
       "    </tr>\n",
       "    <tr>\n",
       "      <th>5</th>\n",
       "      <td>anak pertiwi menjerit perih nya hidup era nya ...</td>\n",
       "      <td>😔</td>\n",
       "    </tr>\n",
       "    <tr>\n",
       "      <th>6</th>\n",
       "      <td>fahamkan aja keliatan jd rakyat kalo g bersatu...</td>\n",
       "      <td>😔</td>\n",
       "    </tr>\n",
       "    <tr>\n",
       "      <th>7</th>\n",
       "      <td>anggota dpr aja menolak vaksin lg rakyat y nolak</td>\n",
       "      <td>😔</td>\n",
       "    </tr>\n",
       "    <tr>\n",
       "      <th>8</th>\n",
       "      <td>diam nya serba paksa</td>\n",
       "      <td>😔</td>\n",
       "    </tr>\n",
       "    <tr>\n",
       "      <th>9</th>\n",
       "      <td>nasih rakyat tg meninggal fikiran nya rakyat b...</td>\n",
       "      <td>😔</td>\n",
       "    </tr>\n",
       "    <tr>\n",
       "      <th>10</th>\n",
       "      <td>mn ormas partai yg slm ngaku nkri pancasilais ...</td>\n",
       "      <td>😡 😔</td>\n",
       "    </tr>\n",
       "    <tr>\n",
       "      <th>11</th>\n",
       "      <td>klo dh diam nya bersatu</td>\n",
       "      <td>😔</td>\n",
       "    </tr>\n",
       "    <tr>\n",
       "      <th>12</th>\n",
       "      <td>namamya raffi rizieq kadi melanggar protokol k...</td>\n",
       "      <td>😔</td>\n",
       "    </tr>\n",
       "    <tr>\n",
       "      <th>13</th>\n",
       "      <td>hukum adil jngan tebang pilih</td>\n",
       "      <td>😔</td>\n",
       "    </tr>\n",
       "    <tr>\n",
       "      <th>14</th>\n",
       "      <td>respon generasi muda gelora kinerja pemerintah</td>\n",
       "      <td>😔</td>\n",
       "    </tr>\n",
       "    <tr>\n",
       "      <th>15</th>\n",
       "      <td>contoh yah barusan vaksin</td>\n",
       "      <td>😔</td>\n",
       "    </tr>\n",
       "    <tr>\n",
       "      <th>16</th>\n",
       "      <td>teman teman dijual</td>\n",
       "      <td>😔</td>\n",
       "    </tr>\n",
       "    <tr>\n",
       "      <th>17</th>\n",
       "      <td>siti nurbaya yg mengalami pahitnya dunia semog...</td>\n",
       "      <td>😀 😔</td>\n",
       "    </tr>\n",
       "    <tr>\n",
       "      <th>18</th>\n",
       "      <td>proyek korban bisnispun lancarrr selamat malam...</td>\n",
       "      <td>😷😷 😔</td>\n",
       "    </tr>\n",
       "    <tr>\n",
       "      <th>19</th>\n",
       "      <td>sundul yuk</td>\n",
       "      <td>😔</td>\n",
       "    </tr>\n",
       "    <tr>\n",
       "      <th>20</th>\n",
       "      <td>adakah janji lurah terealisasi</td>\n",
       "      <td>😔</td>\n",
       "    </tr>\n",
       "  </tbody>\n",
       "</table>\n",
       "</div>"
      ],
      "text/plain": [
       "                                                 Text                   emoji\n",
       "0   anak anak buzzing selamat lembur awas pke mask...                       😔\n",
       "1   ulama dipersekusi giliran duit umat langsung n...                    😑🤔 😔\n",
       "2   tangkap ikan kakap laut dangkal ndak bernyali ...                       😔\n",
       "3   anak pertiwi rat teriak betapa susah nya ekono...                       😔\n",
       "4   usut kalo rakyat ramai ramai mengusut nya insy...                       😔\n",
       "5   anak pertiwi menjerit perih nya hidup era nya ...                       😔\n",
       "6   fahamkan aja keliatan jd rakyat kalo g bersatu...                       😔\n",
       "7    anggota dpr aja menolak vaksin lg rakyat y nolak                       😔\n",
       "8                                diam nya serba paksa                       😔\n",
       "9   nasih rakyat tg meninggal fikiran nya rakyat b...                       😔\n",
       "10  mn ormas partai yg slm ngaku nkri pancasilais ...                     😡 😔\n",
       "11                            klo dh diam nya bersatu                       😔\n",
       "12  namamya raffi rizieq kadi melanggar protokol k...                       😔\n",
       "13                      hukum adil jngan tebang pilih                       😔\n",
       "14     respon generasi muda gelora kinerja pemerintah                       😔\n",
       "15                          contoh yah barusan vaksin                       😔\n",
       "16                                 teman teman dijual                       😔\n",
       "17  siti nurbaya yg mengalami pahitnya dunia semog...                     😀 😔\n",
       "18  proyek korban bisnispun lancarrr selamat malam...                    😷😷 😔\n",
       "19                                         sundul yuk                       😔\n",
       "20                     adakah janji lurah terealisasi                       😔"
      ]
     },
     "execution_count": 173,
     "metadata": {},
     "output_type": "execute_result"
    }
   ],
   "source": [
    "df_republik.head(21)"
   ]
  },
  {
   "cell_type": "code",
   "execution_count": null,
   "metadata": {},
   "outputs": [],
   "source": [
    "# df_republik['text_emoji'] = df_republik['Text'] + df_republik['emoji']"
   ]
  },
  {
   "cell_type": "code",
   "execution_count": null,
   "metadata": {},
   "outputs": [],
   "source": [
    "# df_republik['text_emoji'] = df_republik['text_emoji'].apply(remove_newLines)"
   ]
  },
  {
   "attachments": {},
   "cell_type": "markdown",
   "metadata": {},
   "source": [
    "<h3>Datasets Politik</h3>"
   ]
  },
  {
   "cell_type": "code",
   "execution_count": 174,
   "metadata": {},
   "outputs": [],
   "source": [
    "df_politik['emoji'] = df_politik['Text'].apply(lambda x: re.findall(r'\\W', x))"
   ]
  },
  {
   "cell_type": "code",
   "execution_count": 175,
   "metadata": {},
   "outputs": [],
   "source": [
    "df_politik['Text'] = df_politik['Text'].apply(lambda x: re.sub(r'\\W+', ' ', x))"
   ]
  },
  {
   "cell_type": "code",
   "execution_count": 176,
   "metadata": {},
   "outputs": [],
   "source": [
    "df_politik['Text'] = df_politik['Text'].apply(remove_newLines)"
   ]
  },
  {
   "cell_type": "code",
   "execution_count": 177,
   "metadata": {},
   "outputs": [
    {
     "data": {
      "text/html": [
       "<div>\n",
       "<style scoped>\n",
       "    .dataframe tbody tr th:only-of-type {\n",
       "        vertical-align: middle;\n",
       "    }\n",
       "\n",
       "    .dataframe tbody tr th {\n",
       "        vertical-align: top;\n",
       "    }\n",
       "\n",
       "    .dataframe thead th {\n",
       "        text-align: right;\n",
       "    }\n",
       "</style>\n",
       "<table border=\"1\" class=\"dataframe\">\n",
       "  <thead>\n",
       "    <tr style=\"text-align: right;\">\n",
       "      <th></th>\n",
       "      <th>Text</th>\n",
       "      <th>emoji</th>\n",
       "    </tr>\n",
       "  </thead>\n",
       "  <tbody>\n",
       "    <tr>\n",
       "      <th>0</th>\n",
       "      <td>kawan2 sunda bersatu jemput arteria dahlan</td>\n",
       "      <td>[ ,  ,  ,  ,  ,  , 😁]</td>\n",
       "    </tr>\n",
       "    <tr>\n",
       "      <th>1</th>\n",
       "      <td>arogan kapok2 arteria dahlan</td>\n",
       "      <td>[ ,  ,  ,  , 😁]</td>\n",
       "    </tr>\n",
       "    <tr>\n",
       "      <th>2</th>\n",
       "      <td>arteria dahlan disidang adat sunda daerah menu...</td>\n",
       "      <td>[ ,  ,  ,  ,  ,  ,  ,  ,  , 😁]</td>\n",
       "    </tr>\n",
       "    <tr>\n",
       "      <th>3</th>\n",
       "      <td>orang sunda jemput arteria dahlan sidang rakya...</td>\n",
       "      <td>[ ,  ,  ,  ,  ,  ,  ,  ,  , 😁]</td>\n",
       "    </tr>\n",
       "    <tr>\n",
       "      <th>4</th>\n",
       "      <td>ga ditafsirkan membanding bandingkan edy arter...</td>\n",
       "      <td>[ ,  ,  ,  ,  ,  ,  ,  ,  , 😁]</td>\n",
       "    </tr>\n",
       "    <tr>\n",
       "      <th>5</th>\n",
       "      <td>nantik ngak divhumas polri nya bilang palsu td...</td>\n",
       "      <td>[ ,  ,  ,  ,  ,  ,  ,  ,  ,  ,  ,  ,  ,  ,  , ...</td>\n",
       "    </tr>\n",
       "    <tr>\n",
       "      <th>6</th>\n",
       "      <td>urut dada dech kuasa hukum tdk mengerti hukum ...</td>\n",
       "      <td>[ ,  ,  ,  ,  ,  ,  ,  ,  ,  ,  ,  ,  ,  ,  , ...</td>\n",
       "    </tr>\n",
       "    <tr>\n",
       "      <th>7</th>\n",
       "      <td>arteria dahlan maaf memaafkan klo yg kubu yg m...</td>\n",
       "      <td>[ ,  ,  ,  ,  ,  ,  ,  ,  ,  ,  , 😁]</td>\n",
       "    </tr>\n",
       "    <tr>\n",
       "      <th>8</th>\n",
       "      <td>dorong masyarakat sunda jabar polri utk menang...</td>\n",
       "      <td>[ ,  ,  ,  ,  ,  ,  ,  ,  ,  ,  ,  ,  ,  ,  , ...</td>\n",
       "    </tr>\n",
       "    <tr>\n",
       "      <th>9</th>\n",
       "      <td>yg beruntung arteria dahlan ga kabar e yg ktny...</td>\n",
       "      <td>[ ,  ,  ,  ,  ,  ,  ,  ,  ,  ,  ,  , 😁]</td>\n",
       "    </tr>\n",
       "    <tr>\n",
       "      <th>10</th>\n",
       "      <td>arteria dahlan dipanggil</td>\n",
       "      <td>[ ,  ,  , 😁]</td>\n",
       "    </tr>\n",
       "    <tr>\n",
       "      <th>11</th>\n",
       "      <td>orang sunda ngamuk ama arteria dahlan 2024 bes...</td>\n",
       "      <td>[ ,  ,  ,  ,  ,  ,  ,  ,  ,  ,  ,  , 😁]</td>\n",
       "    </tr>\n",
       "    <tr>\n",
       "      <th>12</th>\n",
       "      <td>arteria dahlan emang menjijikkan orang gak coc...</td>\n",
       "      <td>[ ,  ,  ,  ,  ,  ,  ,  ,  ,  ,  ,  ,  ,  ,  , ...</td>\n",
       "    </tr>\n",
       "    <tr>\n",
       "      <th>13</th>\n",
       "      <td>pejabat sakit jiwa nantang goblok pejabat klo ...</td>\n",
       "      <td>[ ,  ,  ,  ,  ,  ,  ,  ,  ,  ,  ,  ,  ,  ,  , 😁]</td>\n",
       "    </tr>\n",
       "    <tr>\n",
       "      <th>14</th>\n",
       "      <td>arteria dahlan pakai bahasa sunda forum</td>\n",
       "      <td>[ ,  ,  ,  ,  ,  , 😁]</td>\n",
       "    </tr>\n",
       "    <tr>\n",
       "      <th>15</th>\n",
       "      <td>ledia hanifa arteria dahlan teh lebay</td>\n",
       "      <td>[ ,  ,  ,  ,  ,  , 😁]</td>\n",
       "    </tr>\n",
       "    <tr>\n",
       "      <th>16</th>\n",
       "      <td>pasteur bandung arteria dahlan si mulut busuk</td>\n",
       "      <td>[ ,  ,  ,  ,  ,  ,  , 😁]</td>\n",
       "    </tr>\n",
       "    <tr>\n",
       "      <th>17</th>\n",
       "      <td>arteria dahlan ditangkap</td>\n",
       "      <td>[ ,  ,  , 😁]</td>\n",
       "    </tr>\n",
       "    <tr>\n",
       "      <th>18</th>\n",
       "      <td>acara resmi pakai bahasa indonesia tp pelangga...</td>\n",
       "      <td>[ ,  ,  ,  ,  ,  ,  ,  ,  ,  ,  ,  , 😁]</td>\n",
       "    </tr>\n",
       "    <tr>\n",
       "      <th>19</th>\n",
       "      <td>oalah pantes congkak arogan yak</td>\n",
       "      <td>[ ,  ,  ,  ,  , 😁]</td>\n",
       "    </tr>\n",
       "    <tr>\n",
       "      <th>20</th>\n",
       "      <td>coba mas arteria dahlan kali ujug ujug diganti...</td>\n",
       "      <td>[ ,  ,  ,  ,  ,  ,  ,  ,  ,  ,  ,  ,  ,  , 😁]</td>\n",
       "    </tr>\n",
       "  </tbody>\n",
       "</table>\n",
       "</div>"
      ],
      "text/plain": [
       "                                                 Text  \\\n",
       "0          kawan2 sunda bersatu jemput arteria dahlan   \n",
       "1                        arogan kapok2 arteria dahlan   \n",
       "2   arteria dahlan disidang adat sunda daerah menu...   \n",
       "3   orang sunda jemput arteria dahlan sidang rakya...   \n",
       "4   ga ditafsirkan membanding bandingkan edy arter...   \n",
       "5   nantik ngak divhumas polri nya bilang palsu td...   \n",
       "6   urut dada dech kuasa hukum tdk mengerti hukum ...   \n",
       "7   arteria dahlan maaf memaafkan klo yg kubu yg m...   \n",
       "8   dorong masyarakat sunda jabar polri utk menang...   \n",
       "9   yg beruntung arteria dahlan ga kabar e yg ktny...   \n",
       "10                           arteria dahlan dipanggil   \n",
       "11  orang sunda ngamuk ama arteria dahlan 2024 bes...   \n",
       "12  arteria dahlan emang menjijikkan orang gak coc...   \n",
       "13  pejabat sakit jiwa nantang goblok pejabat klo ...   \n",
       "14            arteria dahlan pakai bahasa sunda forum   \n",
       "15              ledia hanifa arteria dahlan teh lebay   \n",
       "16      pasteur bandung arteria dahlan si mulut busuk   \n",
       "17                           arteria dahlan ditangkap   \n",
       "18  acara resmi pakai bahasa indonesia tp pelangga...   \n",
       "19                    oalah pantes congkak arogan yak   \n",
       "20  coba mas arteria dahlan kali ujug ujug diganti...   \n",
       "\n",
       "                                                emoji  \n",
       "0                               [ ,  ,  ,  ,  ,  , 😁]  \n",
       "1                                     [ ,  ,  ,  , 😁]  \n",
       "2                      [ ,  ,  ,  ,  ,  ,  ,  ,  , 😁]  \n",
       "3                      [ ,  ,  ,  ,  ,  ,  ,  ,  , 😁]  \n",
       "4                      [ ,  ,  ,  ,  ,  ,  ,  ,  , 😁]  \n",
       "5   [ ,  ,  ,  ,  ,  ,  ,  ,  ,  ,  ,  ,  ,  ,  , ...  \n",
       "6   [ ,  ,  ,  ,  ,  ,  ,  ,  ,  ,  ,  ,  ,  ,  , ...  \n",
       "7                [ ,  ,  ,  ,  ,  ,  ,  ,  ,  ,  , 😁]  \n",
       "8   [ ,  ,  ,  ,  ,  ,  ,  ,  ,  ,  ,  ,  ,  ,  , ...  \n",
       "9             [ ,  ,  ,  ,  ,  ,  ,  ,  ,  ,  ,  , 😁]  \n",
       "10                                       [ ,  ,  , 😁]  \n",
       "11            [ ,  ,  ,  ,  ,  ,  ,  ,  ,  ,  ,  , 😁]  \n",
       "12  [ ,  ,  ,  ,  ,  ,  ,  ,  ,  ,  ,  ,  ,  ,  , ...  \n",
       "13   [ ,  ,  ,  ,  ,  ,  ,  ,  ,  ,  ,  ,  ,  ,  , 😁]  \n",
       "14                              [ ,  ,  ,  ,  ,  , 😁]  \n",
       "15                              [ ,  ,  ,  ,  ,  , 😁]  \n",
       "16                           [ ,  ,  ,  ,  ,  ,  , 😁]  \n",
       "17                                       [ ,  ,  , 😁]  \n",
       "18            [ ,  ,  ,  ,  ,  ,  ,  ,  ,  ,  ,  , 😁]  \n",
       "19                                 [ ,  ,  ,  ,  , 😁]  \n",
       "20      [ ,  ,  ,  ,  ,  ,  ,  ,  ,  ,  ,  ,  ,  , 😁]  "
      ]
     },
     "execution_count": 177,
     "metadata": {},
     "output_type": "execute_result"
    }
   ],
   "source": [
    "df_politik.head(21)"
   ]
  },
  {
   "cell_type": "code",
   "execution_count": 178,
   "metadata": {},
   "outputs": [],
   "source": [
    "df_politik['emoji'] = df_politik['emoji'].apply(''.join)"
   ]
  },
  {
   "cell_type": "code",
   "execution_count": 179,
   "metadata": {},
   "outputs": [],
   "source": [
    "df_politik['emoji'] = df_politik['emoji'].astype(str)"
   ]
  },
  {
   "cell_type": "code",
   "execution_count": 180,
   "metadata": {},
   "outputs": [
    {
     "data": {
      "text/html": [
       "<div>\n",
       "<style scoped>\n",
       "    .dataframe tbody tr th:only-of-type {\n",
       "        vertical-align: middle;\n",
       "    }\n",
       "\n",
       "    .dataframe tbody tr th {\n",
       "        vertical-align: top;\n",
       "    }\n",
       "\n",
       "    .dataframe thead th {\n",
       "        text-align: right;\n",
       "    }\n",
       "</style>\n",
       "<table border=\"1\" class=\"dataframe\">\n",
       "  <thead>\n",
       "    <tr style=\"text-align: right;\">\n",
       "      <th></th>\n",
       "      <th>Text</th>\n",
       "      <th>emoji</th>\n",
       "    </tr>\n",
       "  </thead>\n",
       "  <tbody>\n",
       "    <tr>\n",
       "      <th>0</th>\n",
       "      <td>kawan2 sunda bersatu jemput arteria dahlan</td>\n",
       "      <td>😁</td>\n",
       "    </tr>\n",
       "    <tr>\n",
       "      <th>1</th>\n",
       "      <td>arogan kapok2 arteria dahlan</td>\n",
       "      <td>😁</td>\n",
       "    </tr>\n",
       "    <tr>\n",
       "      <th>2</th>\n",
       "      <td>arteria dahlan disidang adat sunda daerah menu...</td>\n",
       "      <td>😁</td>\n",
       "    </tr>\n",
       "    <tr>\n",
       "      <th>3</th>\n",
       "      <td>orang sunda jemput arteria dahlan sidang rakya...</td>\n",
       "      <td>😁</td>\n",
       "    </tr>\n",
       "    <tr>\n",
       "      <th>4</th>\n",
       "      <td>ga ditafsirkan membanding bandingkan edy arter...</td>\n",
       "      <td>😁</td>\n",
       "    </tr>\n",
       "    <tr>\n",
       "      <th>5</th>\n",
       "      <td>nantik ngak divhumas polri nya bilang palsu td...</td>\n",
       "      <td>😁</td>\n",
       "    </tr>\n",
       "    <tr>\n",
       "      <th>6</th>\n",
       "      <td>urut dada dech kuasa hukum tdk mengerti hukum ...</td>\n",
       "      <td>😁</td>\n",
       "    </tr>\n",
       "    <tr>\n",
       "      <th>7</th>\n",
       "      <td>arteria dahlan maaf memaafkan klo yg kubu yg m...</td>\n",
       "      <td>😁</td>\n",
       "    </tr>\n",
       "    <tr>\n",
       "      <th>8</th>\n",
       "      <td>dorong masyarakat sunda jabar polri utk menang...</td>\n",
       "      <td>😁</td>\n",
       "    </tr>\n",
       "    <tr>\n",
       "      <th>9</th>\n",
       "      <td>yg beruntung arteria dahlan ga kabar e yg ktny...</td>\n",
       "      <td>😁</td>\n",
       "    </tr>\n",
       "    <tr>\n",
       "      <th>10</th>\n",
       "      <td>arteria dahlan dipanggil</td>\n",
       "      <td>😁</td>\n",
       "    </tr>\n",
       "    <tr>\n",
       "      <th>11</th>\n",
       "      <td>orang sunda ngamuk ama arteria dahlan 2024 bes...</td>\n",
       "      <td>😁</td>\n",
       "    </tr>\n",
       "    <tr>\n",
       "      <th>12</th>\n",
       "      <td>arteria dahlan emang menjijikkan orang gak coc...</td>\n",
       "      <td>😁</td>\n",
       "    </tr>\n",
       "    <tr>\n",
       "      <th>13</th>\n",
       "      <td>pejabat sakit jiwa nantang goblok pejabat klo ...</td>\n",
       "      <td>😁</td>\n",
       "    </tr>\n",
       "    <tr>\n",
       "      <th>14</th>\n",
       "      <td>arteria dahlan pakai bahasa sunda forum</td>\n",
       "      <td>😁</td>\n",
       "    </tr>\n",
       "    <tr>\n",
       "      <th>15</th>\n",
       "      <td>ledia hanifa arteria dahlan teh lebay</td>\n",
       "      <td>😁</td>\n",
       "    </tr>\n",
       "    <tr>\n",
       "      <th>16</th>\n",
       "      <td>pasteur bandung arteria dahlan si mulut busuk</td>\n",
       "      <td>😁</td>\n",
       "    </tr>\n",
       "    <tr>\n",
       "      <th>17</th>\n",
       "      <td>arteria dahlan ditangkap</td>\n",
       "      <td>😁</td>\n",
       "    </tr>\n",
       "    <tr>\n",
       "      <th>18</th>\n",
       "      <td>acara resmi pakai bahasa indonesia tp pelangga...</td>\n",
       "      <td>😁</td>\n",
       "    </tr>\n",
       "    <tr>\n",
       "      <th>19</th>\n",
       "      <td>oalah pantes congkak arogan yak</td>\n",
       "      <td>😁</td>\n",
       "    </tr>\n",
       "    <tr>\n",
       "      <th>20</th>\n",
       "      <td>coba mas arteria dahlan kali ujug ujug diganti...</td>\n",
       "      <td>😁</td>\n",
       "    </tr>\n",
       "  </tbody>\n",
       "</table>\n",
       "</div>"
      ],
      "text/plain": [
       "                                                 Text  \\\n",
       "0          kawan2 sunda bersatu jemput arteria dahlan   \n",
       "1                        arogan kapok2 arteria dahlan   \n",
       "2   arteria dahlan disidang adat sunda daerah menu...   \n",
       "3   orang sunda jemput arteria dahlan sidang rakya...   \n",
       "4   ga ditafsirkan membanding bandingkan edy arter...   \n",
       "5   nantik ngak divhumas polri nya bilang palsu td...   \n",
       "6   urut dada dech kuasa hukum tdk mengerti hukum ...   \n",
       "7   arteria dahlan maaf memaafkan klo yg kubu yg m...   \n",
       "8   dorong masyarakat sunda jabar polri utk menang...   \n",
       "9   yg beruntung arteria dahlan ga kabar e yg ktny...   \n",
       "10                           arteria dahlan dipanggil   \n",
       "11  orang sunda ngamuk ama arteria dahlan 2024 bes...   \n",
       "12  arteria dahlan emang menjijikkan orang gak coc...   \n",
       "13  pejabat sakit jiwa nantang goblok pejabat klo ...   \n",
       "14            arteria dahlan pakai bahasa sunda forum   \n",
       "15              ledia hanifa arteria dahlan teh lebay   \n",
       "16      pasteur bandung arteria dahlan si mulut busuk   \n",
       "17                           arteria dahlan ditangkap   \n",
       "18  acara resmi pakai bahasa indonesia tp pelangga...   \n",
       "19                    oalah pantes congkak arogan yak   \n",
       "20  coba mas arteria dahlan kali ujug ujug diganti...   \n",
       "\n",
       "                            emoji  \n",
       "0                               😁  \n",
       "1                               😁  \n",
       "2                               😁  \n",
       "3                               😁  \n",
       "4                               😁  \n",
       "5                               😁  \n",
       "6                               😁  \n",
       "7                               😁  \n",
       "8                               😁  \n",
       "9                               😁  \n",
       "10                              😁  \n",
       "11                              😁  \n",
       "12                              😁  \n",
       "13                              😁  \n",
       "14                              😁  \n",
       "15                              😁  \n",
       "16                              😁  \n",
       "17                              😁  \n",
       "18                              😁  \n",
       "19                              😁  \n",
       "20                              😁  "
      ]
     },
     "execution_count": 180,
     "metadata": {},
     "output_type": "execute_result"
    }
   ],
   "source": [
    "df_politik.head(21)"
   ]
  },
  {
   "cell_type": "code",
   "execution_count": null,
   "metadata": {},
   "outputs": [],
   "source": [
    "# df_politik['text_emoji'] = df_politik['Text'] + df_politik['emoji']"
   ]
  },
  {
   "cell_type": "code",
   "execution_count": null,
   "metadata": {},
   "outputs": [],
   "source": [
    "# df_politik['text_emoji'] = df_politik['text_emoji'].apply(remove_newLines)"
   ]
  },
  {
   "attachments": {},
   "cell_type": "markdown",
   "metadata": {},
   "source": [
    "<h2>Stemming</h2>"
   ]
  },
  {
   "cell_type": "code",
   "execution_count": null,
   "metadata": {},
   "outputs": [],
   "source": [
    "from Sastrawi.Stemmer.StemmerFactory import StemmerFactory"
   ]
  },
  {
   "cell_type": "code",
   "execution_count": null,
   "metadata": {},
   "outputs": [],
   "source": [
    "def stemming(text):\n",
    "    factory = StemmerFactory()\n",
    "    stemmer = factory.create_stemmer()\n",
    "    \n",
    "    return stemmer.stem(text)"
   ]
  },
  {
   "attachments": {},
   "cell_type": "markdown",
   "metadata": {},
   "source": [
    "<h3>Datasets CakNun</h3>"
   ]
  },
  {
   "cell_type": "code",
   "execution_count": null,
   "metadata": {},
   "outputs": [],
   "source": [
    "df_caknun['Text'] = df_caknun['Text'].apply(stemming)"
   ]
  },
  {
   "cell_type": "code",
   "execution_count": null,
   "metadata": {},
   "outputs": [],
   "source": [
    "df_caknun['Text'].head(21)"
   ]
  },
  {
   "attachments": {},
   "cell_type": "markdown",
   "metadata": {},
   "source": [
    "<h3>Datasets Anies</h3>"
   ]
  },
  {
   "cell_type": "code",
   "execution_count": null,
   "metadata": {},
   "outputs": [],
   "source": [
    "df_anies['Text'] = df_anies['Text'].apply(stemming)"
   ]
  },
  {
   "cell_type": "code",
   "execution_count": null,
   "metadata": {},
   "outputs": [],
   "source": [
    "df_anies['Text'].head(21)"
   ]
  },
  {
   "attachments": {},
   "cell_type": "markdown",
   "metadata": {},
   "source": [
    "<h3>Datasets Puan</h3>"
   ]
  },
  {
   "cell_type": "code",
   "execution_count": null,
   "metadata": {},
   "outputs": [],
   "source": [
    "df_puan['Text'] = df_puan['Text'].apply(stemming)"
   ]
  },
  {
   "cell_type": "code",
   "execution_count": null,
   "metadata": {},
   "outputs": [],
   "source": [
    "df_puan['Text'].head(21)"
   ]
  },
  {
   "attachments": {},
   "cell_type": "markdown",
   "metadata": {},
   "source": [
    "<h3>Datasets Luhut</h3>"
   ]
  },
  {
   "cell_type": "code",
   "execution_count": null,
   "metadata": {},
   "outputs": [],
   "source": [
    "df_luhut['Text'] = df_luhut['Text'].apply(stemming)"
   ]
  },
  {
   "cell_type": "code",
   "execution_count": null,
   "metadata": {},
   "outputs": [],
   "source": [
    "df_luhut['Text'].head(21)"
   ]
  },
  {
   "attachments": {},
   "cell_type": "markdown",
   "metadata": {},
   "source": [
    "<h3>Datasets Ganjar</h3>"
   ]
  },
  {
   "cell_type": "code",
   "execution_count": null,
   "metadata": {},
   "outputs": [],
   "source": [
    "df_ganjar['Text'] = df_ganjar['Text'].apply(stemming)"
   ]
  },
  {
   "cell_type": "code",
   "execution_count": null,
   "metadata": {},
   "outputs": [],
   "source": [
    "df_ganjar['Text'].head(21)"
   ]
  },
  {
   "attachments": {},
   "cell_type": "markdown",
   "metadata": {},
   "source": [
    "<h3>Datasets Republik Pencitraan</h3>"
   ]
  },
  {
   "cell_type": "code",
   "execution_count": null,
   "metadata": {},
   "outputs": [],
   "source": [
    "df_republik['Text'] = df_republik['Text'].apply(stemming)"
   ]
  },
  {
   "cell_type": "code",
   "execution_count": null,
   "metadata": {},
   "outputs": [],
   "source": [
    "df_republik['Text'].head(21)"
   ]
  },
  {
   "attachments": {},
   "cell_type": "markdown",
   "metadata": {},
   "source": [
    "<h3>Datasets Politik</h3>"
   ]
  },
  {
   "cell_type": "code",
   "execution_count": null,
   "metadata": {},
   "outputs": [],
   "source": [
    "df_politik['Text'] = df_politik['Text'].apply(stemming)"
   ]
  },
  {
   "cell_type": "code",
   "execution_count": null,
   "metadata": {},
   "outputs": [],
   "source": [
    "df_politik['Text'].head(21)"
   ]
  },
  {
   "attachments": {},
   "cell_type": "markdown",
   "metadata": {},
   "source": [
    "<h2>Get Unknown Words From Each Datasets</h2>"
   ]
  },
  {
   "cell_type": "code",
   "execution_count": null,
   "metadata": {},
   "outputs": [],
   "source": [
    "df_kbbi = pd.read_excel('Misc/KBBI_Corpus/kbbi_corpus.xlsx')\n",
    "df_kbbi.info()"
   ]
  },
  {
   "cell_type": "code",
   "execution_count": null,
   "metadata": {},
   "outputs": [],
   "source": [
    "corpus_kbbi = []\n",
    "for i in df_kbbi['Kata']:\n",
    "    corpus_kbbi.append(i)\n"
   ]
  },
  {
   "cell_type": "code",
   "execution_count": null,
   "metadata": {},
   "outputs": [],
   "source": [
    "len(corpus_kbbi)"
   ]
  },
  {
   "attachments": {},
   "cell_type": "markdown",
   "metadata": {},
   "source": [
    "<h3>Datasets CakNun</h3>"
   ]
  },
  {
   "cell_type": "code",
   "execution_count": null,
   "metadata": {},
   "outputs": [],
   "source": [
    "df_caknun['Tokenized'] = df_caknun['Text'].apply(lambda x: x.split())"
   ]
  },
  {
   "cell_type": "code",
   "execution_count": null,
   "metadata": {},
   "outputs": [],
   "source": [
    "df_caknun.head(8)"
   ]
  },
  {
   "cell_type": "code",
   "execution_count": null,
   "metadata": {},
   "outputs": [],
   "source": [
    "corpus_caknun = []\n",
    "\n",
    "for i in df_caknun['final_text']: \n",
    "  corpus_caknun.append(i)\n",
    "\n",
    "corpus_caknun = set([word for words in corpus_caknun for word in words])\n",
    "corpus_kbbi = set(corpus_kbbi)"
   ]
  },
  {
   "cell_type": "code",
   "execution_count": null,
   "metadata": {},
   "outputs": [],
   "source": [
    "corpus_unknown_caknun = list(corpus_caknun - corpus_kbbi)"
   ]
  },
  {
   "cell_type": "code",
   "execution_count": null,
   "metadata": {},
   "outputs": [],
   "source": [
    "corpus_unknown_caknun"
   ]
  },
  {
   "cell_type": "code",
   "execution_count": null,
   "metadata": {},
   "outputs": [],
   "source": [
    "len(corpus_unknown_caknun)"
   ]
  },
  {
   "cell_type": "code",
   "execution_count": null,
   "metadata": {},
   "outputs": [],
   "source": [
    "for i in corpus_unknown_caknun:\n",
    "    print(i)"
   ]
  },
  {
   "attachments": {},
   "cell_type": "markdown",
   "metadata": {},
   "source": [
    "<h3>Datasets Anies</h3>"
   ]
  },
  {
   "cell_type": "code",
   "execution_count": null,
   "metadata": {},
   "outputs": [],
   "source": [
    "df_anies['Tokenized'] = df_anies['Text'].apply(lambda x: x.split())"
   ]
  },
  {
   "cell_type": "code",
   "execution_count": null,
   "metadata": {},
   "outputs": [],
   "source": [
    "df_anies.head()"
   ]
  },
  {
   "cell_type": "code",
   "execution_count": null,
   "metadata": {},
   "outputs": [],
   "source": [
    "corpus_anies = []\n",
    "\n",
    "for i in df_anies['final_text']:\n",
    "  corpus_anies.append(i)\n",
    "\n",
    "corpus_anies = set([word for words in corpus_anies for word in words])"
   ]
  },
  {
   "cell_type": "code",
   "execution_count": null,
   "metadata": {},
   "outputs": [],
   "source": [
    "corpus_unknown_anies = list(corpus_anies - corpus_kbbi)"
   ]
  },
  {
   "cell_type": "code",
   "execution_count": null,
   "metadata": {},
   "outputs": [],
   "source": [
    "len(corpus_unknown_anies)"
   ]
  },
  {
   "cell_type": "code",
   "execution_count": null,
   "metadata": {},
   "outputs": [],
   "source": [
    "corpus_unknown_anies"
   ]
  },
  {
   "attachments": {},
   "cell_type": "markdown",
   "metadata": {},
   "source": [
    "<h3>Datasets Puan</h3>"
   ]
  },
  {
   "cell_type": "code",
   "execution_count": null,
   "metadata": {},
   "outputs": [],
   "source": [
    "df_puan['Tokenized'] = df_puan['Text'].apply(lambda x: x.split())"
   ]
  },
  {
   "cell_type": "code",
   "execution_count": null,
   "metadata": {},
   "outputs": [],
   "source": [
    "df_puan.head()"
   ]
  },
  {
   "cell_type": "code",
   "execution_count": null,
   "metadata": {},
   "outputs": [],
   "source": [
    "corpus_puan = []\n",
    "\n",
    "for i in df_puan['final_text']:\n",
    "  corpus_puan.append(i)\n",
    "\n",
    "corpus_puan = set([word for words in corpus_puan for word in words])"
   ]
  },
  {
   "cell_type": "code",
   "execution_count": null,
   "metadata": {},
   "outputs": [],
   "source": [
    "corpus_unknown_puan = list(corpus_puan - corpus_kbbi)"
   ]
  },
  {
   "cell_type": "code",
   "execution_count": null,
   "metadata": {},
   "outputs": [],
   "source": [
    "len(corpus_unknown_puan)"
   ]
  },
  {
   "cell_type": "code",
   "execution_count": null,
   "metadata": {},
   "outputs": [],
   "source": [
    "corpus_unknown_puan"
   ]
  },
  {
   "attachments": {},
   "cell_type": "markdown",
   "metadata": {},
   "source": [
    "<h3>Datasets Luhut</h3>"
   ]
  },
  {
   "cell_type": "code",
   "execution_count": null,
   "metadata": {},
   "outputs": [],
   "source": [
    "df_luhut['Tokenized'] = df_luhut['Text'].apply(lambda x: x.split())"
   ]
  },
  {
   "cell_type": "code",
   "execution_count": null,
   "metadata": {},
   "outputs": [],
   "source": [
    "df_luhut.head()"
   ]
  },
  {
   "cell_type": "code",
   "execution_count": null,
   "metadata": {},
   "outputs": [],
   "source": [
    "corpus_luhut = []\n",
    "\n",
    "for i in df_luhut['final_text']:\n",
    "  corpus_luhut.append(i)\n",
    "\n",
    "corpus_luhut = set([word for words in corpus_luhut for word in words])"
   ]
  },
  {
   "cell_type": "code",
   "execution_count": null,
   "metadata": {},
   "outputs": [],
   "source": [
    "corpus_unknown_luhut = list(corpus_luhut - corpus_kbbi)"
   ]
  },
  {
   "cell_type": "code",
   "execution_count": null,
   "metadata": {},
   "outputs": [],
   "source": [
    "len(corpus_unknown_luhut)"
   ]
  },
  {
   "cell_type": "code",
   "execution_count": null,
   "metadata": {},
   "outputs": [],
   "source": [
    "corpus_unknown_luhut"
   ]
  },
  {
   "attachments": {},
   "cell_type": "markdown",
   "metadata": {},
   "source": [
    "<h3>Datasets Ganjar</h3>"
   ]
  },
  {
   "cell_type": "code",
   "execution_count": null,
   "metadata": {},
   "outputs": [],
   "source": [
    "df_ganjar['Tokenized'] = df_ganjar['Text'].apply(lambda x: x.split())"
   ]
  },
  {
   "cell_type": "code",
   "execution_count": null,
   "metadata": {},
   "outputs": [],
   "source": [
    "df_ganjar.head()"
   ]
  },
  {
   "cell_type": "code",
   "execution_count": null,
   "metadata": {},
   "outputs": [],
   "source": [
    "corpus_ganjar = []\n",
    "\n",
    "for i in df_ganjar['Tokenized']:\n",
    "  corpus_ganjar.append(i)\n",
    "\n",
    "corpus_ganjar = set([word for words in corpus_ganjar for word in words])"
   ]
  },
  {
   "cell_type": "code",
   "execution_count": null,
   "metadata": {},
   "outputs": [],
   "source": [
    "corpus_unknown_ganjar = list(corpus_ganjar - corpus_kbbi)"
   ]
  },
  {
   "cell_type": "code",
   "execution_count": null,
   "metadata": {},
   "outputs": [],
   "source": [
    "len(corpus_unknown_ganjar)"
   ]
  },
  {
   "attachments": {},
   "cell_type": "markdown",
   "metadata": {},
   "source": [
    "<h3>Datasets Republik Pencitraan</h3>"
   ]
  },
  {
   "cell_type": "code",
   "execution_count": null,
   "metadata": {},
   "outputs": [],
   "source": [
    "df_republik['Tokenized'] = df_republik['Text'].apply(lambda x: x.split())"
   ]
  },
  {
   "cell_type": "code",
   "execution_count": null,
   "metadata": {},
   "outputs": [],
   "source": [
    "df_republik.head()"
   ]
  },
  {
   "cell_type": "code",
   "execution_count": null,
   "metadata": {},
   "outputs": [],
   "source": [
    "corpus_republik = []\n",
    "\n",
    "for i in df_republik['Tokenized']:\n",
    "  corpus_republik.append(i)\n",
    "\n",
    "corpus_republik = set([word for words in corpus_republik for word in words])"
   ]
  },
  {
   "cell_type": "code",
   "execution_count": null,
   "metadata": {},
   "outputs": [],
   "source": [
    "corpus_unknown_republik = list(corpus_republik - corpus_kbbi)"
   ]
  },
  {
   "cell_type": "code",
   "execution_count": null,
   "metadata": {},
   "outputs": [],
   "source": [
    "len(corpus_unknown_republik)"
   ]
  },
  {
   "attachments": {},
   "cell_type": "markdown",
   "metadata": {},
   "source": [
    "<h3>Datasets Politik</h3>"
   ]
  },
  {
   "cell_type": "code",
   "execution_count": null,
   "metadata": {},
   "outputs": [],
   "source": [
    "df_politik['Tokenized'] = df_politik['Text'].apply(lambda x: x.split())"
   ]
  },
  {
   "cell_type": "code",
   "execution_count": null,
   "metadata": {},
   "outputs": [],
   "source": [
    "df_politik.head()"
   ]
  },
  {
   "cell_type": "code",
   "execution_count": null,
   "metadata": {},
   "outputs": [],
   "source": [
    "corpus_politik = []\n",
    "\n",
    "for i in df_politik['Tokenized']:\n",
    "  corpus_politik.append(i)\n",
    "\n",
    "corpus_politik = set([word for words in corpus_politik for word in words])"
   ]
  },
  {
   "cell_type": "code",
   "execution_count": null,
   "metadata": {},
   "outputs": [],
   "source": [
    "corpus_unknown_politik = list(corpus_politik - corpus_kbbi)"
   ]
  },
  {
   "cell_type": "code",
   "execution_count": null,
   "metadata": {},
   "outputs": [],
   "source": [
    "len(corpus_unknown_politik)"
   ]
  },
  {
   "cell_type": "code",
   "execution_count": null,
   "metadata": {},
   "outputs": [],
   "source": [
    "corpus_unknown_words = []\n",
    "\n",
    "for i in corpus_unknown_politik:\n",
    "    corpus_unknown_words.append(i)\n",
    "\n",
    "\n",
    "for i in corpus_unknown_caknun:\n",
    "    corpus_unknown_words.append(i)\n",
    "\n",
    "\n",
    "for i in corpus_unknown_anies:\n",
    "    corpus_unknown_words.append(i)\n",
    "\n",
    "\n",
    "for i in corpus_unknown_puan:\n",
    "    corpus_unknown_words.append(i)\n",
    "\n",
    "\n",
    "for i in corpus_unknown_luhut:\n",
    "    corpus_unknown_words.append(i)\n",
    "\n",
    "\n",
    "for i in corpus_unknown_ganjar:\n",
    "    corpus_unknown_words.append(i)\n",
    "\n",
    "\n",
    "for i in corpus_unknown_republik:\n",
    "    corpus_unknown_words.append(i)"
   ]
  },
  {
   "cell_type": "code",
   "execution_count": null,
   "metadata": {},
   "outputs": [],
   "source": [
    "corpus_unknown_words = list(dict.fromkeys(corpus_unknown_words))\n",
    "len(corpus_unknown_words)"
   ]
  },
  {
   "cell_type": "code",
   "execution_count": null,
   "metadata": {},
   "outputs": [],
   "source": [
    "df_unknown_words = pd.DataFrame(corpus_unknown_words, columns=['Kata'])"
   ]
  },
  {
   "cell_type": "code",
   "execution_count": null,
   "metadata": {},
   "outputs": [],
   "source": [
    "df_unknown_words.info()\n",
    "df_unknown_words.head(6)"
   ]
  },
  {
   "cell_type": "code",
   "execution_count": null,
   "metadata": {},
   "outputs": [],
   "source": [
    "# Check Duplicated Word\n",
    "df_unknown_words.duplicated().sum()"
   ]
  },
  {
   "cell_type": "code",
   "execution_count": null,
   "metadata": {},
   "outputs": [],
   "source": [
    "# df_unknown_words.to_excel('new_unknown_words.xlsx')"
   ]
  },
  {
   "attachments": {},
   "cell_type": "markdown",
   "metadata": {},
   "source": [
    "<h2>Replacing Unknown Words Using Unknown Corpus</h2>"
   ]
  },
  {
   "cell_type": "code",
   "execution_count": 181,
   "metadata": {},
   "outputs": [],
   "source": [
    "def replace_unknown_words(tokens, unknown_dict):\n",
    "    for i in range(len(tokens)):\n",
    "        if tokens[i] in unknown_dict:\n",
    "            tokens[i] = unknown_dict[tokens[i]]\n",
    "    return tokens"
   ]
  },
  {
   "cell_type": "code",
   "execution_count": 182,
   "metadata": {},
   "outputs": [
    {
     "name": "stdout",
     "output_type": "stream",
     "text": [
      "<class 'pandas.core.frame.DataFrame'>\n",
      "RangeIndex: 7259 entries, 0 to 7258\n",
      "Data columns (total 3 columns):\n",
      " #   Column      Non-Null Count  Dtype \n",
      "---  ------      --------------  ----- \n",
      " 0   Unnamed: 0  7259 non-null   int64 \n",
      " 1   Kata        7258 non-null   object\n",
      " 2   Replace     7259 non-null   object\n",
      "dtypes: int64(1), object(2)\n",
      "memory usage: 170.3+ KB\n"
     ]
    },
    {
     "data": {
      "text/html": [
       "<div>\n",
       "<style scoped>\n",
       "    .dataframe tbody tr th:only-of-type {\n",
       "        vertical-align: middle;\n",
       "    }\n",
       "\n",
       "    .dataframe tbody tr th {\n",
       "        vertical-align: top;\n",
       "    }\n",
       "\n",
       "    .dataframe thead th {\n",
       "        text-align: right;\n",
       "    }\n",
       "</style>\n",
       "<table border=\"1\" class=\"dataframe\">\n",
       "  <thead>\n",
       "    <tr style=\"text-align: right;\">\n",
       "      <th></th>\n",
       "      <th>Unnamed: 0</th>\n",
       "      <th>Kata</th>\n",
       "      <th>Replace</th>\n",
       "    </tr>\n",
       "  </thead>\n",
       "  <tbody>\n",
       "    <tr>\n",
       "      <th>0</th>\n",
       "      <td>0</td>\n",
       "      <td>mikir</td>\n",
       "      <td>pikir</td>\n",
       "    </tr>\n",
       "    <tr>\n",
       "      <th>1</th>\n",
       "      <td>1</td>\n",
       "      <td>jokowi</td>\n",
       "      <td>jokowi</td>\n",
       "    </tr>\n",
       "    <tr>\n",
       "      <th>2</th>\n",
       "      <td>2</td>\n",
       "      <td>jon</td>\n",
       "      <td>jon</td>\n",
       "    </tr>\n",
       "    <tr>\n",
       "      <th>3</th>\n",
       "      <td>4</td>\n",
       "      <td>haha</td>\n",
       "      <td>lucu</td>\n",
       "    </tr>\n",
       "    <tr>\n",
       "      <th>4</th>\n",
       "      <td>5</td>\n",
       "      <td>bwt</td>\n",
       "      <td>untuk</td>\n",
       "    </tr>\n",
       "    <tr>\n",
       "      <th>5</th>\n",
       "      <td>6</td>\n",
       "      <td>youtube</td>\n",
       "      <td>youtube</td>\n",
       "    </tr>\n",
       "  </tbody>\n",
       "</table>\n",
       "</div>"
      ],
      "text/plain": [
       "   Unnamed: 0     Kata  Replace\n",
       "0           0    mikir    pikir\n",
       "1           1   jokowi   jokowi\n",
       "2           2      jon      jon\n",
       "3           4     haha     lucu\n",
       "4           5      bwt    untuk\n",
       "5           6  youtube  youtube"
      ]
     },
     "execution_count": 182,
     "metadata": {},
     "output_type": "execute_result"
    }
   ],
   "source": [
    "df_unknown = pd.read_excel('Unknown_Words.xlsx')\n",
    "df_unknown.info()\n",
    "df_unknown.head(6)"
   ]
  },
  {
   "cell_type": "code",
   "execution_count": 183,
   "metadata": {},
   "outputs": [],
   "source": [
    "df_unknown = df_unknown.drop(columns='Unnamed: 0')"
   ]
  },
  {
   "cell_type": "code",
   "execution_count": 184,
   "metadata": {},
   "outputs": [],
   "source": [
    "unknown_dict = dict(zip(df_unknown['Kata'], df_unknown['Replace']))"
   ]
  },
  {
   "cell_type": "code",
   "execution_count": 185,
   "metadata": {},
   "outputs": [],
   "source": [
    "unknown_dict = {str(key): str(value) for key, value in unknown_dict.items()}"
   ]
  },
  {
   "attachments": {},
   "cell_type": "markdown",
   "metadata": {},
   "source": [
    "<h3>Datasets CakNun</h3>"
   ]
  },
  {
   "cell_type": "code",
   "execution_count": 186,
   "metadata": {},
   "outputs": [],
   "source": [
    "df_caknun['Tokenized'] = df_caknun['Text'].str.split()"
   ]
  },
  {
   "cell_type": "code",
   "execution_count": 187,
   "metadata": {},
   "outputs": [],
   "source": [
    "df_caknun['Tokenized'] = df_caknun['Tokenized'].apply(replace_unknown_words, unknown_dict=unknown_dict)"
   ]
  },
  {
   "cell_type": "code",
   "execution_count": 188,
   "metadata": {},
   "outputs": [],
   "source": [
    "df_caknun['final_text'] = df_caknun['Tokenized'].apply(' '.join)"
   ]
  },
  {
   "cell_type": "code",
   "execution_count": 189,
   "metadata": {},
   "outputs": [],
   "source": [
    "df_caknun['final_text'] = df_caknun['final_text'].apply(remove_punctuation)"
   ]
  },
  {
   "cell_type": "code",
   "execution_count": 190,
   "metadata": {},
   "outputs": [],
   "source": [
    "df_caknun['final_text'] = df_caknun['final_text'].apply(remove_newLines)"
   ]
  },
  {
   "cell_type": "code",
   "execution_count": 191,
   "metadata": {},
   "outputs": [],
   "source": [
    "df_caknun['final_text'] = df_caknun['final_text'].apply(stopword_remover_sastrawi)\n",
    "\n",
    "df_caknun['final_text'] = df_caknun['final_text'].apply(stopword_remover_nltk)"
   ]
  },
  {
   "cell_type": "code",
   "execution_count": 192,
   "metadata": {},
   "outputs": [
    {
     "data": {
      "text/html": [
       "<div>\n",
       "<style scoped>\n",
       "    .dataframe tbody tr th:only-of-type {\n",
       "        vertical-align: middle;\n",
       "    }\n",
       "\n",
       "    .dataframe tbody tr th {\n",
       "        vertical-align: top;\n",
       "    }\n",
       "\n",
       "    .dataframe thead th {\n",
       "        text-align: right;\n",
       "    }\n",
       "</style>\n",
       "<table border=\"1\" class=\"dataframe\">\n",
       "  <thead>\n",
       "    <tr style=\"text-align: right;\">\n",
       "      <th></th>\n",
       "      <th>Text</th>\n",
       "      <th>emoji</th>\n",
       "      <th>Tokenized</th>\n",
       "      <th>final_text</th>\n",
       "    </tr>\n",
       "  </thead>\n",
       "  <tbody>\n",
       "    <tr>\n",
       "      <th>0</th>\n",
       "      <td>mencemooh putus asa marah sejenis menekankan s...</td>\n",
       "      <td>😨</td>\n",
       "      <td>[mencemooh, putus, asa, marah, sejenis, meneka...</td>\n",
       "      <td>mencemooh putus asa marah sejenis menekankan suku</td>\n",
       "    </tr>\n",
       "    <tr>\n",
       "      <th>1</th>\n",
       "      <td>jagat jagat mengenal tuhan mengenal mengenal m</td>\n",
       "      <td>😨</td>\n",
       "      <td>[jagat, jagat, mengenal, tuhan, mengenal, meng...</td>\n",
       "      <td>jagat jagat mengenal tuhan mengenal mengenal m</td>\n",
       "    </tr>\n",
       "    <tr>\n",
       "      <th>2</th>\n",
       "      <td>mbah nun politisi kubu 01 bonekay korp serakah...</td>\n",
       "      <td>👉   👈 😨</td>\n",
       "      <td>[mbah, nun, politisi, kubu, ., boneka, korps, ...</td>\n",
       "      <td>mbah nun politisi kubu boneka korps serakah ho...</td>\n",
       "    </tr>\n",
       "    <tr>\n",
       "      <th>3</th>\n",
       "      <td>mbah nun s b ydyo j k kubu 01 2y negarawan pol...</td>\n",
       "      <td>👇   😨</td>\n",
       "      <td>[mbah, nun, s, b, yudhoyono, j, k, kubu, ., .,...</td>\n",
       "      <td>mbah nun s b yudhoyono j k kubu negarawan poli...</td>\n",
       "    </tr>\n",
       "    <tr>\n",
       "      <th>4</th>\n",
       "      <td>mbah nun banci komunis sengkuni yg ngumpet dib...</td>\n",
       "      <td>👉            👈     😨</td>\n",
       "      <td>[mbah, nun, banci, komunis, sengkuni, yang, se...</td>\n",
       "      <td>mbah nun banci komunis sengkuni sembunyi akun ...</td>\n",
       "    </tr>\n",
       "  </tbody>\n",
       "</table>\n",
       "</div>"
      ],
      "text/plain": [
       "                                                Text  \\\n",
       "0  mencemooh putus asa marah sejenis menekankan s...   \n",
       "1     jagat jagat mengenal tuhan mengenal mengenal m   \n",
       "2  mbah nun politisi kubu 01 bonekay korp serakah...   \n",
       "3  mbah nun s b ydyo j k kubu 01 2y negarawan pol...   \n",
       "4  mbah nun banci komunis sengkuni yg ngumpet dib...   \n",
       "\n",
       "                                     emoji  \\\n",
       "0                                        😨   \n",
       "1                                        😨   \n",
       "2                                  👉   👈 😨   \n",
       "3                                    👇   😨   \n",
       "4                     👉            👈     😨   \n",
       "\n",
       "                                           Tokenized  \\\n",
       "0  [mencemooh, putus, asa, marah, sejenis, meneka...   \n",
       "1  [jagat, jagat, mengenal, tuhan, mengenal, meng...   \n",
       "2  [mbah, nun, politisi, kubu, ., boneka, korps, ...   \n",
       "3  [mbah, nun, s, b, yudhoyono, j, k, kubu, ., .,...   \n",
       "4  [mbah, nun, banci, komunis, sengkuni, yang, se...   \n",
       "\n",
       "                                          final_text  \n",
       "0  mencemooh putus asa marah sejenis menekankan suku  \n",
       "1     jagat jagat mengenal tuhan mengenal mengenal m  \n",
       "2  mbah nun politisi kubu boneka korps serakah ho...  \n",
       "3  mbah nun s b yudhoyono j k kubu negarawan poli...  \n",
       "4  mbah nun banci komunis sengkuni sembunyi akun ...  "
      ]
     },
     "execution_count": 192,
     "metadata": {},
     "output_type": "execute_result"
    }
   ],
   "source": [
    "df_caknun.head()"
   ]
  },
  {
   "attachments": {},
   "cell_type": "markdown",
   "metadata": {},
   "source": [
    "<h3>Datasets Anies</h3>"
   ]
  },
  {
   "cell_type": "code",
   "execution_count": 193,
   "metadata": {},
   "outputs": [],
   "source": [
    "df_anies['Tokenized'] = df_anies['Text'].str.split()"
   ]
  },
  {
   "cell_type": "code",
   "execution_count": 194,
   "metadata": {},
   "outputs": [],
   "source": [
    "df_anies['Tokenized'] = df_anies['Tokenized'].apply(replace_unknown_words, unknown_dict=unknown_dict)"
   ]
  },
  {
   "cell_type": "code",
   "execution_count": 195,
   "metadata": {},
   "outputs": [],
   "source": [
    "df_anies['final_text'] = df_anies['Tokenized'].apply(' '.join)"
   ]
  },
  {
   "cell_type": "code",
   "execution_count": 196,
   "metadata": {},
   "outputs": [],
   "source": [
    "df_anies['final_text'] = df_anies['final_text'].apply(remove_punctuation)"
   ]
  },
  {
   "cell_type": "code",
   "execution_count": 197,
   "metadata": {},
   "outputs": [],
   "source": [
    "df_anies['final_text'] = df_anies['final_text'].apply(remove_newLines)"
   ]
  },
  {
   "cell_type": "code",
   "execution_count": 198,
   "metadata": {},
   "outputs": [],
   "source": [
    "df_anies['final_text'] = df_anies['final_text'].apply(stopword_remover_sastrawi)\n",
    "\n",
    "df_anies['final_text'] = df_anies['final_text'].apply(stopword_remover_nltk)"
   ]
  },
  {
   "cell_type": "code",
   "execution_count": 199,
   "metadata": {},
   "outputs": [
    {
     "data": {
      "text/html": [
       "<div>\n",
       "<style scoped>\n",
       "    .dataframe tbody tr th:only-of-type {\n",
       "        vertical-align: middle;\n",
       "    }\n",
       "\n",
       "    .dataframe tbody tr th {\n",
       "        vertical-align: top;\n",
       "    }\n",
       "\n",
       "    .dataframe thead th {\n",
       "        text-align: right;\n",
       "    }\n",
       "</style>\n",
       "<table border=\"1\" class=\"dataframe\">\n",
       "  <thead>\n",
       "    <tr style=\"text-align: right;\">\n",
       "      <th></th>\n",
       "      <th>Text</th>\n",
       "      <th>emoji</th>\n",
       "      <th>Tokenized</th>\n",
       "      <th>final_text</th>\n",
       "    </tr>\n",
       "  </thead>\n",
       "  <tbody>\n",
       "    <tr>\n",
       "      <th>0</th>\n",
       "      <td>prettttt gagasan mulu yg dibahas zonk eksekusi...</td>\n",
       "      <td>😠</td>\n",
       "      <td>[., gagasan, terus, yang, bahas, sial, eksekus...</td>\n",
       "      <td>gagasan bahas sial eksekusi lucu ga malu juala...</td>\n",
       "    </tr>\n",
       "    <tr>\n",
       "      <th>1</th>\n",
       "      <td>pemborosan bangunan tingkat kampung sebentar b...</td>\n",
       "      <td>😠</td>\n",
       "      <td>[pemborosan, bangunan, tingkat, kampung, seben...</td>\n",
       "      <td>pemborosan bangunan tingkat kampung sebentar b...</td>\n",
       "    </tr>\n",
       "    <tr>\n",
       "      <th>2</th>\n",
       "      <td>alhamdulillah puji bagimu allah barakallah bpk...</td>\n",
       "      <td>😠</td>\n",
       "      <td>[alhamdulillah, puji, ., allah, berkah, bpk, a...</td>\n",
       "      <td>alhamdulillah puji allah berkah bpk anies basw...</td>\n",
       "    </tr>\n",
       "    <tr>\n",
       "      <th>3</th>\n",
       "      <td>dear kebanyakan ngedabol pergi kalimantan meng...</td>\n",
       "      <td>👇 😠</td>\n",
       "      <td>[hormat, kebanyakan, ., pergi, kalimantan, men...</td>\n",
       "      <td>hormat kebanyakan pergi kalimantan mengaku ora...</td>\n",
       "    </tr>\n",
       "    <tr>\n",
       "      <th>4</th>\n",
       "      <td>pemimpin dosen yg pindah ruang kelebihan keleb...</td>\n",
       "      <td>😠</td>\n",
       "      <td>[pemimpin, dosen, yang, pindah, ruang, kelebih...</td>\n",
       "      <td>pemimpin dosen pindah ruang kelebihan kelebiha...</td>\n",
       "    </tr>\n",
       "  </tbody>\n",
       "</table>\n",
       "</div>"
      ],
      "text/plain": [
       "                                                Text             emoji  \\\n",
       "0  prettttt gagasan mulu yg dibahas zonk eksekusi...                 😠   \n",
       "1  pemborosan bangunan tingkat kampung sebentar b...                 😠   \n",
       "2  alhamdulillah puji bagimu allah barakallah bpk...                 😠   \n",
       "3  dear kebanyakan ngedabol pergi kalimantan meng...               👇 😠   \n",
       "4  pemimpin dosen yg pindah ruang kelebihan keleb...                 😠   \n",
       "\n",
       "                                           Tokenized  \\\n",
       "0  [., gagasan, terus, yang, bahas, sial, eksekus...   \n",
       "1  [pemborosan, bangunan, tingkat, kampung, seben...   \n",
       "2  [alhamdulillah, puji, ., allah, berkah, bpk, a...   \n",
       "3  [hormat, kebanyakan, ., pergi, kalimantan, men...   \n",
       "4  [pemimpin, dosen, yang, pindah, ruang, kelebih...   \n",
       "\n",
       "                                          final_text  \n",
       "0  gagasan bahas sial eksekusi lucu ga malu juala...  \n",
       "1  pemborosan bangunan tingkat kampung sebentar b...  \n",
       "2  alhamdulillah puji allah berkah bpk anies basw...  \n",
       "3  hormat kebanyakan pergi kalimantan mengaku ora...  \n",
       "4  pemimpin dosen pindah ruang kelebihan kelebiha...  "
      ]
     },
     "execution_count": 199,
     "metadata": {},
     "output_type": "execute_result"
    }
   ],
   "source": [
    "df_anies.head()"
   ]
  },
  {
   "attachments": {},
   "cell_type": "markdown",
   "metadata": {},
   "source": [
    "<h3>Datasets Puan</h3>"
   ]
  },
  {
   "cell_type": "code",
   "execution_count": 200,
   "metadata": {},
   "outputs": [],
   "source": [
    "df_puan['Tokenized'] = df_puan['Text'].str.split()"
   ]
  },
  {
   "cell_type": "code",
   "execution_count": 201,
   "metadata": {},
   "outputs": [],
   "source": [
    "df_puan['Tokenized'] = df_puan['Tokenized'].apply(replace_unknown_words, unknown_dict=unknown_dict)"
   ]
  },
  {
   "cell_type": "code",
   "execution_count": 202,
   "metadata": {},
   "outputs": [],
   "source": [
    "df_puan['final_text'] = df_puan['Tokenized'].apply(' '.join)"
   ]
  },
  {
   "cell_type": "code",
   "execution_count": 203,
   "metadata": {},
   "outputs": [],
   "source": [
    "df_puan['final_text'] = df_puan['final_text'].apply(remove_punctuation)"
   ]
  },
  {
   "cell_type": "code",
   "execution_count": 204,
   "metadata": {},
   "outputs": [],
   "source": [
    "df_puan['final_text'] = df_puan['final_text'].apply(remove_newLines)"
   ]
  },
  {
   "cell_type": "code",
   "execution_count": 205,
   "metadata": {},
   "outputs": [],
   "source": [
    "df_puan['final_text'] = df_puan['final_text'].apply(stopword_remover_sastrawi)\n",
    "\n",
    "df_puan['final_text'] = df_puan['final_text'].apply(stopword_remover_nltk)"
   ]
  },
  {
   "cell_type": "code",
   "execution_count": 206,
   "metadata": {},
   "outputs": [
    {
     "data": {
      "text/html": [
       "<div>\n",
       "<style scoped>\n",
       "    .dataframe tbody tr th:only-of-type {\n",
       "        vertical-align: middle;\n",
       "    }\n",
       "\n",
       "    .dataframe tbody tr th {\n",
       "        vertical-align: top;\n",
       "    }\n",
       "\n",
       "    .dataframe thead th {\n",
       "        text-align: right;\n",
       "    }\n",
       "</style>\n",
       "<table border=\"1\" class=\"dataframe\">\n",
       "  <thead>\n",
       "    <tr style=\"text-align: right;\">\n",
       "      <th></th>\n",
       "      <th>Text</th>\n",
       "      <th>emoji</th>\n",
       "      <th>Tokenized</th>\n",
       "      <th>final_text</th>\n",
       "    </tr>\n",
       "  </thead>\n",
       "  <tbody>\n",
       "    <tr>\n",
       "      <th>0</th>\n",
       "      <td>kemarin yg lempar lempar kaos masem mukanya le...</td>\n",
       "      <td>💯</td>\n",
       "      <td>[kemarin, yang, lempar, lempar, kaos, mesem, m...</td>\n",
       "      <td>kemarin lempar lempar kaos mesem muka lempar l...</td>\n",
       "    </tr>\n",
       "    <tr>\n",
       "      <th>1</th>\n",
       "      <td>ga perduli penjelasanmuuuu puan kau orangnya k...</td>\n",
       "      <td>💯</td>\n",
       "      <td>[ga, perduli, penjelasan, puan, kau, orang, ka...</td>\n",
       "      <td>ga perduli penjelasan puan kau orang kau sembu...</td>\n",
       "    </tr>\n",
       "    <tr>\n",
       "      <th>2</th>\n",
       "      <td>ciri ciri barang g laku diobral</td>\n",
       "      <td>💯</td>\n",
       "      <td>[ciri, ciri, barang, g, laku, obral]</td>\n",
       "      <td>ciri ciri barang g laku obral</td>\n",
       "    </tr>\n",
       "    <tr>\n",
       "      <th>3</th>\n",
       "      <td>sadar</td>\n",
       "      <td>🤭 💯</td>\n",
       "      <td>[sadar]</td>\n",
       "      <td>sadar</td>\n",
       "    </tr>\n",
       "    <tr>\n",
       "      <th>4</th>\n",
       "      <td>gak dibrief</td>\n",
       "      <td>💯</td>\n",
       "      <td>[tidak, .]</td>\n",
       "      <td></td>\n",
       "    </tr>\n",
       "  </tbody>\n",
       "</table>\n",
       "</div>"
      ],
      "text/plain": [
       "                                                Text                emoji  \\\n",
       "0  kemarin yg lempar lempar kaos masem mukanya le...                    💯   \n",
       "1  ga perduli penjelasanmuuuu puan kau orangnya k...                    💯   \n",
       "2                    ciri ciri barang g laku diobral                    💯   \n",
       "3                                              sadar                  🤭 💯   \n",
       "4                                        gak dibrief                    💯   \n",
       "\n",
       "                                           Tokenized  \\\n",
       "0  [kemarin, yang, lempar, lempar, kaos, mesem, m...   \n",
       "1  [ga, perduli, penjelasan, puan, kau, orang, ka...   \n",
       "2               [ciri, ciri, barang, g, laku, obral]   \n",
       "3                                            [sadar]   \n",
       "4                                         [tidak, .]   \n",
       "\n",
       "                                          final_text  \n",
       "0  kemarin lempar lempar kaos mesem muka lempar l...  \n",
       "1  ga perduli penjelasan puan kau orang kau sembu...  \n",
       "2                      ciri ciri barang g laku obral  \n",
       "3                                              sadar  \n",
       "4                                                     "
      ]
     },
     "execution_count": 206,
     "metadata": {},
     "output_type": "execute_result"
    }
   ],
   "source": [
    "df_puan.head()"
   ]
  },
  {
   "attachments": {},
   "cell_type": "markdown",
   "metadata": {},
   "source": [
    "<h3>Datasets Luhut</h3>"
   ]
  },
  {
   "cell_type": "code",
   "execution_count": 207,
   "metadata": {},
   "outputs": [],
   "source": [
    "df_luhut['Tokenized'] = df_luhut['Text'].str.split()"
   ]
  },
  {
   "cell_type": "code",
   "execution_count": 208,
   "metadata": {},
   "outputs": [],
   "source": [
    "df_luhut['Tokenized'] = df_luhut['Tokenized'].apply(replace_unknown_words, unknown_dict=unknown_dict)"
   ]
  },
  {
   "cell_type": "code",
   "execution_count": 209,
   "metadata": {},
   "outputs": [],
   "source": [
    "df_luhut['final_text'] = df_luhut['Tokenized'].apply(' '.join)"
   ]
  },
  {
   "cell_type": "code",
   "execution_count": 210,
   "metadata": {},
   "outputs": [],
   "source": [
    "df_luhut['final_text'] = df_luhut['final_text'].apply(remove_punctuation)"
   ]
  },
  {
   "cell_type": "code",
   "execution_count": 211,
   "metadata": {},
   "outputs": [],
   "source": [
    "df_luhut['final_text'] = df_luhut['final_text'].apply(remove_newLines)"
   ]
  },
  {
   "cell_type": "code",
   "execution_count": 212,
   "metadata": {},
   "outputs": [],
   "source": [
    "df_luhut['final_text'] = df_luhut['final_text'].apply(stopword_remover_sastrawi)\n",
    "\n",
    "df_luhut['final_text'] = df_luhut['final_text'].apply(stopword_remover_nltk)"
   ]
  },
  {
   "cell_type": "code",
   "execution_count": 213,
   "metadata": {},
   "outputs": [
    {
     "data": {
      "text/html": [
       "<div>\n",
       "<style scoped>\n",
       "    .dataframe tbody tr th:only-of-type {\n",
       "        vertical-align: middle;\n",
       "    }\n",
       "\n",
       "    .dataframe tbody tr th {\n",
       "        vertical-align: top;\n",
       "    }\n",
       "\n",
       "    .dataframe thead th {\n",
       "        text-align: right;\n",
       "    }\n",
       "</style>\n",
       "<table border=\"1\" class=\"dataframe\">\n",
       "  <thead>\n",
       "    <tr style=\"text-align: right;\">\n",
       "      <th></th>\n",
       "      <th>Text</th>\n",
       "      <th>emoji</th>\n",
       "      <th>Tokenized</th>\n",
       "      <th>final_text</th>\n",
       "    </tr>\n",
       "  </thead>\n",
       "  <tbody>\n",
       "    <tr>\n",
       "      <th>0</th>\n",
       "      <td>menko km opung luhut b panjaitan kendaraan lis...</td>\n",
       "      <td>😨</td>\n",
       "      <td>[menteri, km, paman, luhut, b, ., kendaraan, l...</td>\n",
       "      <td>menteri km paman luhut b kendaraan listrik men...</td>\n",
       "    </tr>\n",
       "    <tr>\n",
       "      <th>1</th>\n",
       "      <td>luhut binsar panjaitan lbp abdi pahlawan negar...</td>\n",
       "      <td>😨</td>\n",
       "      <td>[luhut, binsar, ., luhut binsar pandjaitan, ab...</td>\n",
       "      <td>luhut binsar luhut binsar pandjaitan abdi pahl...</td>\n",
       "    </tr>\n",
       "    <tr>\n",
       "      <th>2</th>\n",
       "      <td>yg kasih perintah luhut binsar panjaitan ketua...</td>\n",
       "      <td>😨</td>\n",
       "      <td>[yang, kasih, perintah, luhut, binsar, ., ketu...</td>\n",
       "      <td>kasih perintah luhut binsar ketua buang karyaw...</td>\n",
       "    </tr>\n",
       "    <tr>\n",
       "      <th>3</th>\n",
       "      <td>melawan perintah luhut binsar panjaitan mendin...</td>\n",
       "      <td>🤭 😨</td>\n",
       "      <td>[melawan, perintah, luhut, binsar, ., mending,...</td>\n",
       "      <td>melawan perintah luhut binsar mending hancur i...</td>\n",
       "    </tr>\n",
       "    <tr>\n",
       "      <th>4</th>\n",
       "      <td>hei luhut binsar panjaitan warga kau mengurus ...</td>\n",
       "      <td>😨</td>\n",
       "      <td>[hei, luhut, binsar, ., warga, kau, mengurus, ...</td>\n",
       "      <td>hei luhut binsar warga kau mengurus negara bac...</td>\n",
       "    </tr>\n",
       "  </tbody>\n",
       "</table>\n",
       "</div>"
      ],
      "text/plain": [
       "                                                Text  \\\n",
       "0  menko km opung luhut b panjaitan kendaraan lis...   \n",
       "1  luhut binsar panjaitan lbp abdi pahlawan negar...   \n",
       "2  yg kasih perintah luhut binsar panjaitan ketua...   \n",
       "3  melawan perintah luhut binsar panjaitan mendin...   \n",
       "4  hei luhut binsar panjaitan warga kau mengurus ...   \n",
       "\n",
       "                      emoji  \\\n",
       "0                         😨   \n",
       "1                         😨   \n",
       "2                         😨   \n",
       "3                       🤭 😨   \n",
       "4                         😨   \n",
       "\n",
       "                                           Tokenized  \\\n",
       "0  [menteri, km, paman, luhut, b, ., kendaraan, l...   \n",
       "1  [luhut, binsar, ., luhut binsar pandjaitan, ab...   \n",
       "2  [yang, kasih, perintah, luhut, binsar, ., ketu...   \n",
       "3  [melawan, perintah, luhut, binsar, ., mending,...   \n",
       "4  [hei, luhut, binsar, ., warga, kau, mengurus, ...   \n",
       "\n",
       "                                          final_text  \n",
       "0  menteri km paman luhut b kendaraan listrik men...  \n",
       "1  luhut binsar luhut binsar pandjaitan abdi pahl...  \n",
       "2  kasih perintah luhut binsar ketua buang karyaw...  \n",
       "3  melawan perintah luhut binsar mending hancur i...  \n",
       "4  hei luhut binsar warga kau mengurus negara bac...  "
      ]
     },
     "execution_count": 213,
     "metadata": {},
     "output_type": "execute_result"
    }
   ],
   "source": [
    "df_luhut.head()"
   ]
  },
  {
   "attachments": {},
   "cell_type": "markdown",
   "metadata": {},
   "source": [
    "<h3>Datasets Ganjar</h3>"
   ]
  },
  {
   "cell_type": "code",
   "execution_count": 214,
   "metadata": {},
   "outputs": [],
   "source": [
    "df_ganjar['Tokenized'] = df_ganjar['Text'].str.split()"
   ]
  },
  {
   "cell_type": "code",
   "execution_count": 215,
   "metadata": {},
   "outputs": [],
   "source": [
    "df_ganjar['Tokenized'] = df_ganjar['Tokenized'].apply(replace_unknown_words, unknown_dict=unknown_dict)"
   ]
  },
  {
   "cell_type": "code",
   "execution_count": 216,
   "metadata": {},
   "outputs": [],
   "source": [
    "df_ganjar['final_text'] = df_ganjar['Tokenized'].apply(' '.join)"
   ]
  },
  {
   "cell_type": "code",
   "execution_count": 217,
   "metadata": {},
   "outputs": [],
   "source": [
    "df_ganjar['final_text'] = df_ganjar['final_text'].apply(remove_punctuation)"
   ]
  },
  {
   "cell_type": "code",
   "execution_count": 218,
   "metadata": {},
   "outputs": [],
   "source": [
    "df_ganjar['final_text'] = df_ganjar['final_text'].apply(remove_newLines)"
   ]
  },
  {
   "cell_type": "code",
   "execution_count": 219,
   "metadata": {},
   "outputs": [],
   "source": [
    "df_ganjar['final_text'] = df_ganjar['final_text'].apply(stopword_remover_sastrawi)\n",
    "\n",
    "df_ganjar['final_text'] = df_ganjar['final_text'].apply(stopword_remover_nltk)"
   ]
  },
  {
   "cell_type": "code",
   "execution_count": 220,
   "metadata": {},
   "outputs": [
    {
     "data": {
      "text/html": [
       "<div>\n",
       "<style scoped>\n",
       "    .dataframe tbody tr th:only-of-type {\n",
       "        vertical-align: middle;\n",
       "    }\n",
       "\n",
       "    .dataframe tbody tr th {\n",
       "        vertical-align: top;\n",
       "    }\n",
       "\n",
       "    .dataframe thead th {\n",
       "        text-align: right;\n",
       "    }\n",
       "</style>\n",
       "<table border=\"1\" class=\"dataframe\">\n",
       "  <thead>\n",
       "    <tr style=\"text-align: right;\">\n",
       "      <th></th>\n",
       "      <th>Text</th>\n",
       "      <th>emoji</th>\n",
       "      <th>Tokenized</th>\n",
       "      <th>final_text</th>\n",
       "    </tr>\n",
       "  </thead>\n",
       "  <tbody>\n",
       "    <tr>\n",
       "      <th>0</th>\n",
       "      <td>murni konstitusi yg ditegakkan yg pd uud 45 al...</td>\n",
       "      <td>😭</td>\n",
       "      <td>[murni, konstitusi, yang, menegakkan, yang, pa...</td>\n",
       "      <td>murni konstitusi menegakkan peraturan 1 pancas...</td>\n",
       "    </tr>\n",
       "    <tr>\n",
       "      <th>1</th>\n",
       "      <td>kantongnya bu mega paham jateng mengelu elukan...</td>\n",
       "      <td>😭</td>\n",
       "      <td>[kantong, bu, mega, paham, jateng, mengeluh, m...</td>\n",
       "      <td>kantong bu mega paham jateng mengeluh mengeluk...</td>\n",
       "    </tr>\n",
       "    <tr>\n",
       "      <th>2</th>\n",
       "      <td>haha suka</td>\n",
       "      <td>😭</td>\n",
       "      <td>[lucu, suka]</td>\n",
       "      <td>lucu suka</td>\n",
       "    </tr>\n",
       "    <tr>\n",
       "      <th>3</th>\n",
       "      <td>setuju arahan jokowi ganjar pranowo larang pej...</td>\n",
       "      <td>😭</td>\n",
       "      <td>[setuju, arahan, jokowi, ganjar, prabowo, lara...</td>\n",
       "      <td>setuju arahan jokowi ganjar prabowo larang pej...</td>\n",
       "    </tr>\n",
       "    <tr>\n",
       "      <th>4</th>\n",
       "      <td>sd q 1968 kadang pake sepatu kadang sandal jep...</td>\n",
       "      <td>😭</td>\n",
       "      <td>[sd, aku, 1968, kadang, pakai, sepatu, kadang,...</td>\n",
       "      <td>sd 1968 kadang pakai sepatu kadang sandal jepi...</td>\n",
       "    </tr>\n",
       "  </tbody>\n",
       "</table>\n",
       "</div>"
      ],
      "text/plain": [
       "                                                Text  \\\n",
       "0  murni konstitusi yg ditegakkan yg pd uud 45 al...   \n",
       "1  kantongnya bu mega paham jateng mengelu elukan...   \n",
       "2                                          haha suka   \n",
       "3  setuju arahan jokowi ganjar pranowo larang pej...   \n",
       "4  sd q 1968 kadang pake sepatu kadang sandal jep...   \n",
       "\n",
       "                           emoji  \\\n",
       "0                              😭   \n",
       "1                              😭   \n",
       "2                              😭   \n",
       "3                              😭   \n",
       "4                              😭   \n",
       "\n",
       "                                           Tokenized  \\\n",
       "0  [murni, konstitusi, yang, menegakkan, yang, pa...   \n",
       "1  [kantong, bu, mega, paham, jateng, mengeluh, m...   \n",
       "2                                       [lucu, suka]   \n",
       "3  [setuju, arahan, jokowi, ganjar, prabowo, lara...   \n",
       "4  [sd, aku, 1968, kadang, pakai, sepatu, kadang,...   \n",
       "\n",
       "                                          final_text  \n",
       "0  murni konstitusi menegakkan peraturan 1 pancas...  \n",
       "1  kantong bu mega paham jateng mengeluh mengeluk...  \n",
       "2                                          lucu suka  \n",
       "3  setuju arahan jokowi ganjar prabowo larang pej...  \n",
       "4  sd 1968 kadang pakai sepatu kadang sandal jepi...  "
      ]
     },
     "execution_count": 220,
     "metadata": {},
     "output_type": "execute_result"
    }
   ],
   "source": [
    "df_ganjar.head()"
   ]
  },
  {
   "attachments": {},
   "cell_type": "markdown",
   "metadata": {},
   "source": [
    "<h3>Datasets Republik Pencitraan</h3>"
   ]
  },
  {
   "cell_type": "code",
   "execution_count": 221,
   "metadata": {},
   "outputs": [],
   "source": [
    "df_republik['Tokenized'] = df_republik['Text'].str.split()"
   ]
  },
  {
   "cell_type": "code",
   "execution_count": 222,
   "metadata": {},
   "outputs": [],
   "source": [
    "df_republik['Tokenized'] = df_republik['Tokenized'].apply(replace_unknown_words, unknown_dict=unknown_dict)"
   ]
  },
  {
   "cell_type": "code",
   "execution_count": 223,
   "metadata": {},
   "outputs": [],
   "source": [
    "df_republik['final_text'] = df_republik['Tokenized'].apply(' '.join)"
   ]
  },
  {
   "cell_type": "code",
   "execution_count": 224,
   "metadata": {},
   "outputs": [],
   "source": [
    "df_republik['final_text'] = df_republik['final_text'].apply(remove_punctuation)"
   ]
  },
  {
   "cell_type": "code",
   "execution_count": 225,
   "metadata": {},
   "outputs": [],
   "source": [
    "df_republik['final_text'] = df_republik['final_text'].apply(remove_newLines)"
   ]
  },
  {
   "cell_type": "code",
   "execution_count": 226,
   "metadata": {},
   "outputs": [],
   "source": [
    "df_republik['final_text'] = df_republik['final_text'].apply(stopword_remover_sastrawi)\n",
    "\n",
    "df_republik['final_text'] = df_republik['final_text'].apply(stopword_remover_nltk)"
   ]
  },
  {
   "cell_type": "code",
   "execution_count": 227,
   "metadata": {},
   "outputs": [
    {
     "data": {
      "text/html": [
       "<div>\n",
       "<style scoped>\n",
       "    .dataframe tbody tr th:only-of-type {\n",
       "        vertical-align: middle;\n",
       "    }\n",
       "\n",
       "    .dataframe tbody tr th {\n",
       "        vertical-align: top;\n",
       "    }\n",
       "\n",
       "    .dataframe thead th {\n",
       "        text-align: right;\n",
       "    }\n",
       "</style>\n",
       "<table border=\"1\" class=\"dataframe\">\n",
       "  <thead>\n",
       "    <tr style=\"text-align: right;\">\n",
       "      <th></th>\n",
       "      <th>Text</th>\n",
       "      <th>emoji</th>\n",
       "      <th>Tokenized</th>\n",
       "      <th>final_text</th>\n",
       "    </tr>\n",
       "  </thead>\n",
       "  <tbody>\n",
       "    <tr>\n",
       "      <th>0</th>\n",
       "      <td>anak anak buzzing selamat lembur awas pke mask...</td>\n",
       "      <td>😔</td>\n",
       "      <td>[anak, anak, ., selamat, lembur, awas, ., mask...</td>\n",
       "      <td>anak anak selamat lembur awas masker lupa komp...</td>\n",
       "    </tr>\n",
       "    <tr>\n",
       "      <th>1</th>\n",
       "      <td>ulama dipersekusi giliran duit umat langsung n...</td>\n",
       "      <td>😑🤔 😔</td>\n",
       "      <td>[ulama, persekusi, giliran, duit, umat, langsu...</td>\n",
       "      <td>ulama persekusi giliran duit umat langsung men...</td>\n",
       "    </tr>\n",
       "    <tr>\n",
       "      <th>2</th>\n",
       "      <td>tangkap ikan kakap laut dangkal ndak bernyali ...</td>\n",
       "      <td>😔</td>\n",
       "      <td>[tangkap, ikan, kakap, laut, dangkal, tidak, b...</td>\n",
       "      <td>tangkap ikan kakap laut dangkal bernyali laut ...</td>\n",
       "    </tr>\n",
       "    <tr>\n",
       "      <th>3</th>\n",
       "      <td>anak pertiwi rat teriak betapa susah nya ekono...</td>\n",
       "      <td>😔</td>\n",
       "      <td>[anak, pertiwi, rat, teriak, betapa, susah, .,...</td>\n",
       "      <td>anak pertiwi rat teriak betapa susah ekonomi m...</td>\n",
       "    </tr>\n",
       "    <tr>\n",
       "      <th>4</th>\n",
       "      <td>usut kalo rakyat ramai ramai mengusut nya insy...</td>\n",
       "      <td>😔</td>\n",
       "      <td>[usut, kalo, rakyat, ramai, ramai, mengusut, ....</td>\n",
       "      <td>usut kalo rakyat ramai ramai mengusut insya al...</td>\n",
       "    </tr>\n",
       "  </tbody>\n",
       "</table>\n",
       "</div>"
      ],
      "text/plain": [
       "                                                Text               emoji  \\\n",
       "0  anak anak buzzing selamat lembur awas pke mask...                   😔   \n",
       "1  ulama dipersekusi giliran duit umat langsung n...                😑🤔 😔   \n",
       "2  tangkap ikan kakap laut dangkal ndak bernyali ...                   😔   \n",
       "3  anak pertiwi rat teriak betapa susah nya ekono...                   😔   \n",
       "4  usut kalo rakyat ramai ramai mengusut nya insy...                   😔   \n",
       "\n",
       "                                           Tokenized  \\\n",
       "0  [anak, anak, ., selamat, lembur, awas, ., mask...   \n",
       "1  [ulama, persekusi, giliran, duit, umat, langsu...   \n",
       "2  [tangkap, ikan, kakap, laut, dangkal, tidak, b...   \n",
       "3  [anak, pertiwi, rat, teriak, betapa, susah, .,...   \n",
       "4  [usut, kalo, rakyat, ramai, ramai, mengusut, ....   \n",
       "\n",
       "                                          final_text  \n",
       "0  anak anak selamat lembur awas masker lupa komp...  \n",
       "1  ulama persekusi giliran duit umat langsung men...  \n",
       "2  tangkap ikan kakap laut dangkal bernyali laut ...  \n",
       "3  anak pertiwi rat teriak betapa susah ekonomi m...  \n",
       "4  usut kalo rakyat ramai ramai mengusut insya al...  "
      ]
     },
     "execution_count": 227,
     "metadata": {},
     "output_type": "execute_result"
    }
   ],
   "source": [
    "df_republik.head()"
   ]
  },
  {
   "attachments": {},
   "cell_type": "markdown",
   "metadata": {},
   "source": [
    "<h3>Datasets Republik Politik</h3>"
   ]
  },
  {
   "cell_type": "code",
   "execution_count": 228,
   "metadata": {},
   "outputs": [],
   "source": [
    "df_politik['Tokenized'] = df_politik['Text'].str.split()"
   ]
  },
  {
   "cell_type": "code",
   "execution_count": 229,
   "metadata": {},
   "outputs": [],
   "source": [
    "df_politik['Tokenized'] = df_politik['Tokenized'].apply(replace_unknown_words, unknown_dict=unknown_dict)"
   ]
  },
  {
   "cell_type": "code",
   "execution_count": 230,
   "metadata": {},
   "outputs": [],
   "source": [
    "df_politik['final_text'] = df_politik['Tokenized'].apply(' '.join)"
   ]
  },
  {
   "cell_type": "code",
   "execution_count": 231,
   "metadata": {},
   "outputs": [],
   "source": [
    "df_politik['final_text'] = df_politik['final_text'].apply(remove_punctuation)"
   ]
  },
  {
   "cell_type": "code",
   "execution_count": 232,
   "metadata": {},
   "outputs": [],
   "source": [
    "df_politik['final_text'] = df_politik['final_text'].apply(remove_newLines)"
   ]
  },
  {
   "cell_type": "code",
   "execution_count": 233,
   "metadata": {},
   "outputs": [],
   "source": [
    "df_politik['final_text'] = df_politik['final_text'].apply(stopword_remover_sastrawi)\n",
    "\n",
    "df_politik['final_text'] = df_politik['final_text'].apply(stopword_remover_nltk)"
   ]
  },
  {
   "cell_type": "code",
   "execution_count": 234,
   "metadata": {},
   "outputs": [
    {
     "data": {
      "text/html": [
       "<div>\n",
       "<style scoped>\n",
       "    .dataframe tbody tr th:only-of-type {\n",
       "        vertical-align: middle;\n",
       "    }\n",
       "\n",
       "    .dataframe tbody tr th {\n",
       "        vertical-align: top;\n",
       "    }\n",
       "\n",
       "    .dataframe thead th {\n",
       "        text-align: right;\n",
       "    }\n",
       "</style>\n",
       "<table border=\"1\" class=\"dataframe\">\n",
       "  <thead>\n",
       "    <tr style=\"text-align: right;\">\n",
       "      <th></th>\n",
       "      <th>Text</th>\n",
       "      <th>emoji</th>\n",
       "      <th>Tokenized</th>\n",
       "      <th>final_text</th>\n",
       "    </tr>\n",
       "  </thead>\n",
       "  <tbody>\n",
       "    <tr>\n",
       "      <th>0</th>\n",
       "      <td>kawan2 sunda bersatu jemput arteria dahlan</td>\n",
       "      <td>😁</td>\n",
       "      <td>[kawan, sunda, bersatu, jemput, arteria, dahlan]</td>\n",
       "      <td>kawan sunda bersatu jemput arteria dahlan</td>\n",
       "    </tr>\n",
       "    <tr>\n",
       "      <th>1</th>\n",
       "      <td>arogan kapok2 arteria dahlan</td>\n",
       "      <td>😁</td>\n",
       "      <td>[arogan, kapok, arteria, dahlan]</td>\n",
       "      <td>arogan kapok arteria dahlan</td>\n",
       "    </tr>\n",
       "    <tr>\n",
       "      <th>2</th>\n",
       "      <td>arteria dahlan disidang adat sunda daerah menu...</td>\n",
       "      <td>😁</td>\n",
       "      <td>[arteria, dahlan, sidang, adat, sunda, daerah,...</td>\n",
       "      <td>arteria dahlan sidang adat sunda daerah menunt...</td>\n",
       "    </tr>\n",
       "    <tr>\n",
       "      <th>3</th>\n",
       "      <td>orang sunda jemput arteria dahlan sidang rakya...</td>\n",
       "      <td>😁</td>\n",
       "      <td>[orang, sunda, jemput, arteria, dahlan, sidang...</td>\n",
       "      <td>orang sunda jemput arteria dahlan sidang rakya...</td>\n",
       "    </tr>\n",
       "    <tr>\n",
       "      <th>4</th>\n",
       "      <td>ga ditafsirkan membanding bandingkan edy arter...</td>\n",
       "      <td>😁</td>\n",
       "      <td>[ga, tafsir, membanding, membandingkan, edy, a...</td>\n",
       "      <td>ga tafsir membanding membandingkan edy arteria...</td>\n",
       "    </tr>\n",
       "  </tbody>\n",
       "</table>\n",
       "</div>"
      ],
      "text/plain": [
       "                                                Text       emoji  \\\n",
       "0         kawan2 sunda bersatu jemput arteria dahlan           😁   \n",
       "1                       arogan kapok2 arteria dahlan           😁   \n",
       "2  arteria dahlan disidang adat sunda daerah menu...           😁   \n",
       "3  orang sunda jemput arteria dahlan sidang rakya...           😁   \n",
       "4  ga ditafsirkan membanding bandingkan edy arter...           😁   \n",
       "\n",
       "                                           Tokenized  \\\n",
       "0   [kawan, sunda, bersatu, jemput, arteria, dahlan]   \n",
       "1                   [arogan, kapok, arteria, dahlan]   \n",
       "2  [arteria, dahlan, sidang, adat, sunda, daerah,...   \n",
       "3  [orang, sunda, jemput, arteria, dahlan, sidang...   \n",
       "4  [ga, tafsir, membanding, membandingkan, edy, a...   \n",
       "\n",
       "                                          final_text  \n",
       "0          kawan sunda bersatu jemput arteria dahlan  \n",
       "1                        arogan kapok arteria dahlan  \n",
       "2  arteria dahlan sidang adat sunda daerah menunt...  \n",
       "3  orang sunda jemput arteria dahlan sidang rakya...  \n",
       "4  ga tafsir membanding membandingkan edy arteria...  "
      ]
     },
     "execution_count": 234,
     "metadata": {},
     "output_type": "execute_result"
    }
   ],
   "source": [
    "df_politik.head()"
   ]
  },
  {
   "attachments": {},
   "cell_type": "markdown",
   "metadata": {},
   "source": [
    "<h2>Create New Feature / Column by merging Text and Emoji Column</h2>"
   ]
  },
  {
   "attachments": {},
   "cell_type": "markdown",
   "metadata": {},
   "source": [
    "<h3>Datasets CakNun</h3>"
   ]
  },
  {
   "cell_type": "code",
   "execution_count": 235,
   "metadata": {},
   "outputs": [],
   "source": [
    "df_caknun['text_emoji'] = df_caknun['final_text'] + df_caknun['emoji']"
   ]
  },
  {
   "cell_type": "code",
   "execution_count": 236,
   "metadata": {},
   "outputs": [],
   "source": [
    "df_caknun['text_emoji'] = df_caknun['text_emoji'].apply(remove_newLines)"
   ]
  },
  {
   "cell_type": "code",
   "execution_count": 237,
   "metadata": {},
   "outputs": [
    {
     "data": {
      "text/plain": [
       "'mbah nun politisi kubu boneka korps serakah hobi campur ajar tni ad cikeas j k golkar politisi kecoa komunis asli solo politisi maruf amin sunda anggota ormas n u kalah pilpres 2019 👉 👈 😨'"
      ]
     },
     "execution_count": 237,
     "metadata": {},
     "output_type": "execute_result"
    }
   ],
   "source": [
    "df_caknun['text_emoji'][2]"
   ]
  },
  {
   "attachments": {},
   "cell_type": "markdown",
   "metadata": {},
   "source": [
    "<h3>Datasets Anies</h3>"
   ]
  },
  {
   "cell_type": "code",
   "execution_count": 238,
   "metadata": {},
   "outputs": [],
   "source": [
    "df_anies['text_emoji'] = df_anies['final_text'] + df_anies['emoji']"
   ]
  },
  {
   "cell_type": "code",
   "execution_count": 239,
   "metadata": {},
   "outputs": [],
   "source": [
    "df_anies['text_emoji'] = df_anies['text_emoji'].apply(remove_newLines)"
   ]
  },
  {
   "cell_type": "code",
   "execution_count": 240,
   "metadata": {},
   "outputs": [
    {
     "data": {
      "text/plain": [
       "'alhamdulillah puji allah berkah bpk anies baswedan anies baswedan keren 😠'"
      ]
     },
     "execution_count": 240,
     "metadata": {},
     "output_type": "execute_result"
    }
   ],
   "source": [
    "df_anies['text_emoji'][2]"
   ]
  },
  {
   "attachments": {},
   "cell_type": "markdown",
   "metadata": {},
   "source": [
    "<h3>Datasets Puan</h3>"
   ]
  },
  {
   "cell_type": "code",
   "execution_count": 241,
   "metadata": {},
   "outputs": [],
   "source": [
    "df_puan['text_emoji'] = df_puan['final_text'] + df_puan['emoji']"
   ]
  },
  {
   "cell_type": "code",
   "execution_count": 242,
   "metadata": {},
   "outputs": [],
   "source": [
    "df_puan['text_emoji'] = df_puan['text_emoji'].apply(remove_newLines)"
   ]
  },
  {
   "cell_type": "code",
   "execution_count": 243,
   "metadata": {},
   "outputs": [
    {
     "data": {
      "text/plain": [
       "'ciri ciri barang g laku obral 💯'"
      ]
     },
     "execution_count": 243,
     "metadata": {},
     "output_type": "execute_result"
    }
   ],
   "source": [
    "df_puan['text_emoji'][2]"
   ]
  },
  {
   "attachments": {},
   "cell_type": "markdown",
   "metadata": {},
   "source": [
    "<h3>Datasets Luhut</h3>"
   ]
  },
  {
   "cell_type": "code",
   "execution_count": 244,
   "metadata": {},
   "outputs": [],
   "source": [
    "df_luhut['text_emoji'] = df_luhut['final_text'] + df_luhut['emoji']"
   ]
  },
  {
   "cell_type": "code",
   "execution_count": 245,
   "metadata": {},
   "outputs": [],
   "source": [
    "df_luhut['text_emoji'] = df_luhut['text_emoji'].apply(remove_newLines)"
   ]
  },
  {
   "cell_type": "code",
   "execution_count": 246,
   "metadata": {},
   "outputs": [
    {
     "data": {
      "text/plain": [
       "'kasih perintah luhut binsar ketua buang karyawan senior aja kriminalisasi aja hadiah calon menteri sia kesempatan emas kursi menteri 😨'"
      ]
     },
     "execution_count": 246,
     "metadata": {},
     "output_type": "execute_result"
    }
   ],
   "source": [
    "df_luhut['text_emoji'][2]"
   ]
  },
  {
   "attachments": {},
   "cell_type": "markdown",
   "metadata": {},
   "source": [
    "<h3>Datasets Ganjar</h3>"
   ]
  },
  {
   "cell_type": "code",
   "execution_count": 247,
   "metadata": {},
   "outputs": [],
   "source": [
    "df_ganjar['text_emoji'] = df_ganjar['final_text'] + df_ganjar['emoji']"
   ]
  },
  {
   "cell_type": "code",
   "execution_count": 248,
   "metadata": {},
   "outputs": [],
   "source": [
    "df_ganjar['text_emoji'] = df_ganjar['text_emoji'].apply(remove_newLines)"
   ]
  },
  {
   "cell_type": "code",
   "execution_count": 249,
   "metadata": {},
   "outputs": [
    {
     "data": {
      "text/plain": [
       "'lucu suka 😭'"
      ]
     },
     "execution_count": 249,
     "metadata": {},
     "output_type": "execute_result"
    }
   ],
   "source": [
    "df_ganjar['text_emoji'][2]"
   ]
  },
  {
   "attachments": {},
   "cell_type": "markdown",
   "metadata": {},
   "source": [
    "<h3>Datasets Republik Pencitraan</h3>"
   ]
  },
  {
   "cell_type": "code",
   "execution_count": 250,
   "metadata": {},
   "outputs": [],
   "source": [
    "df_republik['text_emoji'] = df_republik['final_text'] + df_republik['emoji']"
   ]
  },
  {
   "cell_type": "code",
   "execution_count": 251,
   "metadata": {},
   "outputs": [],
   "source": [
    "df_republik['text_emoji'] = df_republik['text_emoji'].apply(remove_newLines)"
   ]
  },
  {
   "cell_type": "code",
   "execution_count": 252,
   "metadata": {},
   "outputs": [
    {
     "data": {
      "text/plain": [
       "'tangkap ikan kakap laut dangkal bernyali laut ungkapan abang benny 😔'"
      ]
     },
     "execution_count": 252,
     "metadata": {},
     "output_type": "execute_result"
    }
   ],
   "source": [
    "df_republik['text_emoji'][2]"
   ]
  },
  {
   "cell_type": "code",
   "execution_count": 253,
   "metadata": {},
   "outputs": [
    {
     "data": {
      "text/html": [
       "<div>\n",
       "<style scoped>\n",
       "    .dataframe tbody tr th:only-of-type {\n",
       "        vertical-align: middle;\n",
       "    }\n",
       "\n",
       "    .dataframe tbody tr th {\n",
       "        vertical-align: top;\n",
       "    }\n",
       "\n",
       "    .dataframe thead th {\n",
       "        text-align: right;\n",
       "    }\n",
       "</style>\n",
       "<table border=\"1\" class=\"dataframe\">\n",
       "  <thead>\n",
       "    <tr style=\"text-align: right;\">\n",
       "      <th></th>\n",
       "      <th>Text</th>\n",
       "      <th>emoji</th>\n",
       "      <th>Tokenized</th>\n",
       "      <th>final_text</th>\n",
       "      <th>text_emoji</th>\n",
       "    </tr>\n",
       "  </thead>\n",
       "  <tbody>\n",
       "    <tr>\n",
       "      <th>0</th>\n",
       "      <td>anak anak buzzing selamat lembur awas pke mask...</td>\n",
       "      <td>😔</td>\n",
       "      <td>[anak, anak, ., selamat, lembur, awas, ., mask...</td>\n",
       "      <td>anak anak selamat lembur awas masker lupa komp...</td>\n",
       "      <td>anak anak selamat lembur awas masker lupa komp...</td>\n",
       "    </tr>\n",
       "    <tr>\n",
       "      <th>1</th>\n",
       "      <td>ulama dipersekusi giliran duit umat langsung n...</td>\n",
       "      <td>😑🤔 😔</td>\n",
       "      <td>[ulama, persekusi, giliran, duit, umat, langsu...</td>\n",
       "      <td>ulama persekusi giliran duit umat langsung men...</td>\n",
       "      <td>ulama persekusi giliran duit umat langsung men...</td>\n",
       "    </tr>\n",
       "    <tr>\n",
       "      <th>2</th>\n",
       "      <td>tangkap ikan kakap laut dangkal ndak bernyali ...</td>\n",
       "      <td>😔</td>\n",
       "      <td>[tangkap, ikan, kakap, laut, dangkal, tidak, b...</td>\n",
       "      <td>tangkap ikan kakap laut dangkal bernyali laut ...</td>\n",
       "      <td>tangkap ikan kakap laut dangkal bernyali laut ...</td>\n",
       "    </tr>\n",
       "    <tr>\n",
       "      <th>3</th>\n",
       "      <td>anak pertiwi rat teriak betapa susah nya ekono...</td>\n",
       "      <td>😔</td>\n",
       "      <td>[anak, pertiwi, rat, teriak, betapa, susah, .,...</td>\n",
       "      <td>anak pertiwi rat teriak betapa susah ekonomi m...</td>\n",
       "      <td>anak pertiwi rat teriak betapa susah ekonomi m...</td>\n",
       "    </tr>\n",
       "    <tr>\n",
       "      <th>4</th>\n",
       "      <td>usut kalo rakyat ramai ramai mengusut nya insy...</td>\n",
       "      <td>😔</td>\n",
       "      <td>[usut, kalo, rakyat, ramai, ramai, mengusut, ....</td>\n",
       "      <td>usut kalo rakyat ramai ramai mengusut insya al...</td>\n",
       "      <td>usut kalo rakyat ramai ramai mengusut insya al...</td>\n",
       "    </tr>\n",
       "  </tbody>\n",
       "</table>\n",
       "</div>"
      ],
      "text/plain": [
       "                                                Text               emoji  \\\n",
       "0  anak anak buzzing selamat lembur awas pke mask...                   😔   \n",
       "1  ulama dipersekusi giliran duit umat langsung n...                😑🤔 😔   \n",
       "2  tangkap ikan kakap laut dangkal ndak bernyali ...                   😔   \n",
       "3  anak pertiwi rat teriak betapa susah nya ekono...                   😔   \n",
       "4  usut kalo rakyat ramai ramai mengusut nya insy...                   😔   \n",
       "\n",
       "                                           Tokenized  \\\n",
       "0  [anak, anak, ., selamat, lembur, awas, ., mask...   \n",
       "1  [ulama, persekusi, giliran, duit, umat, langsu...   \n",
       "2  [tangkap, ikan, kakap, laut, dangkal, tidak, b...   \n",
       "3  [anak, pertiwi, rat, teriak, betapa, susah, .,...   \n",
       "4  [usut, kalo, rakyat, ramai, ramai, mengusut, ....   \n",
       "\n",
       "                                          final_text  \\\n",
       "0  anak anak selamat lembur awas masker lupa komp...   \n",
       "1  ulama persekusi giliran duit umat langsung men...   \n",
       "2  tangkap ikan kakap laut dangkal bernyali laut ...   \n",
       "3  anak pertiwi rat teriak betapa susah ekonomi m...   \n",
       "4  usut kalo rakyat ramai ramai mengusut insya al...   \n",
       "\n",
       "                                          text_emoji  \n",
       "0  anak anak selamat lembur awas masker lupa komp...  \n",
       "1  ulama persekusi giliran duit umat langsung men...  \n",
       "2  tangkap ikan kakap laut dangkal bernyali laut ...  \n",
       "3  anak pertiwi rat teriak betapa susah ekonomi m...  \n",
       "4  usut kalo rakyat ramai ramai mengusut insya al...  "
      ]
     },
     "execution_count": 253,
     "metadata": {},
     "output_type": "execute_result"
    }
   ],
   "source": [
    "df_republik.head()"
   ]
  },
  {
   "attachments": {},
   "cell_type": "markdown",
   "metadata": {},
   "source": [
    "<h3>Datasets Politik</h3>"
   ]
  },
  {
   "cell_type": "code",
   "execution_count": 254,
   "metadata": {},
   "outputs": [],
   "source": [
    "df_politik['text_emoji'] = df_politik['final_text'] + df_politik['emoji']"
   ]
  },
  {
   "cell_type": "code",
   "execution_count": 255,
   "metadata": {},
   "outputs": [],
   "source": [
    "df_politik['text_emoji'] = df_politik['text_emoji'].apply(remove_newLines)"
   ]
  },
  {
   "cell_type": "code",
   "execution_count": 256,
   "metadata": {},
   "outputs": [
    {
     "data": {
      "text/plain": [
       "'arteria dahlan sidang adat sunda daerah menuntut hukum adat 😁'"
      ]
     },
     "execution_count": 256,
     "metadata": {},
     "output_type": "execute_result"
    }
   ],
   "source": [
    "df_politik['text_emoji'][2]"
   ]
  },
  {
   "cell_type": "code",
   "execution_count": 257,
   "metadata": {},
   "outputs": [
    {
     "data": {
      "text/html": [
       "<div>\n",
       "<style scoped>\n",
       "    .dataframe tbody tr th:only-of-type {\n",
       "        vertical-align: middle;\n",
       "    }\n",
       "\n",
       "    .dataframe tbody tr th {\n",
       "        vertical-align: top;\n",
       "    }\n",
       "\n",
       "    .dataframe thead th {\n",
       "        text-align: right;\n",
       "    }\n",
       "</style>\n",
       "<table border=\"1\" class=\"dataframe\">\n",
       "  <thead>\n",
       "    <tr style=\"text-align: right;\">\n",
       "      <th></th>\n",
       "      <th>Text</th>\n",
       "      <th>emoji</th>\n",
       "      <th>Tokenized</th>\n",
       "      <th>final_text</th>\n",
       "      <th>text_emoji</th>\n",
       "    </tr>\n",
       "  </thead>\n",
       "  <tbody>\n",
       "    <tr>\n",
       "      <th>0</th>\n",
       "      <td>kawan2 sunda bersatu jemput arteria dahlan</td>\n",
       "      <td>😁</td>\n",
       "      <td>[kawan, sunda, bersatu, jemput, arteria, dahlan]</td>\n",
       "      <td>kawan sunda bersatu jemput arteria dahlan</td>\n",
       "      <td>kawan sunda bersatu jemput arteria dahlan 😁</td>\n",
       "    </tr>\n",
       "    <tr>\n",
       "      <th>1</th>\n",
       "      <td>arogan kapok2 arteria dahlan</td>\n",
       "      <td>😁</td>\n",
       "      <td>[arogan, kapok, arteria, dahlan]</td>\n",
       "      <td>arogan kapok arteria dahlan</td>\n",
       "      <td>arogan kapok arteria dahlan 😁</td>\n",
       "    </tr>\n",
       "    <tr>\n",
       "      <th>2</th>\n",
       "      <td>arteria dahlan disidang adat sunda daerah menu...</td>\n",
       "      <td>😁</td>\n",
       "      <td>[arteria, dahlan, sidang, adat, sunda, daerah,...</td>\n",
       "      <td>arteria dahlan sidang adat sunda daerah menunt...</td>\n",
       "      <td>arteria dahlan sidang adat sunda daerah menunt...</td>\n",
       "    </tr>\n",
       "    <tr>\n",
       "      <th>3</th>\n",
       "      <td>orang sunda jemput arteria dahlan sidang rakya...</td>\n",
       "      <td>😁</td>\n",
       "      <td>[orang, sunda, jemput, arteria, dahlan, sidang...</td>\n",
       "      <td>orang sunda jemput arteria dahlan sidang rakya...</td>\n",
       "      <td>orang sunda jemput arteria dahlan sidang rakya...</td>\n",
       "    </tr>\n",
       "    <tr>\n",
       "      <th>4</th>\n",
       "      <td>ga ditafsirkan membanding bandingkan edy arter...</td>\n",
       "      <td>😁</td>\n",
       "      <td>[ga, tafsir, membanding, membandingkan, edy, a...</td>\n",
       "      <td>ga tafsir membanding membandingkan edy arteria...</td>\n",
       "      <td>ga tafsir membanding membandingkan edy arteria...</td>\n",
       "    </tr>\n",
       "  </tbody>\n",
       "</table>\n",
       "</div>"
      ],
      "text/plain": [
       "                                                Text       emoji  \\\n",
       "0         kawan2 sunda bersatu jemput arteria dahlan           😁   \n",
       "1                       arogan kapok2 arteria dahlan           😁   \n",
       "2  arteria dahlan disidang adat sunda daerah menu...           😁   \n",
       "3  orang sunda jemput arteria dahlan sidang rakya...           😁   \n",
       "4  ga ditafsirkan membanding bandingkan edy arter...           😁   \n",
       "\n",
       "                                           Tokenized  \\\n",
       "0   [kawan, sunda, bersatu, jemput, arteria, dahlan]   \n",
       "1                   [arogan, kapok, arteria, dahlan]   \n",
       "2  [arteria, dahlan, sidang, adat, sunda, daerah,...   \n",
       "3  [orang, sunda, jemput, arteria, dahlan, sidang...   \n",
       "4  [ga, tafsir, membanding, membandingkan, edy, a...   \n",
       "\n",
       "                                          final_text  \\\n",
       "0          kawan sunda bersatu jemput arteria dahlan   \n",
       "1                        arogan kapok arteria dahlan   \n",
       "2  arteria dahlan sidang adat sunda daerah menunt...   \n",
       "3  orang sunda jemput arteria dahlan sidang rakya...   \n",
       "4  ga tafsir membanding membandingkan edy arteria...   \n",
       "\n",
       "                                          text_emoji  \n",
       "0        kawan sunda bersatu jemput arteria dahlan 😁  \n",
       "1                      arogan kapok arteria dahlan 😁  \n",
       "2  arteria dahlan sidang adat sunda daerah menunt...  \n",
       "3  orang sunda jemput arteria dahlan sidang rakya...  \n",
       "4  ga tafsir membanding membandingkan edy arteria...  "
      ]
     },
     "execution_count": 257,
     "metadata": {},
     "output_type": "execute_result"
    }
   ],
   "source": [
    "df_politik.head()"
   ]
  },
  {
   "attachments": {},
   "cell_type": "markdown",
   "metadata": {},
   "source": [
    "<h1>Data Labeling</h1>"
   ]
  },
  {
   "attachments": {},
   "cell_type": "markdown",
   "metadata": {},
   "source": [
    "<h3>Text Sentiment</h3>"
   ]
  },
  {
   "cell_type": "code",
   "execution_count": 258,
   "metadata": {},
   "outputs": [],
   "source": [
    "df_barasa = pd.read_csv('Misc/Sentiwordnet/Barasa/barasa/data/barasa.txt', sep='\\t', names=['synset', 'language', 'goodness', 'lemma', 'PosScore', 'NegScore'], header=None, index_col=False)\n",
    "df_islexPos = pd.read_csv('Misc/Sentiwordnet/ISLEX/positive.tsv', sep='\\t')\n",
    "df_islexNeg = pd.read_csv('Misc/Sentiwordnet/ISLEX/negative.tsv', sep='\\t')"
   ]
  },
  {
   "cell_type": "code",
   "execution_count": 259,
   "metadata": {},
   "outputs": [
    {
     "name": "stdout",
     "output_type": "stream",
     "text": [
      "<class 'pandas.core.frame.DataFrame'>\n",
      "RangeIndex: 662906 entries, 0 to 662905\n",
      "Data columns (total 6 columns):\n",
      " #   Column    Non-Null Count   Dtype  \n",
      "---  ------    --------------   -----  \n",
      " 0   synset    662906 non-null  object \n",
      " 1   language  662906 non-null  object \n",
      " 2   goodness  662906 non-null  object \n",
      " 3   lemma     662905 non-null  object \n",
      " 4   PosScore  662906 non-null  float64\n",
      " 5   NegScore  662906 non-null  float64\n",
      "dtypes: float64(2), object(4)\n",
      "memory usage: 30.3+ MB\n",
      "\n",
      "\n",
      "<class 'pandas.core.frame.DataFrame'>\n",
      "RangeIndex: 3609 entries, 0 to 3608\n",
      "Data columns (total 2 columns):\n",
      " #   Column  Non-Null Count  Dtype \n",
      "---  ------  --------------  ----- \n",
      " 0   word    3609 non-null   object\n",
      " 1   weight  3609 non-null   int64 \n",
      "dtypes: int64(1), object(1)\n",
      "memory usage: 56.5+ KB\n",
      "\n",
      "\n",
      "<class 'pandas.core.frame.DataFrame'>\n",
      "RangeIndex: 6609 entries, 0 to 6608\n",
      "Data columns (total 2 columns):\n",
      " #   Column  Non-Null Count  Dtype \n",
      "---  ------  --------------  ----- \n",
      " 0   word    6609 non-null   object\n",
      " 1   weight  6609 non-null   int64 \n",
      "dtypes: int64(1), object(1)\n",
      "memory usage: 103.4+ KB\n",
      "\n",
      "\n"
     ]
    }
   ],
   "source": [
    "df_barasa.info()\n",
    "print('\\n')\n",
    "df_islexPos.info()\n",
    "print('\\n')\n",
    "df_islexNeg.info()\n",
    "print('\\n')"
   ]
  },
  {
   "cell_type": "code",
   "execution_count": 260,
   "metadata": {},
   "outputs": [],
   "source": [
    "for i in range(len(df_barasa)):\n",
    "  if (df_barasa.iloc[i]['PosScore'] > df_barasa.iloc[i]['NegScore']):\n",
    "    df_barasa.loc[i, 'Sentimen'] = 'Positif'\n",
    "  elif (df_barasa.iloc[i]['PosScore'] < df_barasa.iloc[i]['NegScore']):\n",
    "    df_barasa.loc[i, 'Sentimen'] = 'Negatif'\n",
    "  else:\n",
    "    df_barasa.loc[i, 'Sentimen'] = 'Netral'"
   ]
  },
  {
   "cell_type": "code",
   "execution_count": 261,
   "metadata": {},
   "outputs": [
    {
     "name": "stdout",
     "output_type": "stream",
     "text": [
      "<class 'pandas.core.frame.DataFrame'>\n",
      "RangeIndex: 662906 entries, 0 to 662905\n",
      "Data columns (total 7 columns):\n",
      " #   Column    Non-Null Count   Dtype  \n",
      "---  ------    --------------   -----  \n",
      " 0   synset    662906 non-null  object \n",
      " 1   language  662906 non-null  object \n",
      " 2   goodness  662906 non-null  object \n",
      " 3   lemma     662905 non-null  object \n",
      " 4   PosScore  662906 non-null  float64\n",
      " 5   NegScore  662906 non-null  float64\n",
      " 6   Sentimen  662906 non-null  object \n",
      "dtypes: float64(2), object(5)\n",
      "memory usage: 35.4+ MB\n"
     ]
    },
    {
     "data": {
      "text/html": [
       "<div>\n",
       "<style scoped>\n",
       "    .dataframe tbody tr th:only-of-type {\n",
       "        vertical-align: middle;\n",
       "    }\n",
       "\n",
       "    .dataframe tbody tr th {\n",
       "        vertical-align: top;\n",
       "    }\n",
       "\n",
       "    .dataframe thead th {\n",
       "        text-align: right;\n",
       "    }\n",
       "</style>\n",
       "<table border=\"1\" class=\"dataframe\">\n",
       "  <thead>\n",
       "    <tr style=\"text-align: right;\">\n",
       "      <th></th>\n",
       "      <th>synset</th>\n",
       "      <th>language</th>\n",
       "      <th>goodness</th>\n",
       "      <th>lemma</th>\n",
       "      <th>PosScore</th>\n",
       "      <th>NegScore</th>\n",
       "      <th>Sentimen</th>\n",
       "    </tr>\n",
       "  </thead>\n",
       "  <tbody>\n",
       "    <tr>\n",
       "      <th>0</th>\n",
       "      <td>00001740-a</td>\n",
       "      <td>B</td>\n",
       "      <td>L</td>\n",
       "      <td>akauntan</td>\n",
       "      <td>0.125</td>\n",
       "      <td>0.0</td>\n",
       "      <td>Positif</td>\n",
       "    </tr>\n",
       "    <tr>\n",
       "      <th>1</th>\n",
       "      <td>00001740-a</td>\n",
       "      <td>B</td>\n",
       "      <td>L</td>\n",
       "      <td>berdaya upaya</td>\n",
       "      <td>0.125</td>\n",
       "      <td>0.0</td>\n",
       "      <td>Positif</td>\n",
       "    </tr>\n",
       "    <tr>\n",
       "      <th>2</th>\n",
       "      <td>00001740-a</td>\n",
       "      <td>B</td>\n",
       "      <td>L</td>\n",
       "      <td>berkemampuan</td>\n",
       "      <td>0.125</td>\n",
       "      <td>0.0</td>\n",
       "      <td>Positif</td>\n",
       "    </tr>\n",
       "    <tr>\n",
       "      <th>3</th>\n",
       "      <td>00001740-a</td>\n",
       "      <td>B</td>\n",
       "      <td>L</td>\n",
       "      <td>berkesanggupan</td>\n",
       "      <td>0.125</td>\n",
       "      <td>0.0</td>\n",
       "      <td>Positif</td>\n",
       "    </tr>\n",
       "    <tr>\n",
       "      <th>4</th>\n",
       "      <td>00001740-a</td>\n",
       "      <td>B</td>\n",
       "      <td>L</td>\n",
       "      <td>berkeupayaan</td>\n",
       "      <td>0.125</td>\n",
       "      <td>0.0</td>\n",
       "      <td>Positif</td>\n",
       "    </tr>\n",
       "  </tbody>\n",
       "</table>\n",
       "</div>"
      ],
      "text/plain": [
       "       synset language goodness           lemma  PosScore  NegScore Sentimen\n",
       "0  00001740-a        B        L        akauntan     0.125       0.0  Positif\n",
       "1  00001740-a        B        L   berdaya upaya     0.125       0.0  Positif\n",
       "2  00001740-a        B        L    berkemampuan     0.125       0.0  Positif\n",
       "3  00001740-a        B        L  berkesanggupan     0.125       0.0  Positif\n",
       "4  00001740-a        B        L    berkeupayaan     0.125       0.0  Positif"
      ]
     },
     "execution_count": 261,
     "metadata": {},
     "output_type": "execute_result"
    }
   ],
   "source": [
    "df_barasa.info()\n",
    "df_barasa.head()"
   ]
  },
  {
   "cell_type": "code",
   "execution_count": 262,
   "metadata": {},
   "outputs": [
    {
     "data": {
      "text/plain": [
       "Netral     468977\n",
       "Negatif     98904\n",
       "Positif     95025\n",
       "Name: Sentimen, dtype: int64"
      ]
     },
     "execution_count": 262,
     "metadata": {},
     "output_type": "execute_result"
    }
   ],
   "source": [
    "df_barasa['Sentimen'].value_counts()"
   ]
  },
  {
   "cell_type": "code",
   "execution_count": 263,
   "metadata": {},
   "outputs": [
    {
     "data": {
      "text/plain": [
       "Positif    18324\n",
       "Name: Sentimen, dtype: int64"
      ]
     },
     "execution_count": 263,
     "metadata": {},
     "output_type": "execute_result"
    }
   ],
   "source": [
    "df_barasa_positif = df_barasa[(df_barasa['Sentimen'] == 'Positif') & (df_barasa['goodness'].isin(['M', 'Y', 'O']))]\n",
    "\n",
    "df_barasa_positif['Sentimen'].value_counts()"
   ]
  },
  {
   "cell_type": "code",
   "execution_count": 264,
   "metadata": {},
   "outputs": [
    {
     "data": {
      "text/plain": [
       "Negatif    17946\n",
       "Name: Sentimen, dtype: int64"
      ]
     },
     "execution_count": 264,
     "metadata": {},
     "output_type": "execute_result"
    }
   ],
   "source": [
    "df_barasa_negatif = df_barasa[(df_barasa['Sentimen'] == 'Negatif') & (df_barasa['goodness'].isin(['M', 'Y', 'O']))]\n",
    "\n",
    "df_barasa_negatif['Sentimen'].value_counts()"
   ]
  },
  {
   "cell_type": "code",
   "execution_count": 265,
   "metadata": {},
   "outputs": [
    {
     "data": {
      "text/plain": [
       "Positif    18324\n",
       "Name: Sentimen, dtype: int64"
      ]
     },
     "execution_count": 265,
     "metadata": {},
     "output_type": "execute_result"
    }
   ],
   "source": [
    "dfbar_positif = pd.DataFrame(df_barasa_positif)\n",
    "\n",
    "dfbar_positif['Sentimen'].value_counts()"
   ]
  },
  {
   "cell_type": "code",
   "execution_count": 266,
   "metadata": {},
   "outputs": [
    {
     "data": {
      "text/plain": [
       "Negatif    17946\n",
       "Name: Sentimen, dtype: int64"
      ]
     },
     "execution_count": 266,
     "metadata": {},
     "output_type": "execute_result"
    }
   ],
   "source": [
    "dfbar_negatif = pd.DataFrame(df_barasa_negatif)\n",
    "\n",
    "dfbar_negatif['Sentimen'].value_counts()"
   ]
  },
  {
   "cell_type": "code",
   "execution_count": 267,
   "metadata": {},
   "outputs": [],
   "source": [
    "pos_word = []\n",
    "\n",
    "for i in dfbar_positif['lemma']:\n",
    "  pos_word.append(i)"
   ]
  },
  {
   "cell_type": "code",
   "execution_count": 268,
   "metadata": {},
   "outputs": [],
   "source": [
    "neg_word = []\n",
    "\n",
    "for i in dfbar_negatif['lemma']:\n",
    "  neg_word.append(i)"
   ]
  },
  {
   "attachments": {},
   "cell_type": "markdown",
   "metadata": {},
   "source": [
    "<h4>Merge All Datasets</h4>"
   ]
  },
  {
   "cell_type": "code",
   "execution_count": 269,
   "metadata": {},
   "outputs": [],
   "source": [
    "# Merge All Datasets\n",
    "df_final = pd.concat([df_politik, df_caknun, df_anies, df_puan, df_luhut, df_ganjar, df_republik], ignore_index=True)"
   ]
  },
  {
   "cell_type": "code",
   "execution_count": 270,
   "metadata": {},
   "outputs": [
    {
     "name": "stdout",
     "output_type": "stream",
     "text": [
      "<class 'pandas.core.frame.DataFrame'>\n",
      "RangeIndex: 6420 entries, 0 to 6419\n",
      "Data columns (total 5 columns):\n",
      " #   Column      Non-Null Count  Dtype \n",
      "---  ------      --------------  ----- \n",
      " 0   Text        6420 non-null   object\n",
      " 1   emoji       6420 non-null   object\n",
      " 2   Tokenized   6420 non-null   object\n",
      " 3   final_text  6420 non-null   object\n",
      " 4   text_emoji  6420 non-null   object\n",
      "dtypes: object(5)\n",
      "memory usage: 250.9+ KB\n"
     ]
    },
    {
     "data": {
      "text/html": [
       "<div>\n",
       "<style scoped>\n",
       "    .dataframe tbody tr th:only-of-type {\n",
       "        vertical-align: middle;\n",
       "    }\n",
       "\n",
       "    .dataframe tbody tr th {\n",
       "        vertical-align: top;\n",
       "    }\n",
       "\n",
       "    .dataframe thead th {\n",
       "        text-align: right;\n",
       "    }\n",
       "</style>\n",
       "<table border=\"1\" class=\"dataframe\">\n",
       "  <thead>\n",
       "    <tr style=\"text-align: right;\">\n",
       "      <th></th>\n",
       "      <th>Text</th>\n",
       "      <th>emoji</th>\n",
       "      <th>Tokenized</th>\n",
       "      <th>final_text</th>\n",
       "      <th>text_emoji</th>\n",
       "    </tr>\n",
       "  </thead>\n",
       "  <tbody>\n",
       "    <tr>\n",
       "      <th>0</th>\n",
       "      <td>kawan2 sunda bersatu jemput arteria dahlan</td>\n",
       "      <td>😁</td>\n",
       "      <td>[kawan, sunda, bersatu, jemput, arteria, dahlan]</td>\n",
       "      <td>kawan sunda bersatu jemput arteria dahlan</td>\n",
       "      <td>kawan sunda bersatu jemput arteria dahlan 😁</td>\n",
       "    </tr>\n",
       "    <tr>\n",
       "      <th>1</th>\n",
       "      <td>arogan kapok2 arteria dahlan</td>\n",
       "      <td>😁</td>\n",
       "      <td>[arogan, kapok, arteria, dahlan]</td>\n",
       "      <td>arogan kapok arteria dahlan</td>\n",
       "      <td>arogan kapok arteria dahlan 😁</td>\n",
       "    </tr>\n",
       "    <tr>\n",
       "      <th>2</th>\n",
       "      <td>arteria dahlan disidang adat sunda daerah menu...</td>\n",
       "      <td>😁</td>\n",
       "      <td>[arteria, dahlan, sidang, adat, sunda, daerah,...</td>\n",
       "      <td>arteria dahlan sidang adat sunda daerah menunt...</td>\n",
       "      <td>arteria dahlan sidang adat sunda daerah menunt...</td>\n",
       "    </tr>\n",
       "    <tr>\n",
       "      <th>3</th>\n",
       "      <td>orang sunda jemput arteria dahlan sidang rakya...</td>\n",
       "      <td>😁</td>\n",
       "      <td>[orang, sunda, jemput, arteria, dahlan, sidang...</td>\n",
       "      <td>orang sunda jemput arteria dahlan sidang rakya...</td>\n",
       "      <td>orang sunda jemput arteria dahlan sidang rakya...</td>\n",
       "    </tr>\n",
       "    <tr>\n",
       "      <th>4</th>\n",
       "      <td>ga ditafsirkan membanding bandingkan edy arter...</td>\n",
       "      <td>😁</td>\n",
       "      <td>[ga, tafsir, membanding, membandingkan, edy, a...</td>\n",
       "      <td>ga tafsir membanding membandingkan edy arteria...</td>\n",
       "      <td>ga tafsir membanding membandingkan edy arteria...</td>\n",
       "    </tr>\n",
       "  </tbody>\n",
       "</table>\n",
       "</div>"
      ],
      "text/plain": [
       "                                                Text       emoji  \\\n",
       "0         kawan2 sunda bersatu jemput arteria dahlan           😁   \n",
       "1                       arogan kapok2 arteria dahlan           😁   \n",
       "2  arteria dahlan disidang adat sunda daerah menu...           😁   \n",
       "3  orang sunda jemput arteria dahlan sidang rakya...           😁   \n",
       "4  ga ditafsirkan membanding bandingkan edy arter...           😁   \n",
       "\n",
       "                                           Tokenized  \\\n",
       "0   [kawan, sunda, bersatu, jemput, arteria, dahlan]   \n",
       "1                   [arogan, kapok, arteria, dahlan]   \n",
       "2  [arteria, dahlan, sidang, adat, sunda, daerah,...   \n",
       "3  [orang, sunda, jemput, arteria, dahlan, sidang...   \n",
       "4  [ga, tafsir, membanding, membandingkan, edy, a...   \n",
       "\n",
       "                                          final_text  \\\n",
       "0          kawan sunda bersatu jemput arteria dahlan   \n",
       "1                        arogan kapok arteria dahlan   \n",
       "2  arteria dahlan sidang adat sunda daerah menunt...   \n",
       "3  orang sunda jemput arteria dahlan sidang rakya...   \n",
       "4  ga tafsir membanding membandingkan edy arteria...   \n",
       "\n",
       "                                          text_emoji  \n",
       "0        kawan sunda bersatu jemput arteria dahlan 😁  \n",
       "1                      arogan kapok arteria dahlan 😁  \n",
       "2  arteria dahlan sidang adat sunda daerah menunt...  \n",
       "3  orang sunda jemput arteria dahlan sidang rakya...  \n",
       "4  ga tafsir membanding membandingkan edy arteria...  "
      ]
     },
     "execution_count": 270,
     "metadata": {},
     "output_type": "execute_result"
    }
   ],
   "source": [
    "df_final.info()\n",
    "df_final.head()"
   ]
  },
  {
   "cell_type": "code",
   "execution_count": 271,
   "metadata": {},
   "outputs": [],
   "source": [
    "# Positive Word Count\n",
    "df_final['Pos_Word'] = df_final['Tokenized'].apply(lambda x: sum(1 for word in x if word in pos_word))"
   ]
  },
  {
   "cell_type": "code",
   "execution_count": 272,
   "metadata": {},
   "outputs": [
    {
     "data": {
      "text/html": [
       "<div>\n",
       "<style scoped>\n",
       "    .dataframe tbody tr th:only-of-type {\n",
       "        vertical-align: middle;\n",
       "    }\n",
       "\n",
       "    .dataframe tbody tr th {\n",
       "        vertical-align: top;\n",
       "    }\n",
       "\n",
       "    .dataframe thead th {\n",
       "        text-align: right;\n",
       "    }\n",
       "</style>\n",
       "<table border=\"1\" class=\"dataframe\">\n",
       "  <thead>\n",
       "    <tr style=\"text-align: right;\">\n",
       "      <th></th>\n",
       "      <th>Text</th>\n",
       "      <th>emoji</th>\n",
       "      <th>Tokenized</th>\n",
       "      <th>final_text</th>\n",
       "      <th>text_emoji</th>\n",
       "      <th>Pos_Word</th>\n",
       "    </tr>\n",
       "  </thead>\n",
       "  <tbody>\n",
       "    <tr>\n",
       "      <th>0</th>\n",
       "      <td>kawan2 sunda bersatu jemput arteria dahlan</td>\n",
       "      <td>😁</td>\n",
       "      <td>[kawan, sunda, bersatu, jemput, arteria, dahlan]</td>\n",
       "      <td>kawan sunda bersatu jemput arteria dahlan</td>\n",
       "      <td>kawan sunda bersatu jemput arteria dahlan 😁</td>\n",
       "      <td>2</td>\n",
       "    </tr>\n",
       "    <tr>\n",
       "      <th>1</th>\n",
       "      <td>arogan kapok2 arteria dahlan</td>\n",
       "      <td>😁</td>\n",
       "      <td>[arogan, kapok, arteria, dahlan]</td>\n",
       "      <td>arogan kapok arteria dahlan</td>\n",
       "      <td>arogan kapok arteria dahlan 😁</td>\n",
       "      <td>0</td>\n",
       "    </tr>\n",
       "    <tr>\n",
       "      <th>2</th>\n",
       "      <td>arteria dahlan disidang adat sunda daerah menu...</td>\n",
       "      <td>😁</td>\n",
       "      <td>[arteria, dahlan, sidang, adat, sunda, daerah,...</td>\n",
       "      <td>arteria dahlan sidang adat sunda daerah menunt...</td>\n",
       "      <td>arteria dahlan sidang adat sunda daerah menunt...</td>\n",
       "      <td>5</td>\n",
       "    </tr>\n",
       "    <tr>\n",
       "      <th>3</th>\n",
       "      <td>orang sunda jemput arteria dahlan sidang rakya...</td>\n",
       "      <td>😁</td>\n",
       "      <td>[orang, sunda, jemput, arteria, dahlan, sidang...</td>\n",
       "      <td>orang sunda jemput arteria dahlan sidang rakya...</td>\n",
       "      <td>orang sunda jemput arteria dahlan sidang rakya...</td>\n",
       "      <td>2</td>\n",
       "    </tr>\n",
       "    <tr>\n",
       "      <th>4</th>\n",
       "      <td>ga ditafsirkan membanding bandingkan edy arter...</td>\n",
       "      <td>😁</td>\n",
       "      <td>[ga, tafsir, membanding, membandingkan, edy, a...</td>\n",
       "      <td>ga tafsir membanding membandingkan edy arteria...</td>\n",
       "      <td>ga tafsir membanding membandingkan edy arteria...</td>\n",
       "      <td>3</td>\n",
       "    </tr>\n",
       "  </tbody>\n",
       "</table>\n",
       "</div>"
      ],
      "text/plain": [
       "                                                Text       emoji  \\\n",
       "0         kawan2 sunda bersatu jemput arteria dahlan           😁   \n",
       "1                       arogan kapok2 arteria dahlan           😁   \n",
       "2  arteria dahlan disidang adat sunda daerah menu...           😁   \n",
       "3  orang sunda jemput arteria dahlan sidang rakya...           😁   \n",
       "4  ga ditafsirkan membanding bandingkan edy arter...           😁   \n",
       "\n",
       "                                           Tokenized  \\\n",
       "0   [kawan, sunda, bersatu, jemput, arteria, dahlan]   \n",
       "1                   [arogan, kapok, arteria, dahlan]   \n",
       "2  [arteria, dahlan, sidang, adat, sunda, daerah,...   \n",
       "3  [orang, sunda, jemput, arteria, dahlan, sidang...   \n",
       "4  [ga, tafsir, membanding, membandingkan, edy, a...   \n",
       "\n",
       "                                          final_text  \\\n",
       "0          kawan sunda bersatu jemput arteria dahlan   \n",
       "1                        arogan kapok arteria dahlan   \n",
       "2  arteria dahlan sidang adat sunda daerah menunt...   \n",
       "3  orang sunda jemput arteria dahlan sidang rakya...   \n",
       "4  ga tafsir membanding membandingkan edy arteria...   \n",
       "\n",
       "                                          text_emoji  Pos_Word  \n",
       "0        kawan sunda bersatu jemput arteria dahlan 😁         2  \n",
       "1                      arogan kapok arteria dahlan 😁         0  \n",
       "2  arteria dahlan sidang adat sunda daerah menunt...         5  \n",
       "3  orang sunda jemput arteria dahlan sidang rakya...         2  \n",
       "4  ga tafsir membanding membandingkan edy arteria...         3  "
      ]
     },
     "execution_count": 272,
     "metadata": {},
     "output_type": "execute_result"
    }
   ],
   "source": [
    "df_final.head()"
   ]
  },
  {
   "cell_type": "code",
   "execution_count": 273,
   "metadata": {},
   "outputs": [],
   "source": [
    "# Negative Word Count\n",
    "df_final['Neg_Word'] = df_final['Tokenized'].apply(lambda x: sum(1 for word in x if word in neg_word))"
   ]
  },
  {
   "cell_type": "code",
   "execution_count": 274,
   "metadata": {},
   "outputs": [
    {
     "data": {
      "text/html": [
       "<div>\n",
       "<style scoped>\n",
       "    .dataframe tbody tr th:only-of-type {\n",
       "        vertical-align: middle;\n",
       "    }\n",
       "\n",
       "    .dataframe tbody tr th {\n",
       "        vertical-align: top;\n",
       "    }\n",
       "\n",
       "    .dataframe thead th {\n",
       "        text-align: right;\n",
       "    }\n",
       "</style>\n",
       "<table border=\"1\" class=\"dataframe\">\n",
       "  <thead>\n",
       "    <tr style=\"text-align: right;\">\n",
       "      <th></th>\n",
       "      <th>Text</th>\n",
       "      <th>emoji</th>\n",
       "      <th>Tokenized</th>\n",
       "      <th>final_text</th>\n",
       "      <th>text_emoji</th>\n",
       "      <th>Pos_Word</th>\n",
       "      <th>Neg_Word</th>\n",
       "    </tr>\n",
       "  </thead>\n",
       "  <tbody>\n",
       "    <tr>\n",
       "      <th>0</th>\n",
       "      <td>kawan2 sunda bersatu jemput arteria dahlan</td>\n",
       "      <td>😁</td>\n",
       "      <td>[kawan, sunda, bersatu, jemput, arteria, dahlan]</td>\n",
       "      <td>kawan sunda bersatu jemput arteria dahlan</td>\n",
       "      <td>kawan sunda bersatu jemput arteria dahlan 😁</td>\n",
       "      <td>2</td>\n",
       "      <td>0</td>\n",
       "    </tr>\n",
       "    <tr>\n",
       "      <th>1</th>\n",
       "      <td>arogan kapok2 arteria dahlan</td>\n",
       "      <td>😁</td>\n",
       "      <td>[arogan, kapok, arteria, dahlan]</td>\n",
       "      <td>arogan kapok arteria dahlan</td>\n",
       "      <td>arogan kapok arteria dahlan 😁</td>\n",
       "      <td>0</td>\n",
       "      <td>0</td>\n",
       "    </tr>\n",
       "    <tr>\n",
       "      <th>2</th>\n",
       "      <td>arteria dahlan disidang adat sunda daerah menu...</td>\n",
       "      <td>😁</td>\n",
       "      <td>[arteria, dahlan, sidang, adat, sunda, daerah,...</td>\n",
       "      <td>arteria dahlan sidang adat sunda daerah menunt...</td>\n",
       "      <td>arteria dahlan sidang adat sunda daerah menunt...</td>\n",
       "      <td>5</td>\n",
       "      <td>4</td>\n",
       "    </tr>\n",
       "    <tr>\n",
       "      <th>3</th>\n",
       "      <td>orang sunda jemput arteria dahlan sidang rakya...</td>\n",
       "      <td>😁</td>\n",
       "      <td>[orang, sunda, jemput, arteria, dahlan, sidang...</td>\n",
       "      <td>orang sunda jemput arteria dahlan sidang rakya...</td>\n",
       "      <td>orang sunda jemput arteria dahlan sidang rakya...</td>\n",
       "      <td>2</td>\n",
       "      <td>2</td>\n",
       "    </tr>\n",
       "    <tr>\n",
       "      <th>4</th>\n",
       "      <td>ga ditafsirkan membanding bandingkan edy arter...</td>\n",
       "      <td>😁</td>\n",
       "      <td>[ga, tafsir, membanding, membandingkan, edy, a...</td>\n",
       "      <td>ga tafsir membanding membandingkan edy arteria...</td>\n",
       "      <td>ga tafsir membanding membandingkan edy arteria...</td>\n",
       "      <td>3</td>\n",
       "      <td>2</td>\n",
       "    </tr>\n",
       "  </tbody>\n",
       "</table>\n",
       "</div>"
      ],
      "text/plain": [
       "                                                Text       emoji  \\\n",
       "0         kawan2 sunda bersatu jemput arteria dahlan           😁   \n",
       "1                       arogan kapok2 arteria dahlan           😁   \n",
       "2  arteria dahlan disidang adat sunda daerah menu...           😁   \n",
       "3  orang sunda jemput arteria dahlan sidang rakya...           😁   \n",
       "4  ga ditafsirkan membanding bandingkan edy arter...           😁   \n",
       "\n",
       "                                           Tokenized  \\\n",
       "0   [kawan, sunda, bersatu, jemput, arteria, dahlan]   \n",
       "1                   [arogan, kapok, arteria, dahlan]   \n",
       "2  [arteria, dahlan, sidang, adat, sunda, daerah,...   \n",
       "3  [orang, sunda, jemput, arteria, dahlan, sidang...   \n",
       "4  [ga, tafsir, membanding, membandingkan, edy, a...   \n",
       "\n",
       "                                          final_text  \\\n",
       "0          kawan sunda bersatu jemput arteria dahlan   \n",
       "1                        arogan kapok arteria dahlan   \n",
       "2  arteria dahlan sidang adat sunda daerah menunt...   \n",
       "3  orang sunda jemput arteria dahlan sidang rakya...   \n",
       "4  ga tafsir membanding membandingkan edy arteria...   \n",
       "\n",
       "                                          text_emoji  Pos_Word  Neg_Word  \n",
       "0        kawan sunda bersatu jemput arteria dahlan 😁         2         0  \n",
       "1                      arogan kapok arteria dahlan 😁         0         0  \n",
       "2  arteria dahlan sidang adat sunda daerah menunt...         5         4  \n",
       "3  orang sunda jemput arteria dahlan sidang rakya...         2         2  \n",
       "4  ga tafsir membanding membandingkan edy arteria...         3         2  "
      ]
     },
     "execution_count": 274,
     "metadata": {},
     "output_type": "execute_result"
    }
   ],
   "source": [
    "df_final.head()"
   ]
  },
  {
   "cell_type": "code",
   "execution_count": 275,
   "metadata": {},
   "outputs": [],
   "source": [
    "df_final['Total_Word'] = df_final['Tokenized'].apply(lambda x: len(x))"
   ]
  },
  {
   "cell_type": "code",
   "execution_count": 276,
   "metadata": {},
   "outputs": [],
   "source": [
    "df_final['Pos_Ratio'] = df_final['Pos_Word'] / df_final['Total_Word']\n",
    "df_final['Neg_Ratio'] = df_final['Neg_Word'] / df_final['Total_Word']"
   ]
  },
  {
   "cell_type": "code",
   "execution_count": 277,
   "metadata": {},
   "outputs": [
    {
     "data": {
      "text/html": [
       "<div>\n",
       "<style scoped>\n",
       "    .dataframe tbody tr th:only-of-type {\n",
       "        vertical-align: middle;\n",
       "    }\n",
       "\n",
       "    .dataframe tbody tr th {\n",
       "        vertical-align: top;\n",
       "    }\n",
       "\n",
       "    .dataframe thead th {\n",
       "        text-align: right;\n",
       "    }\n",
       "</style>\n",
       "<table border=\"1\" class=\"dataframe\">\n",
       "  <thead>\n",
       "    <tr style=\"text-align: right;\">\n",
       "      <th></th>\n",
       "      <th>Text</th>\n",
       "      <th>emoji</th>\n",
       "      <th>Tokenized</th>\n",
       "      <th>final_text</th>\n",
       "      <th>text_emoji</th>\n",
       "      <th>Pos_Word</th>\n",
       "      <th>Neg_Word</th>\n",
       "      <th>Total_Word</th>\n",
       "      <th>Pos_Ratio</th>\n",
       "      <th>Neg_Ratio</th>\n",
       "    </tr>\n",
       "  </thead>\n",
       "  <tbody>\n",
       "    <tr>\n",
       "      <th>0</th>\n",
       "      <td>kawan2 sunda bersatu jemput arteria dahlan</td>\n",
       "      <td>😁</td>\n",
       "      <td>[kawan, sunda, bersatu, jemput, arteria, dahlan]</td>\n",
       "      <td>kawan sunda bersatu jemput arteria dahlan</td>\n",
       "      <td>kawan sunda bersatu jemput arteria dahlan 😁</td>\n",
       "      <td>2</td>\n",
       "      <td>0</td>\n",
       "      <td>6</td>\n",
       "      <td>0.333333</td>\n",
       "      <td>0.000000</td>\n",
       "    </tr>\n",
       "    <tr>\n",
       "      <th>1</th>\n",
       "      <td>arogan kapok2 arteria dahlan</td>\n",
       "      <td>😁</td>\n",
       "      <td>[arogan, kapok, arteria, dahlan]</td>\n",
       "      <td>arogan kapok arteria dahlan</td>\n",
       "      <td>arogan kapok arteria dahlan 😁</td>\n",
       "      <td>0</td>\n",
       "      <td>0</td>\n",
       "      <td>4</td>\n",
       "      <td>0.000000</td>\n",
       "      <td>0.000000</td>\n",
       "    </tr>\n",
       "    <tr>\n",
       "      <th>2</th>\n",
       "      <td>arteria dahlan disidang adat sunda daerah menu...</td>\n",
       "      <td>😁</td>\n",
       "      <td>[arteria, dahlan, sidang, adat, sunda, daerah,...</td>\n",
       "      <td>arteria dahlan sidang adat sunda daerah menunt...</td>\n",
       "      <td>arteria dahlan sidang adat sunda daerah menunt...</td>\n",
       "      <td>5</td>\n",
       "      <td>4</td>\n",
       "      <td>9</td>\n",
       "      <td>0.555556</td>\n",
       "      <td>0.444444</td>\n",
       "    </tr>\n",
       "    <tr>\n",
       "      <th>3</th>\n",
       "      <td>orang sunda jemput arteria dahlan sidang rakya...</td>\n",
       "      <td>😁</td>\n",
       "      <td>[orang, sunda, jemput, arteria, dahlan, sidang...</td>\n",
       "      <td>orang sunda jemput arteria dahlan sidang rakya...</td>\n",
       "      <td>orang sunda jemput arteria dahlan sidang rakya...</td>\n",
       "      <td>2</td>\n",
       "      <td>2</td>\n",
       "      <td>9</td>\n",
       "      <td>0.222222</td>\n",
       "      <td>0.222222</td>\n",
       "    </tr>\n",
       "    <tr>\n",
       "      <th>4</th>\n",
       "      <td>ga ditafsirkan membanding bandingkan edy arter...</td>\n",
       "      <td>😁</td>\n",
       "      <td>[ga, tafsir, membanding, membandingkan, edy, a...</td>\n",
       "      <td>ga tafsir membanding membandingkan edy arteria...</td>\n",
       "      <td>ga tafsir membanding membandingkan edy arteria...</td>\n",
       "      <td>3</td>\n",
       "      <td>2</td>\n",
       "      <td>9</td>\n",
       "      <td>0.333333</td>\n",
       "      <td>0.222222</td>\n",
       "    </tr>\n",
       "  </tbody>\n",
       "</table>\n",
       "</div>"
      ],
      "text/plain": [
       "                                                Text       emoji  \\\n",
       "0         kawan2 sunda bersatu jemput arteria dahlan           😁   \n",
       "1                       arogan kapok2 arteria dahlan           😁   \n",
       "2  arteria dahlan disidang adat sunda daerah menu...           😁   \n",
       "3  orang sunda jemput arteria dahlan sidang rakya...           😁   \n",
       "4  ga ditafsirkan membanding bandingkan edy arter...           😁   \n",
       "\n",
       "                                           Tokenized  \\\n",
       "0   [kawan, sunda, bersatu, jemput, arteria, dahlan]   \n",
       "1                   [arogan, kapok, arteria, dahlan]   \n",
       "2  [arteria, dahlan, sidang, adat, sunda, daerah,...   \n",
       "3  [orang, sunda, jemput, arteria, dahlan, sidang...   \n",
       "4  [ga, tafsir, membanding, membandingkan, edy, a...   \n",
       "\n",
       "                                          final_text  \\\n",
       "0          kawan sunda bersatu jemput arteria dahlan   \n",
       "1                        arogan kapok arteria dahlan   \n",
       "2  arteria dahlan sidang adat sunda daerah menunt...   \n",
       "3  orang sunda jemput arteria dahlan sidang rakya...   \n",
       "4  ga tafsir membanding membandingkan edy arteria...   \n",
       "\n",
       "                                          text_emoji  Pos_Word  Neg_Word  \\\n",
       "0        kawan sunda bersatu jemput arteria dahlan 😁         2         0   \n",
       "1                      arogan kapok arteria dahlan 😁         0         0   \n",
       "2  arteria dahlan sidang adat sunda daerah menunt...         5         4   \n",
       "3  orang sunda jemput arteria dahlan sidang rakya...         2         2   \n",
       "4  ga tafsir membanding membandingkan edy arteria...         3         2   \n",
       "\n",
       "   Total_Word  Pos_Ratio  Neg_Ratio  \n",
       "0           6   0.333333   0.000000  \n",
       "1           4   0.000000   0.000000  \n",
       "2           9   0.555556   0.444444  \n",
       "3           9   0.222222   0.222222  \n",
       "4           9   0.333333   0.222222  "
      ]
     },
     "execution_count": 277,
     "metadata": {},
     "output_type": "execute_result"
    }
   ],
   "source": [
    "df_final.head()"
   ]
  },
  {
   "cell_type": "code",
   "execution_count": 278,
   "metadata": {},
   "outputs": [],
   "source": [
    "for i in range(len(df_final)):\n",
    "  if (df_final.iloc[i]['Pos_Ratio'] > df_final.iloc[i]['Neg_Ratio']):\n",
    "    df_final.loc[i, 'Sentimen_Text'] = 'Positif'\n",
    "  elif (df_final.iloc[i]['Pos_Ratio'] < df_final.iloc[i]['Neg_Ratio']):\n",
    "    df_final.loc[i, 'Sentimen_Text'] = 'Negatif'\n",
    "  else:\n",
    "    df_final.loc[i, 'Sentimen_Text'] = 'Netral'\n"
   ]
  },
  {
   "cell_type": "code",
   "execution_count": 279,
   "metadata": {},
   "outputs": [
    {
     "name": "stdout",
     "output_type": "stream",
     "text": [
      "<class 'pandas.core.frame.DataFrame'>\n",
      "RangeIndex: 6420 entries, 0 to 6419\n",
      "Data columns (total 11 columns):\n",
      " #   Column         Non-Null Count  Dtype  \n",
      "---  ------         --------------  -----  \n",
      " 0   Text           6420 non-null   object \n",
      " 1   emoji          6420 non-null   object \n",
      " 2   Tokenized      6420 non-null   object \n",
      " 3   final_text     6420 non-null   object \n",
      " 4   text_emoji     6420 non-null   object \n",
      " 5   Pos_Word       6420 non-null   int64  \n",
      " 6   Neg_Word       6420 non-null   int64  \n",
      " 7   Total_Word     6420 non-null   int64  \n",
      " 8   Pos_Ratio      6383 non-null   float64\n",
      " 9   Neg_Ratio      6383 non-null   float64\n",
      " 10  Sentimen_Text  6420 non-null   object \n",
      "dtypes: float64(2), int64(3), object(6)\n",
      "memory usage: 551.8+ KB\n"
     ]
    },
    {
     "data": {
      "text/html": [
       "<div>\n",
       "<style scoped>\n",
       "    .dataframe tbody tr th:only-of-type {\n",
       "        vertical-align: middle;\n",
       "    }\n",
       "\n",
       "    .dataframe tbody tr th {\n",
       "        vertical-align: top;\n",
       "    }\n",
       "\n",
       "    .dataframe thead th {\n",
       "        text-align: right;\n",
       "    }\n",
       "</style>\n",
       "<table border=\"1\" class=\"dataframe\">\n",
       "  <thead>\n",
       "    <tr style=\"text-align: right;\">\n",
       "      <th></th>\n",
       "      <th>Text</th>\n",
       "      <th>emoji</th>\n",
       "      <th>Tokenized</th>\n",
       "      <th>final_text</th>\n",
       "      <th>text_emoji</th>\n",
       "      <th>Pos_Word</th>\n",
       "      <th>Neg_Word</th>\n",
       "      <th>Total_Word</th>\n",
       "      <th>Pos_Ratio</th>\n",
       "      <th>Neg_Ratio</th>\n",
       "      <th>Sentimen_Text</th>\n",
       "    </tr>\n",
       "  </thead>\n",
       "  <tbody>\n",
       "    <tr>\n",
       "      <th>0</th>\n",
       "      <td>kawan2 sunda bersatu jemput arteria dahlan</td>\n",
       "      <td>😁</td>\n",
       "      <td>[kawan, sunda, bersatu, jemput, arteria, dahlan]</td>\n",
       "      <td>kawan sunda bersatu jemput arteria dahlan</td>\n",
       "      <td>kawan sunda bersatu jemput arteria dahlan 😁</td>\n",
       "      <td>2</td>\n",
       "      <td>0</td>\n",
       "      <td>6</td>\n",
       "      <td>0.333333</td>\n",
       "      <td>0.000000</td>\n",
       "      <td>Positif</td>\n",
       "    </tr>\n",
       "    <tr>\n",
       "      <th>1</th>\n",
       "      <td>arogan kapok2 arteria dahlan</td>\n",
       "      <td>😁</td>\n",
       "      <td>[arogan, kapok, arteria, dahlan]</td>\n",
       "      <td>arogan kapok arteria dahlan</td>\n",
       "      <td>arogan kapok arteria dahlan 😁</td>\n",
       "      <td>0</td>\n",
       "      <td>0</td>\n",
       "      <td>4</td>\n",
       "      <td>0.000000</td>\n",
       "      <td>0.000000</td>\n",
       "      <td>Netral</td>\n",
       "    </tr>\n",
       "    <tr>\n",
       "      <th>2</th>\n",
       "      <td>arteria dahlan disidang adat sunda daerah menu...</td>\n",
       "      <td>😁</td>\n",
       "      <td>[arteria, dahlan, sidang, adat, sunda, daerah,...</td>\n",
       "      <td>arteria dahlan sidang adat sunda daerah menunt...</td>\n",
       "      <td>arteria dahlan sidang adat sunda daerah menunt...</td>\n",
       "      <td>5</td>\n",
       "      <td>4</td>\n",
       "      <td>9</td>\n",
       "      <td>0.555556</td>\n",
       "      <td>0.444444</td>\n",
       "      <td>Positif</td>\n",
       "    </tr>\n",
       "    <tr>\n",
       "      <th>3</th>\n",
       "      <td>orang sunda jemput arteria dahlan sidang rakya...</td>\n",
       "      <td>😁</td>\n",
       "      <td>[orang, sunda, jemput, arteria, dahlan, sidang...</td>\n",
       "      <td>orang sunda jemput arteria dahlan sidang rakya...</td>\n",
       "      <td>orang sunda jemput arteria dahlan sidang rakya...</td>\n",
       "      <td>2</td>\n",
       "      <td>2</td>\n",
       "      <td>9</td>\n",
       "      <td>0.222222</td>\n",
       "      <td>0.222222</td>\n",
       "      <td>Netral</td>\n",
       "    </tr>\n",
       "    <tr>\n",
       "      <th>4</th>\n",
       "      <td>ga ditafsirkan membanding bandingkan edy arter...</td>\n",
       "      <td>😁</td>\n",
       "      <td>[ga, tafsir, membanding, membandingkan, edy, a...</td>\n",
       "      <td>ga tafsir membanding membandingkan edy arteria...</td>\n",
       "      <td>ga tafsir membanding membandingkan edy arteria...</td>\n",
       "      <td>3</td>\n",
       "      <td>2</td>\n",
       "      <td>9</td>\n",
       "      <td>0.333333</td>\n",
       "      <td>0.222222</td>\n",
       "      <td>Positif</td>\n",
       "    </tr>\n",
       "  </tbody>\n",
       "</table>\n",
       "</div>"
      ],
      "text/plain": [
       "                                                Text       emoji  \\\n",
       "0         kawan2 sunda bersatu jemput arteria dahlan           😁   \n",
       "1                       arogan kapok2 arteria dahlan           😁   \n",
       "2  arteria dahlan disidang adat sunda daerah menu...           😁   \n",
       "3  orang sunda jemput arteria dahlan sidang rakya...           😁   \n",
       "4  ga ditafsirkan membanding bandingkan edy arter...           😁   \n",
       "\n",
       "                                           Tokenized  \\\n",
       "0   [kawan, sunda, bersatu, jemput, arteria, dahlan]   \n",
       "1                   [arogan, kapok, arteria, dahlan]   \n",
       "2  [arteria, dahlan, sidang, adat, sunda, daerah,...   \n",
       "3  [orang, sunda, jemput, arteria, dahlan, sidang...   \n",
       "4  [ga, tafsir, membanding, membandingkan, edy, a...   \n",
       "\n",
       "                                          final_text  \\\n",
       "0          kawan sunda bersatu jemput arteria dahlan   \n",
       "1                        arogan kapok arteria dahlan   \n",
       "2  arteria dahlan sidang adat sunda daerah menunt...   \n",
       "3  orang sunda jemput arteria dahlan sidang rakya...   \n",
       "4  ga tafsir membanding membandingkan edy arteria...   \n",
       "\n",
       "                                          text_emoji  Pos_Word  Neg_Word  \\\n",
       "0        kawan sunda bersatu jemput arteria dahlan 😁         2         0   \n",
       "1                      arogan kapok arteria dahlan 😁         0         0   \n",
       "2  arteria dahlan sidang adat sunda daerah menunt...         5         4   \n",
       "3  orang sunda jemput arteria dahlan sidang rakya...         2         2   \n",
       "4  ga tafsir membanding membandingkan edy arteria...         3         2   \n",
       "\n",
       "   Total_Word  Pos_Ratio  Neg_Ratio Sentimen_Text  \n",
       "0           6   0.333333   0.000000       Positif  \n",
       "1           4   0.000000   0.000000        Netral  \n",
       "2           9   0.555556   0.444444       Positif  \n",
       "3           9   0.222222   0.222222        Netral  \n",
       "4           9   0.333333   0.222222       Positif  "
      ]
     },
     "execution_count": 279,
     "metadata": {},
     "output_type": "execute_result"
    }
   ],
   "source": [
    "df_final.info()\n",
    "df_final.head()"
   ]
  },
  {
   "cell_type": "code",
   "execution_count": 280,
   "metadata": {},
   "outputs": [
    {
     "data": {
      "text/plain": [
       "6420"
      ]
     },
     "execution_count": 280,
     "metadata": {},
     "output_type": "execute_result"
    }
   ],
   "source": [
    "len(df_final)"
   ]
  },
  {
   "cell_type": "code",
   "execution_count": 281,
   "metadata": {},
   "outputs": [
    {
     "data": {
      "text/plain": [
       "Positif    3309\n",
       "Netral     1941\n",
       "Negatif    1170\n",
       "Name: Sentimen_Text, dtype: int64"
      ]
     },
     "execution_count": 281,
     "metadata": {},
     "output_type": "execute_result"
    }
   ],
   "source": [
    "df_final['Sentimen_Text'].value_counts()"
   ]
  },
  {
   "attachments": {},
   "cell_type": "markdown",
   "metadata": {},
   "source": [
    "<h3>Emoji Sentiment</h3>"
   ]
  },
  {
   "cell_type": "code",
   "execution_count": 282,
   "metadata": {},
   "outputs": [],
   "source": [
    "df_emoji = pd.read_csv('Misc/Emoji_Polarity_Dict/Emoji_Sentiment_Data_v1.0.csv')"
   ]
  },
  {
   "cell_type": "code",
   "execution_count": 283,
   "metadata": {},
   "outputs": [
    {
     "name": "stdout",
     "output_type": "stream",
     "text": [
      "<class 'pandas.core.frame.DataFrame'>\n",
      "RangeIndex: 969 entries, 0 to 968\n",
      "Data columns (total 9 columns):\n",
      " #   Column             Non-Null Count  Dtype  \n",
      "---  ------             --------------  -----  \n",
      " 0   Emoji              969 non-null    object \n",
      " 1   Unicode codepoint  969 non-null    object \n",
      " 2   Occurrences        969 non-null    int64  \n",
      " 3   Position           969 non-null    float64\n",
      " 4   Negative           969 non-null    int64  \n",
      " 5   Neutral            969 non-null    int64  \n",
      " 6   Positive           969 non-null    int64  \n",
      " 7   Unicode name       969 non-null    object \n",
      " 8   Unicode block      969 non-null    object \n",
      "dtypes: float64(1), int64(4), object(4)\n",
      "memory usage: 68.3+ KB\n"
     ]
    },
    {
     "data": {
      "text/html": [
       "<div>\n",
       "<style scoped>\n",
       "    .dataframe tbody tr th:only-of-type {\n",
       "        vertical-align: middle;\n",
       "    }\n",
       "\n",
       "    .dataframe tbody tr th {\n",
       "        vertical-align: top;\n",
       "    }\n",
       "\n",
       "    .dataframe thead th {\n",
       "        text-align: right;\n",
       "    }\n",
       "</style>\n",
       "<table border=\"1\" class=\"dataframe\">\n",
       "  <thead>\n",
       "    <tr style=\"text-align: right;\">\n",
       "      <th></th>\n",
       "      <th>Emoji</th>\n",
       "      <th>Unicode codepoint</th>\n",
       "      <th>Occurrences</th>\n",
       "      <th>Position</th>\n",
       "      <th>Negative</th>\n",
       "      <th>Neutral</th>\n",
       "      <th>Positive</th>\n",
       "      <th>Unicode name</th>\n",
       "      <th>Unicode block</th>\n",
       "    </tr>\n",
       "  </thead>\n",
       "  <tbody>\n",
       "    <tr>\n",
       "      <th>0</th>\n",
       "      <td>😂</td>\n",
       "      <td>0x1f602</td>\n",
       "      <td>14622</td>\n",
       "      <td>0.805101</td>\n",
       "      <td>3614</td>\n",
       "      <td>4163</td>\n",
       "      <td>6845</td>\n",
       "      <td>FACE WITH TEARS OF JOY</td>\n",
       "      <td>Emoticons</td>\n",
       "    </tr>\n",
       "    <tr>\n",
       "      <th>1</th>\n",
       "      <td>❤</td>\n",
       "      <td>0x2764</td>\n",
       "      <td>8050</td>\n",
       "      <td>0.746943</td>\n",
       "      <td>355</td>\n",
       "      <td>1334</td>\n",
       "      <td>6361</td>\n",
       "      <td>HEAVY BLACK HEART</td>\n",
       "      <td>Dingbats</td>\n",
       "    </tr>\n",
       "    <tr>\n",
       "      <th>2</th>\n",
       "      <td>♥</td>\n",
       "      <td>0x2665</td>\n",
       "      <td>7144</td>\n",
       "      <td>0.753806</td>\n",
       "      <td>252</td>\n",
       "      <td>1942</td>\n",
       "      <td>4950</td>\n",
       "      <td>BLACK HEART SUIT</td>\n",
       "      <td>Miscellaneous Symbols</td>\n",
       "    </tr>\n",
       "    <tr>\n",
       "      <th>3</th>\n",
       "      <td>😍</td>\n",
       "      <td>0x1f60d</td>\n",
       "      <td>6359</td>\n",
       "      <td>0.765292</td>\n",
       "      <td>329</td>\n",
       "      <td>1390</td>\n",
       "      <td>4640</td>\n",
       "      <td>SMILING FACE WITH HEART-SHAPED EYES</td>\n",
       "      <td>Emoticons</td>\n",
       "    </tr>\n",
       "    <tr>\n",
       "      <th>4</th>\n",
       "      <td>😭</td>\n",
       "      <td>0x1f62d</td>\n",
       "      <td>5526</td>\n",
       "      <td>0.803352</td>\n",
       "      <td>2412</td>\n",
       "      <td>1218</td>\n",
       "      <td>1896</td>\n",
       "      <td>LOUDLY CRYING FACE</td>\n",
       "      <td>Emoticons</td>\n",
       "    </tr>\n",
       "  </tbody>\n",
       "</table>\n",
       "</div>"
      ],
      "text/plain": [
       "  Emoji Unicode codepoint  Occurrences  Position  Negative  Neutral  Positive  \\\n",
       "0     😂           0x1f602        14622  0.805101      3614     4163      6845   \n",
       "1     ❤            0x2764         8050  0.746943       355     1334      6361   \n",
       "2     ♥            0x2665         7144  0.753806       252     1942      4950   \n",
       "3     😍           0x1f60d         6359  0.765292       329     1390      4640   \n",
       "4     😭           0x1f62d         5526  0.803352      2412     1218      1896   \n",
       "\n",
       "                          Unicode name          Unicode block  \n",
       "0               FACE WITH TEARS OF JOY              Emoticons  \n",
       "1                    HEAVY BLACK HEART               Dingbats  \n",
       "2                     BLACK HEART SUIT  Miscellaneous Symbols  \n",
       "3  SMILING FACE WITH HEART-SHAPED EYES              Emoticons  \n",
       "4                   LOUDLY CRYING FACE              Emoticons  "
      ]
     },
     "execution_count": 283,
     "metadata": {},
     "output_type": "execute_result"
    }
   ],
   "source": [
    "df_emoji.info()\n",
    "df_emoji.head()"
   ]
  },
  {
   "cell_type": "code",
   "execution_count": 284,
   "metadata": {},
   "outputs": [],
   "source": [
    "df_final['Tokenize_Emoji'] = df_final['text_emoji'].apply(lambda x: x.split())"
   ]
  },
  {
   "cell_type": "code",
   "execution_count": 285,
   "metadata": {},
   "outputs": [
    {
     "data": {
      "text/html": [
       "<div>\n",
       "<style scoped>\n",
       "    .dataframe tbody tr th:only-of-type {\n",
       "        vertical-align: middle;\n",
       "    }\n",
       "\n",
       "    .dataframe tbody tr th {\n",
       "        vertical-align: top;\n",
       "    }\n",
       "\n",
       "    .dataframe thead th {\n",
       "        text-align: right;\n",
       "    }\n",
       "</style>\n",
       "<table border=\"1\" class=\"dataframe\">\n",
       "  <thead>\n",
       "    <tr style=\"text-align: right;\">\n",
       "      <th></th>\n",
       "      <th>Text</th>\n",
       "      <th>emoji</th>\n",
       "      <th>Tokenized</th>\n",
       "      <th>final_text</th>\n",
       "      <th>text_emoji</th>\n",
       "      <th>Pos_Word</th>\n",
       "      <th>Neg_Word</th>\n",
       "      <th>Total_Word</th>\n",
       "      <th>Pos_Ratio</th>\n",
       "      <th>Neg_Ratio</th>\n",
       "      <th>Sentimen_Text</th>\n",
       "      <th>Tokenize_Emoji</th>\n",
       "    </tr>\n",
       "  </thead>\n",
       "  <tbody>\n",
       "    <tr>\n",
       "      <th>0</th>\n",
       "      <td>kawan2 sunda bersatu jemput arteria dahlan</td>\n",
       "      <td>😁</td>\n",
       "      <td>[kawan, sunda, bersatu, jemput, arteria, dahlan]</td>\n",
       "      <td>kawan sunda bersatu jemput arteria dahlan</td>\n",
       "      <td>kawan sunda bersatu jemput arteria dahlan 😁</td>\n",
       "      <td>2</td>\n",
       "      <td>0</td>\n",
       "      <td>6</td>\n",
       "      <td>0.333333</td>\n",
       "      <td>0.000000</td>\n",
       "      <td>Positif</td>\n",
       "      <td>[kawan, sunda, bersatu, jemput, arteria, dahla...</td>\n",
       "    </tr>\n",
       "    <tr>\n",
       "      <th>1</th>\n",
       "      <td>arogan kapok2 arteria dahlan</td>\n",
       "      <td>😁</td>\n",
       "      <td>[arogan, kapok, arteria, dahlan]</td>\n",
       "      <td>arogan kapok arteria dahlan</td>\n",
       "      <td>arogan kapok arteria dahlan 😁</td>\n",
       "      <td>0</td>\n",
       "      <td>0</td>\n",
       "      <td>4</td>\n",
       "      <td>0.000000</td>\n",
       "      <td>0.000000</td>\n",
       "      <td>Netral</td>\n",
       "      <td>[arogan, kapok, arteria, dahlan, 😁]</td>\n",
       "    </tr>\n",
       "    <tr>\n",
       "      <th>2</th>\n",
       "      <td>arteria dahlan disidang adat sunda daerah menu...</td>\n",
       "      <td>😁</td>\n",
       "      <td>[arteria, dahlan, sidang, adat, sunda, daerah,...</td>\n",
       "      <td>arteria dahlan sidang adat sunda daerah menunt...</td>\n",
       "      <td>arteria dahlan sidang adat sunda daerah menunt...</td>\n",
       "      <td>5</td>\n",
       "      <td>4</td>\n",
       "      <td>9</td>\n",
       "      <td>0.555556</td>\n",
       "      <td>0.444444</td>\n",
       "      <td>Positif</td>\n",
       "      <td>[arteria, dahlan, sidang, adat, sunda, daerah,...</td>\n",
       "    </tr>\n",
       "    <tr>\n",
       "      <th>3</th>\n",
       "      <td>orang sunda jemput arteria dahlan sidang rakya...</td>\n",
       "      <td>😁</td>\n",
       "      <td>[orang, sunda, jemput, arteria, dahlan, sidang...</td>\n",
       "      <td>orang sunda jemput arteria dahlan sidang rakya...</td>\n",
       "      <td>orang sunda jemput arteria dahlan sidang rakya...</td>\n",
       "      <td>2</td>\n",
       "      <td>2</td>\n",
       "      <td>9</td>\n",
       "      <td>0.222222</td>\n",
       "      <td>0.222222</td>\n",
       "      <td>Netral</td>\n",
       "      <td>[orang, sunda, jemput, arteria, dahlan, sidang...</td>\n",
       "    </tr>\n",
       "    <tr>\n",
       "      <th>4</th>\n",
       "      <td>ga ditafsirkan membanding bandingkan edy arter...</td>\n",
       "      <td>😁</td>\n",
       "      <td>[ga, tafsir, membanding, membandingkan, edy, a...</td>\n",
       "      <td>ga tafsir membanding membandingkan edy arteria...</td>\n",
       "      <td>ga tafsir membanding membandingkan edy arteria...</td>\n",
       "      <td>3</td>\n",
       "      <td>2</td>\n",
       "      <td>9</td>\n",
       "      <td>0.333333</td>\n",
       "      <td>0.222222</td>\n",
       "      <td>Positif</td>\n",
       "      <td>[ga, tafsir, membanding, membandingkan, edy, a...</td>\n",
       "    </tr>\n",
       "  </tbody>\n",
       "</table>\n",
       "</div>"
      ],
      "text/plain": [
       "                                                Text       emoji  \\\n",
       "0         kawan2 sunda bersatu jemput arteria dahlan           😁   \n",
       "1                       arogan kapok2 arteria dahlan           😁   \n",
       "2  arteria dahlan disidang adat sunda daerah menu...           😁   \n",
       "3  orang sunda jemput arteria dahlan sidang rakya...           😁   \n",
       "4  ga ditafsirkan membanding bandingkan edy arter...           😁   \n",
       "\n",
       "                                           Tokenized  \\\n",
       "0   [kawan, sunda, bersatu, jemput, arteria, dahlan]   \n",
       "1                   [arogan, kapok, arteria, dahlan]   \n",
       "2  [arteria, dahlan, sidang, adat, sunda, daerah,...   \n",
       "3  [orang, sunda, jemput, arteria, dahlan, sidang...   \n",
       "4  [ga, tafsir, membanding, membandingkan, edy, a...   \n",
       "\n",
       "                                          final_text  \\\n",
       "0          kawan sunda bersatu jemput arteria dahlan   \n",
       "1                        arogan kapok arteria dahlan   \n",
       "2  arteria dahlan sidang adat sunda daerah menunt...   \n",
       "3  orang sunda jemput arteria dahlan sidang rakya...   \n",
       "4  ga tafsir membanding membandingkan edy arteria...   \n",
       "\n",
       "                                          text_emoji  Pos_Word  Neg_Word  \\\n",
       "0        kawan sunda bersatu jemput arteria dahlan 😁         2         0   \n",
       "1                      arogan kapok arteria dahlan 😁         0         0   \n",
       "2  arteria dahlan sidang adat sunda daerah menunt...         5         4   \n",
       "3  orang sunda jemput arteria dahlan sidang rakya...         2         2   \n",
       "4  ga tafsir membanding membandingkan edy arteria...         3         2   \n",
       "\n",
       "   Total_Word  Pos_Ratio  Neg_Ratio Sentimen_Text  \\\n",
       "0           6   0.333333   0.000000       Positif   \n",
       "1           4   0.000000   0.000000        Netral   \n",
       "2           9   0.555556   0.444444       Positif   \n",
       "3           9   0.222222   0.222222        Netral   \n",
       "4           9   0.333333   0.222222       Positif   \n",
       "\n",
       "                                      Tokenize_Emoji  \n",
       "0  [kawan, sunda, bersatu, jemput, arteria, dahla...  \n",
       "1                [arogan, kapok, arteria, dahlan, 😁]  \n",
       "2  [arteria, dahlan, sidang, adat, sunda, daerah,...  \n",
       "3  [orang, sunda, jemput, arteria, dahlan, sidang...  \n",
       "4  [ga, tafsir, membanding, membandingkan, edy, a...  "
      ]
     },
     "execution_count": 285,
     "metadata": {},
     "output_type": "execute_result"
    }
   ],
   "source": [
    "df_final.head()"
   ]
  },
  {
   "cell_type": "code",
   "execution_count": 286,
   "metadata": {},
   "outputs": [],
   "source": [
    "for i in range(len(df_emoji)):\n",
    "  if (df_emoji.iloc[i]['Positive'] > df_emoji.iloc[i]['Negative']):\n",
    "    df_emoji.loc[i, 'Sentimen'] = 'Positif'\n",
    "  elif (df_emoji.iloc[i]['Positive'] < df_emoji.iloc[i]['Negative']):\n",
    "    df_emoji.loc[i, 'Sentimen'] = 'Negatif'\n",
    "  else:\n",
    "    df_emoji.loc[i, 'Sentimen'] = 'Netral'"
   ]
  },
  {
   "cell_type": "code",
   "execution_count": 287,
   "metadata": {},
   "outputs": [
    {
     "data": {
      "text/html": [
       "<div>\n",
       "<style scoped>\n",
       "    .dataframe tbody tr th:only-of-type {\n",
       "        vertical-align: middle;\n",
       "    }\n",
       "\n",
       "    .dataframe tbody tr th {\n",
       "        vertical-align: top;\n",
       "    }\n",
       "\n",
       "    .dataframe thead th {\n",
       "        text-align: right;\n",
       "    }\n",
       "</style>\n",
       "<table border=\"1\" class=\"dataframe\">\n",
       "  <thead>\n",
       "    <tr style=\"text-align: right;\">\n",
       "      <th></th>\n",
       "      <th>Emoji</th>\n",
       "      <th>Unicode codepoint</th>\n",
       "      <th>Occurrences</th>\n",
       "      <th>Position</th>\n",
       "      <th>Negative</th>\n",
       "      <th>Neutral</th>\n",
       "      <th>Positive</th>\n",
       "      <th>Unicode name</th>\n",
       "      <th>Unicode block</th>\n",
       "      <th>Sentimen</th>\n",
       "    </tr>\n",
       "  </thead>\n",
       "  <tbody>\n",
       "    <tr>\n",
       "      <th>0</th>\n",
       "      <td>😂</td>\n",
       "      <td>0x1f602</td>\n",
       "      <td>14622</td>\n",
       "      <td>0.805101</td>\n",
       "      <td>3614</td>\n",
       "      <td>4163</td>\n",
       "      <td>6845</td>\n",
       "      <td>FACE WITH TEARS OF JOY</td>\n",
       "      <td>Emoticons</td>\n",
       "      <td>Positif</td>\n",
       "    </tr>\n",
       "    <tr>\n",
       "      <th>1</th>\n",
       "      <td>❤</td>\n",
       "      <td>0x2764</td>\n",
       "      <td>8050</td>\n",
       "      <td>0.746943</td>\n",
       "      <td>355</td>\n",
       "      <td>1334</td>\n",
       "      <td>6361</td>\n",
       "      <td>HEAVY BLACK HEART</td>\n",
       "      <td>Dingbats</td>\n",
       "      <td>Positif</td>\n",
       "    </tr>\n",
       "    <tr>\n",
       "      <th>2</th>\n",
       "      <td>♥</td>\n",
       "      <td>0x2665</td>\n",
       "      <td>7144</td>\n",
       "      <td>0.753806</td>\n",
       "      <td>252</td>\n",
       "      <td>1942</td>\n",
       "      <td>4950</td>\n",
       "      <td>BLACK HEART SUIT</td>\n",
       "      <td>Miscellaneous Symbols</td>\n",
       "      <td>Positif</td>\n",
       "    </tr>\n",
       "    <tr>\n",
       "      <th>3</th>\n",
       "      <td>😍</td>\n",
       "      <td>0x1f60d</td>\n",
       "      <td>6359</td>\n",
       "      <td>0.765292</td>\n",
       "      <td>329</td>\n",
       "      <td>1390</td>\n",
       "      <td>4640</td>\n",
       "      <td>SMILING FACE WITH HEART-SHAPED EYES</td>\n",
       "      <td>Emoticons</td>\n",
       "      <td>Positif</td>\n",
       "    </tr>\n",
       "    <tr>\n",
       "      <th>4</th>\n",
       "      <td>😭</td>\n",
       "      <td>0x1f62d</td>\n",
       "      <td>5526</td>\n",
       "      <td>0.803352</td>\n",
       "      <td>2412</td>\n",
       "      <td>1218</td>\n",
       "      <td>1896</td>\n",
       "      <td>LOUDLY CRYING FACE</td>\n",
       "      <td>Emoticons</td>\n",
       "      <td>Negatif</td>\n",
       "    </tr>\n",
       "  </tbody>\n",
       "</table>\n",
       "</div>"
      ],
      "text/plain": [
       "  Emoji Unicode codepoint  Occurrences  Position  Negative  Neutral  Positive  \\\n",
       "0     😂           0x1f602        14622  0.805101      3614     4163      6845   \n",
       "1     ❤            0x2764         8050  0.746943       355     1334      6361   \n",
       "2     ♥            0x2665         7144  0.753806       252     1942      4950   \n",
       "3     😍           0x1f60d         6359  0.765292       329     1390      4640   \n",
       "4     😭           0x1f62d         5526  0.803352      2412     1218      1896   \n",
       "\n",
       "                          Unicode name          Unicode block Sentimen  \n",
       "0               FACE WITH TEARS OF JOY              Emoticons  Positif  \n",
       "1                    HEAVY BLACK HEART               Dingbats  Positif  \n",
       "2                     BLACK HEART SUIT  Miscellaneous Symbols  Positif  \n",
       "3  SMILING FACE WITH HEART-SHAPED EYES              Emoticons  Positif  \n",
       "4                   LOUDLY CRYING FACE              Emoticons  Negatif  "
      ]
     },
     "execution_count": 287,
     "metadata": {},
     "output_type": "execute_result"
    }
   ],
   "source": [
    "df_emoji.head()"
   ]
  },
  {
   "cell_type": "code",
   "execution_count": 288,
   "metadata": {},
   "outputs": [],
   "source": [
    "emoji_pos = df_emoji[df_emoji['Sentimen'] == 'Positif']"
   ]
  },
  {
   "cell_type": "code",
   "execution_count": 289,
   "metadata": {},
   "outputs": [],
   "source": [
    "emoji_neg = df_emoji[df_emoji['Sentimen'] == 'Negatif']"
   ]
  },
  {
   "cell_type": "code",
   "execution_count": 290,
   "metadata": {},
   "outputs": [],
   "source": [
    "emojiPos = []\n",
    "\n",
    "for i in emoji_pos['Emoji']:\n",
    "    emojiPos.append(i)"
   ]
  },
  {
   "cell_type": "code",
   "execution_count": 291,
   "metadata": {},
   "outputs": [],
   "source": [
    "emojiNeg = []\n",
    "\n",
    "for i in emoji_neg['Emoji']:\n",
    "    emojiNeg.append(i)"
   ]
  },
  {
   "cell_type": "code",
   "execution_count": 292,
   "metadata": {},
   "outputs": [
    {
     "data": {
      "text/plain": [
       "['😂',\n",
       " '❤',\n",
       " '♥',\n",
       " '😍',\n",
       " '😘',\n",
       " '😊',\n",
       " '👌',\n",
       " '💕',\n",
       " '👏',\n",
       " '😁',\n",
       " '☺',\n",
       " '♡',\n",
       " '👍',\n",
       " '🙏',\n",
       " '✌',\n",
       " '😏',\n",
       " '😉',\n",
       " '🙌',\n",
       " '🙈',\n",
       " '💪',\n",
       " '😄',\n",
       " '💃',\n",
       " '💖',\n",
       " '😃',\n",
       " '😱',\n",
       " '🎉',\n",
       " '😜',\n",
       " '☯',\n",
       " '🌸',\n",
       " '💜',\n",
       " '💙',\n",
       " '✨',\n",
       " '😳',\n",
       " '💗',\n",
       " '★',\n",
       " '☀',\n",
       " '😎',\n",
       " '😢',\n",
       " '💋',\n",
       " '😋',\n",
       " '🙊',\n",
       " '🎶',\n",
       " '💞',\n",
       " '😌',\n",
       " '🔥',\n",
       " '💯',\n",
       " '💛',\n",
       " '💁',\n",
       " '💚',\n",
       " '♫',\n",
       " '😆',\n",
       " '😝',\n",
       " '�',\n",
       " '😅',\n",
       " '👊',\n",
       " '😀',\n",
       " '😚',\n",
       " '😻',\n",
       " '©',\n",
       " '👀',\n",
       " '💘',\n",
       " '🐓',\n",
       " '☕',\n",
       " '👋',\n",
       " '✋',\n",
       " '🎊',\n",
       " '🍕',\n",
       " '❄',\n",
       " '😥',\n",
       " '💥',\n",
       " '😈',\n",
       " '►',\n",
       " '✈',\n",
       " '🔝',\n",
       " '⚽',\n",
       " '👑',\n",
       " '😹',\n",
       " '👉',\n",
       " '🍃',\n",
       " '🎁',\n",
       " '🐧',\n",
       " '☆',\n",
       " '🍀',\n",
       " '🎈',\n",
       " '🎅',\n",
       " '✊',\n",
       " '💤',\n",
       " '💓',\n",
       " '💦',\n",
       " '✔',\n",
       " '⚡',\n",
       " '🙋',\n",
       " '🎄',\n",
       " '🎵',\n",
       " '➡',\n",
       " '😛',\n",
       " '😬',\n",
       " '👯',\n",
       " '💎',\n",
       " '🌿',\n",
       " '🎂',\n",
       " '🌟',\n",
       " '🔮',\n",
       " '❗',\n",
       " '👫',\n",
       " '🏆',\n",
       " '✖',\n",
       " '☝',\n",
       " '😙',\n",
       " '⛄',\n",
       " '👅',\n",
       " '♪',\n",
       " '🍂',\n",
       " '💏',\n",
       " '🔪',\n",
       " '🌴',\n",
       " '👈',\n",
       " '🌹',\n",
       " '🙆',\n",
       " '➜',\n",
       " '👻',\n",
       " '💰',\n",
       " '🍻',\n",
       " '🌞',\n",
       " '🍁',\n",
       " '⭐',\n",
       " '▪',\n",
       " '🎀',\n",
       " '━',\n",
       " '☷',\n",
       " '🐷',\n",
       " '🙉',\n",
       " '🌺',\n",
       " '💅',\n",
       " '🐶',\n",
       " '🌚',\n",
       " '👽',\n",
       " '🎤',\n",
       " '👭',\n",
       " '🎧',\n",
       " '👆',\n",
       " '🍸',\n",
       " '🍷',\n",
       " '®',\n",
       " '🍉',\n",
       " '😇',\n",
       " '☑',\n",
       " '🏃',\n",
       " '│',\n",
       " '💣',\n",
       " '🍺',\n",
       " '▶',\n",
       " '🎸',\n",
       " '🍹',\n",
       " '💫',\n",
       " '📚',\n",
       " '🌷',\n",
       " '💝',\n",
       " '💨',\n",
       " '🏈',\n",
       " '💍',\n",
       " '☔',\n",
       " '👸',\n",
       " '🇪',\n",
       " '🍩',\n",
       " '👾',\n",
       " '☁',\n",
       " '🌻',\n",
       " '😵',\n",
       " '📒',\n",
       " '↿',\n",
       " '🐯',\n",
       " '👼',\n",
       " '🍔',\n",
       " '😸',\n",
       " '👶',\n",
       " '↾',\n",
       " '💐',\n",
       " '🌊',\n",
       " '🍦',\n",
       " '🍓',\n",
       " '👇',\n",
       " '💆',\n",
       " '🍴',\n",
       " '🇸',\n",
       " '😮',\n",
       " '▓',\n",
       " '😽',\n",
       " '🌈',\n",
       " '🙀',\n",
       " '🎮',\n",
       " '🍆',\n",
       " '🍰',\n",
       " '✓',\n",
       " '🙇',\n",
       " '🍟',\n",
       " '🍌',\n",
       " '💑',\n",
       " '🐣',\n",
       " '🎃',\n",
       " '▬',\n",
       " '😟',\n",
       " '🐾',\n",
       " '🎓',\n",
       " '🏊',\n",
       " '🍫',\n",
       " '📷',\n",
       " '👄',\n",
       " '🌼',\n",
       " '🐱',\n",
       " '║',\n",
       " '🇺',\n",
       " '🚬',\n",
       " '✿',\n",
       " '📖',\n",
       " '🐒',\n",
       " '🌍',\n",
       " '┊',\n",
       " '🐥',\n",
       " '🌀',\n",
       " '🐼',\n",
       " '🎥',\n",
       " '💄',\n",
       " '💸',\n",
       " '⛔',\n",
       " '●',\n",
       " '🏀',\n",
       " '💉',\n",
       " '💟',\n",
       " '🚗',\n",
       " '😯',\n",
       " '📝',\n",
       " '═',\n",
       " '♦',\n",
       " '💭',\n",
       " '🌙',\n",
       " '🐟',\n",
       " '👣',\n",
       " '☞',\n",
       " '🗿',\n",
       " '🍝',\n",
       " '🍭',\n",
       " '🌃',\n",
       " '❌',\n",
       " '🐰',\n",
       " '💊',\n",
       " '🚨',\n",
       " '🍪',\n",
       " '╭',\n",
       " '✧',\n",
       " '🎆',\n",
       " '╮',\n",
       " '🎎',\n",
       " '🇩',\n",
       " '✅',\n",
       " '👹',\n",
       " '📱',\n",
       " '🍑',\n",
       " '🎼',\n",
       " '🔊',\n",
       " '🌌',\n",
       " '🍎',\n",
       " '🐻',\n",
       " '─',\n",
       " '💇',\n",
       " '♬',\n",
       " '♚',\n",
       " '🔴',\n",
       " '🍊',\n",
       " '🍒',\n",
       " '🐭',\n",
       " '👟',\n",
       " '🌎',\n",
       " '🍍',\n",
       " '🐮',\n",
       " '📲',\n",
       " '☼',\n",
       " '🌅',\n",
       " '🇷',\n",
       " '👠',\n",
       " '🌽',\n",
       " '❓',\n",
       " '🍬',\n",
       " '😺',\n",
       " '🐴',\n",
       " '🚀',\n",
       " '¦',\n",
       " '💢',\n",
       " '🎬',\n",
       " '🍧',\n",
       " '🍜',\n",
       " '🐏',\n",
       " '🐘',\n",
       " '👧',\n",
       " '⠀',\n",
       " '🏄',\n",
       " '➤',\n",
       " '⬆',\n",
       " '🍋',\n",
       " '🆗',\n",
       " '⚪',\n",
       " '📺',\n",
       " '🍅',\n",
       " '⛅',\n",
       " '🐢',\n",
       " '👙',\n",
       " '🏡',\n",
       " '🌾',\n",
       " '◉',\n",
       " '✏',\n",
       " '🐬',\n",
       " '🍤',\n",
       " '🇹',\n",
       " '♣',\n",
       " '🐝',\n",
       " '🌝',\n",
       " '🇮',\n",
       " '🐍',\n",
       " '♔',\n",
       " '🍳',\n",
       " '🔵',\n",
       " '🌕',\n",
       " '🐨',\n",
       " '🔐',\n",
       " '💿',\n",
       " '❁',\n",
       " '🌳',\n",
       " '👰',\n",
       " '❀',\n",
       " '⚓',\n",
       " '🚴',\n",
       " '👗',\n",
       " '➕',\n",
       " '💬',\n",
       " '🔜',\n",
       " '🍨',\n",
       " '💲',\n",
       " '⛽',\n",
       " '🍙',\n",
       " '🍗',\n",
       " '🍲',\n",
       " '▸',\n",
       " '♛',\n",
       " '😼',\n",
       " '🐙',\n",
       " '👨',\n",
       " '🍚',\n",
       " '🍖',\n",
       " '♨',\n",
       " '🎹',\n",
       " '♕',\n",
       " '▃',\n",
       " '🚘',\n",
       " '🍏',\n",
       " '👩',\n",
       " '👦',\n",
       " '🇬',\n",
       " '🇧',\n",
       " '🐠',\n",
       " '🚹',\n",
       " '💵',\n",
       " '✰',\n",
       " '╠',\n",
       " '👛',\n",
       " '🚙',\n",
       " '🌱',\n",
       " '💻',\n",
       " '🌏',\n",
       " '👓',\n",
       " '◄',\n",
       " '🌲',\n",
       " '👴',\n",
       " '🏠',\n",
       " '🍇',\n",
       " '🍘',\n",
       " '🍛',\n",
       " '🐇',\n",
       " '👵',\n",
       " '◀',\n",
       " '🔙',\n",
       " '🌵',\n",
       " '🐽',\n",
       " '🎇',\n",
       " '🐎',\n",
       " '🐤',\n",
       " '╩',\n",
       " '🛀',\n",
       " '🌑',\n",
       " '🚲',\n",
       " '🏁',\n",
       " '🍞',\n",
       " '🎾',\n",
       " '╚',\n",
       " '🈹',\n",
       " '🐳',\n",
       " '🐵',\n",
       " '✪',\n",
       " '◕',\n",
       " '🗼',\n",
       " '♠',\n",
       " '🐚',\n",
       " '🗽',\n",
       " '🍵',\n",
       " '🆒',\n",
       " '🍯',\n",
       " '🐺',\n",
       " '⇨',\n",
       " '➨',\n",
       " '🌓',\n",
       " '🔒',\n",
       " '👳',\n",
       " '🌂',\n",
       " '🚌',\n",
       " '♩',\n",
       " '❥',\n",
       " '🎡',\n",
       " '💌',\n",
       " '🐩',\n",
       " '🌜',\n",
       " '⌚',\n",
       " '🚿',\n",
       " '🐖',\n",
       " '🔆',\n",
       " '🌛',\n",
       " '🐔',\n",
       " '🏩',\n",
       " '🇫',\n",
       " '📢',\n",
       " '🐦',\n",
       " '♻',\n",
       " '🌘',\n",
       " '🍐',\n",
       " '🌔',\n",
       " '╥',\n",
       " '👖',\n",
       " '🚺',\n",
       " '😗',\n",
       " '🐄',\n",
       " '🎨',\n",
       " '⬇',\n",
       " '🚼',\n",
       " '⛲',\n",
       " '🇴',\n",
       " '🌗',\n",
       " '🌖',\n",
       " '🔅',\n",
       " '👜',\n",
       " '🐌',\n",
       " '💼',\n",
       " '🐹',\n",
       " '🌠',\n",
       " '🐈',\n",
       " '⇧',\n",
       " '🌁',\n",
       " '⚫',\n",
       " '♧',\n",
       " '🏰',\n",
       " '🚵',\n",
       " '🎢',\n",
       " '🎷',\n",
       " '🎐',\n",
       " '╗',\n",
       " '🌇',\n",
       " '⏰',\n",
       " '🚂',\n",
       " '◠',\n",
       " '🎿',\n",
       " '✦',\n",
       " '🆔',\n",
       " '⛪',\n",
       " '🌒',\n",
       " '🐪',\n",
       " '╔',\n",
       " '╝',\n",
       " '👔',\n",
       " '🔱',\n",
       " '🆓',\n",
       " '🐋',\n",
       " '▽',\n",
       " '🐛',\n",
       " '👕',\n",
       " '🚋',\n",
       " '💳',\n",
       " '🌆',\n",
       " '🏧',\n",
       " '💡',\n",
       " '🔹',\n",
       " '⬅',\n",
       " '🐫',\n",
       " '🏪',\n",
       " '🇱',\n",
       " '📹',\n",
       " '👞',\n",
       " '🚑',\n",
       " '🆘',\n",
       " '👚',\n",
       " '🚍',\n",
       " '🐂',\n",
       " '🚣',\n",
       " '🏉',\n",
       " '🗻',\n",
       " '🐀',\n",
       " '╦',\n",
       " '⛺',\n",
       " '🐕',\n",
       " '🏂',\n",
       " '👡',\n",
       " '📻',\n",
       " '✒',\n",
       " '🌰',\n",
       " '🏢',\n",
       " '🎒',\n",
       " '⌒',\n",
       " '📴',\n",
       " '🚢',\n",
       " '🐉',\n",
       " '❒',\n",
       " '🐊',\n",
       " '🔔',\n",
       " '◢',\n",
       " '🏥',\n",
       " '🃏',\n",
       " '▼',\n",
       " '☛',\n",
       " '💒',\n",
       " '🚤',\n",
       " '🐐',\n",
       " '🔚',\n",
       " '🎻',\n",
       " '🔷',\n",
       " '🚦',\n",
       " '🔓',\n",
       " '🎽',\n",
       " '📅',\n",
       " '🎺',\n",
       " '✉',\n",
       " '◤',\n",
       " '○',\n",
       " '🍼',\n",
       " '📀',\n",
       " '📓',\n",
       " '☉',\n",
       " '📕',\n",
       " '📣',\n",
       " '🚓',\n",
       " '🐗',\n",
       " '↪',\n",
       " '⛳',\n",
       " '┛',\n",
       " '┃',\n",
       " '👱',\n",
       " '💺',\n",
       " '☻',\n",
       " '📞',\n",
       " '🌉',\n",
       " '✎',\n",
       " '📃',\n",
       " '🏨',\n",
       " '💷',\n",
       " '🚄',\n",
       " '▲',\n",
       " '⛵',\n",
       " '🔸',\n",
       " '⌛',\n",
       " '🚜',\n",
       " '🐆',\n",
       " '👒',\n",
       " '❕',\n",
       " '🔛',\n",
       " '♢',\n",
       " '🇲',\n",
       " '❅',\n",
       " '👝',\n",
       " '✞',\n",
       " '◡',\n",
       " '🎋',\n",
       " '👥',\n",
       " '📵',\n",
       " '🐡',\n",
       " '◆',\n",
       " '🏯',\n",
       " '🔭',\n",
       " '🎪',\n",
       " '🐜',\n",
       " '♌',\n",
       " '👷',\n",
       " '🔈',\n",
       " '📄',\n",
       " '📍',\n",
       " '🚐',\n",
       " '🌋',\n",
       " '📡',\n",
       " '⏩',\n",
       " '🚳',\n",
       " '✘',\n",
       " '🅰',\n",
       " '🇼',\n",
       " '┓',\n",
       " '┣',\n",
       " 'Ⓛ',\n",
       " 'Ⓔ',\n",
       " '👤',\n",
       " '🚁',\n",
       " '🎠',\n",
       " '📗',\n",
       " '♂',\n",
       " '🔩',\n",
       " '👢',\n",
       " '◂',\n",
       " '📰',\n",
       " '📶',\n",
       " '🌄',\n",
       " '🗾',\n",
       " '🔶',\n",
       " '🏤',\n",
       " '🎩',\n",
       " 'Ⓜ',\n",
       " '🐅',\n",
       " '♮',\n",
       " '📦',\n",
       " '🚊',\n",
       " '🔲',\n",
       " '△',\n",
       " '📆',\n",
       " '❛',\n",
       " '📉',\n",
       " '▵',\n",
       " '🔎',\n",
       " '☜',\n",
       " '🇯',\n",
       " '🇵',\n",
       " '📘',\n",
       " 'ⓔ',\n",
       " '🔑',\n",
       " '⭕',\n",
       " '🔘',\n",
       " '🚭',\n",
       " '🚉',\n",
       " '🚪',\n",
       " '➳',\n",
       " '🚃',\n",
       " '🆙',\n",
       " '🆖',\n",
       " '┗',\n",
       " 'Ⓞ',\n",
       " '❇',\n",
       " '✴',\n",
       " '☊',\n",
       " '🚞',\n",
       " '🍶',\n",
       " '🌐',\n",
       " '♀',\n",
       " '🚅',\n",
       " '♋',\n",
       " '♍',\n",
       " 'ⓐ',\n",
       " '📙',\n",
       " 'Ⓢ',\n",
       " '📋',\n",
       " '🎱',\n",
       " '🐞',\n",
       " '🔺',\n",
       " 'ⓡ',\n",
       " '♤',\n",
       " '🎯',\n",
       " '🔉',\n",
       " '↩',\n",
       " '🚾',\n",
       " '🔣',\n",
       " '➥',\n",
       " '🎌',\n",
       " '◣',\n",
       " '⏬',\n",
       " '♭',\n",
       " 'ⓞ',\n",
       " '🔳',\n",
       " '🏭',\n",
       " '☚',\n",
       " '➽',\n",
       " '➫',\n",
       " '꒰',\n",
       " '꒱',\n",
       " '📑',\n",
       " 'ⓧ',\n",
       " '🔟',\n",
       " '〓',\n",
       " 'ⓜ',\n",
       " '➠',\n",
       " '🚆',\n",
       " '☃',\n",
       " '🚽',\n",
       " 'ⓝ',\n",
       " '⇦',\n",
       " '👲',\n",
       " '🔬',\n",
       " '📈',\n",
       " '⏪',\n",
       " '◎',\n",
       " '📎',\n",
       " '⑅',\n",
       " '✭',\n",
       " '♓',\n",
       " '┏',\n",
       " '☇',\n",
       " '👘',\n",
       " '↙',\n",
       " 'Ⓕ',\n",
       " 'Ⓦ',\n",
       " 'Ⓟ',\n",
       " '🕑',\n",
       " '🕛',\n",
       " '↬',\n",
       " '✍',\n",
       " '🏦',\n",
       " '🔻',\n",
       " 'ⓟ',\n",
       " 'ⓕ',\n",
       " 'ⓘ',\n",
       " '♿',\n",
       " '⇗',\n",
       " '⇘',\n",
       " 'ⓨ',\n",
       " 'ⓙ',\n",
       " '▫',\n",
       " '🔇',\n",
       " '🔖',\n",
       " '📜',\n",
       " '🚝',\n",
       " '🔯',\n",
       " '➸',\n",
       " '꒵',\n",
       " '✽',\n",
       " '📼',\n",
       " '🀄',\n",
       " '✬',\n",
       " '✫',\n",
       " '❣',\n",
       " '📫',\n",
       " '🉐',\n",
       " '📔']"
      ]
     },
     "execution_count": 292,
     "metadata": {},
     "output_type": "execute_result"
    }
   ],
   "source": [
    "emojiPos"
   ]
  },
  {
   "cell_type": "code",
   "execution_count": 293,
   "metadata": {},
   "outputs": [
    {
     "data": {
      "text/plain": [
       "['😭',\n",
       " '😩',\n",
       " '😒',\n",
       " '😔',\n",
       " '█',\n",
       " '😡',\n",
       " '😴',\n",
       " '🔫',\n",
       " '😞',\n",
       " '😪',\n",
       " '😫',\n",
       " '💀',\n",
       " '😕',\n",
       " '💔',\n",
       " '😤',\n",
       " '😰',\n",
       " '😑',\n",
       " '😠',\n",
       " '😓',\n",
       " '😣',\n",
       " '😐',\n",
       " '😨',\n",
       " '😖',\n",
       " '👎',\n",
       " '😷',\n",
       " '💩',\n",
       " '🙅',\n",
       " '😿',\n",
       " '😲',\n",
       " '😶',\n",
       " '░',\n",
       " '😧',\n",
       " '🚫',\n",
       " '⚠',\n",
       " '╯',\n",
       " '👐',\n",
       " '👬',\n",
       " '￼',\n",
       " '🚶',\n",
       " '🐸',\n",
       " '👿',\n",
       " '✂',\n",
       " '👪',\n",
       " '😦',\n",
       " '🍣',\n",
       " '🙍',\n",
       " '╰',\n",
       " '🍱',\n",
       " '💧',\n",
       " '🔋',\n",
       " '😾',\n",
       " '▀',\n",
       " '▒',\n",
       " '🍥',\n",
       " '☠',\n",
       " '▄',\n",
       " '⚾',\n",
       " '🔞',\n",
       " '🍮',\n",
       " '➔',\n",
       " '🐑',\n",
       " '👮',\n",
       " '☹',\n",
       " '▐',\n",
       " '┳',\n",
       " '👺',\n",
       " '👂',\n",
       " '╬',\n",
       " '🍡',\n",
       " '💂',\n",
       " '🙎',\n",
       " '🔨',\n",
       " '🐲',\n",
       " '◟',\n",
       " '🍢',\n",
       " '┈',\n",
       " '□',\n",
       " '🏫',\n",
       " '🚚',\n",
       " '🚖',\n",
       " '▌',\n",
       " '■',\n",
       " '🍈',\n",
       " '🚛',\n",
       " '💴',\n",
       " '➰',\n",
       " '🔌',\n",
       " '┻',\n",
       " '🏇',\n",
       " 'Ⓐ',\n",
       " '🚩',\n",
       " '📌',\n",
       " '♎',\n",
       " '☐',\n",
       " '🐁',\n",
       " '┐',\n",
       " '📯',\n",
       " '🔧',\n",
       " '🅾',\n",
       " '┯',\n",
       " '🔕',\n",
       " '⬛',\n",
       " '🚒',\n",
       " '🕝',\n",
       " '🎣',\n",
       " '❎',\n",
       " '🎳',\n",
       " '➖',\n",
       " '◝',\n",
       " '℅',\n",
       " '🚡',\n",
       " '➗',\n",
       " '꒦',\n",
       " '࿎',\n",
       " '♈',\n",
       " '⌃',\n",
       " '┘',\n",
       " '✝',\n",
       " '⍣',\n",
       " '📮',\n",
       " '🕕',\n",
       " '🕥',\n",
       " '🕐',\n",
       " '🕔',\n",
       " '🈂',\n",
       " '🎰',\n",
       " '҂',\n",
       " '╤']"
      ]
     },
     "execution_count": 293,
     "metadata": {},
     "output_type": "execute_result"
    }
   ],
   "source": [
    "emojiNeg"
   ]
  },
  {
   "cell_type": "code",
   "execution_count": 294,
   "metadata": {},
   "outputs": [],
   "source": [
    "# Positive Emoji Count\n",
    "df_final['Pos_Emoji'] = df_final['Tokenize_Emoji'].apply(lambda x: sum(1 for emoji in x if emoji in emojiPos))"
   ]
  },
  {
   "cell_type": "code",
   "execution_count": 295,
   "metadata": {},
   "outputs": [],
   "source": [
    "# Negative Emoji Count\n",
    "df_final['Neg_Emoji'] = df_final['Tokenize_Emoji'].apply(lambda x: sum(1 for emoji in x if emoji in emojiNeg))"
   ]
  },
  {
   "cell_type": "code",
   "execution_count": 296,
   "metadata": {},
   "outputs": [
    {
     "data": {
      "text/html": [
       "<div>\n",
       "<style scoped>\n",
       "    .dataframe tbody tr th:only-of-type {\n",
       "        vertical-align: middle;\n",
       "    }\n",
       "\n",
       "    .dataframe tbody tr th {\n",
       "        vertical-align: top;\n",
       "    }\n",
       "\n",
       "    .dataframe thead th {\n",
       "        text-align: right;\n",
       "    }\n",
       "</style>\n",
       "<table border=\"1\" class=\"dataframe\">\n",
       "  <thead>\n",
       "    <tr style=\"text-align: right;\">\n",
       "      <th></th>\n",
       "      <th>Text</th>\n",
       "      <th>emoji</th>\n",
       "      <th>Tokenized</th>\n",
       "      <th>final_text</th>\n",
       "      <th>text_emoji</th>\n",
       "      <th>Pos_Word</th>\n",
       "      <th>Neg_Word</th>\n",
       "      <th>Total_Word</th>\n",
       "      <th>Pos_Ratio</th>\n",
       "      <th>Neg_Ratio</th>\n",
       "      <th>Sentimen_Text</th>\n",
       "      <th>Tokenize_Emoji</th>\n",
       "      <th>Pos_Emoji</th>\n",
       "      <th>Neg_Emoji</th>\n",
       "    </tr>\n",
       "  </thead>\n",
       "  <tbody>\n",
       "    <tr>\n",
       "      <th>0</th>\n",
       "      <td>kawan2 sunda bersatu jemput arteria dahlan</td>\n",
       "      <td>😁</td>\n",
       "      <td>[kawan, sunda, bersatu, jemput, arteria, dahlan]</td>\n",
       "      <td>kawan sunda bersatu jemput arteria dahlan</td>\n",
       "      <td>kawan sunda bersatu jemput arteria dahlan 😁</td>\n",
       "      <td>2</td>\n",
       "      <td>0</td>\n",
       "      <td>6</td>\n",
       "      <td>0.333333</td>\n",
       "      <td>0.000000</td>\n",
       "      <td>Positif</td>\n",
       "      <td>[kawan, sunda, bersatu, jemput, arteria, dahla...</td>\n",
       "      <td>1</td>\n",
       "      <td>0</td>\n",
       "    </tr>\n",
       "    <tr>\n",
       "      <th>1</th>\n",
       "      <td>arogan kapok2 arteria dahlan</td>\n",
       "      <td>😁</td>\n",
       "      <td>[arogan, kapok, arteria, dahlan]</td>\n",
       "      <td>arogan kapok arteria dahlan</td>\n",
       "      <td>arogan kapok arteria dahlan 😁</td>\n",
       "      <td>0</td>\n",
       "      <td>0</td>\n",
       "      <td>4</td>\n",
       "      <td>0.000000</td>\n",
       "      <td>0.000000</td>\n",
       "      <td>Netral</td>\n",
       "      <td>[arogan, kapok, arteria, dahlan, 😁]</td>\n",
       "      <td>1</td>\n",
       "      <td>0</td>\n",
       "    </tr>\n",
       "    <tr>\n",
       "      <th>2</th>\n",
       "      <td>arteria dahlan disidang adat sunda daerah menu...</td>\n",
       "      <td>😁</td>\n",
       "      <td>[arteria, dahlan, sidang, adat, sunda, daerah,...</td>\n",
       "      <td>arteria dahlan sidang adat sunda daerah menunt...</td>\n",
       "      <td>arteria dahlan sidang adat sunda daerah menunt...</td>\n",
       "      <td>5</td>\n",
       "      <td>4</td>\n",
       "      <td>9</td>\n",
       "      <td>0.555556</td>\n",
       "      <td>0.444444</td>\n",
       "      <td>Positif</td>\n",
       "      <td>[arteria, dahlan, sidang, adat, sunda, daerah,...</td>\n",
       "      <td>1</td>\n",
       "      <td>0</td>\n",
       "    </tr>\n",
       "    <tr>\n",
       "      <th>3</th>\n",
       "      <td>orang sunda jemput arteria dahlan sidang rakya...</td>\n",
       "      <td>😁</td>\n",
       "      <td>[orang, sunda, jemput, arteria, dahlan, sidang...</td>\n",
       "      <td>orang sunda jemput arteria dahlan sidang rakya...</td>\n",
       "      <td>orang sunda jemput arteria dahlan sidang rakya...</td>\n",
       "      <td>2</td>\n",
       "      <td>2</td>\n",
       "      <td>9</td>\n",
       "      <td>0.222222</td>\n",
       "      <td>0.222222</td>\n",
       "      <td>Netral</td>\n",
       "      <td>[orang, sunda, jemput, arteria, dahlan, sidang...</td>\n",
       "      <td>1</td>\n",
       "      <td>0</td>\n",
       "    </tr>\n",
       "    <tr>\n",
       "      <th>4</th>\n",
       "      <td>ga ditafsirkan membanding bandingkan edy arter...</td>\n",
       "      <td>😁</td>\n",
       "      <td>[ga, tafsir, membanding, membandingkan, edy, a...</td>\n",
       "      <td>ga tafsir membanding membandingkan edy arteria...</td>\n",
       "      <td>ga tafsir membanding membandingkan edy arteria...</td>\n",
       "      <td>3</td>\n",
       "      <td>2</td>\n",
       "      <td>9</td>\n",
       "      <td>0.333333</td>\n",
       "      <td>0.222222</td>\n",
       "      <td>Positif</td>\n",
       "      <td>[ga, tafsir, membanding, membandingkan, edy, a...</td>\n",
       "      <td>1</td>\n",
       "      <td>0</td>\n",
       "    </tr>\n",
       "  </tbody>\n",
       "</table>\n",
       "</div>"
      ],
      "text/plain": [
       "                                                Text       emoji  \\\n",
       "0         kawan2 sunda bersatu jemput arteria dahlan           😁   \n",
       "1                       arogan kapok2 arteria dahlan           😁   \n",
       "2  arteria dahlan disidang adat sunda daerah menu...           😁   \n",
       "3  orang sunda jemput arteria dahlan sidang rakya...           😁   \n",
       "4  ga ditafsirkan membanding bandingkan edy arter...           😁   \n",
       "\n",
       "                                           Tokenized  \\\n",
       "0   [kawan, sunda, bersatu, jemput, arteria, dahlan]   \n",
       "1                   [arogan, kapok, arteria, dahlan]   \n",
       "2  [arteria, dahlan, sidang, adat, sunda, daerah,...   \n",
       "3  [orang, sunda, jemput, arteria, dahlan, sidang...   \n",
       "4  [ga, tafsir, membanding, membandingkan, edy, a...   \n",
       "\n",
       "                                          final_text  \\\n",
       "0          kawan sunda bersatu jemput arteria dahlan   \n",
       "1                        arogan kapok arteria dahlan   \n",
       "2  arteria dahlan sidang adat sunda daerah menunt...   \n",
       "3  orang sunda jemput arteria dahlan sidang rakya...   \n",
       "4  ga tafsir membanding membandingkan edy arteria...   \n",
       "\n",
       "                                          text_emoji  Pos_Word  Neg_Word  \\\n",
       "0        kawan sunda bersatu jemput arteria dahlan 😁         2         0   \n",
       "1                      arogan kapok arteria dahlan 😁         0         0   \n",
       "2  arteria dahlan sidang adat sunda daerah menunt...         5         4   \n",
       "3  orang sunda jemput arteria dahlan sidang rakya...         2         2   \n",
       "4  ga tafsir membanding membandingkan edy arteria...         3         2   \n",
       "\n",
       "   Total_Word  Pos_Ratio  Neg_Ratio Sentimen_Text  \\\n",
       "0           6   0.333333   0.000000       Positif   \n",
       "1           4   0.000000   0.000000        Netral   \n",
       "2           9   0.555556   0.444444       Positif   \n",
       "3           9   0.222222   0.222222        Netral   \n",
       "4           9   0.333333   0.222222       Positif   \n",
       "\n",
       "                                      Tokenize_Emoji  Pos_Emoji  Neg_Emoji  \n",
       "0  [kawan, sunda, bersatu, jemput, arteria, dahla...          1          0  \n",
       "1                [arogan, kapok, arteria, dahlan, 😁]          1          0  \n",
       "2  [arteria, dahlan, sidang, adat, sunda, daerah,...          1          0  \n",
       "3  [orang, sunda, jemput, arteria, dahlan, sidang...          1          0  \n",
       "4  [ga, tafsir, membanding, membandingkan, edy, a...          1          0  "
      ]
     },
     "execution_count": 296,
     "metadata": {},
     "output_type": "execute_result"
    }
   ],
   "source": [
    "df_final.head()"
   ]
  },
  {
   "cell_type": "code",
   "execution_count": 297,
   "metadata": {},
   "outputs": [],
   "source": [
    "for i in range(len(df_final)):\n",
    "  if (df_final.iloc[i]['Pos_Emoji'] > df_final.iloc[i]['Neg_Emoji']):\n",
    "    df_final.loc[i, 'Sentimen_Emoji'] = 'Positif'\n",
    "  elif (df_final.iloc[i]['Pos_Emoji'] < df_final.iloc[i]['Neg_Emoji']):\n",
    "    df_final.loc[i, 'Sentimen_Emoji'] = 'Negatif'\n",
    "  else:\n",
    "    df_final.loc[i, 'Sentimen_Emoji'] = 'Netral'\n"
   ]
  },
  {
   "cell_type": "code",
   "execution_count": 298,
   "metadata": {},
   "outputs": [
    {
     "data": {
      "text/html": [
       "<div>\n",
       "<style scoped>\n",
       "    .dataframe tbody tr th:only-of-type {\n",
       "        vertical-align: middle;\n",
       "    }\n",
       "\n",
       "    .dataframe tbody tr th {\n",
       "        vertical-align: top;\n",
       "    }\n",
       "\n",
       "    .dataframe thead th {\n",
       "        text-align: right;\n",
       "    }\n",
       "</style>\n",
       "<table border=\"1\" class=\"dataframe\">\n",
       "  <thead>\n",
       "    <tr style=\"text-align: right;\">\n",
       "      <th></th>\n",
       "      <th>Text</th>\n",
       "      <th>emoji</th>\n",
       "      <th>Tokenized</th>\n",
       "      <th>final_text</th>\n",
       "      <th>text_emoji</th>\n",
       "      <th>Pos_Word</th>\n",
       "      <th>Neg_Word</th>\n",
       "      <th>Total_Word</th>\n",
       "      <th>Pos_Ratio</th>\n",
       "      <th>Neg_Ratio</th>\n",
       "      <th>Sentimen_Text</th>\n",
       "      <th>Tokenize_Emoji</th>\n",
       "      <th>Pos_Emoji</th>\n",
       "      <th>Neg_Emoji</th>\n",
       "      <th>Sentimen_Emoji</th>\n",
       "    </tr>\n",
       "  </thead>\n",
       "  <tbody>\n",
       "    <tr>\n",
       "      <th>0</th>\n",
       "      <td>kawan2 sunda bersatu jemput arteria dahlan</td>\n",
       "      <td>😁</td>\n",
       "      <td>[kawan, sunda, bersatu, jemput, arteria, dahlan]</td>\n",
       "      <td>kawan sunda bersatu jemput arteria dahlan</td>\n",
       "      <td>kawan sunda bersatu jemput arteria dahlan 😁</td>\n",
       "      <td>2</td>\n",
       "      <td>0</td>\n",
       "      <td>6</td>\n",
       "      <td>0.333333</td>\n",
       "      <td>0.000000</td>\n",
       "      <td>Positif</td>\n",
       "      <td>[kawan, sunda, bersatu, jemput, arteria, dahla...</td>\n",
       "      <td>1</td>\n",
       "      <td>0</td>\n",
       "      <td>Positif</td>\n",
       "    </tr>\n",
       "    <tr>\n",
       "      <th>1</th>\n",
       "      <td>arogan kapok2 arteria dahlan</td>\n",
       "      <td>😁</td>\n",
       "      <td>[arogan, kapok, arteria, dahlan]</td>\n",
       "      <td>arogan kapok arteria dahlan</td>\n",
       "      <td>arogan kapok arteria dahlan 😁</td>\n",
       "      <td>0</td>\n",
       "      <td>0</td>\n",
       "      <td>4</td>\n",
       "      <td>0.000000</td>\n",
       "      <td>0.000000</td>\n",
       "      <td>Netral</td>\n",
       "      <td>[arogan, kapok, arteria, dahlan, 😁]</td>\n",
       "      <td>1</td>\n",
       "      <td>0</td>\n",
       "      <td>Positif</td>\n",
       "    </tr>\n",
       "    <tr>\n",
       "      <th>2</th>\n",
       "      <td>arteria dahlan disidang adat sunda daerah menu...</td>\n",
       "      <td>😁</td>\n",
       "      <td>[arteria, dahlan, sidang, adat, sunda, daerah,...</td>\n",
       "      <td>arteria dahlan sidang adat sunda daerah menunt...</td>\n",
       "      <td>arteria dahlan sidang adat sunda daerah menunt...</td>\n",
       "      <td>5</td>\n",
       "      <td>4</td>\n",
       "      <td>9</td>\n",
       "      <td>0.555556</td>\n",
       "      <td>0.444444</td>\n",
       "      <td>Positif</td>\n",
       "      <td>[arteria, dahlan, sidang, adat, sunda, daerah,...</td>\n",
       "      <td>1</td>\n",
       "      <td>0</td>\n",
       "      <td>Positif</td>\n",
       "    </tr>\n",
       "    <tr>\n",
       "      <th>3</th>\n",
       "      <td>orang sunda jemput arteria dahlan sidang rakya...</td>\n",
       "      <td>😁</td>\n",
       "      <td>[orang, sunda, jemput, arteria, dahlan, sidang...</td>\n",
       "      <td>orang sunda jemput arteria dahlan sidang rakya...</td>\n",
       "      <td>orang sunda jemput arteria dahlan sidang rakya...</td>\n",
       "      <td>2</td>\n",
       "      <td>2</td>\n",
       "      <td>9</td>\n",
       "      <td>0.222222</td>\n",
       "      <td>0.222222</td>\n",
       "      <td>Netral</td>\n",
       "      <td>[orang, sunda, jemput, arteria, dahlan, sidang...</td>\n",
       "      <td>1</td>\n",
       "      <td>0</td>\n",
       "      <td>Positif</td>\n",
       "    </tr>\n",
       "    <tr>\n",
       "      <th>4</th>\n",
       "      <td>ga ditafsirkan membanding bandingkan edy arter...</td>\n",
       "      <td>😁</td>\n",
       "      <td>[ga, tafsir, membanding, membandingkan, edy, a...</td>\n",
       "      <td>ga tafsir membanding membandingkan edy arteria...</td>\n",
       "      <td>ga tafsir membanding membandingkan edy arteria...</td>\n",
       "      <td>3</td>\n",
       "      <td>2</td>\n",
       "      <td>9</td>\n",
       "      <td>0.333333</td>\n",
       "      <td>0.222222</td>\n",
       "      <td>Positif</td>\n",
       "      <td>[ga, tafsir, membanding, membandingkan, edy, a...</td>\n",
       "      <td>1</td>\n",
       "      <td>0</td>\n",
       "      <td>Positif</td>\n",
       "    </tr>\n",
       "  </tbody>\n",
       "</table>\n",
       "</div>"
      ],
      "text/plain": [
       "                                                Text       emoji  \\\n",
       "0         kawan2 sunda bersatu jemput arteria dahlan           😁   \n",
       "1                       arogan kapok2 arteria dahlan           😁   \n",
       "2  arteria dahlan disidang adat sunda daerah menu...           😁   \n",
       "3  orang sunda jemput arteria dahlan sidang rakya...           😁   \n",
       "4  ga ditafsirkan membanding bandingkan edy arter...           😁   \n",
       "\n",
       "                                           Tokenized  \\\n",
       "0   [kawan, sunda, bersatu, jemput, arteria, dahlan]   \n",
       "1                   [arogan, kapok, arteria, dahlan]   \n",
       "2  [arteria, dahlan, sidang, adat, sunda, daerah,...   \n",
       "3  [orang, sunda, jemput, arteria, dahlan, sidang...   \n",
       "4  [ga, tafsir, membanding, membandingkan, edy, a...   \n",
       "\n",
       "                                          final_text  \\\n",
       "0          kawan sunda bersatu jemput arteria dahlan   \n",
       "1                        arogan kapok arteria dahlan   \n",
       "2  arteria dahlan sidang adat sunda daerah menunt...   \n",
       "3  orang sunda jemput arteria dahlan sidang rakya...   \n",
       "4  ga tafsir membanding membandingkan edy arteria...   \n",
       "\n",
       "                                          text_emoji  Pos_Word  Neg_Word  \\\n",
       "0        kawan sunda bersatu jemput arteria dahlan 😁         2         0   \n",
       "1                      arogan kapok arteria dahlan 😁         0         0   \n",
       "2  arteria dahlan sidang adat sunda daerah menunt...         5         4   \n",
       "3  orang sunda jemput arteria dahlan sidang rakya...         2         2   \n",
       "4  ga tafsir membanding membandingkan edy arteria...         3         2   \n",
       "\n",
       "   Total_Word  Pos_Ratio  Neg_Ratio Sentimen_Text  \\\n",
       "0           6   0.333333   0.000000       Positif   \n",
       "1           4   0.000000   0.000000        Netral   \n",
       "2           9   0.555556   0.444444       Positif   \n",
       "3           9   0.222222   0.222222        Netral   \n",
       "4           9   0.333333   0.222222       Positif   \n",
       "\n",
       "                                      Tokenize_Emoji  Pos_Emoji  Neg_Emoji  \\\n",
       "0  [kawan, sunda, bersatu, jemput, arteria, dahla...          1          0   \n",
       "1                [arogan, kapok, arteria, dahlan, 😁]          1          0   \n",
       "2  [arteria, dahlan, sidang, adat, sunda, daerah,...          1          0   \n",
       "3  [orang, sunda, jemput, arteria, dahlan, sidang...          1          0   \n",
       "4  [ga, tafsir, membanding, membandingkan, edy, a...          1          0   \n",
       "\n",
       "  Sentimen_Emoji  \n",
       "0        Positif  \n",
       "1        Positif  \n",
       "2        Positif  \n",
       "3        Positif  \n",
       "4        Positif  "
      ]
     },
     "execution_count": 298,
     "metadata": {},
     "output_type": "execute_result"
    }
   ],
   "source": [
    "df_final.head()"
   ]
  },
  {
   "cell_type": "code",
   "execution_count": 299,
   "metadata": {},
   "outputs": [
    {
     "name": "stdout",
     "output_type": "stream",
     "text": [
      "<class 'pandas.core.frame.DataFrame'>\n",
      "RangeIndex: 6420 entries, 0 to 6419\n",
      "Data columns (total 15 columns):\n",
      " #   Column          Non-Null Count  Dtype  \n",
      "---  ------          --------------  -----  \n",
      " 0   Text            6420 non-null   object \n",
      " 1   emoji           6420 non-null   object \n",
      " 2   Tokenized       6420 non-null   object \n",
      " 3   final_text      6420 non-null   object \n",
      " 4   text_emoji      6420 non-null   object \n",
      " 5   Pos_Word        6420 non-null   int64  \n",
      " 6   Neg_Word        6420 non-null   int64  \n",
      " 7   Total_Word      6420 non-null   int64  \n",
      " 8   Pos_Ratio       6383 non-null   float64\n",
      " 9   Neg_Ratio       6383 non-null   float64\n",
      " 10  Sentimen_Text   6420 non-null   object \n",
      " 11  Tokenize_Emoji  6420 non-null   object \n",
      " 12  Pos_Emoji       6420 non-null   int64  \n",
      " 13  Neg_Emoji       6420 non-null   int64  \n",
      " 14  Sentimen_Emoji  6420 non-null   object \n",
      "dtypes: float64(2), int64(5), object(8)\n",
      "memory usage: 752.5+ KB\n"
     ]
    }
   ],
   "source": [
    "df_final.info()"
   ]
  },
  {
   "cell_type": "code",
   "execution_count": 300,
   "metadata": {},
   "outputs": [
    {
     "data": {
      "text/plain": [
       "Positif    3396\n",
       "Negatif    2855\n",
       "Netral      169\n",
       "Name: Sentimen_Emoji, dtype: int64"
      ]
     },
     "execution_count": 300,
     "metadata": {},
     "output_type": "execute_result"
    }
   ],
   "source": [
    "df_final['Sentimen_Emoji'].value_counts()"
   ]
  },
  {
   "cell_type": "code",
   "execution_count": 301,
   "metadata": {},
   "outputs": [],
   "source": [
    "for i in range(len(df_final)):\n",
    "  if (df_final.iloc[i]['Sentimen_Text'] == df_final.iloc[i]['Sentimen_Emoji']):\n",
    "    df_final.loc[i, 'Sarcasm'] = 'Negatif'\n",
    "  elif (df_final.iloc[i]['Sentimen_Text'] != df_final.iloc[i]['Sentimen_Emoji']):\n",
    "    df_final.loc[i, 'Sarcasm'] = 'Positif'\n"
   ]
  },
  {
   "cell_type": "code",
   "execution_count": 302,
   "metadata": {},
   "outputs": [
    {
     "data": {
      "text/html": [
       "<div>\n",
       "<style scoped>\n",
       "    .dataframe tbody tr th:only-of-type {\n",
       "        vertical-align: middle;\n",
       "    }\n",
       "\n",
       "    .dataframe tbody tr th {\n",
       "        vertical-align: top;\n",
       "    }\n",
       "\n",
       "    .dataframe thead th {\n",
       "        text-align: right;\n",
       "    }\n",
       "</style>\n",
       "<table border=\"1\" class=\"dataframe\">\n",
       "  <thead>\n",
       "    <tr style=\"text-align: right;\">\n",
       "      <th></th>\n",
       "      <th>Text</th>\n",
       "      <th>emoji</th>\n",
       "      <th>Tokenized</th>\n",
       "      <th>final_text</th>\n",
       "      <th>text_emoji</th>\n",
       "      <th>Pos_Word</th>\n",
       "      <th>Neg_Word</th>\n",
       "      <th>Total_Word</th>\n",
       "      <th>Pos_Ratio</th>\n",
       "      <th>Neg_Ratio</th>\n",
       "      <th>Sentimen_Text</th>\n",
       "      <th>Tokenize_Emoji</th>\n",
       "      <th>Pos_Emoji</th>\n",
       "      <th>Neg_Emoji</th>\n",
       "      <th>Sentimen_Emoji</th>\n",
       "      <th>Sarcasm</th>\n",
       "    </tr>\n",
       "  </thead>\n",
       "  <tbody>\n",
       "    <tr>\n",
       "      <th>0</th>\n",
       "      <td>kawan2 sunda bersatu jemput arteria dahlan</td>\n",
       "      <td>😁</td>\n",
       "      <td>[kawan, sunda, bersatu, jemput, arteria, dahlan]</td>\n",
       "      <td>kawan sunda bersatu jemput arteria dahlan</td>\n",
       "      <td>kawan sunda bersatu jemput arteria dahlan 😁</td>\n",
       "      <td>2</td>\n",
       "      <td>0</td>\n",
       "      <td>6</td>\n",
       "      <td>0.333333</td>\n",
       "      <td>0.000000</td>\n",
       "      <td>Positif</td>\n",
       "      <td>[kawan, sunda, bersatu, jemput, arteria, dahla...</td>\n",
       "      <td>1</td>\n",
       "      <td>0</td>\n",
       "      <td>Positif</td>\n",
       "      <td>Negatif</td>\n",
       "    </tr>\n",
       "    <tr>\n",
       "      <th>1</th>\n",
       "      <td>arogan kapok2 arteria dahlan</td>\n",
       "      <td>😁</td>\n",
       "      <td>[arogan, kapok, arteria, dahlan]</td>\n",
       "      <td>arogan kapok arteria dahlan</td>\n",
       "      <td>arogan kapok arteria dahlan 😁</td>\n",
       "      <td>0</td>\n",
       "      <td>0</td>\n",
       "      <td>4</td>\n",
       "      <td>0.000000</td>\n",
       "      <td>0.000000</td>\n",
       "      <td>Netral</td>\n",
       "      <td>[arogan, kapok, arteria, dahlan, 😁]</td>\n",
       "      <td>1</td>\n",
       "      <td>0</td>\n",
       "      <td>Positif</td>\n",
       "      <td>Positif</td>\n",
       "    </tr>\n",
       "    <tr>\n",
       "      <th>2</th>\n",
       "      <td>arteria dahlan disidang adat sunda daerah menu...</td>\n",
       "      <td>😁</td>\n",
       "      <td>[arteria, dahlan, sidang, adat, sunda, daerah,...</td>\n",
       "      <td>arteria dahlan sidang adat sunda daerah menunt...</td>\n",
       "      <td>arteria dahlan sidang adat sunda daerah menunt...</td>\n",
       "      <td>5</td>\n",
       "      <td>4</td>\n",
       "      <td>9</td>\n",
       "      <td>0.555556</td>\n",
       "      <td>0.444444</td>\n",
       "      <td>Positif</td>\n",
       "      <td>[arteria, dahlan, sidang, adat, sunda, daerah,...</td>\n",
       "      <td>1</td>\n",
       "      <td>0</td>\n",
       "      <td>Positif</td>\n",
       "      <td>Negatif</td>\n",
       "    </tr>\n",
       "    <tr>\n",
       "      <th>3</th>\n",
       "      <td>orang sunda jemput arteria dahlan sidang rakya...</td>\n",
       "      <td>😁</td>\n",
       "      <td>[orang, sunda, jemput, arteria, dahlan, sidang...</td>\n",
       "      <td>orang sunda jemput arteria dahlan sidang rakya...</td>\n",
       "      <td>orang sunda jemput arteria dahlan sidang rakya...</td>\n",
       "      <td>2</td>\n",
       "      <td>2</td>\n",
       "      <td>9</td>\n",
       "      <td>0.222222</td>\n",
       "      <td>0.222222</td>\n",
       "      <td>Netral</td>\n",
       "      <td>[orang, sunda, jemput, arteria, dahlan, sidang...</td>\n",
       "      <td>1</td>\n",
       "      <td>0</td>\n",
       "      <td>Positif</td>\n",
       "      <td>Positif</td>\n",
       "    </tr>\n",
       "    <tr>\n",
       "      <th>4</th>\n",
       "      <td>ga ditafsirkan membanding bandingkan edy arter...</td>\n",
       "      <td>😁</td>\n",
       "      <td>[ga, tafsir, membanding, membandingkan, edy, a...</td>\n",
       "      <td>ga tafsir membanding membandingkan edy arteria...</td>\n",
       "      <td>ga tafsir membanding membandingkan edy arteria...</td>\n",
       "      <td>3</td>\n",
       "      <td>2</td>\n",
       "      <td>9</td>\n",
       "      <td>0.333333</td>\n",
       "      <td>0.222222</td>\n",
       "      <td>Positif</td>\n",
       "      <td>[ga, tafsir, membanding, membandingkan, edy, a...</td>\n",
       "      <td>1</td>\n",
       "      <td>0</td>\n",
       "      <td>Positif</td>\n",
       "      <td>Negatif</td>\n",
       "    </tr>\n",
       "    <tr>\n",
       "      <th>5</th>\n",
       "      <td>nantik ngak divhumas polri nya bilang palsu td...</td>\n",
       "      <td>😁</td>\n",
       "      <td>[nanti, tidak, divisi humas, polri, ., bilang,...</td>\n",
       "      <td>divisi humas polri bilang palsu mengeluarkan a...</td>\n",
       "      <td>divisi humas polri bilang palsu mengeluarkan a...</td>\n",
       "      <td>4</td>\n",
       "      <td>8</td>\n",
       "      <td>16</td>\n",
       "      <td>0.250000</td>\n",
       "      <td>0.500000</td>\n",
       "      <td>Negatif</td>\n",
       "      <td>[divisi, humas, polri, bilang, palsu, mengelua...</td>\n",
       "      <td>1</td>\n",
       "      <td>0</td>\n",
       "      <td>Positif</td>\n",
       "      <td>Positif</td>\n",
       "    </tr>\n",
       "    <tr>\n",
       "      <th>6</th>\n",
       "      <td>urut dada dech kuasa hukum tdk mengerti hukum ...</td>\n",
       "      <td>😁</td>\n",
       "      <td>[urut, dada, deh, kuasa, hukum, tidak, mengert...</td>\n",
       "      <td>urut dada deh kuasa hukum mengerti hukum arter...</td>\n",
       "      <td>urut dada deh kuasa hukum mengerti hukum arter...</td>\n",
       "      <td>14</td>\n",
       "      <td>6</td>\n",
       "      <td>28</td>\n",
       "      <td>0.500000</td>\n",
       "      <td>0.214286</td>\n",
       "      <td>Positif</td>\n",
       "      <td>[urut, dada, deh, kuasa, hukum, mengerti, huku...</td>\n",
       "      <td>1</td>\n",
       "      <td>0</td>\n",
       "      <td>Positif</td>\n",
       "      <td>Negatif</td>\n",
       "    </tr>\n",
       "    <tr>\n",
       "      <th>7</th>\n",
       "      <td>arteria dahlan maaf memaafkan klo yg kubu yg m...</td>\n",
       "      <td>😁</td>\n",
       "      <td>[arteria, dahlan, maaf, memaafkan, kalau, yang...</td>\n",
       "      <td>arteria dahlan maaf memaafkan kubu maaf saran ...</td>\n",
       "      <td>arteria dahlan maaf memaafkan kubu maaf saran ...</td>\n",
       "      <td>4</td>\n",
       "      <td>2</td>\n",
       "      <td>11</td>\n",
       "      <td>0.363636</td>\n",
       "      <td>0.181818</td>\n",
       "      <td>Positif</td>\n",
       "      <td>[arteria, dahlan, maaf, memaafkan, kubu, maaf,...</td>\n",
       "      <td>1</td>\n",
       "      <td>0</td>\n",
       "      <td>Positif</td>\n",
       "      <td>Negatif</td>\n",
       "    </tr>\n",
       "    <tr>\n",
       "      <th>8</th>\n",
       "      <td>dorong masyarakat sunda jabar polri utk menang...</td>\n",
       "      <td>😁</td>\n",
       "      <td>[dorong, masyarakat, sunda, jabar, polri, untu...</td>\n",
       "      <td>dorong masyarakat sunda jabar polri menangkap ...</td>\n",
       "      <td>dorong masyarakat sunda jabar polri menangkap ...</td>\n",
       "      <td>6</td>\n",
       "      <td>2</td>\n",
       "      <td>19</td>\n",
       "      <td>0.315789</td>\n",
       "      <td>0.105263</td>\n",
       "      <td>Positif</td>\n",
       "      <td>[dorong, masyarakat, sunda, jabar, polri, mena...</td>\n",
       "      <td>1</td>\n",
       "      <td>0</td>\n",
       "      <td>Positif</td>\n",
       "      <td>Negatif</td>\n",
       "    </tr>\n",
       "    <tr>\n",
       "      <th>9</th>\n",
       "      <td>yg beruntung arteria dahlan ga kabar e yg ktny...</td>\n",
       "      <td>😁</td>\n",
       "      <td>[yang, beruntung, arteria, dahlan, ga, kabar, ...</td>\n",
       "      <td>beruntung arteria dahlan ga kabar e hina suku ...</td>\n",
       "      <td>beruntung arteria dahlan ga kabar e hina suku ...</td>\n",
       "      <td>4</td>\n",
       "      <td>2</td>\n",
       "      <td>12</td>\n",
       "      <td>0.333333</td>\n",
       "      <td>0.166667</td>\n",
       "      <td>Positif</td>\n",
       "      <td>[beruntung, arteria, dahlan, ga, kabar, e, hin...</td>\n",
       "      <td>1</td>\n",
       "      <td>0</td>\n",
       "      <td>Positif</td>\n",
       "      <td>Negatif</td>\n",
       "    </tr>\n",
       "    <tr>\n",
       "      <th>10</th>\n",
       "      <td>arteria dahlan dipanggil</td>\n",
       "      <td>😁</td>\n",
       "      <td>[arteria, dahlan, panggil]</td>\n",
       "      <td>arteria dahlan panggil</td>\n",
       "      <td>arteria dahlan panggil 😁</td>\n",
       "      <td>1</td>\n",
       "      <td>1</td>\n",
       "      <td>3</td>\n",
       "      <td>0.333333</td>\n",
       "      <td>0.333333</td>\n",
       "      <td>Netral</td>\n",
       "      <td>[arteria, dahlan, panggil, 😁]</td>\n",
       "      <td>1</td>\n",
       "      <td>0</td>\n",
       "      <td>Positif</td>\n",
       "      <td>Positif</td>\n",
       "    </tr>\n",
       "  </tbody>\n",
       "</table>\n",
       "</div>"
      ],
      "text/plain": [
       "                                                 Text  \\\n",
       "0          kawan2 sunda bersatu jemput arteria dahlan   \n",
       "1                        arogan kapok2 arteria dahlan   \n",
       "2   arteria dahlan disidang adat sunda daerah menu...   \n",
       "3   orang sunda jemput arteria dahlan sidang rakya...   \n",
       "4   ga ditafsirkan membanding bandingkan edy arter...   \n",
       "5   nantik ngak divhumas polri nya bilang palsu td...   \n",
       "6   urut dada dech kuasa hukum tdk mengerti hukum ...   \n",
       "7   arteria dahlan maaf memaafkan klo yg kubu yg m...   \n",
       "8   dorong masyarakat sunda jabar polri utk menang...   \n",
       "9   yg beruntung arteria dahlan ga kabar e yg ktny...   \n",
       "10                           arteria dahlan dipanggil   \n",
       "\n",
       "                            emoji  \\\n",
       "0                               😁   \n",
       "1                               😁   \n",
       "2                               😁   \n",
       "3                               😁   \n",
       "4                               😁   \n",
       "5                               😁   \n",
       "6                               😁   \n",
       "7                               😁   \n",
       "8                               😁   \n",
       "9                               😁   \n",
       "10                              😁   \n",
       "\n",
       "                                            Tokenized  \\\n",
       "0    [kawan, sunda, bersatu, jemput, arteria, dahlan]   \n",
       "1                    [arogan, kapok, arteria, dahlan]   \n",
       "2   [arteria, dahlan, sidang, adat, sunda, daerah,...   \n",
       "3   [orang, sunda, jemput, arteria, dahlan, sidang...   \n",
       "4   [ga, tafsir, membanding, membandingkan, edy, a...   \n",
       "5   [nanti, tidak, divisi humas, polri, ., bilang,...   \n",
       "6   [urut, dada, deh, kuasa, hukum, tidak, mengert...   \n",
       "7   [arteria, dahlan, maaf, memaafkan, kalau, yang...   \n",
       "8   [dorong, masyarakat, sunda, jabar, polri, untu...   \n",
       "9   [yang, beruntung, arteria, dahlan, ga, kabar, ...   \n",
       "10                         [arteria, dahlan, panggil]   \n",
       "\n",
       "                                           final_text  \\\n",
       "0           kawan sunda bersatu jemput arteria dahlan   \n",
       "1                         arogan kapok arteria dahlan   \n",
       "2   arteria dahlan sidang adat sunda daerah menunt...   \n",
       "3   orang sunda jemput arteria dahlan sidang rakya...   \n",
       "4   ga tafsir membanding membandingkan edy arteria...   \n",
       "5   divisi humas polri bilang palsu mengeluarkan a...   \n",
       "6   urut dada deh kuasa hukum mengerti hukum arter...   \n",
       "7   arteria dahlan maaf memaafkan kubu maaf saran ...   \n",
       "8   dorong masyarakat sunda jabar polri menangkap ...   \n",
       "9   beruntung arteria dahlan ga kabar e hina suku ...   \n",
       "10                             arteria dahlan panggil   \n",
       "\n",
       "                                           text_emoji  Pos_Word  Neg_Word  \\\n",
       "0         kawan sunda bersatu jemput arteria dahlan 😁         2         0   \n",
       "1                       arogan kapok arteria dahlan 😁         0         0   \n",
       "2   arteria dahlan sidang adat sunda daerah menunt...         5         4   \n",
       "3   orang sunda jemput arteria dahlan sidang rakya...         2         2   \n",
       "4   ga tafsir membanding membandingkan edy arteria...         3         2   \n",
       "5   divisi humas polri bilang palsu mengeluarkan a...         4         8   \n",
       "6   urut dada deh kuasa hukum mengerti hukum arter...        14         6   \n",
       "7   arteria dahlan maaf memaafkan kubu maaf saran ...         4         2   \n",
       "8   dorong masyarakat sunda jabar polri menangkap ...         6         2   \n",
       "9   beruntung arteria dahlan ga kabar e hina suku ...         4         2   \n",
       "10                           arteria dahlan panggil 😁         1         1   \n",
       "\n",
       "    Total_Word  Pos_Ratio  Neg_Ratio Sentimen_Text  \\\n",
       "0            6   0.333333   0.000000       Positif   \n",
       "1            4   0.000000   0.000000        Netral   \n",
       "2            9   0.555556   0.444444       Positif   \n",
       "3            9   0.222222   0.222222        Netral   \n",
       "4            9   0.333333   0.222222       Positif   \n",
       "5           16   0.250000   0.500000       Negatif   \n",
       "6           28   0.500000   0.214286       Positif   \n",
       "7           11   0.363636   0.181818       Positif   \n",
       "8           19   0.315789   0.105263       Positif   \n",
       "9           12   0.333333   0.166667       Positif   \n",
       "10           3   0.333333   0.333333        Netral   \n",
       "\n",
       "                                       Tokenize_Emoji  Pos_Emoji  Neg_Emoji  \\\n",
       "0   [kawan, sunda, bersatu, jemput, arteria, dahla...          1          0   \n",
       "1                 [arogan, kapok, arteria, dahlan, 😁]          1          0   \n",
       "2   [arteria, dahlan, sidang, adat, sunda, daerah,...          1          0   \n",
       "3   [orang, sunda, jemput, arteria, dahlan, sidang...          1          0   \n",
       "4   [ga, tafsir, membanding, membandingkan, edy, a...          1          0   \n",
       "5   [divisi, humas, polri, bilang, palsu, mengelua...          1          0   \n",
       "6   [urut, dada, deh, kuasa, hukum, mengerti, huku...          1          0   \n",
       "7   [arteria, dahlan, maaf, memaafkan, kubu, maaf,...          1          0   \n",
       "8   [dorong, masyarakat, sunda, jabar, polri, mena...          1          0   \n",
       "9   [beruntung, arteria, dahlan, ga, kabar, e, hin...          1          0   \n",
       "10                      [arteria, dahlan, panggil, 😁]          1          0   \n",
       "\n",
       "   Sentimen_Emoji  Sarcasm  \n",
       "0         Positif  Negatif  \n",
       "1         Positif  Positif  \n",
       "2         Positif  Negatif  \n",
       "3         Positif  Positif  \n",
       "4         Positif  Negatif  \n",
       "5         Positif  Positif  \n",
       "6         Positif  Negatif  \n",
       "7         Positif  Negatif  \n",
       "8         Positif  Negatif  \n",
       "9         Positif  Negatif  \n",
       "10        Positif  Positif  "
      ]
     },
     "execution_count": 302,
     "metadata": {},
     "output_type": "execute_result"
    }
   ],
   "source": [
    "df_final.head(11)"
   ]
  },
  {
   "cell_type": "code",
   "execution_count": 303,
   "metadata": {},
   "outputs": [
    {
     "name": "stdout",
     "output_type": "stream",
     "text": [
      "<class 'pandas.core.frame.DataFrame'>\n",
      "RangeIndex: 6420 entries, 0 to 6419\n",
      "Data columns (total 16 columns):\n",
      " #   Column          Non-Null Count  Dtype  \n",
      "---  ------          --------------  -----  \n",
      " 0   Text            6420 non-null   object \n",
      " 1   emoji           6420 non-null   object \n",
      " 2   Tokenized       6420 non-null   object \n",
      " 3   final_text      6420 non-null   object \n",
      " 4   text_emoji      6420 non-null   object \n",
      " 5   Pos_Word        6420 non-null   int64  \n",
      " 6   Neg_Word        6420 non-null   int64  \n",
      " 7   Total_Word      6420 non-null   int64  \n",
      " 8   Pos_Ratio       6383 non-null   float64\n",
      " 9   Neg_Ratio       6383 non-null   float64\n",
      " 10  Sentimen_Text   6420 non-null   object \n",
      " 11  Tokenize_Emoji  6420 non-null   object \n",
      " 12  Pos_Emoji       6420 non-null   int64  \n",
      " 13  Neg_Emoji       6420 non-null   int64  \n",
      " 14  Sentimen_Emoji  6420 non-null   object \n",
      " 15  Sarcasm         6420 non-null   object \n",
      "dtypes: float64(2), int64(5), object(9)\n",
      "memory usage: 802.6+ KB\n"
     ]
    }
   ],
   "source": [
    "df_final.info()"
   ]
  },
  {
   "cell_type": "code",
   "execution_count": 304,
   "metadata": {},
   "outputs": [
    {
     "data": {
      "text/plain": [
       "Positif    4074\n",
       "Negatif    2346\n",
       "Name: Sarcasm, dtype: int64"
      ]
     },
     "execution_count": 304,
     "metadata": {},
     "output_type": "execute_result"
    }
   ],
   "source": [
    "df_final['Sarcasm'].value_counts()"
   ]
  },
  {
   "cell_type": "code",
   "execution_count": 305,
   "metadata": {},
   "outputs": [],
   "source": [
    "df_final = df_final[df_final['Sentimen_Text'] != 'Netral']"
   ]
  },
  {
   "cell_type": "code",
   "execution_count": 307,
   "metadata": {},
   "outputs": [
    {
     "data": {
      "text/plain": [
       "Positif    3309\n",
       "Negatif    1170\n",
       "Name: Sentimen_Text, dtype: int64"
      ]
     },
     "execution_count": 307,
     "metadata": {},
     "output_type": "execute_result"
    }
   ],
   "source": [
    "df_final['Sentimen_Text'].value_counts()"
   ]
  }
 ],
 "metadata": {
  "kernelspec": {
   "display_name": "Python 3",
   "language": "python",
   "name": "python3"
  },
  "language_info": {
   "codemirror_mode": {
    "name": "ipython",
    "version": 3
   },
   "file_extension": ".py",
   "mimetype": "text/x-python",
   "name": "python",
   "nbconvert_exporter": "python",
   "pygments_lexer": "ipython3",
   "version": "3.9.7"
  },
  "orig_nbformat": 4,
  "vscode": {
   "interpreter": {
    "hash": "11938c6bc6919ae2720b4d5011047913343b08a43b18698fd82dedb0d4417594"
   }
  }
 },
 "nbformat": 4,
 "nbformat_minor": 2
}
