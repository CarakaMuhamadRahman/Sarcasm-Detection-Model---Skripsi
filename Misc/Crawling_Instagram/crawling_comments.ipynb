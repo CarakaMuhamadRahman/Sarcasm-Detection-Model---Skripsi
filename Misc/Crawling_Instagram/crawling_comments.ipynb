{
 "cells": [
  {
   "cell_type": "code",
   "execution_count": 25,
   "metadata": {},
   "outputs": [],
   "source": [
    "import pandas as pd\n",
    "import time\n",
    "import re\n",
    "import os\n",
    "import csv\n",
    "import json\n",
    "from urllib.request import urlopen\n",
    "from urllib.parse import quote_plus\n",
    "from bs4 import BeautifulSoup\n",
    "from selenium import webdriver\n",
    "from selenium.webdriver.chrome.service import Service\n",
    "from selenium.webdriver.common.by import By"
   ]
  },
  {
   "cell_type": "code",
   "execution_count": 26,
   "metadata": {},
   "outputs": [],
   "source": [
    "driver_service = Service(executable_path='E:\\Kuliah\\Semester 7\\Tugas\\Skripsi\\Crawling_Instagram\\chromedriver.exe')\n",
    "driver = webdriver.Chrome(service=driver_service)\n",
    "# link to the post you want to scrap comments from (UNIKOM)\n",
    "url = \"https://www.instagram.com/p/CQWQDCOgSt9/\"\n",
    "# Driver will access to the URL\n",
    "driver.get(url)"
   ]
  },
  {
   "cell_type": "code",
   "execution_count": 27,
   "metadata": {},
   "outputs": [],
   "source": [
    "# Create an empty list to store all the comments\n",
    "comments = []"
   ]
  },
  {
   "cell_type": "code",
   "execution_count": 28,
   "metadata": {},
   "outputs": [],
   "source": [
    "hasLoadMore = True\n",
    "while hasLoadMore:\n",
    "    time.sleep(1)\n",
    "    try:\n",
    "        if driver.find_element(by=By.CSS_SELECTOR, value='#react-root > section > main > div > div > article > div.eo2As > div.EtaWk > ul > li > div > button > span'):\n",
    "            driver.find_element(by=By.CSS_SELECTOR, value='#react-root > section > main > div > div > article > div.eo2As > div.EtaWk > ul > li > div > button > span').click()\n",
    "    except:\n",
    "        hasLoadMore = False"
   ]
  },
  {
   "cell_type": "code",
   "execution_count": 29,
   "metadata": {},
   "outputs": [
    {
     "name": "stdout",
     "output_type": "stream",
     "text": [
      "[]\n",
      "0\n"
     ]
    },
    {
     "name": "stderr",
     "output_type": "stream",
     "text": [
      "C:\\Users\\DELL\\AppData\\Local\\Temp\\ipykernel_13968\\1455952965.py:2: DeprecationWarning: find_elements_by_class_name is deprecated. Please use find_elements(by=By.CLASS_NAME, value=name) instead\n",
      "  users = driver.find_elements_by_class_name('_6lAjh')\n",
      "C:\\Users\\DELL\\AppData\\Local\\Temp\\ipykernel_13968\\1455952965.py:9: DeprecationWarning: find_elements_by_css_selector is deprecated. Please use find_elements(by=By.CSS_SELECTOR, value=css_selector) instead\n",
      "  texts = driver.find_elements_by_css_selector('#react-root > section > main > div > div > article > div.eo2As > div.EtaWk > ul > ul > div > li > div > div > div.C4VMK > span')\n"
     ]
    }
   ],
   "source": [
    "users_list = []\n",
    "users = driver.find_elements_by_class_name('_6lAjh')\n",
    "print(users)\n",
    "for user in users:\n",
    "    users_list.append(user.text)\n",
    "    \n",
    "i = 0\n",
    "texts_list = []\n",
    "texts = driver.find_elements_by_css_selector('#react-root > section > main > div > div > article > div.eo2As > div.EtaWk > ul > ul > div > li > div > div > div.C4VMK > span')\n",
    "for txt in texts:\n",
    "    texts_list.append(txt.text)\n",
    "    i += 1\n",
    "    \n",
    "comments_count = len(users_list)\n",
    "print(comments_count)\n",
    "for i in range(1, comments_count):\n",
    "    user = users_list[i]\n",
    "    text = texts_list[i]\n",
    "    comments.append(users_list[i])\n",
    "    comments.append(texts_list[i])\n",
    "    print(\"User \",user)\n",
    "    print(\"Text \",text)\n",
    "    print()"
   ]
  },
  {
   "cell_type": "code",
   "execution_count": 30,
   "metadata": {},
   "outputs": [
    {
     "name": "stdout",
     "output_type": "stream",
     "text": [
      "Empty DataFrame\n",
      "Columns: [User, Text]\n",
      "Index: []\n"
     ]
    }
   ],
   "source": [
    "rows = []\n",
    "for user, text in zip(comments[::2], comments[1::2]):\n",
    "    print(user, text)\n",
    "    rows.append([user, text])\n",
    "fields = [\"User\", \"Text\"]\n",
    "filename = \"cleanfile.csv\"\n",
    "with open(filename, 'w',  encoding='utf-8', newline='') as csvfile: \n",
    "    csvwriter = csv.writer(csvfile) \n",
    "    csvwriter.writerow(fields) \n",
    "    csvwriter.writerows(rows)\n",
    "df = pd.read_csv(r'cleanfile.csv')\n",
    "print(df)"
   ]
  }
 ],
 "metadata": {
  "kernelspec": {
   "display_name": "Python 3",
   "language": "python",
   "name": "python3"
  },
  "language_info": {
   "codemirror_mode": {
    "name": "ipython",
    "version": 3
   },
   "file_extension": ".py",
   "mimetype": "text/x-python",
   "name": "python",
   "nbconvert_exporter": "python",
   "pygments_lexer": "ipython3",
   "version": "3.9.7"
  },
  "orig_nbformat": 4,
  "vscode": {
   "interpreter": {
    "hash": "11938c6bc6919ae2720b4d5011047913343b08a43b18698fd82dedb0d4417594"
   }
  }
 },
 "nbformat": 4,
 "nbformat_minor": 2
}
