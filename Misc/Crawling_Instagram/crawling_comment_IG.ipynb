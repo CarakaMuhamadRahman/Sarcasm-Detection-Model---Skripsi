{
 "cells": [
  {
   "cell_type": "code",
   "execution_count": 10,
   "metadata": {},
   "outputs": [],
   "source": [
    "import pandas as pd\n",
    "import time\n",
    "from selenium import webdriver\n",
    "from selenium.webdriver.common.keys import Keys\n",
    "from selenium.webdriver.support import expected_conditions as EC\n",
    "from selenium.webdriver.common.by import By\n",
    "from selenium.common import exceptions \n",
    "from selenium.webdriver.support.wait import WebDriverWait"
   ]
  },
  {
   "cell_type": "code",
   "execution_count": 11,
   "metadata": {},
   "outputs": [
    {
     "name": "stderr",
     "output_type": "stream",
     "text": [
      "C:\\Users\\DELL\\AppData\\Local\\Temp\\ipykernel_17592\\1548343855.py:1: DeprecationWarning: executable_path has been deprecated, please pass in a Service object\n",
      "  driver = webdriver.Chrome('E:\\Kuliah\\Semester 7\\Tugas\\Skripsi\\Crawling_Instagram\\chromedriver.exe')\n"
     ]
    }
   ],
   "source": [
    "driver = webdriver.Chrome('E:\\Kuliah\\Semester 7\\Tugas\\Skripsi\\Crawling_Instagram\\chromedriver.exe')\n",
    "driver.get(\"http://www.instagram.com\")"
   ]
  },
  {
   "cell_type": "code",
   "execution_count": 12,
   "metadata": {},
   "outputs": [],
   "source": [
    "username = WebDriverWait(driver, 10).until(EC.element_to_be_clickable((By.CSS_SELECTOR, \"input[name='username']\")))\n",
    "password = WebDriverWait(driver, 10).until(EC.element_to_be_clickable((By.CSS_SELECTOR, \"input[name='password']\")))"
   ]
  },
  {
   "cell_type": "code",
   "execution_count": 13,
   "metadata": {},
   "outputs": [],
   "source": [
    "username.clear()\n",
    "username.send_keys(\"\")\n",
    "password.clear()\n",
    "password.send_keys(\"\")"
   ]
  },
  {
   "cell_type": "code",
   "execution_count": 14,
   "metadata": {},
   "outputs": [],
   "source": [
    "# Menarget tombol login dan mengkliknya\n",
    "\n",
    "button = WebDriverWait(driver, 2).until(EC.element_to_be_clickable((By.CSS_SELECTOR, \"button[type='submit']\"))).click"
   ]
  },
  {
   "cell_type": "code",
   "execution_count": 15,
   "metadata": {},
   "outputs": [],
   "source": [
    "not_now = WebDriverWait(driver, 120).until(EC.element_to_be_clickable((By.XPATH, '//button[contains(text(), \"Not Now\")]'))).click()\n",
    "not_now2 = WebDriverWait(driver, 120).until(EC.element_to_be_clickable((By.XPATH, '//button[contains(text(), \"Not Now\")]'))).click()"
   ]
  },
  {
   "cell_type": "code",
   "execution_count": 16,
   "metadata": {},
   "outputs": [],
   "source": [
    "driver.get('https://www.instagram.com/p/CP493sOBtBs/')"
   ]
  },
  {
   "cell_type": "code",
   "execution_count": 17,
   "metadata": {},
   "outputs": [
    {
     "ename": "TimeoutException",
     "evalue": "Message: \nStacktrace:\nBacktrace:\n\t(No symbol) [0x0085F243]\n\t(No symbol) [0x007E7FD1]\n\t(No symbol) [0x006DD04D]\n\t(No symbol) [0x0070C0B0]\n\t(No symbol) [0x0070C22B]\n\t(No symbol) [0x0073E612]\n\t(No symbol) [0x007285D4]\n\t(No symbol) [0x0073C9EB]\n\t(No symbol) [0x00728386]\n\t(No symbol) [0x0070163C]\n\t(No symbol) [0x0070269D]\n\tGetHandleVerifier [0x00AF9A22+2655074]\n\tGetHandleVerifier [0x00AECA24+2601828]\n\tGetHandleVerifier [0x00908C0A+619850]\n\tGetHandleVerifier [0x00907830+614768]\n\t(No symbol) [0x007F05FC]\n\t(No symbol) [0x007F5968]\n\t(No symbol) [0x007F5A55]\n\t(No symbol) [0x0080051B]\n\tBaseThreadInitThunk [0x769600F9+25]\n\tRtlGetAppContainerNamedObjectPath [0x773F7BBE+286]\n\tRtlGetAppContainerNamedObjectPath [0x773F7B8E+238]\n",
     "output_type": "error",
     "traceback": [
      "\u001b[1;31m---------------------------------------------------------------------------\u001b[0m",
      "\u001b[1;31mTimeoutException\u001b[0m                          Traceback (most recent call last)",
      "Cell \u001b[1;32mIn [17], line 5\u001b[0m\n\u001b[0;32m      3\u001b[0m i \u001b[39m=\u001b[39m \u001b[39m0\u001b[39m\n\u001b[0;32m      4\u001b[0m \u001b[39mwhile\u001b[39;00m i \u001b[39m<\u001b[39m \u001b[39m70\u001b[39m: \u001b[39m# Menarget seberapa banyak tombol \"load more comments\" akan di-klik.\u001b[39;00m\n\u001b[1;32m----> 5\u001b[0m     load_more_comment\u001b[39m=\u001b[39m WebDriverWait(driver,\u001b[39m20\u001b[39;49m)\u001b[39m.\u001b[39;49muntil(EC\u001b[39m.\u001b[39;49melement_to_be_clickable((By\u001b[39m.\u001b[39;49mXPATH, \u001b[39m'\u001b[39;49m\u001b[39m//*[@id=\u001b[39;49m\u001b[39m\"\u001b[39;49m\u001b[39mreact-root\u001b[39;49m\u001b[39m\"\u001b[39;49m\u001b[39m]/section/main/div/div[1]/article/div[3]/div[1]/ul/li/div/button\u001b[39;49m\u001b[39m'\u001b[39;49m)))\n\u001b[0;32m      6\u001b[0m     \u001b[39mtry\u001b[39;00m:\n\u001b[0;32m      7\u001b[0m         load_more_comment\u001b[39m.\u001b[39mclick()\n",
      "File \u001b[1;32m~\\AppData\\Roaming\\Python\\Python39\\site-packages\\selenium\\webdriver\\support\\wait.py:87\u001b[0m, in \u001b[0;36mWebDriverWait.until\u001b[1;34m(self, method, message)\u001b[0m\n\u001b[0;32m     85\u001b[0m     \u001b[39mif\u001b[39;00m time\u001b[39m.\u001b[39mmonotonic() \u001b[39m>\u001b[39m end_time:\n\u001b[0;32m     86\u001b[0m         \u001b[39mbreak\u001b[39;00m\n\u001b[1;32m---> 87\u001b[0m \u001b[39mraise\u001b[39;00m TimeoutException(message, screen, stacktrace)\n",
      "\u001b[1;31mTimeoutException\u001b[0m: Message: \nStacktrace:\nBacktrace:\n\t(No symbol) [0x0085F243]\n\t(No symbol) [0x007E7FD1]\n\t(No symbol) [0x006DD04D]\n\t(No symbol) [0x0070C0B0]\n\t(No symbol) [0x0070C22B]\n\t(No symbol) [0x0073E612]\n\t(No symbol) [0x007285D4]\n\t(No symbol) [0x0073C9EB]\n\t(No symbol) [0x00728386]\n\t(No symbol) [0x0070163C]\n\t(No symbol) [0x0070269D]\n\tGetHandleVerifier [0x00AF9A22+2655074]\n\tGetHandleVerifier [0x00AECA24+2601828]\n\tGetHandleVerifier [0x00908C0A+619850]\n\tGetHandleVerifier [0x00907830+614768]\n\t(No symbol) [0x007F05FC]\n\t(No symbol) [0x007F5968]\n\t(No symbol) [0x007F5A55]\n\t(No symbol) [0x0080051B]\n\tBaseThreadInitThunk [0x769600F9+25]\n\tRtlGetAppContainerNamedObjectPath [0x773F7BBE+286]\n\tRtlGetAppContainerNamedObjectPath [0x773F7B8E+238]\n"
     ]
    }
   ],
   "source": [
    "# Membuka seluruh data di kolom komentar\n",
    "\n",
    "i = 0\n",
    "while i < 70: # Menarget seberapa banyak tombol \"load more comments\" akan di-klik.\n",
    "    load_more_comment= WebDriverWait(driver,20).until(EC.element_to_be_clickable((By.XPATH, '//*[@id=\"react-root\"]/section/main/div/div[1]/article/div[3]/div[1]/ul/li/div/button')))\n",
    "    try:\n",
    "        load_more_comment.click()\n",
    "        time.sleep(3)\n",
    "    except exceptions.StaleElementReferenceException as e:\n",
    "        print(str(e))\n",
    "        pass\n",
    "    finally:\n",
    "        i += 1"
   ]
  },
  {
   "cell_type": "code",
   "execution_count": null,
   "metadata": {},
   "outputs": [],
   "source": [
    "# Membuka seluruh data di kolom komentar\n",
    "\n",
    "time.sleep(10)\n",
    "\n",
    "# Menentukan indeks data\n",
    "user_names = []\n",
    "user_comments = []\n",
    "\n",
    "# Meminta webdriver untuk menemukan elemen kolom komentar\n",
    "comment = driver.find_elements_by_class_name('gElp9 ')\n",
    "\n",
    "# Mengambil data username dan komentarnya\n",
    "for c in comment:\n",
    "    container = c.find_element_by_class_name('C4VMK')\n",
    "    name = container.find_element_by_class_name('_6lAjh ').text\n",
    "    content = container.find_elements_by_tag_name('span')[1].text\n",
    "    content = content.replace('\\n', ' ').strip().rstrip()\n",
    "    user_names.append(name)\n",
    "    user_comments.append(content)"
   ]
  },
  {
   "cell_type": "code",
   "execution_count": null,
   "metadata": {},
   "outputs": [],
   "source": [
    "# Memasukkan data ke file CSV\n",
    "    \n",
    "comments_df = pd.DataFrame({\"username\": user_names, \"comment\": user_comments})\n",
    "comments_df.to_csv(\"komentar_jokowi.csv\", index=False)"
   ]
  }
 ],
 "metadata": {
  "kernelspec": {
   "display_name": "Python 3",
   "language": "python",
   "name": "python3"
  },
  "language_info": {
   "codemirror_mode": {
    "name": "ipython",
    "version": 3
   },
   "file_extension": ".py",
   "mimetype": "text/x-python",
   "name": "python",
   "nbconvert_exporter": "python",
   "pygments_lexer": "ipython3",
   "version": "3.9.7 (tags/v3.9.7:1016ef3, Aug 30 2021, 20:19:38) [MSC v.1929 64 bit (AMD64)]"
  },
  "orig_nbformat": 4,
  "vscode": {
   "interpreter": {
    "hash": "11938c6bc6919ae2720b4d5011047913343b08a43b18698fd82dedb0d4417594"
   }
  }
 },
 "nbformat": 4,
 "nbformat_minor": 2
}
